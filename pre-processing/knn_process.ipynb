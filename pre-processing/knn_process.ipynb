{
  "cells": [
    {
      "cell_type": "code",
      "source": [
        "import pandas as pd\n",
        "import numpy as np"
      ],
      "outputs": [],
      "execution_count": 1,
      "metadata": {
        "jupyter": {
          "source_hidden": false,
          "outputs_hidden": false
        },
        "nteract": {
          "transient": {
            "deleting": false
          }
        },
        "gather": {
          "logged": 1717430647936
        }
      }
    },
    {
      "cell_type": "code",
      "source": [
        "hosp_input = pd.read_csv('./resultado.csv', decimal=\".\")\n",
        "hosp_input.drop(columns=['dist_praia'], inplace=True)"
      ],
      "outputs": [],
      "execution_count": 2,
      "metadata": {
        "gather": {
          "logged": 1717430657617
        }
      }
    },
    {
      "cell_type": "code",
      "source": [
        "hosp_input['checkin'] = hosp_input['checkin'].astype(\"category\")\n",
        "hosp_input['checkout'] = hosp_input['checkout'].astype(\"category\")\n",
        "hosp_input['cidade'] = hosp_input[\"cidade\"].astype(\"category\")\n",
        "hosp_input['hotel'] = hosp_input[\"hotel\"].astype(\"category\")\n",
        "hosp_input['data_extracao'] =hosp_input[\"data_extracao\"].astype(\"category\")\n",
        "hosp_input['avaliacao'] = hosp_input['avaliacao'].replace('None', pd.NA)\n",
        "hosp_input['avaliacao'] = pd.to_numeric(hosp_input['avaliacao'], errors='coerce')\n",
        "hosp_input['avaliacao'] =hosp_input[\"avaliacao\"].astype(\"float\")\n",
        "hosp_input['qtnd_avaliacoes'] = hosp_input['qtnd_avaliacoes'].replace('None', pd.NA)\n",
        "hosp_input['qtnd_avaliacoes'] = pd.to_numeric(hosp_input['qtnd_avaliacoes'], errors='coerce')\n",
        "hosp_input['qtnd_avaliacoes'] =hosp_input[\"qtnd_avaliacoes\"].astype(\"float\")\n"
      ],
      "outputs": [],
      "execution_count": 3,
      "metadata": {
        "jupyter": {
          "source_hidden": false,
          "outputs_hidden": false
        },
        "nteract": {
          "transient": {
            "deleting": false
          }
        },
        "gather": {
          "logged": 1717430659531
        }
      }
    },
    {
      "cell_type": "code",
      "source": [
        "hosp_input['hotel'] = hosp_input['hotel'].cat.codes\n",
        "hosp_input['checkin'] = hosp_input['checkin'].cat.codes\n",
        "hosp_input['checkout'] = hosp_input['checkout'].cat.codes\n",
        "hosp_input['cidade'] = hosp_input['cidade'].cat.codes\n",
        "hosp_input['data_extracao'] = hosp_input['data_extracao'].cat.codes"
      ],
      "outputs": [],
      "execution_count": 4,
      "metadata": {
        "jupyter": {
          "source_hidden": false,
          "outputs_hidden": false
        },
        "nteract": {
          "transient": {
            "deleting": false
          }
        },
        "gather": {
          "logged": 1717430661793
        }
      }
    },
    {
      "cell_type": "code",
      "source": [
        "hosp_input.head(3)"
      ],
      "outputs": [
        {
          "output_type": "execute_result",
          "execution_count": 5,
          "data": {
            "text/plain": "   hotel  cidade  preço  checkin  checkout  dist_centro  avaliacao  \\\n0   6125       0  12144        0         3          0.9        8.5   \n1   4485       0   6478        0         3          3.1        8.3   \n2   4246       0   4067        0         3          3.9        8.1   \n\n   qtnd_avaliacoes  data_extracao  \n0           5355.0              0  \n1           3469.0              0  \n2           4658.0              0  ",
            "text/html": "<div>\n<style scoped>\n    .dataframe tbody tr th:only-of-type {\n        vertical-align: middle;\n    }\n\n    .dataframe tbody tr th {\n        vertical-align: top;\n    }\n\n    .dataframe thead th {\n        text-align: right;\n    }\n</style>\n<table border=\"1\" class=\"dataframe\">\n  <thead>\n    <tr style=\"text-align: right;\">\n      <th></th>\n      <th>hotel</th>\n      <th>cidade</th>\n      <th>preço</th>\n      <th>checkin</th>\n      <th>checkout</th>\n      <th>dist_centro</th>\n      <th>avaliacao</th>\n      <th>qtnd_avaliacoes</th>\n      <th>data_extracao</th>\n    </tr>\n  </thead>\n  <tbody>\n    <tr>\n      <th>0</th>\n      <td>6125</td>\n      <td>0</td>\n      <td>12144</td>\n      <td>0</td>\n      <td>3</td>\n      <td>0.9</td>\n      <td>8.5</td>\n      <td>5355.0</td>\n      <td>0</td>\n    </tr>\n    <tr>\n      <th>1</th>\n      <td>4485</td>\n      <td>0</td>\n      <td>6478</td>\n      <td>0</td>\n      <td>3</td>\n      <td>3.1</td>\n      <td>8.3</td>\n      <td>3469.0</td>\n      <td>0</td>\n    </tr>\n    <tr>\n      <th>2</th>\n      <td>4246</td>\n      <td>0</td>\n      <td>4067</td>\n      <td>0</td>\n      <td>3</td>\n      <td>3.9</td>\n      <td>8.1</td>\n      <td>4658.0</td>\n      <td>0</td>\n    </tr>\n  </tbody>\n</table>\n</div>"
          },
          "metadata": {}
        }
      ],
      "execution_count": 5,
      "metadata": {
        "jupyter": {
          "source_hidden": false,
          "outputs_hidden": false
        },
        "nteract": {
          "transient": {
            "deleting": false
          }
        },
        "gather": {
          "logged": 1717430663943
        }
      }
    },
    {
      "cell_type": "code",
      "source": [
        "hosp_input.dtypes"
      ],
      "outputs": [
        {
          "output_type": "execute_result",
          "execution_count": 6,
          "data": {
            "text/plain": "hotel                int16\ncidade                int8\npreço                int64\ncheckin               int8\ncheckout              int8\ndist_centro        float64\navaliacao          float64\nqtnd_avaliacoes    float64\ndata_extracao         int8\ndtype: object"
          },
          "metadata": {}
        }
      ],
      "execution_count": 6,
      "metadata": {
        "jupyter": {
          "source_hidden": false,
          "outputs_hidden": false
        },
        "nteract": {
          "transient": {
            "deleting": false
          }
        },
        "gather": {
          "logged": 1717430666800
        }
      }
    },
    {
      "cell_type": "code",
      "source": [
        "from sklearn.preprocessing import MinMaxScaler\n",
        "\n",
        "# colunas a serem normalizadas\n",
        "columns_to_normalize = ['preço', 'dist_centro', 'avaliacao', 'qtnd_avaliacoes']\n",
        "\n",
        "scaler = MinMaxScaler()\n",
        "\n",
        "# aplicando a normalização\n",
        "hosp_input[columns_to_normalize] = scaler.fit_transform(hosp_input[columns_to_normalize])\n",
        "\n",
        "print(hosp_input)"
      ],
      "outputs": [
        {
          "output_type": "stream",
          "name": "stdout",
          "text": "        hotel  cidade     preço  checkin  checkout  dist_centro  avaliacao  \\\n0        6125       0  0.027797        0         3     0.016807   0.833333   \n1        4485       0  0.014528        0         3     0.063025   0.811111   \n2        4246       0  0.008882        0         3     0.079832   0.788889   \n3         500       0  0.008620        0         3     0.033613   0.755556   \n4        5528       0  0.004393        0         3     0.025210   0.833333   \n...       ...     ...       ...      ...       ...          ...        ...   \n100645   4367       1  0.026823       49        49     0.012605   0.644444   \n100646   5598       1  0.011718       49        49     0.039916        NaN   \n100647   1048       1  0.032394       49        49     0.052521   0.888889   \n100648   4345       1  0.022275       49        49     0.071429   0.666667   \n100649   1949       1  0.013905       49        49     0.096639   0.444444   \n\n        qtnd_avaliacoes  data_extracao  \n0              0.337728              0  \n1              0.218760              0  \n2              0.293761              0  \n3              0.197124              0  \n4              0.009020              0  \n...                 ...            ...  \n100645         0.000505              0  \n100646              NaN              0  \n100647         0.000063              0  \n100648         0.000000              0  \n100649         0.000126              0  \n\n[100650 rows x 9 columns]\n"
        }
      ],
      "execution_count": 7,
      "metadata": {
        "jupyter": {
          "source_hidden": false,
          "outputs_hidden": false
        },
        "nteract": {
          "transient": {
            "deleting": false
          }
        },
        "gather": {
          "logged": 1717430672330
        }
      }
    },
    {
      "cell_type": "code",
      "source": [
        "!pip install fancyimpute"
      ],
      "outputs": [
        {
          "output_type": "stream",
          "name": "stdout",
          "text": "Requirement already satisfied: fancyimpute in /anaconda/envs/azureml_py38/lib/python3.8/site-packages (0.7.0)\nRequirement already satisfied: cvxpy in /anaconda/envs/azureml_py38/lib/python3.8/site-packages (from fancyimpute) (1.5.1)\nRequirement already satisfied: cvxopt in /anaconda/envs/azureml_py38/lib/python3.8/site-packages (from fancyimpute) (1.3.2)\nRequirement already satisfied: pytest in /anaconda/envs/azureml_py38/lib/python3.8/site-packages (from fancyimpute) (8.2.1)\nRequirement already satisfied: nose in /anaconda/envs/azureml_py38/lib/python3.8/site-packages (from fancyimpute) (1.3.7)\nRequirement already satisfied: scikit-learn>=0.24.2 in /anaconda/envs/azureml_py38/lib/python3.8/site-packages (from fancyimpute) (1.3.2)\nRequirement already satisfied: knnimpute>=0.1.0 in /anaconda/envs/azureml_py38/lib/python3.8/site-packages (from fancyimpute) (0.1.0)\nRequirement already satisfied: osqp>=0.6.2 in /anaconda/envs/azureml_py38/lib/python3.8/site-packages (from cvxpy->fancyimpute) (0.6.7)\nRequirement already satisfied: ecos>=2 in /anaconda/envs/azureml_py38/lib/python3.8/site-packages (from cvxpy->fancyimpute) (2.0.13)\nRequirement already satisfied: numpy>=1.15 in /anaconda/envs/azureml_py38/lib/python3.8/site-packages (from cvxpy->fancyimpute) (1.21.6)\nRequirement already satisfied: scs>=3.2.4.post1 in /anaconda/envs/azureml_py38/lib/python3.8/site-packages (from cvxpy->fancyimpute) (3.2.4.post2)\nRequirement already satisfied: clarabel>=0.5.0 in /anaconda/envs/azureml_py38/lib/python3.8/site-packages (from cvxpy->fancyimpute) (0.9.0)\nRequirement already satisfied: scipy>=1.1.0 in /anaconda/envs/azureml_py38/lib/python3.8/site-packages (from cvxpy->fancyimpute) (1.5.3)\nRequirement already satisfied: packaging in /anaconda/envs/azureml_py38/lib/python3.8/site-packages (from pytest->fancyimpute) (23.0)\nRequirement already satisfied: iniconfig in /anaconda/envs/azureml_py38/lib/python3.8/site-packages (from pytest->fancyimpute) (2.0.0)\nRequirement already satisfied: pluggy<2.0,>=1.5 in /anaconda/envs/azureml_py38/lib/python3.8/site-packages (from pytest->fancyimpute) (1.5.0)\nRequirement already satisfied: exceptiongroup>=1.0.0rc8; python_version < \"3.11\" in /anaconda/envs/azureml_py38/lib/python3.8/site-packages (from pytest->fancyimpute) (1.2.1)\nRequirement already satisfied: tomli>=1; python_version < \"3.11\" in /anaconda/envs/azureml_py38/lib/python3.8/site-packages (from pytest->fancyimpute) (2.0.1)\nRequirement already satisfied: threadpoolctl>=2.0.0 in /anaconda/envs/azureml_py38/lib/python3.8/site-packages (from scikit-learn>=0.24.2->fancyimpute) (3.1.0)\nRequirement already satisfied: joblib>=1.1.1 in /anaconda/envs/azureml_py38/lib/python3.8/site-packages (from scikit-learn>=0.24.2->fancyimpute) (1.2.0)\nRequirement already satisfied: six in /anaconda/envs/azureml_py38/lib/python3.8/site-packages (from knnimpute>=0.1.0->fancyimpute) (1.16.0)\nRequirement already satisfied: qdldl in /anaconda/envs/azureml_py38/lib/python3.8/site-packages (from osqp>=0.6.2->cvxpy->fancyimpute) (0.1.7.post2)\n"
        }
      ],
      "execution_count": 8,
      "metadata": {
        "jupyter": {
          "source_hidden": false,
          "outputs_hidden": false
        },
        "nteract": {
          "transient": {
            "deleting": false
          }
        }
      }
    },
    {
      "cell_type": "code",
      "source": [
        "!pip install --upgrade scikit-learn"
      ],
      "outputs": [
        {
          "output_type": "stream",
          "name": "stdout",
          "text": "Requirement already up-to-date: scikit-learn in /anaconda/envs/azureml_py38/lib/python3.8/site-packages (1.3.2)\r\nRequirement already satisfied, skipping upgrade: scipy>=1.5.0 in /anaconda/envs/azureml_py38/lib/python3.8/site-packages (from scikit-learn) (1.5.3)\r\nRequirement already satisfied, skipping upgrade: threadpoolctl>=2.0.0 in /anaconda/envs/azureml_py38/lib/python3.8/site-packages (from scikit-learn) (3.1.0)\r\nRequirement already satisfied, skipping upgrade: numpy<2.0,>=1.17.3 in /anaconda/envs/azureml_py38/lib/python3.8/site-packages (from scikit-learn) (1.21.6)\r\nRequirement already satisfied, skipping upgrade: joblib>=1.1.1 in /anaconda/envs/azureml_py38/lib/python3.8/site-packages (from scikit-learn) (1.2.0)\r\n"
        }
      ],
      "execution_count": 11,
      "metadata": {
        "jupyter": {
          "source_hidden": false,
          "outputs_hidden": false
        },
        "nteract": {
          "transient": {
            "deleting": false
          }
        }
      }
    },
    {
      "cell_type": "code",
      "source": [
        "from fancyimpute import KNN\n",
        "hosp_knn = KNN(k=3).fit_transform(hosp_input)"
      ],
      "outputs": [
        {
          "output_type": "stream",
          "name": "stdout",
          "text": "Imputing row 1/100650 with 0 missing, elapsed time: 2323.553\nImputing row 101/100650 with 0 missing, elapsed time: 2323.647\nImputing row 201/100650 with 0 missing, elapsed time: 2323.688\nImputing row 301/100650 with 0 missing, elapsed time: 2323.693\nImputing row 401/100650 with 0 missing, elapsed time: 2323.739\nImputing row 501/100650 with 0 missing, elapsed time: 2323.782\nImputing row 601/100650 with 0 missing, elapsed time: 2323.850\nImputing row 701/100650 with 2 missing, elapsed time: 2323.993\nImputing row 801/100650 with 0 missing, elapsed time: 2324.070\nImputing row 901/100650 with 0 missing, elapsed time: 2324.070\nImputing row 1001/100650 with 0 missing, elapsed time: 2324.070\nImputing row 1101/100650 with 0 missing, elapsed time: 2324.071\nImputing row 1201/100650 with 0 missing, elapsed time: 2324.085\nImputing row 1301/100650 with 0 missing, elapsed time: 2324.112\nImputing row 1401/100650 with 0 missing, elapsed time: 2324.166\nImputing row 1501/100650 with 0 missing, elapsed time: 2324.192\nImputing row 1601/100650 with 0 missing, elapsed time: 2324.274\nImputing row 1701/100650 with 0 missing, elapsed time: 2324.440\nImputing row 1801/100650 with 0 missing, elapsed time: 2324.485\nImputing row 1901/100650 with 0 missing, elapsed time: 2324.492\nImputing row 2001/100650 with 0 missing, elapsed time: 2324.506\nImputing row 2101/100650 with 0 missing, elapsed time: 2324.515\nImputing row 2201/100650 with 0 missing, elapsed time: 2324.627\nImputing row 2301/100650 with 0 missing, elapsed time: 2324.756\nImputing row 2401/100650 with 0 missing, elapsed time: 2324.803\nImputing row 2501/100650 with 0 missing, elapsed time: 2324.834\nImputing row 2601/100650 with 0 missing, elapsed time: 2324.950\nImputing row 2701/100650 with 0 missing, elapsed time: 2324.993\nImputing row 2801/100650 with 0 missing, elapsed time: 2324.994\nImputing row 2901/100650 with 0 missing, elapsed time: 2324.998\nImputing row 3001/100650 with 0 missing, elapsed time: 2325.012\nImputing row 3101/100650 with 0 missing, elapsed time: 2325.016\nImputing row 3201/100650 with 0 missing, elapsed time: 2325.017\nImputing row 3301/100650 with 0 missing, elapsed time: 2325.017\nImputing row 3401/100650 with 0 missing, elapsed time: 2325.033\nImputing row 3501/100650 with 0 missing, elapsed time: 2325.069\nImputing row 3601/100650 with 0 missing, elapsed time: 2325.101\nImputing row 3701/100650 with 0 missing, elapsed time: 2325.104\nImputing row 3801/100650 with 0 missing, elapsed time: 2325.111\nImputing row 3901/100650 with 0 missing, elapsed time: 2325.121\nImputing row 4001/100650 with 0 missing, elapsed time: 2325.135\nImputing row 4101/100650 with 0 missing, elapsed time: 2325.191\nImputing row 4201/100650 with 0 missing, elapsed time: 2325.298\nImputing row 4301/100650 with 0 missing, elapsed time: 2325.352\nImputing row 4401/100650 with 0 missing, elapsed time: 2325.378\nImputing row 4501/100650 with 0 missing, elapsed time: 2325.423\nImputing row 4601/100650 with 0 missing, elapsed time: 2325.532\nImputing row 4701/100650 with 0 missing, elapsed time: 2325.532\nImputing row 4801/100650 with 0 missing, elapsed time: 2325.541\nImputing row 4901/100650 with 0 missing, elapsed time: 2325.556\nImputing row 5001/100650 with 0 missing, elapsed time: 2325.571\nImputing row 5101/100650 with 0 missing, elapsed time: 2325.572\nImputing row 5201/100650 with 0 missing, elapsed time: 2325.572\nImputing row 5301/100650 with 0 missing, elapsed time: 2325.587\nImputing row 5401/100650 with 0 missing, elapsed time: 2325.606\nImputing row 5501/100650 with 0 missing, elapsed time: 2325.713\nImputing row 5601/100650 with 0 missing, elapsed time: 2325.879\nImputing row 5701/100650 with 0 missing, elapsed time: 2325.889\nImputing row 5801/100650 with 0 missing, elapsed time: 2325.901\nImputing row 5901/100650 with 0 missing, elapsed time: 2325.922\nImputing row 6001/100650 with 0 missing, elapsed time: 2325.939\nImputing row 6101/100650 with 0 missing, elapsed time: 2325.986\nImputing row 6201/100650 with 0 missing, elapsed time: 2326.095\nImputing row 6301/100650 with 0 missing, elapsed time: 2326.206\nImputing row 6401/100650 with 0 missing, elapsed time: 2326.259\nImputing row 6501/100650 with 0 missing, elapsed time: 2326.298\nImputing row 6601/100650 with 0 missing, elapsed time: 2326.319\nImputing row 6701/100650 with 0 missing, elapsed time: 2326.336\nImputing row 6801/100650 with 0 missing, elapsed time: 2326.349\nImputing row 6901/100650 with 0 missing, elapsed time: 2326.352\nImputing row 7001/100650 with 0 missing, elapsed time: 2326.359\nImputing row 7101/100650 with 0 missing, elapsed time: 2326.366\nImputing row 7201/100650 with 0 missing, elapsed time: 2326.386\nImputing row 7301/100650 with 0 missing, elapsed time: 2326.426\nImputing row 7401/100650 with 0 missing, elapsed time: 2326.466\nImputing row 7501/100650 with 0 missing, elapsed time: 2326.505\nImputing row 7601/100650 with 0 missing, elapsed time: 2326.561\nImputing row 7701/100650 with 0 missing, elapsed time: 2326.567\nImputing row 7801/100650 with 0 missing, elapsed time: 2326.586\nImputing row 7901/100650 with 0 missing, elapsed time: 2326.593\nImputing row 8001/100650 with 0 missing, elapsed time: 2326.610\nImputing row 8101/100650 with 0 missing, elapsed time: 2326.617\nImputing row 8201/100650 with 0 missing, elapsed time: 2326.635\nImputing row 8301/100650 with 0 missing, elapsed time: 2326.682\nImputing row 8401/100650 with 2 missing, elapsed time: 2326.746\nImputing row 8501/100650 with 0 missing, elapsed time: 2326.831\nImputing row 8601/100650 with 0 missing, elapsed time: 2326.911\nImputing row 8701/100650 with 0 missing, elapsed time: 2326.919\nImputing row 8801/100650 with 0 missing, elapsed time: 2326.926\nImputing row 8901/100650 with 0 missing, elapsed time: 2326.934\nImputing row 9001/100650 with 0 missing, elapsed time: 2326.942\nImputing row 9101/100650 with 0 missing, elapsed time: 2326.942\nImputing row 9201/100650 with 0 missing, elapsed time: 2326.951\nImputing row 9301/100650 with 0 missing, elapsed time: 2326.965\nImputing row 9401/100650 with 0 missing, elapsed time: 2326.973\nImputing row 9501/100650 with 0 missing, elapsed time: 2326.995\nImputing row 9601/100650 with 0 missing, elapsed time: 2327.002\nImputing row 9701/100650 with 0 missing, elapsed time: 2327.010\nImputing row 9801/100650 with 0 missing, elapsed time: 2327.033\nImputing row 9901/100650 with 0 missing, elapsed time: 2327.043\nImputing row 10001/100650 with 0 missing, elapsed time: 2327.069\nImputing row 10101/100650 with 0 missing, elapsed time: 2327.089\nImputing row 10201/100650 with 0 missing, elapsed time: 2327.118\nImputing row 10301/100650 with 0 missing, elapsed time: 2327.160\nImputing row 10401/100650 with 0 missing, elapsed time: 2327.208\nImputing row 10501/100650 with 0 missing, elapsed time: 2327.270\nImputing row 10601/100650 with 0 missing, elapsed time: 2327.300\nImputing row 10701/100650 with 0 missing, elapsed time: 2327.300\nImputing row 10801/100650 with 0 missing, elapsed time: 2327.300\nImputing row 10901/100650 with 0 missing, elapsed time: 2327.301\nImputing row 11001/100650 with 0 missing, elapsed time: 2327.301\nImputing row 11101/100650 with 2 missing, elapsed time: 2327.308\nImputing row 11201/100650 with 0 missing, elapsed time: 2327.323\nImputing row 11301/100650 with 0 missing, elapsed time: 2327.329\nImputing row 11401/100650 with 0 missing, elapsed time: 2327.330\nImputing row 11501/100650 with 0 missing, elapsed time: 2327.339\nImputing row 11601/100650 with 0 missing, elapsed time: 2327.347\nImputing row 11701/100650 with 0 missing, elapsed time: 2327.357\nImputing row 11801/100650 with 0 missing, elapsed time: 2327.364\nImputing row 11901/100650 with 0 missing, elapsed time: 2327.379\nImputing row 12001/100650 with 0 missing, elapsed time: 2327.392\nImputing row 12101/100650 with 0 missing, elapsed time: 2327.426\nImputing row 12201/100650 with 0 missing, elapsed time: 2327.440\nImputing row 12301/100650 with 0 missing, elapsed time: 2327.451\nImputing row 12401/100650 with 0 missing, elapsed time: 2327.477\nImputing row 12501/100650 with 0 missing, elapsed time: 2327.516\nImputing row 12601/100650 with 0 missing, elapsed time: 2327.570\nImputing row 12701/100650 with 0 missing, elapsed time: 2327.570\nImputing row 12801/100650 with 0 missing, elapsed time: 2327.570\nImputing row 12901/100650 with 0 missing, elapsed time: 2327.579\nImputing row 13001/100650 with 0 missing, elapsed time: 2327.579\nImputing row 13101/100650 with 0 missing, elapsed time: 2327.585\nImputing row 13201/100650 with 0 missing, elapsed time: 2327.585\nImputing row 13301/100650 with 0 missing, elapsed time: 2327.614\nImputing row 13401/100650 with 0 missing, elapsed time: 2327.622\nImputing row 13501/100650 with 0 missing, elapsed time: 2327.622\nImputing row 13601/100650 with 0 missing, elapsed time: 2327.630\nImputing row 13701/100650 with 0 missing, elapsed time: 2327.637\nImputing row 13801/100650 with 0 missing, elapsed time: 2327.647\nImputing row 13901/100650 with 0 missing, elapsed time: 2327.661\nImputing row 14001/100650 with 0 missing, elapsed time: 2327.663\nImputing row 14101/100650 with 0 missing, elapsed time: 2327.683\nImputing row 14201/100650 with 0 missing, elapsed time: 2327.705\nImputing row 14301/100650 with 0 missing, elapsed time: 2327.727\nImputing row 14401/100650 with 0 missing, elapsed time: 2327.750\nImputing row 14501/100650 with 0 missing, elapsed time: 2327.807\nImputing row 14601/100650 with 0 missing, elapsed time: 2327.823\nImputing row 14701/100650 with 0 missing, elapsed time: 2327.823\nImputing row 14801/100650 with 0 missing, elapsed time: 2327.843\nImputing row 14901/100650 with 0 missing, elapsed time: 2327.845\nImputing row 15001/100650 with 0 missing, elapsed time: 2327.852\nImputing row 15101/100650 with 0 missing, elapsed time: 2327.852\nImputing row 15201/100650 with 0 missing, elapsed time: 2327.852\nImputing row 15301/100650 with 0 missing, elapsed time: 2327.874\nImputing row 15401/100650 with 0 missing, elapsed time: 2327.889\nImputing row 15501/100650 with 0 missing, elapsed time: 2327.889\nImputing row 15601/100650 with 0 missing, elapsed time: 2327.894\nImputing row 15701/100650 with 0 missing, elapsed time: 2327.895\nImputing row 15801/100650 with 0 missing, elapsed time: 2327.903\nImputing row 15901/100650 with 0 missing, elapsed time: 2327.921\nImputing row 16001/100650 with 0 missing, elapsed time: 2327.929\nImputing row 16101/100650 with 0 missing, elapsed time: 2327.941\nImputing row 16201/100650 with 0 missing, elapsed time: 2327.958\nImputing row 16301/100650 with 0 missing, elapsed time: 2327.984\nImputing row 16401/100650 with 0 missing, elapsed time: 2328.013\nImputing row 16501/100650 with 0 missing, elapsed time: 2328.091\nImputing row 16601/100650 with 0 missing, elapsed time: 2328.099\nImputing row 16701/100650 with 0 missing, elapsed time: 2328.100\nImputing row 16801/100650 with 0 missing, elapsed time: 2328.108\nImputing row 16901/100650 with 0 missing, elapsed time: 2328.129\nImputing row 17001/100650 with 0 missing, elapsed time: 2328.131\nImputing row 17101/100650 with 0 missing, elapsed time: 2328.148\nImputing row 17201/100650 with 0 missing, elapsed time: 2328.155\nImputing row 17301/100650 with 0 missing, elapsed time: 2328.156\nImputing row 17401/100650 with 0 missing, elapsed time: 2328.163\nImputing row 17501/100650 with 0 missing, elapsed time: 2328.164\nImputing row 17601/100650 with 0 missing, elapsed time: 2328.172\nImputing row 17701/100650 with 0 missing, elapsed time: 2328.173\nImputing row 17801/100650 with 0 missing, elapsed time: 2328.180\nImputing row 17901/100650 with 0 missing, elapsed time: 2328.196\nImputing row 18001/100650 with 0 missing, elapsed time: 2328.204\nImputing row 18101/100650 with 0 missing, elapsed time: 2328.218\nImputing row 18201/100650 with 0 missing, elapsed time: 2328.223\nImputing row 18301/100650 with 0 missing, elapsed time: 2328.244\nImputing row 18401/100650 with 0 missing, elapsed time: 2328.270\nImputing row 18501/100650 with 0 missing, elapsed time: 2328.351\nImputing row 18601/100650 with 0 missing, elapsed time: 2328.359\nImputing row 18701/100650 with 0 missing, elapsed time: 2328.360\nImputing row 18801/100650 with 0 missing, elapsed time: 2328.360\nImputing row 18901/100650 with 0 missing, elapsed time: 2328.365\nImputing row 19001/100650 with 0 missing, elapsed time: 2328.373\nImputing row 19101/100650 with 0 missing, elapsed time: 2328.388\nImputing row 19201/100650 with 0 missing, elapsed time: 2328.388\nImputing row 19301/100650 with 0 missing, elapsed time: 2328.389\nImputing row 19401/100650 with 0 missing, elapsed time: 2328.400\nImputing row 19501/100650 with 0 missing, elapsed time: 2328.400\nImputing row 19601/100650 with 0 missing, elapsed time: 2328.414\nImputing row 19701/100650 with 0 missing, elapsed time: 2328.414\nImputing row 19801/100650 with 0 missing, elapsed time: 2328.422\nImputing row 19901/100650 with 0 missing, elapsed time: 2328.438\nImputing row 20001/100650 with 0 missing, elapsed time: 2328.452\nImputing row 20101/100650 with 0 missing, elapsed time: 2328.460\nImputing row 20201/100650 with 0 missing, elapsed time: 2328.469\nImputing row 20301/100650 with 0 missing, elapsed time: 2328.492\nImputing row 20401/100650 with 0 missing, elapsed time: 2328.526\nImputing row 20501/100650 with 0 missing, elapsed time: 2328.594\nImputing row 20601/100650 with 0 missing, elapsed time: 2328.606\nImputing row 20701/100650 with 0 missing, elapsed time: 2328.607\nImputing row 20801/100650 with 0 missing, elapsed time: 2328.607\nImputing row 20901/100650 with 0 missing, elapsed time: 2328.607\nImputing row 21001/100650 with 0 missing, elapsed time: 2328.608\nImputing row 21101/100650 with 0 missing, elapsed time: 2328.612\nImputing row 21201/100650 with 0 missing, elapsed time: 2328.612\nImputing row 21301/100650 with 0 missing, elapsed time: 2328.620\nImputing row 21401/100650 with 0 missing, elapsed time: 2328.628\nImputing row 21501/100650 with 0 missing, elapsed time: 2328.638\nImputing row 21601/100650 with 0 missing, elapsed time: 2328.649\nImputing row 21701/100650 with 0 missing, elapsed time: 2328.649\nImputing row 21801/100650 with 0 missing, elapsed time: 2328.656\nImputing row 21901/100650 with 0 missing, elapsed time: 2328.671\nImputing row 22001/100650 with 0 missing, elapsed time: 2328.672\nImputing row 22101/100650 with 0 missing, elapsed time: 2328.689\nImputing row 22201/100650 with 0 missing, elapsed time: 2328.708\nImputing row 22301/100650 with 0 missing, elapsed time: 2328.721\nImputing row 22401/100650 with 0 missing, elapsed time: 2328.750\nImputing row 22501/100650 with 0 missing, elapsed time: 2328.780\nImputing row 22601/100650 with 0 missing, elapsed time: 2328.789\nImputing row 22701/100650 with 0 missing, elapsed time: 2328.789\nImputing row 22801/100650 with 0 missing, elapsed time: 2328.790\nImputing row 22901/100650 with 0 missing, elapsed time: 2328.790\nImputing row 23001/100650 with 0 missing, elapsed time: 2328.794\nImputing row 23101/100650 with 0 missing, elapsed time: 2328.804\nImputing row 23201/100650 with 0 missing, elapsed time: 2328.813\nImputing row 23301/100650 with 0 missing, elapsed time: 2328.813\nImputing row 23401/100650 with 0 missing, elapsed time: 2328.830\nImputing row 23501/100650 with 0 missing, elapsed time: 2328.839\nImputing row 23601/100650 with 0 missing, elapsed time: 2328.839\nImputing row 23701/100650 with 0 missing, elapsed time: 2328.842\nImputing row 23801/100650 with 0 missing, elapsed time: 2328.850\nImputing row 23901/100650 with 0 missing, elapsed time: 2328.857\nImputing row 24001/100650 with 0 missing, elapsed time: 2328.879\nImputing row 24101/100650 with 0 missing, elapsed time: 2328.907\nImputing row 24201/100650 with 0 missing, elapsed time: 2328.928\nImputing row 24301/100650 with 0 missing, elapsed time: 2328.942\nImputing row 24401/100650 with 0 missing, elapsed time: 2328.962\nImputing row 24501/100650 with 0 missing, elapsed time: 2328.977\nImputing row 24601/100650 with 0 missing, elapsed time: 2328.977\nImputing row 24701/100650 with 0 missing, elapsed time: 2328.984\nImputing row 24801/100650 with 0 missing, elapsed time: 2328.992\nImputing row 24901/100650 with 0 missing, elapsed time: 2328.992\nImputing row 25001/100650 with 0 missing, elapsed time: 2328.992\nImputing row 25101/100650 with 0 missing, elapsed time: 2329.000\nImputing row 25201/100650 with 0 missing, elapsed time: 2329.000\nImputing row 25301/100650 with 0 missing, elapsed time: 2329.009\nImputing row 25401/100650 with 0 missing, elapsed time: 2329.016\nImputing row 25501/100650 with 0 missing, elapsed time: 2329.028\nImputing row 25601/100650 with 0 missing, elapsed time: 2329.028\nImputing row 25701/100650 with 0 missing, elapsed time: 2329.029\nImputing row 25801/100650 with 0 missing, elapsed time: 2329.059\nImputing row 25901/100650 with 0 missing, elapsed time: 2329.067\nImputing row 26001/100650 with 0 missing, elapsed time: 2329.089\nImputing row 26101/100650 with 0 missing, elapsed time: 2329.089\nImputing row 26201/100650 with 0 missing, elapsed time: 2329.102\nImputing row 26301/100650 with 0 missing, elapsed time: 2329.123\nImputing row 26401/100650 with 0 missing, elapsed time: 2329.153\nImputing row 26501/100650 with 0 missing, elapsed time: 2329.161\nImputing row 26601/100650 with 0 missing, elapsed time: 2329.163\nImputing row 26701/100650 with 0 missing, elapsed time: 2329.164\nImputing row 26801/100650 with 0 missing, elapsed time: 2329.164\nImputing row 26901/100650 with 0 missing, elapsed time: 2329.181\nImputing row 27001/100650 with 0 missing, elapsed time: 2329.189\nImputing row 27101/100650 with 0 missing, elapsed time: 2329.220\nImputing row 27201/100650 with 0 missing, elapsed time: 2329.235\nImputing row 27301/100650 with 0 missing, elapsed time: 2329.272\nImputing row 27401/100650 with 0 missing, elapsed time: 2329.275\nImputing row 27501/100650 with 0 missing, elapsed time: 2329.276\nImputing row 27601/100650 with 0 missing, elapsed time: 2329.284\nImputing row 27701/100650 with 0 missing, elapsed time: 2329.293\nImputing row 27801/100650 with 0 missing, elapsed time: 2329.306\nImputing row 27901/100650 with 0 missing, elapsed time: 2329.330\nImputing row 28001/100650 with 0 missing, elapsed time: 2329.353\nImputing row 28101/100650 with 0 missing, elapsed time: 2329.366\nImputing row 28201/100650 with 0 missing, elapsed time: 2329.403\nImputing row 28301/100650 with 0 missing, elapsed time: 2329.446\nImputing row 28401/100650 with 0 missing, elapsed time: 2329.454\nImputing row 28501/100650 with 0 missing, elapsed time: 2329.475\nImputing row 28601/100650 with 0 missing, elapsed time: 2329.481\nImputing row 28701/100650 with 0 missing, elapsed time: 2329.487\nImputing row 28801/100650 with 0 missing, elapsed time: 2329.501\nImputing row 28901/100650 with 0 missing, elapsed time: 2329.502\nImputing row 29001/100650 with 0 missing, elapsed time: 2329.515\nImputing row 29101/100650 with 0 missing, elapsed time: 2329.550\nImputing row 29201/100650 with 0 missing, elapsed time: 2329.558\nImputing row 29301/100650 with 0 missing, elapsed time: 2329.572\nImputing row 29401/100650 with 0 missing, elapsed time: 2329.586\nImputing row 29501/100650 with 0 missing, elapsed time: 2329.587\nImputing row 29601/100650 with 0 missing, elapsed time: 2329.612\nImputing row 29701/100650 with 0 missing, elapsed time: 2329.612\nImputing row 29801/100650 with 0 missing, elapsed time: 2329.613\nImputing row 29901/100650 with 2 missing, elapsed time: 2329.626\nImputing row 30001/100650 with 0 missing, elapsed time: 2329.627\nImputing row 30101/100650 with 0 missing, elapsed time: 2329.662\nImputing row 30201/100650 with 0 missing, elapsed time: 2329.688\nImputing row 30301/100650 with 0 missing, elapsed time: 2329.728\nImputing row 30401/100650 with 0 missing, elapsed time: 2329.751\nImputing row 30501/100650 with 0 missing, elapsed time: 2329.767\nImputing row 30601/100650 with 0 missing, elapsed time: 2329.780\nImputing row 30701/100650 with 0 missing, elapsed time: 2329.787\nImputing row 30801/100650 with 0 missing, elapsed time: 2329.796\nImputing row 30901/100650 with 0 missing, elapsed time: 2329.804\nImputing row 31001/100650 with 0 missing, elapsed time: 2329.824\nImputing row 31101/100650 with 0 missing, elapsed time: 2329.848\nImputing row 31201/100650 with 0 missing, elapsed time: 2329.860\nImputing row 31301/100650 with 2 missing, elapsed time: 2329.867\nImputing row 31401/100650 with 0 missing, elapsed time: 2329.907\nImputing row 31501/100650 with 0 missing, elapsed time: 2329.907\nImputing row 31601/100650 with 0 missing, elapsed time: 2329.918\nImputing row 31701/100650 with 0 missing, elapsed time: 2329.918\nImputing row 31801/100650 with 0 missing, elapsed time: 2329.927\nImputing row 31901/100650 with 0 missing, elapsed time: 2329.954\nImputing row 32001/100650 with 0 missing, elapsed time: 2329.986\nImputing row 32101/100650 with 0 missing, elapsed time: 2330.011\nImputing row 32201/100650 with 0 missing, elapsed time: 2330.039\nImputing row 32301/100650 with 0 missing, elapsed time: 2330.067\nImputing row 32401/100650 with 0 missing, elapsed time: 2330.078\nImputing row 32501/100650 with 0 missing, elapsed time: 2330.084\nImputing row 32601/100650 with 0 missing, elapsed time: 2330.084\nImputing row 32701/100650 with 0 missing, elapsed time: 2330.091\nImputing row 32801/100650 with 0 missing, elapsed time: 2330.113\nImputing row 32901/100650 with 0 missing, elapsed time: 2330.127\nImputing row 33001/100650 with 2 missing, elapsed time: 2330.142\nImputing row 33101/100650 with 0 missing, elapsed time: 2330.155\nImputing row 33201/100650 with 0 missing, elapsed time: 2330.161\nImputing row 33301/100650 with 0 missing, elapsed time: 2330.162\nImputing row 33401/100650 with 0 missing, elapsed time: 2330.177\nImputing row 33501/100650 with 0 missing, elapsed time: 2330.177\nImputing row 33601/100650 with 0 missing, elapsed time: 2330.185\nImputing row 33701/100650 with 0 missing, elapsed time: 2330.192\nImputing row 33801/100650 with 0 missing, elapsed time: 2330.192\nImputing row 33901/100650 with 0 missing, elapsed time: 2330.207\nImputing row 34001/100650 with 0 missing, elapsed time: 2330.226\nImputing row 34101/100650 with 0 missing, elapsed time: 2330.258\nImputing row 34201/100650 with 0 missing, elapsed time: 2330.273\nImputing row 34301/100650 with 0 missing, elapsed time: 2330.295\nImputing row 34401/100650 with 0 missing, elapsed time: 2330.302\nImputing row 34501/100650 with 0 missing, elapsed time: 2330.336\nImputing row 34601/100650 with 0 missing, elapsed time: 2330.336\nImputing row 34701/100650 with 0 missing, elapsed time: 2330.342\nImputing row 34801/100650 with 0 missing, elapsed time: 2330.352\nImputing row 34901/100650 with 0 missing, elapsed time: 2330.387\nImputing row 35001/100650 with 0 missing, elapsed time: 2330.398\nImputing row 35101/100650 with 0 missing, elapsed time: 2330.419\nImputing row 35201/100650 with 0 missing, elapsed time: 2330.419\nImputing row 35301/100650 with 0 missing, elapsed time: 2330.427\nImputing row 35401/100650 with 0 missing, elapsed time: 2330.445\nImputing row 35501/100650 with 0 missing, elapsed time: 2330.445\nImputing row 35601/100650 with 0 missing, elapsed time: 2330.453\nImputing row 35701/100650 with 0 missing, elapsed time: 2330.460\nImputing row 35801/100650 with 0 missing, elapsed time: 2330.468\nImputing row 35901/100650 with 0 missing, elapsed time: 2330.478\nImputing row 36001/100650 with 0 missing, elapsed time: 2330.501\nImputing row 36101/100650 with 0 missing, elapsed time: 2330.525\nImputing row 36201/100650 with 0 missing, elapsed time: 2330.525\nImputing row 36301/100650 with 0 missing, elapsed time: 2330.564\nImputing row 36401/100650 with 0 missing, elapsed time: 2330.580\nImputing row 36501/100650 with 0 missing, elapsed time: 2330.589\nImputing row 36601/100650 with 0 missing, elapsed time: 2330.589\nImputing row 36701/100650 with 0 missing, elapsed time: 2330.596\nImputing row 36801/100650 with 0 missing, elapsed time: 2330.640\nImputing row 36901/100650 with 0 missing, elapsed time: 2330.679\nImputing row 37001/100650 with 0 missing, elapsed time: 2330.687\nImputing row 37101/100650 with 0 missing, elapsed time: 2330.717\nImputing row 37201/100650 with 0 missing, elapsed time: 2330.725\nImputing row 37301/100650 with 0 missing, elapsed time: 2330.732\nImputing row 37401/100650 with 0 missing, elapsed time: 2330.747\nImputing row 37501/100650 with 0 missing, elapsed time: 2330.747\nImputing row 37601/100650 with 0 missing, elapsed time: 2330.756\nImputing row 37701/100650 with 0 missing, elapsed time: 2330.764\nImputing row 37801/100650 with 0 missing, elapsed time: 2330.769\nImputing row 37901/100650 with 0 missing, elapsed time: 2330.792\nImputing row 38001/100650 with 0 missing, elapsed time: 2330.799\nImputing row 38101/100650 with 0 missing, elapsed time: 2330.821\nImputing row 38201/100650 with 0 missing, elapsed time: 2330.834\nImputing row 38301/100650 with 0 missing, elapsed time: 2330.858\nImputing row 38401/100650 with 0 missing, elapsed time: 2330.868\nImputing row 38501/100650 with 0 missing, elapsed time: 2330.874\nImputing row 38601/100650 with 0 missing, elapsed time: 2330.882\nImputing row 38701/100650 with 0 missing, elapsed time: 2330.889\nImputing row 38801/100650 with 0 missing, elapsed time: 2330.890\nImputing row 38901/100650 with 0 missing, elapsed time: 2330.958\nImputing row 39001/100650 with 0 missing, elapsed time: 2331.003\nImputing row 39101/100650 with 0 missing, elapsed time: 2331.003\nImputing row 39201/100650 with 0 missing, elapsed time: 2331.034\nImputing row 39301/100650 with 0 missing, elapsed time: 2331.067\nImputing row 39401/100650 with 0 missing, elapsed time: 2331.067\nImputing row 39501/100650 with 0 missing, elapsed time: 2331.067\nImputing row 39601/100650 with 0 missing, elapsed time: 2331.067\nImputing row 39701/100650 with 0 missing, elapsed time: 2331.075\nImputing row 39801/100650 with 0 missing, elapsed time: 2331.084\nImputing row 39901/100650 with 0 missing, elapsed time: 2331.084\nImputing row 40001/100650 with 0 missing, elapsed time: 2331.093\nImputing row 40101/100650 with 0 missing, elapsed time: 2331.114\nImputing row 40201/100650 with 0 missing, elapsed time: 2331.123\nImputing row 40301/100650 with 0 missing, elapsed time: 2331.146\nImputing row 40401/100650 with 0 missing, elapsed time: 2331.154\nImputing row 40501/100650 with 0 missing, elapsed time: 2331.161\nImputing row 40601/100650 with 0 missing, elapsed time: 2331.161\nImputing row 40701/100650 with 0 missing, elapsed time: 2331.163\nImputing row 40801/100650 with 0 missing, elapsed time: 2331.168\nImputing row 40901/100650 with 0 missing, elapsed time: 2331.175\nImputing row 41001/100650 with 0 missing, elapsed time: 2331.179\nImputing row 41101/100650 with 0 missing, elapsed time: 2331.204\nImputing row 41201/100650 with 0 missing, elapsed time: 2331.225\nImputing row 41301/100650 with 0 missing, elapsed time: 2331.266\nImputing row 41401/100650 with 0 missing, elapsed time: 2331.267\nImputing row 41501/100650 with 0 missing, elapsed time: 2331.267\nImputing row 41601/100650 with 0 missing, elapsed time: 2331.268\nImputing row 41701/100650 with 0 missing, elapsed time: 2331.272\nImputing row 41801/100650 with 0 missing, elapsed time: 2331.279\nImputing row 41901/100650 with 0 missing, elapsed time: 2331.287\nImputing row 42001/100650 with 0 missing, elapsed time: 2331.294\nImputing row 42101/100650 with 0 missing, elapsed time: 2331.312\nImputing row 42201/100650 with 0 missing, elapsed time: 2331.323\nImputing row 42301/100650 with 0 missing, elapsed time: 2331.338\nImputing row 42401/100650 with 0 missing, elapsed time: 2331.353\nImputing row 42501/100650 with 0 missing, elapsed time: 2331.358\nImputing row 42601/100650 with 0 missing, elapsed time: 2331.367\nImputing row 42701/100650 with 0 missing, elapsed time: 2331.373\nImputing row 42801/100650 with 0 missing, elapsed time: 2331.384\nImputing row 42901/100650 with 0 missing, elapsed time: 2331.392\nImputing row 43001/100650 with 0 missing, elapsed time: 2331.392\nImputing row 43101/100650 with 0 missing, elapsed time: 2331.416\nImputing row 43201/100650 with 0 missing, elapsed time: 2331.424\nImputing row 43301/100650 with 0 missing, elapsed time: 2331.449\nImputing row 43401/100650 with 0 missing, elapsed time: 2331.449\nImputing row 43501/100650 with 0 missing, elapsed time: 2331.449\nImputing row 43601/100650 with 0 missing, elapsed time: 2331.449\nImputing row 43701/100650 with 0 missing, elapsed time: 2331.461\nImputing row 43801/100650 with 0 missing, elapsed time: 2331.465\nImputing row 43901/100650 with 0 missing, elapsed time: 2331.471\nImputing row 44001/100650 with 0 missing, elapsed time: 2331.472\nImputing row 44101/100650 with 0 missing, elapsed time: 2331.484\nImputing row 44201/100650 with 0 missing, elapsed time: 2331.492\nImputing row 44301/100650 with 0 missing, elapsed time: 2331.503\nImputing row 44401/100650 with 0 missing, elapsed time: 2331.504\nImputing row 44501/100650 with 0 missing, elapsed time: 2331.510\nImputing row 44601/100650 with 0 missing, elapsed time: 2331.518\nImputing row 44701/100650 with 0 missing, elapsed time: 2331.518\nImputing row 44801/100650 with 0 missing, elapsed time: 2331.530\nImputing row 44901/100650 with 0 missing, elapsed time: 2331.536\nImputing row 45001/100650 with 0 missing, elapsed time: 2331.544\nImputing row 45101/100650 with 0 missing, elapsed time: 2331.557\nImputing row 45201/100650 with 0 missing, elapsed time: 2331.570\nImputing row 45301/100650 with 0 missing, elapsed time: 2331.590\nImputing row 45401/100650 with 0 missing, elapsed time: 2331.594\nImputing row 45501/100650 with 0 missing, elapsed time: 2331.594\nImputing row 45601/100650 with 0 missing, elapsed time: 2331.594\nImputing row 45701/100650 with 0 missing, elapsed time: 2331.609\nImputing row 45801/100650 with 0 missing, elapsed time: 2331.616\nImputing row 45901/100650 with 0 missing, elapsed time: 2331.624\nImputing row 46001/100650 with 0 missing, elapsed time: 2331.624\nImputing row 46101/100650 with 0 missing, elapsed time: 2331.638\nImputing row 46201/100650 with 0 missing, elapsed time: 2331.660\nImputing row 46301/100650 with 0 missing, elapsed time: 2331.667\nImputing row 46401/100650 with 0 missing, elapsed time: 2331.667\nImputing row 46501/100650 with 0 missing, elapsed time: 2331.667\nImputing row 46601/100650 with 0 missing, elapsed time: 2331.667\nImputing row 46701/100650 with 0 missing, elapsed time: 2331.675\nImputing row 46801/100650 with 0 missing, elapsed time: 2331.676\nImputing row 46901/100650 with 0 missing, elapsed time: 2331.676\nImputing row 47001/100650 with 0 missing, elapsed time: 2331.687\nImputing row 47101/100650 with 0 missing, elapsed time: 2331.720\nImputing row 47201/100650 with 0 missing, elapsed time: 2331.764\nImputing row 47301/100650 with 0 missing, elapsed time: 2331.785\nImputing row 47401/100650 with 0 missing, elapsed time: 2331.785\nImputing row 47501/100650 with 0 missing, elapsed time: 2331.785\nImputing row 47601/100650 with 0 missing, elapsed time: 2331.802\nImputing row 47701/100650 with 0 missing, elapsed time: 2331.803\nImputing row 47801/100650 with 0 missing, elapsed time: 2331.803\nImputing row 47901/100650 with 0 missing, elapsed time: 2331.803\nImputing row 48001/100650 with 0 missing, elapsed time: 2331.805\nImputing row 48101/100650 with 0 missing, elapsed time: 2331.827\nImputing row 48201/100650 with 0 missing, elapsed time: 2331.848\nImputing row 48301/100650 with 0 missing, elapsed time: 2331.873\nImputing row 48401/100650 with 0 missing, elapsed time: 2331.874\nImputing row 48501/100650 with 0 missing, elapsed time: 2331.874\nImputing row 48601/100650 with 0 missing, elapsed time: 2331.874\nImputing row 48701/100650 with 0 missing, elapsed time: 2331.879\nImputing row 48801/100650 with 0 missing, elapsed time: 2331.898\nImputing row 48901/100650 with 0 missing, elapsed time: 2331.898\nImputing row 49001/100650 with 0 missing, elapsed time: 2331.913\nImputing row 49101/100650 with 0 missing, elapsed time: 2331.933\nImputing row 49201/100650 with 0 missing, elapsed time: 2331.949\nImputing row 49301/100650 with 0 missing, elapsed time: 2331.964\nImputing row 49401/100650 with 0 missing, elapsed time: 2331.964\nImputing row 49501/100650 with 0 missing, elapsed time: 2331.964\nImputing row 49601/100650 with 0 missing, elapsed time: 2331.970\nImputing row 49701/100650 with 0 missing, elapsed time: 2331.978\nImputing row 49801/100650 with 0 missing, elapsed time: 2331.978\nImputing row 49901/100650 with 0 missing, elapsed time: 2331.978\nImputing row 50001/100650 with 0 missing, elapsed time: 2331.984\nImputing row 50101/100650 with 0 missing, elapsed time: 2331.992\nImputing row 50201/100650 with 0 missing, elapsed time: 2332.028\nImputing row 50301/100650 with 0 missing, elapsed time: 2332.037\nImputing row 50401/100650 with 0 missing, elapsed time: 2332.037\nImputing row 50501/100650 with 0 missing, elapsed time: 2332.037\nImputing row 50601/100650 with 0 missing, elapsed time: 2332.037\nImputing row 50701/100650 with 0 missing, elapsed time: 2332.054\nImputing row 50801/100650 with 0 missing, elapsed time: 2332.056\nImputing row 50901/100650 with 0 missing, elapsed time: 2332.082\nImputing row 51001/100650 with 0 missing, elapsed time: 2332.084\nImputing row 51101/100650 with 0 missing, elapsed time: 2332.093\nImputing row 51201/100650 with 0 missing, elapsed time: 2332.105\nImputing row 51301/100650 with 0 missing, elapsed time: 2332.123\nImputing row 51401/100650 with 0 missing, elapsed time: 2332.123\nImputing row 51501/100650 with 0 missing, elapsed time: 2332.124\nImputing row 51601/100650 with 0 missing, elapsed time: 2332.138\nImputing row 51701/100650 with 0 missing, elapsed time: 2332.153\nImputing row 51801/100650 with 0 missing, elapsed time: 2332.153\nImputing row 51901/100650 with 0 missing, elapsed time: 2332.153\nImputing row 52001/100650 with 0 missing, elapsed time: 2332.163\nImputing row 52101/100650 with 0 missing, elapsed time: 2332.184\nImputing row 52201/100650 with 0 missing, elapsed time: 2332.210\nImputing row 52301/100650 with 0 missing, elapsed time: 2332.214\nImputing row 52401/100650 with 0 missing, elapsed time: 2332.214\nImputing row 52501/100650 with 0 missing, elapsed time: 2332.214\nImputing row 52601/100650 with 0 missing, elapsed time: 2332.214\nImputing row 52701/100650 with 0 missing, elapsed time: 2332.222\nImputing row 52801/100650 with 0 missing, elapsed time: 2332.233\nImputing row 52901/100650 with 0 missing, elapsed time: 2332.241\nImputing row 53001/100650 with 0 missing, elapsed time: 2332.248\nImputing row 53101/100650 with 0 missing, elapsed time: 2332.256\nImputing row 53201/100650 with 0 missing, elapsed time: 2332.282\nImputing row 53301/100650 with 0 missing, elapsed time: 2332.299\nImputing row 53401/100650 with 0 missing, elapsed time: 2332.300\nImputing row 53501/100650 with 0 missing, elapsed time: 2332.317\nImputing row 53601/100650 with 0 missing, elapsed time: 2332.317\nImputing row 53701/100650 with 0 missing, elapsed time: 2332.318\nImputing row 53801/100650 with 0 missing, elapsed time: 2332.325\nImputing row 53901/100650 with 0 missing, elapsed time: 2332.342\nImputing row 54001/100650 with 0 missing, elapsed time: 2332.347\nImputing row 54101/100650 with 0 missing, elapsed time: 2332.368\nImputing row 54201/100650 with 0 missing, elapsed time: 2332.423\nImputing row 54301/100650 with 0 missing, elapsed time: 2332.440\nImputing row 54401/100650 with 0 missing, elapsed time: 2332.441\nImputing row 54501/100650 with 0 missing, elapsed time: 2332.441\nImputing row 54601/100650 with 0 missing, elapsed time: 2332.441\nImputing row 54701/100650 with 0 missing, elapsed time: 2332.449\nImputing row 54801/100650 with 0 missing, elapsed time: 2332.453\nImputing row 54901/100650 with 0 missing, elapsed time: 2332.457\nImputing row 55001/100650 with 0 missing, elapsed time: 2332.458\nImputing row 55101/100650 with 0 missing, elapsed time: 2332.462\nImputing row 55201/100650 with 2 missing, elapsed time: 2332.482\nImputing row 55301/100650 with 0 missing, elapsed time: 2332.492\nImputing row 55401/100650 with 0 missing, elapsed time: 2332.505\nImputing row 55501/100650 with 0 missing, elapsed time: 2332.551\nImputing row 55601/100650 with 0 missing, elapsed time: 2332.596\nImputing row 55701/100650 with 0 missing, elapsed time: 2332.603\nImputing row 55801/100650 with 0 missing, elapsed time: 2332.641\nImputing row 55901/100650 with 0 missing, elapsed time: 2332.686\nImputing row 56001/100650 with 0 missing, elapsed time: 2332.713\nImputing row 56101/100650 with 0 missing, elapsed time: 2332.737\nImputing row 56201/100650 with 0 missing, elapsed time: 2332.805\nImputing row 56301/100650 with 0 missing, elapsed time: 2332.805\nImputing row 56401/100650 with 0 missing, elapsed time: 2332.812\nImputing row 56501/100650 with 0 missing, elapsed time: 2332.818\nImputing row 56601/100650 with 0 missing, elapsed time: 2332.818\nImputing row 56701/100650 with 0 missing, elapsed time: 2332.828\nImputing row 56801/100650 with 0 missing, elapsed time: 2332.831\nImputing row 56901/100650 with 0 missing, elapsed time: 2332.853\nImputing row 57001/100650 with 0 missing, elapsed time: 2332.859\nImputing row 57101/100650 with 0 missing, elapsed time: 2332.879\nImputing row 57201/100650 with 0 missing, elapsed time: 2332.901\nImputing row 57301/100650 with 0 missing, elapsed time: 2332.906\nImputing row 57401/100650 with 0 missing, elapsed time: 2332.906\nImputing row 57501/100650 with 2 missing, elapsed time: 2332.913\nImputing row 57601/100650 with 2 missing, elapsed time: 2332.923\nImputing row 57701/100650 with 0 missing, elapsed time: 2332.930\nImputing row 57801/100650 with 0 missing, elapsed time: 2332.937\nImputing row 57901/100650 with 0 missing, elapsed time: 2332.948\nImputing row 58001/100650 with 0 missing, elapsed time: 2332.968\nImputing row 58101/100650 with 0 missing, elapsed time: 2332.990\nImputing row 58201/100650 with 0 missing, elapsed time: 2333.045\nImputing row 58301/100650 with 0 missing, elapsed time: 2333.045\nImputing row 58401/100650 with 0 missing, elapsed time: 2333.052\nImputing row 58501/100650 with 0 missing, elapsed time: 2333.061\nImputing row 58601/100650 with 0 missing, elapsed time: 2333.061\nImputing row 58701/100650 with 0 missing, elapsed time: 2333.069\nImputing row 58801/100650 with 0 missing, elapsed time: 2333.084\nImputing row 58901/100650 with 0 missing, elapsed time: 2333.116\nImputing row 59001/100650 with 0 missing, elapsed time: 2333.147\nImputing row 59101/100650 with 0 missing, elapsed time: 2333.180\nImputing row 59201/100650 with 0 missing, elapsed time: 2333.218\nImputing row 59301/100650 with 0 missing, elapsed time: 2333.225\nImputing row 59401/100650 with 0 missing, elapsed time: 2333.225\nImputing row 59501/100650 with 0 missing, elapsed time: 2333.240\nImputing row 59601/100650 with 0 missing, elapsed time: 2333.255\nImputing row 59701/100650 with 0 missing, elapsed time: 2333.255\nImputing row 59801/100650 with 0 missing, elapsed time: 2333.262\nImputing row 59901/100650 with 0 missing, elapsed time: 2333.270\nImputing row 60001/100650 with 0 missing, elapsed time: 2333.290\nImputing row 60101/100650 with 0 missing, elapsed time: 2333.312\nImputing row 60201/100650 with 0 missing, elapsed time: 2333.373\nImputing row 60301/100650 with 0 missing, elapsed time: 2333.383\nImputing row 60401/100650 with 0 missing, elapsed time: 2333.383\nImputing row 60501/100650 with 0 missing, elapsed time: 2333.394\nImputing row 60601/100650 with 0 missing, elapsed time: 2333.395\nImputing row 60701/100650 with 0 missing, elapsed time: 2333.410\nImputing row 60801/100650 with 0 missing, elapsed time: 2333.437\nImputing row 60901/100650 with 0 missing, elapsed time: 2333.473\nImputing row 61001/100650 with 0 missing, elapsed time: 2333.487\nImputing row 61101/100650 with 0 missing, elapsed time: 2333.522\nImputing row 61201/100650 with 0 missing, elapsed time: 2333.553\nImputing row 61301/100650 with 0 missing, elapsed time: 2333.561\nImputing row 61401/100650 with 0 missing, elapsed time: 2333.561\nImputing row 61501/100650 with 0 missing, elapsed time: 2333.570\nImputing row 61601/100650 with 0 missing, elapsed time: 2333.586\nImputing row 61701/100650 with 0 missing, elapsed time: 2333.586\nImputing row 61801/100650 with 0 missing, elapsed time: 2333.609\nImputing row 61901/100650 with 0 missing, elapsed time: 2333.618\nImputing row 62001/100650 with 0 missing, elapsed time: 2333.641\nImputing row 62101/100650 with 2 missing, elapsed time: 2333.701\nImputing row 62201/100650 with 0 missing, elapsed time: 2333.724\nImputing row 62301/100650 with 0 missing, elapsed time: 2333.727\nImputing row 62401/100650 with 0 missing, elapsed time: 2333.728\nImputing row 62501/100650 with 0 missing, elapsed time: 2333.743\nImputing row 62601/100650 with 0 missing, elapsed time: 2333.743\nImputing row 62701/100650 with 0 missing, elapsed time: 2333.755\nImputing row 62801/100650 with 0 missing, elapsed time: 2333.779\nImputing row 62901/100650 with 0 missing, elapsed time: 2333.801\nImputing row 63001/100650 with 0 missing, elapsed time: 2333.841\nImputing row 63101/100650 with 0 missing, elapsed time: 2333.887\nImputing row 63201/100650 with 0 missing, elapsed time: 2333.926\nImputing row 63301/100650 with 0 missing, elapsed time: 2333.926\nImputing row 63401/100650 with 0 missing, elapsed time: 2333.941\nImputing row 63501/100650 with 0 missing, elapsed time: 2333.949\nImputing row 63601/100650 with 0 missing, elapsed time: 2333.956\nImputing row 63701/100650 with 0 missing, elapsed time: 2333.963\nImputing row 63801/100650 with 0 missing, elapsed time: 2333.971\nImputing row 63901/100650 with 0 missing, elapsed time: 2333.978\nImputing row 64001/100650 with 0 missing, elapsed time: 2334.018\nImputing row 64101/100650 with 0 missing, elapsed time: 2334.077\nImputing row 64201/100650 with 0 missing, elapsed time: 2334.095\nImputing row 64301/100650 with 0 missing, elapsed time: 2334.095\nImputing row 64401/100650 with 0 missing, elapsed time: 2334.103\nImputing row 64501/100650 with 0 missing, elapsed time: 2334.107\nImputing row 64601/100650 with 0 missing, elapsed time: 2334.115\nImputing row 64701/100650 with 0 missing, elapsed time: 2334.115\nImputing row 64801/100650 with 0 missing, elapsed time: 2334.135\nImputing row 64901/100650 with 0 missing, elapsed time: 2334.174\nImputing row 65001/100650 with 0 missing, elapsed time: 2334.207\nImputing row 65101/100650 with 0 missing, elapsed time: 2334.227\nImputing row 65201/100650 with 0 missing, elapsed time: 2334.246\nImputing row 65301/100650 with 0 missing, elapsed time: 2334.246\nImputing row 65401/100650 with 0 missing, elapsed time: 2334.262\nImputing row 65501/100650 with 0 missing, elapsed time: 2334.272\nImputing row 65601/100650 with 0 missing, elapsed time: 2334.272\nImputing row 65701/100650 with 0 missing, elapsed time: 2334.277\nImputing row 65801/100650 with 0 missing, elapsed time: 2334.289\nImputing row 65901/100650 with 0 missing, elapsed time: 2334.290\nImputing row 66001/100650 with 0 missing, elapsed time: 2334.337\nImputing row 66101/100650 with 0 missing, elapsed time: 2334.376\nImputing row 66201/100650 with 0 missing, elapsed time: 2334.380\nImputing row 66301/100650 with 0 missing, elapsed time: 2334.380\nImputing row 66401/100650 with 0 missing, elapsed time: 2334.388\nImputing row 66501/100650 with 0 missing, elapsed time: 2334.396\nImputing row 66601/100650 with 0 missing, elapsed time: 2334.410\nImputing row 66701/100650 with 0 missing, elapsed time: 2334.428\nImputing row 66801/100650 with 0 missing, elapsed time: 2334.465\nImputing row 66901/100650 with 0 missing, elapsed time: 2334.506\nImputing row 67001/100650 with 2 missing, elapsed time: 2334.523\nImputing row 67101/100650 with 0 missing, elapsed time: 2334.559\nImputing row 67201/100650 with 0 missing, elapsed time: 2334.567\nImputing row 67301/100650 with 0 missing, elapsed time: 2334.567\nImputing row 67401/100650 with 0 missing, elapsed time: 2334.583\nImputing row 67501/100650 with 0 missing, elapsed time: 2334.589\nImputing row 67601/100650 with 0 missing, elapsed time: 2334.589\nImputing row 67701/100650 with 0 missing, elapsed time: 2334.594\nImputing row 67801/100650 with 0 missing, elapsed time: 2334.608\nImputing row 67901/100650 with 0 missing, elapsed time: 2334.624\nImputing row 68001/100650 with 2 missing, elapsed time: 2334.654\nImputing row 68101/100650 with 0 missing, elapsed time: 2334.697\nImputing row 68201/100650 with 0 missing, elapsed time: 2334.697\nImputing row 68301/100650 with 0 missing, elapsed time: 2334.705\nImputing row 68401/100650 with 0 missing, elapsed time: 2334.713\nImputing row 68501/100650 with 0 missing, elapsed time: 2334.719\nImputing row 68601/100650 with 0 missing, elapsed time: 2334.731\nImputing row 68701/100650 with 0 missing, elapsed time: 2334.734\nImputing row 68801/100650 with 0 missing, elapsed time: 2334.765\nImputing row 68901/100650 with 0 missing, elapsed time: 2334.801\nImputing row 69001/100650 with 0 missing, elapsed time: 2334.855\nImputing row 69101/100650 with 0 missing, elapsed time: 2334.885\nImputing row 69201/100650 with 0 missing, elapsed time: 2334.885\nImputing row 69301/100650 with 0 missing, elapsed time: 2334.898\nImputing row 69401/100650 with 0 missing, elapsed time: 2334.914\nImputing row 69501/100650 with 0 missing, elapsed time: 2334.914\nImputing row 69601/100650 with 0 missing, elapsed time: 2334.914\nImputing row 69701/100650 with 0 missing, elapsed time: 2334.926\nImputing row 69801/100650 with 0 missing, elapsed time: 2334.936\nImputing row 69901/100650 with 0 missing, elapsed time: 2334.989\nImputing row 70001/100650 with 0 missing, elapsed time: 2335.020\nImputing row 70101/100650 with 0 missing, elapsed time: 2335.064\nImputing row 70201/100650 with 0 missing, elapsed time: 2335.064\nImputing row 70301/100650 with 0 missing, elapsed time: 2335.066\nImputing row 70401/100650 with 0 missing, elapsed time: 2335.074\nImputing row 70501/100650 with 0 missing, elapsed time: 2335.082\nImputing row 70601/100650 with 0 missing, elapsed time: 2335.082\nImputing row 70701/100650 with 0 missing, elapsed time: 2335.085\nImputing row 70801/100650 with 0 missing, elapsed time: 2335.088\nImputing row 70901/100650 with 0 missing, elapsed time: 2335.092\nImputing row 71001/100650 with 0 missing, elapsed time: 2335.099\nImputing row 71101/100650 with 0 missing, elapsed time: 2335.104\nImputing row 71201/100650 with 0 missing, elapsed time: 2335.104\nImputing row 71301/100650 with 0 missing, elapsed time: 2335.106\nImputing row 71401/100650 with 0 missing, elapsed time: 2335.108\nImputing row 71501/100650 with 0 missing, elapsed time: 2335.108\nImputing row 71601/100650 with 0 missing, elapsed time: 2335.109\nImputing row 71701/100650 with 0 missing, elapsed time: 2335.109\nImputing row 71801/100650 with 0 missing, elapsed time: 2335.113\nImputing row 71901/100650 with 0 missing, elapsed time: 2335.118\nImputing row 72001/100650 with 2 missing, elapsed time: 2335.120\nImputing row 72101/100650 with 0 missing, elapsed time: 2335.125\nImputing row 72201/100650 with 0 missing, elapsed time: 2335.126\nImputing row 72301/100650 with 0 missing, elapsed time: 2335.128\nImputing row 72401/100650 with 0 missing, elapsed time: 2335.129\nImputing row 72501/100650 with 0 missing, elapsed time: 2335.132\nImputing row 72601/100650 with 0 missing, elapsed time: 2335.133\nImputing row 72701/100650 with 0 missing, elapsed time: 2335.136\nImputing row 72801/100650 with 0 missing, elapsed time: 2335.140\nImputing row 72901/100650 with 0 missing, elapsed time: 2335.147\nImputing row 73001/100650 with 0 missing, elapsed time: 2335.152\nImputing row 73101/100650 with 0 missing, elapsed time: 2335.157\nImputing row 73201/100650 with 0 missing, elapsed time: 2335.157\nImputing row 73301/100650 with 0 missing, elapsed time: 2335.159\nImputing row 73401/100650 with 0 missing, elapsed time: 2335.160\nImputing row 73501/100650 with 0 missing, elapsed time: 2335.160\nImputing row 73601/100650 with 0 missing, elapsed time: 2335.161\nImputing row 73701/100650 with 0 missing, elapsed time: 2335.161\nImputing row 73801/100650 with 0 missing, elapsed time: 2335.164\nImputing row 73901/100650 with 0 missing, elapsed time: 2335.168\nImputing row 74001/100650 with 0 missing, elapsed time: 2335.173\nImputing row 74101/100650 with 0 missing, elapsed time: 2335.176\nImputing row 74201/100650 with 0 missing, elapsed time: 2335.178\nImputing row 74301/100650 with 0 missing, elapsed time: 2335.180\nImputing row 74401/100650 with 0 missing, elapsed time: 2335.180\nImputing row 74501/100650 with 0 missing, elapsed time: 2335.183\nImputing row 74601/100650 with 0 missing, elapsed time: 2335.184\nImputing row 74701/100650 with 0 missing, elapsed time: 2335.187\nImputing row 74801/100650 with 0 missing, elapsed time: 2335.191\nImputing row 74901/100650 with 0 missing, elapsed time: 2335.196\nImputing row 75001/100650 with 0 missing, elapsed time: 2335.202\nImputing row 75101/100650 with 0 missing, elapsed time: 2335.205\nImputing row 75201/100650 with 0 missing, elapsed time: 2335.206\nImputing row 75301/100650 with 0 missing, elapsed time: 2335.208\nImputing row 75401/100650 with 0 missing, elapsed time: 2335.209\nImputing row 75501/100650 with 0 missing, elapsed time: 2335.209\nImputing row 75601/100650 with 0 missing, elapsed time: 2335.210\nImputing row 75701/100650 with 0 missing, elapsed time: 2335.211\nImputing row 75801/100650 with 0 missing, elapsed time: 2335.213\nImputing row 75901/100650 with 0 missing, elapsed time: 2335.220\nImputing row 76001/100650 with 0 missing, elapsed time: 2335.224\nImputing row 76101/100650 with 0 missing, elapsed time: 2335.227\nImputing row 76201/100650 with 0 missing, elapsed time: 2335.228\nImputing row 76301/100650 with 0 missing, elapsed time: 2335.229\nImputing row 76401/100650 with 0 missing, elapsed time: 2335.231\nImputing row 76501/100650 with 0 missing, elapsed time: 2335.233\nImputing row 76601/100650 with 0 missing, elapsed time: 2335.235\nImputing row 76701/100650 with 2 missing, elapsed time: 2335.239\nImputing row 76801/100650 with 0 missing, elapsed time: 2335.242\nImputing row 76901/100650 with 0 missing, elapsed time: 2335.247\nImputing row 77001/100650 with 0 missing, elapsed time: 2335.253\nImputing row 77101/100650 with 0 missing, elapsed time: 2335.257\nImputing row 77201/100650 with 0 missing, elapsed time: 2335.257\nImputing row 77301/100650 with 0 missing, elapsed time: 2335.259\nImputing row 77401/100650 with 0 missing, elapsed time: 2335.259\nImputing row 77501/100650 with 0 missing, elapsed time: 2335.260\nImputing row 77601/100650 with 0 missing, elapsed time: 2335.263\nImputing row 77701/100650 with 0 missing, elapsed time: 2335.268\nImputing row 77801/100650 with 0 missing, elapsed time: 2335.272\nImputing row 77901/100650 with 0 missing, elapsed time: 2335.275\nImputing row 78001/100650 with 0 missing, elapsed time: 2335.280\nImputing row 78101/100650 with 0 missing, elapsed time: 2335.283\nImputing row 78201/100650 with 0 missing, elapsed time: 2335.286\nImputing row 78301/100650 with 0 missing, elapsed time: 2335.287\nImputing row 78401/100650 with 0 missing, elapsed time: 2335.287\nImputing row 78501/100650 with 0 missing, elapsed time: 2335.292\nImputing row 78601/100650 with 0 missing, elapsed time: 2335.295\nImputing row 78701/100650 with 0 missing, elapsed time: 2335.301\nImputing row 78801/100650 with 0 missing, elapsed time: 2335.304\nImputing row 78901/100650 with 0 missing, elapsed time: 2335.307\nImputing row 79001/100650 with 0 missing, elapsed time: 2335.311\nImputing row 79101/100650 with 0 missing, elapsed time: 2335.314\nImputing row 79201/100650 with 0 missing, elapsed time: 2335.315\nImputing row 79301/100650 with 0 missing, elapsed time: 2335.315\nImputing row 79401/100650 with 0 missing, elapsed time: 2335.316\nImputing row 79501/100650 with 0 missing, elapsed time: 2335.319\nImputing row 79601/100650 with 0 missing, elapsed time: 2335.320\nImputing row 79701/100650 with 0 missing, elapsed time: 2335.323\nImputing row 79801/100650 with 0 missing, elapsed time: 2335.329\nImputing row 79901/100650 with 0 missing, elapsed time: 2335.331\nImputing row 80001/100650 with 0 missing, elapsed time: 2335.337\nImputing row 80101/100650 with 0 missing, elapsed time: 2335.339\nImputing row 80201/100650 with 0 missing, elapsed time: 2335.340\nImputing row 80301/100650 with 0 missing, elapsed time: 2335.340\nImputing row 80401/100650 with 0 missing, elapsed time: 2335.340\nImputing row 80501/100650 with 0 missing, elapsed time: 2335.345\nImputing row 80601/100650 with 0 missing, elapsed time: 2335.350\nImputing row 80701/100650 with 0 missing, elapsed time: 2335.355\nImputing row 80801/100650 with 0 missing, elapsed time: 2335.359\nImputing row 80901/100650 with 0 missing, elapsed time: 2335.364\nImputing row 81001/100650 with 0 missing, elapsed time: 2335.368\nImputing row 81101/100650 with 0 missing, elapsed time: 2335.370\nImputing row 81201/100650 with 0 missing, elapsed time: 2335.371\nImputing row 81301/100650 with 0 missing, elapsed time: 2335.372\nImputing row 81401/100650 with 0 missing, elapsed time: 2335.373\nImputing row 81501/100650 with 0 missing, elapsed time: 2335.376\nImputing row 81601/100650 with 0 missing, elapsed time: 2335.379\nImputing row 81701/100650 with 0 missing, elapsed time: 2335.384\nImputing row 81801/100650 with 0 missing, elapsed time: 2335.387\nImputing row 81901/100650 with 0 missing, elapsed time: 2335.391\nImputing row 82001/100650 with 0 missing, elapsed time: 2335.397\nImputing row 82101/100650 with 0 missing, elapsed time: 2335.401\nImputing row 82201/100650 with 0 missing, elapsed time: 2335.402\nImputing row 82301/100650 with 0 missing, elapsed time: 2335.402\nImputing row 82401/100650 with 0 missing, elapsed time: 2335.403\nImputing row 82501/100650 with 0 missing, elapsed time: 2335.407\nImputing row 82601/100650 with 0 missing, elapsed time: 2335.413\nImputing row 82701/100650 with 0 missing, elapsed time: 2335.416\nImputing row 82801/100650 with 0 missing, elapsed time: 2335.422\nImputing row 82901/100650 with 0 missing, elapsed time: 2335.425\nImputing row 83001/100650 with 0 missing, elapsed time: 2335.429\nImputing row 83101/100650 with 0 missing, elapsed time: 2335.431\nImputing row 83201/100650 with 0 missing, elapsed time: 2335.432\nImputing row 83301/100650 with 0 missing, elapsed time: 2335.432\nImputing row 83401/100650 with 0 missing, elapsed time: 2335.433\nImputing row 83501/100650 with 0 missing, elapsed time: 2335.438\nImputing row 83601/100650 with 0 missing, elapsed time: 2335.439\nImputing row 83701/100650 with 0 missing, elapsed time: 2335.444\nImputing row 83801/100650 with 0 missing, elapsed time: 2335.448\nImputing row 83901/100650 with 0 missing, elapsed time: 2335.452\nImputing row 84001/100650 with 0 missing, elapsed time: 2335.457\nImputing row 84101/100650 with 0 missing, elapsed time: 2335.461\nImputing row 84201/100650 with 0 missing, elapsed time: 2335.462\nImputing row 84301/100650 with 0 missing, elapsed time: 2335.463\nImputing row 84401/100650 with 0 missing, elapsed time: 2335.464\nImputing row 84501/100650 with 0 missing, elapsed time: 2335.471\nImputing row 84601/100650 with 0 missing, elapsed time: 2335.476\nImputing row 84701/100650 with 0 missing, elapsed time: 2335.480\nImputing row 84801/100650 with 0 missing, elapsed time: 2335.487\nImputing row 84901/100650 with 0 missing, elapsed time: 2335.492\nImputing row 85001/100650 with 2 missing, elapsed time: 2335.494\nImputing row 85101/100650 with 0 missing, elapsed time: 2335.496\nImputing row 85201/100650 with 0 missing, elapsed time: 2335.496\nImputing row 85301/100650 with 0 missing, elapsed time: 2335.497\nImputing row 85401/100650 with 0 missing, elapsed time: 2335.499\nImputing row 85501/100650 with 0 missing, elapsed time: 2335.501\nImputing row 85601/100650 with 0 missing, elapsed time: 2335.506\nImputing row 85701/100650 with 2 missing, elapsed time: 2335.510\nImputing row 85801/100650 with 0 missing, elapsed time: 2335.515\nImputing row 85901/100650 with 0 missing, elapsed time: 2335.523\nImputing row 86001/100650 with 2 missing, elapsed time: 2335.525\nImputing row 86101/100650 with 0 missing, elapsed time: 2335.529\nImputing row 86201/100650 with 0 missing, elapsed time: 2335.529\nImputing row 86301/100650 with 0 missing, elapsed time: 2335.530\nImputing row 86401/100650 with 0 missing, elapsed time: 2335.535\nImputing row 86501/100650 with 0 missing, elapsed time: 2335.540\nImputing row 86601/100650 with 0 missing, elapsed time: 2335.547\nImputing row 86701/100650 with 0 missing, elapsed time: 2335.553\nImputing row 86801/100650 with 0 missing, elapsed time: 2335.556\nImputing row 86901/100650 with 0 missing, elapsed time: 2335.567\nImputing row 87001/100650 with 0 missing, elapsed time: 2335.570\nImputing row 87101/100650 with 0 missing, elapsed time: 2335.571\nImputing row 87201/100650 with 0 missing, elapsed time: 2335.572\nImputing row 87301/100650 with 0 missing, elapsed time: 2335.573\nImputing row 87401/100650 with 0 missing, elapsed time: 2335.574\nImputing row 87501/100650 with 0 missing, elapsed time: 2335.578\nImputing row 87601/100650 with 2 missing, elapsed time: 2335.582\nImputing row 87701/100650 with 0 missing, elapsed time: 2335.586\nImputing row 87801/100650 with 2 missing, elapsed time: 2335.591\nImputing row 87901/100650 with 0 missing, elapsed time: 2335.598\nImputing row 88001/100650 with 0 missing, elapsed time: 2335.601\nImputing row 88101/100650 with 0 missing, elapsed time: 2335.603\nImputing row 88201/100650 with 0 missing, elapsed time: 2335.603\nImputing row 88301/100650 with 0 missing, elapsed time: 2335.605\nImputing row 88401/100650 with 0 missing, elapsed time: 2335.611\nImputing row 88501/100650 with 2 missing, elapsed time: 2335.616\nImputing row 88601/100650 with 0 missing, elapsed time: 2335.624\nImputing row 88701/100650 with 0 missing, elapsed time: 2335.627\nImputing row 88801/100650 with 0 missing, elapsed time: 2335.629\nImputing row 88901/100650 with 0 missing, elapsed time: 2335.646\nImputing row 89001/100650 with 0 missing, elapsed time: 2335.648\nImputing row 89101/100650 with 0 missing, elapsed time: 2335.649\nImputing row 89201/100650 with 0 missing, elapsed time: 2335.649\nImputing row 89301/100650 with 0 missing, elapsed time: 2335.650\nImputing row 89401/100650 with 0 missing, elapsed time: 2335.653\nImputing row 89501/100650 with 0 missing, elapsed time: 2335.656\nImputing row 89601/100650 with 0 missing, elapsed time: 2335.662\nImputing row 89701/100650 with 0 missing, elapsed time: 2335.667\nImputing row 89801/100650 with 0 missing, elapsed time: 2335.673\nImputing row 89901/100650 with 0 missing, elapsed time: 2335.681\nImputing row 90001/100650 with 0 missing, elapsed time: 2335.685\nImputing row 90101/100650 with 0 missing, elapsed time: 2335.685\nImputing row 90201/100650 with 0 missing, elapsed time: 2335.686\nImputing row 90301/100650 with 0 missing, elapsed time: 2335.689\nImputing row 90401/100650 with 0 missing, elapsed time: 2335.694\nImputing row 90501/100650 with 0 missing, elapsed time: 2335.700\nImputing row 90601/100650 with 0 missing, elapsed time: 2335.707\nImputing row 90701/100650 with 0 missing, elapsed time: 2335.708\nImputing row 90801/100650 with 2 missing, elapsed time: 2335.723\nImputing row 90901/100650 with 0 missing, elapsed time: 2335.735\nImputing row 91001/100650 with 0 missing, elapsed time: 2335.736\nImputing row 91101/100650 with 0 missing, elapsed time: 2335.737\nImputing row 91201/100650 with 0 missing, elapsed time: 2335.739\nImputing row 91301/100650 with 0 missing, elapsed time: 2335.741\nImputing row 91401/100650 with 0 missing, elapsed time: 2335.745\nImputing row 91501/100650 with 0 missing, elapsed time: 2335.750\nImputing row 91601/100650 with 0 missing, elapsed time: 2335.756\nImputing row 91701/100650 with 0 missing, elapsed time: 2335.765\nImputing row 91801/100650 with 0 missing, elapsed time: 2335.771\nImputing row 91901/100650 with 0 missing, elapsed time: 2335.778\nImputing row 92001/100650 with 0 missing, elapsed time: 2335.780\nImputing row 92101/100650 with 0 missing, elapsed time: 2335.781\nImputing row 92201/100650 with 0 missing, elapsed time: 2335.782\nImputing row 92301/100650 with 0 missing, elapsed time: 2335.788\nImputing row 92401/100650 with 0 missing, elapsed time: 2335.798\nImputing row 92501/100650 with 0 missing, elapsed time: 2335.803\nImputing row 92601/100650 with 2 missing, elapsed time: 2335.819\nImputing row 92701/100650 with 2 missing, elapsed time: 2335.843\nImputing row 92801/100650 with 0 missing, elapsed time: 2335.856\nImputing row 92901/100650 with 0 missing, elapsed time: 2335.863\nImputing row 93001/100650 with 0 missing, elapsed time: 2335.864\nImputing row 93101/100650 with 0 missing, elapsed time: 2335.865\nImputing row 93201/100650 with 0 missing, elapsed time: 2335.869\nImputing row 93301/100650 with 0 missing, elapsed time: 2335.870\nImputing row 93401/100650 with 0 missing, elapsed time: 2335.876\nImputing row 93501/100650 with 0 missing, elapsed time: 2335.883\nImputing row 93601/100650 with 0 missing, elapsed time: 2335.890\nImputing row 93701/100650 with 0 missing, elapsed time: 2335.899\nImputing row 93801/100650 with 0 missing, elapsed time: 2335.908\nImputing row 93901/100650 with 0 missing, elapsed time: 2335.915\nImputing row 94001/100650 with 0 missing, elapsed time: 2335.918\nImputing row 94101/100650 with 0 missing, elapsed time: 2335.920\nImputing row 94201/100650 with 0 missing, elapsed time: 2335.923\nImputing row 94301/100650 with 2 missing, elapsed time: 2335.933\nImputing row 94401/100650 with 0 missing, elapsed time: 2335.946\nImputing row 94501/100650 with 0 missing, elapsed time: 2335.955\nImputing row 94601/100650 with 0 missing, elapsed time: 2335.979\nImputing row 94701/100650 with 0 missing, elapsed time: 2336.011\nImputing row 94801/100650 with 0 missing, elapsed time: 2336.030\nImputing row 94901/100650 with 0 missing, elapsed time: 2336.031\nImputing row 95001/100650 with 0 missing, elapsed time: 2336.032\nImputing row 95101/100650 with 2 missing, elapsed time: 2336.033\nImputing row 95201/100650 with 0 missing, elapsed time: 2336.038\nImputing row 95301/100650 with 0 missing, elapsed time: 2336.041\nImputing row 95401/100650 with 0 missing, elapsed time: 2336.047\nImputing row 95501/100650 with 0 missing, elapsed time: 2336.054\nImputing row 95601/100650 with 0 missing, elapsed time: 2336.061\nImputing row 95701/100650 with 0 missing, elapsed time: 2336.071\nImputing row 95801/100650 with 0 missing, elapsed time: 2336.080\nImputing row 95901/100650 with 0 missing, elapsed time: 2336.084\nImputing row 96001/100650 with 0 missing, elapsed time: 2336.086\nImputing row 96101/100650 with 0 missing, elapsed time: 2336.089\nImputing row 96201/100650 with 0 missing, elapsed time: 2336.098\nImputing row 96301/100650 with 0 missing, elapsed time: 2336.109\nImputing row 96401/100650 with 0 missing, elapsed time: 2336.118\nImputing row 96501/100650 with 0 missing, elapsed time: 2336.134\nImputing row 96601/100650 with 0 missing, elapsed time: 2336.165\nImputing row 96701/100650 with 0 missing, elapsed time: 2336.196\nImputing row 96801/100650 with 0 missing, elapsed time: 2336.203\nImputing row 96901/100650 with 0 missing, elapsed time: 2336.204\nImputing row 97001/100650 with 0 missing, elapsed time: 2336.204\nImputing row 97101/100650 with 0 missing, elapsed time: 2336.209\nImputing row 97201/100650 with 0 missing, elapsed time: 2336.210\nImputing row 97301/100650 with 0 missing, elapsed time: 2336.217\nImputing row 97401/100650 with 0 missing, elapsed time: 2336.224\nImputing row 97501/100650 with 0 missing, elapsed time: 2336.230\nImputing row 97601/100650 with 0 missing, elapsed time: 2336.240\nImputing row 97701/100650 with 2 missing, elapsed time: 2336.248\nImputing row 97801/100650 with 0 missing, elapsed time: 2336.257\nImputing row 97901/100650 with 0 missing, elapsed time: 2336.261\nImputing row 98001/100650 with 0 missing, elapsed time: 2336.264\nImputing row 98101/100650 with 2 missing, elapsed time: 2336.266\nImputing row 98201/100650 with 0 missing, elapsed time: 2336.276\nImputing row 98301/100650 with 0 missing, elapsed time: 2336.288\nImputing row 98401/100650 with 0 missing, elapsed time: 2336.297\nImputing row 98501/100650 with 0 missing, elapsed time: 2336.312\nImputing row 98601/100650 with 2 missing, elapsed time: 2336.342\nImputing row 98701/100650 with 0 missing, elapsed time: 2336.372\nImputing row 98801/100650 with 0 missing, elapsed time: 2336.373\nImputing row 98901/100650 with 0 missing, elapsed time: 2336.374\nImputing row 99001/100650 with 0 missing, elapsed time: 2336.377\nImputing row 99101/100650 with 0 missing, elapsed time: 2336.380\nImputing row 99201/100650 with 0 missing, elapsed time: 2336.383\nImputing row 99301/100650 with 0 missing, elapsed time: 2336.390\nImputing row 99401/100650 with 0 missing, elapsed time: 2336.396\nImputing row 99501/100650 with 0 missing, elapsed time: 2336.403\nImputing row 99601/100650 with 0 missing, elapsed time: 2336.414\nImputing row 99701/100650 with 0 missing, elapsed time: 2336.423\nImputing row 99801/100650 with 0 missing, elapsed time: 2336.431\nImputing row 99901/100650 with 0 missing, elapsed time: 2336.434\nImputing row 100001/100650 with 0 missing, elapsed time: 2336.437\nImputing row 100101/100650 with 0 missing, elapsed time: 2336.444\nImputing row 100201/100650 with 0 missing, elapsed time: 2336.453\nImputing row 100301/100650 with 0 missing, elapsed time: 2336.463\nImputing row 100401/100650 with 0 missing, elapsed time: 2336.479\nImputing row 100501/100650 with 0 missing, elapsed time: 2336.510\nImputing row 100601/100650 with 0 missing, elapsed time: 2336.542\n"
        }
      ],
      "execution_count": 9,
      "metadata": {
        "jupyter": {
          "source_hidden": false,
          "outputs_hidden": false
        },
        "nteract": {
          "transient": {
            "deleting": false
          }
        },
        "gather": {
          "logged": 1717433034920
        }
      }
    },
    {
      "cell_type": "code",
      "source": [
        "hosp_knn.shape"
      ],
      "outputs": [
        {
          "output_type": "execute_result",
          "execution_count": 10,
          "data": {
            "text/plain": "(100650, 9)"
          },
          "metadata": {}
        }
      ],
      "execution_count": 10,
      "metadata": {
        "jupyter": {
          "source_hidden": false,
          "outputs_hidden": false
        },
        "nteract": {
          "transient": {
            "deleting": false
          }
        },
        "gather": {
          "logged": 1717434917187
        }
      }
    },
    {
      "cell_type": "code",
      "source": [
        "hosp = pd.DataFrame(data=hosp_knn[0:,0:],columns=['hotel', 'cidade', 'preço', 'checkin', 'checkout', 'dist_centro','avaliacao', 'qtnd_avaliacoes', 'data_extracao'])"
      ],
      "outputs": [],
      "execution_count": 12,
      "metadata": {
        "jupyter": {
          "source_hidden": false,
          "outputs_hidden": false
        },
        "nteract": {
          "transient": {
            "deleting": false
          }
        },
        "gather": {
          "logged": 1717434932722
        }
      }
    },
    {
      "cell_type": "code",
      "source": [
        "# revertendo a normalização\n",
        "hosp[columns_to_normalize] = scaler.inverse_transform(hosp[columns_to_normalize])"
      ],
      "outputs": [],
      "execution_count": 17,
      "metadata": {
        "jupyter": {
          "source_hidden": false,
          "outputs_hidden": false
        },
        "nteract": {
          "transient": {
            "deleting": false
          }
        },
        "gather": {
          "logged": 1717434991971
        }
      }
    },
    {
      "cell_type": "code",
      "source": [
        "hosp.head()"
      ],
      "outputs": [
        {
          "output_type": "execute_result",
          "execution_count": 18,
          "data": {
            "text/plain": "    hotel  cidade    preço  checkin  checkout  dist_centro  avaliacao  \\\n0  6125.0     0.0  12144.0      0.0       3.0          0.9        8.5   \n1  4485.0     0.0   6478.0      0.0       3.0          3.1        8.3   \n2  4246.0     0.0   4067.0      0.0       3.0          3.9        8.1   \n3   500.0     0.0   3955.0      0.0       3.0          1.7        7.8   \n4  5528.0     0.0   2150.0      0.0       3.0          1.3        8.5   \n\n   qtnd_avaliacoes  data_extracao  \n0           5355.0            0.0  \n1           3469.0            0.0  \n2           4658.0            0.0  \n3           3126.0            0.0  \n4            144.0            0.0  ",
            "text/html": "<div>\n<style scoped>\n    .dataframe tbody tr th:only-of-type {\n        vertical-align: middle;\n    }\n\n    .dataframe tbody tr th {\n        vertical-align: top;\n    }\n\n    .dataframe thead th {\n        text-align: right;\n    }\n</style>\n<table border=\"1\" class=\"dataframe\">\n  <thead>\n    <tr style=\"text-align: right;\">\n      <th></th>\n      <th>hotel</th>\n      <th>cidade</th>\n      <th>preço</th>\n      <th>checkin</th>\n      <th>checkout</th>\n      <th>dist_centro</th>\n      <th>avaliacao</th>\n      <th>qtnd_avaliacoes</th>\n      <th>data_extracao</th>\n    </tr>\n  </thead>\n  <tbody>\n    <tr>\n      <th>0</th>\n      <td>6125.0</td>\n      <td>0.0</td>\n      <td>12144.0</td>\n      <td>0.0</td>\n      <td>3.0</td>\n      <td>0.9</td>\n      <td>8.5</td>\n      <td>5355.0</td>\n      <td>0.0</td>\n    </tr>\n    <tr>\n      <th>1</th>\n      <td>4485.0</td>\n      <td>0.0</td>\n      <td>6478.0</td>\n      <td>0.0</td>\n      <td>3.0</td>\n      <td>3.1</td>\n      <td>8.3</td>\n      <td>3469.0</td>\n      <td>0.0</td>\n    </tr>\n    <tr>\n      <th>2</th>\n      <td>4246.0</td>\n      <td>0.0</td>\n      <td>4067.0</td>\n      <td>0.0</td>\n      <td>3.0</td>\n      <td>3.9</td>\n      <td>8.1</td>\n      <td>4658.0</td>\n      <td>0.0</td>\n    </tr>\n    <tr>\n      <th>3</th>\n      <td>500.0</td>\n      <td>0.0</td>\n      <td>3955.0</td>\n      <td>0.0</td>\n      <td>3.0</td>\n      <td>1.7</td>\n      <td>7.8</td>\n      <td>3126.0</td>\n      <td>0.0</td>\n    </tr>\n    <tr>\n      <th>4</th>\n      <td>5528.0</td>\n      <td>0.0</td>\n      <td>2150.0</td>\n      <td>0.0</td>\n      <td>3.0</td>\n      <td>1.3</td>\n      <td>8.5</td>\n      <td>144.0</td>\n      <td>0.0</td>\n    </tr>\n  </tbody>\n</table>\n</div>"
          },
          "metadata": {}
        }
      ],
      "execution_count": 18,
      "metadata": {
        "jupyter": {
          "source_hidden": false,
          "outputs_hidden": false
        },
        "nteract": {
          "transient": {
            "deleting": false
          }
        },
        "gather": {
          "logged": 1717434994722
        }
      }
    },
    {
      "cell_type": "code",
      "source": [
        "print(hosp.isnull().sum())"
      ],
      "outputs": [
        {
          "output_type": "stream",
          "name": "stdout",
          "text": "hotel              0\ncidade             0\npreço              0\ncheckin            0\ncheckout           0\ndist_centro        0\navaliacao          0\nqtnd_avaliacoes    0\ndata_extracao      0\ndtype: int64\n"
        }
      ],
      "execution_count": 19,
      "metadata": {
        "jupyter": {
          "source_hidden": false,
          "outputs_hidden": false
        },
        "nteract": {
          "transient": {
            "deleting": false
          }
        },
        "gather": {
          "logged": 1717435002159
        }
      }
    },
    {
      "cell_type": "code",
      "source": [
        "hosp_teste = pd.read_csv('./resultado.csv', decimal=\".\")"
      ],
      "outputs": [],
      "execution_count": 13,
      "metadata": {
        "jupyter": {
          "source_hidden": false,
          "outputs_hidden": false
        },
        "nteract": {
          "transient": {
            "deleting": false
          }
        },
        "gather": {
          "logged": 1717046311186
        }
      }
    },
    {
      "cell_type": "code",
      "source": [
        "hosp['hotel'] = hosp_teste['hotel']\n",
        "hosp['cidade'] = hosp_teste['cidade']\n",
        "hosp['checkin'] = hosp_teste['checkin']\n",
        "hosp['checkout'] = hosp_teste['checkout']\n",
        "hosp['data_extracao'] = hosp_teste['data_extracao']"
      ],
      "outputs": [],
      "execution_count": 14,
      "metadata": {
        "jupyter": {
          "source_hidden": false,
          "outputs_hidden": false
        },
        "nteract": {
          "transient": {
            "deleting": false
          }
        },
        "gather": {
          "logged": 1717046432555
        }
      }
    },
    {
      "cell_type": "code",
      "source": [
        "hosp.head(3)"
      ],
      "outputs": [
        {
          "output_type": "execute_result",
          "execution_count": 15,
          "data": {
            "text/plain": "                                 hotel  cidade    preço    checkin   checkout  \\\n0                TURIM Boulevard Hotel  Lisboa  12144.0  2024-06-1  2024-06-8   \n1                      Luzeiros Suites  Lisboa   6478.0  2024-06-1  2024-06-8   \n2  Lisbon Serviced Apartments - Campos  Lisboa   4067.0  2024-06-1  2024-06-8   \n\n   dist_centro  avaliacao  qtnd_avaliacoes data_extracao  \n0          0.9        8.5           5355.0     2024-5-23  \n1          3.1        8.3           3469.0     2024-5-23  \n2          3.9        8.1           4658.0     2024-5-23  ",
            "text/html": "<div>\n<style scoped>\n    .dataframe tbody tr th:only-of-type {\n        vertical-align: middle;\n    }\n\n    .dataframe tbody tr th {\n        vertical-align: top;\n    }\n\n    .dataframe thead th {\n        text-align: right;\n    }\n</style>\n<table border=\"1\" class=\"dataframe\">\n  <thead>\n    <tr style=\"text-align: right;\">\n      <th></th>\n      <th>hotel</th>\n      <th>cidade</th>\n      <th>preço</th>\n      <th>checkin</th>\n      <th>checkout</th>\n      <th>dist_centro</th>\n      <th>avaliacao</th>\n      <th>qtnd_avaliacoes</th>\n      <th>data_extracao</th>\n    </tr>\n  </thead>\n  <tbody>\n    <tr>\n      <th>0</th>\n      <td>TURIM Boulevard Hotel</td>\n      <td>Lisboa</td>\n      <td>12144.0</td>\n      <td>2024-06-1</td>\n      <td>2024-06-8</td>\n      <td>0.9</td>\n      <td>8.5</td>\n      <td>5355.0</td>\n      <td>2024-5-23</td>\n    </tr>\n    <tr>\n      <th>1</th>\n      <td>Luzeiros Suites</td>\n      <td>Lisboa</td>\n      <td>6478.0</td>\n      <td>2024-06-1</td>\n      <td>2024-06-8</td>\n      <td>3.1</td>\n      <td>8.3</td>\n      <td>3469.0</td>\n      <td>2024-5-23</td>\n    </tr>\n    <tr>\n      <th>2</th>\n      <td>Lisbon Serviced Apartments - Campos</td>\n      <td>Lisboa</td>\n      <td>4067.0</td>\n      <td>2024-06-1</td>\n      <td>2024-06-8</td>\n      <td>3.9</td>\n      <td>8.1</td>\n      <td>4658.0</td>\n      <td>2024-5-23</td>\n    </tr>\n  </tbody>\n</table>\n</div>"
          },
          "metadata": {}
        }
      ],
      "execution_count": 15,
      "metadata": {
        "jupyter": {
          "source_hidden": false,
          "outputs_hidden": false
        },
        "nteract": {
          "transient": {
            "deleting": false
          }
        },
        "gather": {
          "logged": 1717046446559
        }
      }
    },
    {
      "cell_type": "code",
      "source": [
        "hosp_teste"
      ],
      "outputs": [
        {
          "output_type": "execute_result",
          "execution_count": 16,
          "data": {
            "text/plain": "                                                    hotel  cidade  preço  \\\n0                                   TURIM Boulevard Hotel  Lisboa  12144   \n1                                         Luzeiros Suites  Lisboa   6478   \n2                     Lisbon Serviced Apartments - Campos  Lisboa   4067   \n3                                   Amazonia Lisboa Hotel  Lisboa   3955   \n4                Rua Luciano Cordeiro Bhuiyan Family Host  Lisboa   2150   \n...                                                   ...     ...    ...   \n100645                          Love Nest in Saint-Michel   Paris  11728   \n100646                        SINGLE STUDIO QuartierLatin   Paris   5278   \n100647     Bastille - Gare de Lyon - Appartement familial   Paris  14107   \n100648                         Loft in the heart of Paris   Paris   9786   \n100649  Cosy apartment in the 17th arrondissement - We...   Paris   6212   \n\n           checkin    checkout  dist_centro dist_praia avaliacao  \\\n0        2024-06-1   2024-06-8          0.9       None       8.5   \n1        2024-06-1   2024-06-8          3.1       None       8.3   \n2        2024-06-1   2024-06-8          3.9       None       8.1   \n3        2024-06-1   2024-06-8          1.7       None       7.8   \n4        2024-06-1   2024-06-8          1.3       None       8.5   \n...            ...         ...          ...        ...       ...   \n100645  2025-06-22  2025-06-29          0.7       None       6.8   \n100646  2025-06-22  2025-06-29          2.0       None      None   \n100647  2025-06-22  2025-06-29          2.6       None       9.0   \n100648  2025-06-22  2025-06-29          3.5       None       7.0   \n100649  2025-06-22  2025-06-29          4.7       None       5.0   \n\n       qtnd_avaliacoes data_extracao  \n0                 5355     2024-5-23  \n1                 3469     2024-5-23  \n2                 4658     2024-5-23  \n3                 3126     2024-5-23  \n4                  144     2024-5-23  \n...                ...           ...  \n100645               9     2024-5-23  \n100646            None     2024-5-23  \n100647               2     2024-5-23  \n100648               1     2024-5-23  \n100649               3     2024-5-23  \n\n[100650 rows x 10 columns]",
            "text/html": "<div>\n<style scoped>\n    .dataframe tbody tr th:only-of-type {\n        vertical-align: middle;\n    }\n\n    .dataframe tbody tr th {\n        vertical-align: top;\n    }\n\n    .dataframe thead th {\n        text-align: right;\n    }\n</style>\n<table border=\"1\" class=\"dataframe\">\n  <thead>\n    <tr style=\"text-align: right;\">\n      <th></th>\n      <th>hotel</th>\n      <th>cidade</th>\n      <th>preço</th>\n      <th>checkin</th>\n      <th>checkout</th>\n      <th>dist_centro</th>\n      <th>dist_praia</th>\n      <th>avaliacao</th>\n      <th>qtnd_avaliacoes</th>\n      <th>data_extracao</th>\n    </tr>\n  </thead>\n  <tbody>\n    <tr>\n      <th>0</th>\n      <td>TURIM Boulevard Hotel</td>\n      <td>Lisboa</td>\n      <td>12144</td>\n      <td>2024-06-1</td>\n      <td>2024-06-8</td>\n      <td>0.9</td>\n      <td>None</td>\n      <td>8.5</td>\n      <td>5355</td>\n      <td>2024-5-23</td>\n    </tr>\n    <tr>\n      <th>1</th>\n      <td>Luzeiros Suites</td>\n      <td>Lisboa</td>\n      <td>6478</td>\n      <td>2024-06-1</td>\n      <td>2024-06-8</td>\n      <td>3.1</td>\n      <td>None</td>\n      <td>8.3</td>\n      <td>3469</td>\n      <td>2024-5-23</td>\n    </tr>\n    <tr>\n      <th>2</th>\n      <td>Lisbon Serviced Apartments - Campos</td>\n      <td>Lisboa</td>\n      <td>4067</td>\n      <td>2024-06-1</td>\n      <td>2024-06-8</td>\n      <td>3.9</td>\n      <td>None</td>\n      <td>8.1</td>\n      <td>4658</td>\n      <td>2024-5-23</td>\n    </tr>\n    <tr>\n      <th>3</th>\n      <td>Amazonia Lisboa Hotel</td>\n      <td>Lisboa</td>\n      <td>3955</td>\n      <td>2024-06-1</td>\n      <td>2024-06-8</td>\n      <td>1.7</td>\n      <td>None</td>\n      <td>7.8</td>\n      <td>3126</td>\n      <td>2024-5-23</td>\n    </tr>\n    <tr>\n      <th>4</th>\n      <td>Rua Luciano Cordeiro Bhuiyan Family Host</td>\n      <td>Lisboa</td>\n      <td>2150</td>\n      <td>2024-06-1</td>\n      <td>2024-06-8</td>\n      <td>1.3</td>\n      <td>None</td>\n      <td>8.5</td>\n      <td>144</td>\n      <td>2024-5-23</td>\n    </tr>\n    <tr>\n      <th>...</th>\n      <td>...</td>\n      <td>...</td>\n      <td>...</td>\n      <td>...</td>\n      <td>...</td>\n      <td>...</td>\n      <td>...</td>\n      <td>...</td>\n      <td>...</td>\n      <td>...</td>\n    </tr>\n    <tr>\n      <th>100645</th>\n      <td>Love Nest in Saint-Michel</td>\n      <td>Paris</td>\n      <td>11728</td>\n      <td>2025-06-22</td>\n      <td>2025-06-29</td>\n      <td>0.7</td>\n      <td>None</td>\n      <td>6.8</td>\n      <td>9</td>\n      <td>2024-5-23</td>\n    </tr>\n    <tr>\n      <th>100646</th>\n      <td>SINGLE STUDIO QuartierLatin</td>\n      <td>Paris</td>\n      <td>5278</td>\n      <td>2025-06-22</td>\n      <td>2025-06-29</td>\n      <td>2.0</td>\n      <td>None</td>\n      <td>None</td>\n      <td>None</td>\n      <td>2024-5-23</td>\n    </tr>\n    <tr>\n      <th>100647</th>\n      <td>Bastille - Gare de Lyon - Appartement familial</td>\n      <td>Paris</td>\n      <td>14107</td>\n      <td>2025-06-22</td>\n      <td>2025-06-29</td>\n      <td>2.6</td>\n      <td>None</td>\n      <td>9.0</td>\n      <td>2</td>\n      <td>2024-5-23</td>\n    </tr>\n    <tr>\n      <th>100648</th>\n      <td>Loft in the heart of Paris</td>\n      <td>Paris</td>\n      <td>9786</td>\n      <td>2025-06-22</td>\n      <td>2025-06-29</td>\n      <td>3.5</td>\n      <td>None</td>\n      <td>7.0</td>\n      <td>1</td>\n      <td>2024-5-23</td>\n    </tr>\n    <tr>\n      <th>100649</th>\n      <td>Cosy apartment in the 17th arrondissement - We...</td>\n      <td>Paris</td>\n      <td>6212</td>\n      <td>2025-06-22</td>\n      <td>2025-06-29</td>\n      <td>4.7</td>\n      <td>None</td>\n      <td>5.0</td>\n      <td>3</td>\n      <td>2024-5-23</td>\n    </tr>\n  </tbody>\n</table>\n<p>100650 rows × 10 columns</p>\n</div>"
          },
          "metadata": {}
        }
      ],
      "execution_count": 16,
      "metadata": {
        "jupyter": {
          "source_hidden": false,
          "outputs_hidden": false
        },
        "nteract": {
          "transient": {
            "deleting": false
          }
        },
        "gather": {
          "logged": 1717046471560
        }
      }
    },
    {
      "cell_type": "code",
      "source": [
        "hosp.to_csv('dataset_imputado.csv', index=False)"
      ],
      "outputs": [],
      "execution_count": 20,
      "metadata": {
        "jupyter": {
          "source_hidden": false,
          "outputs_hidden": false
        },
        "nteract": {
          "transient": {
            "deleting": false
          }
        },
        "gather": {
          "logged": 1717435034472
        }
      }
    }
  ],
  "metadata": {
    "kernelspec": {
      "name": "python38-azureml",
      "language": "python",
      "display_name": "Python 3.8 - AzureML"
    },
    "language_info": {
      "name": "python",
      "version": "3.8.5",
      "mimetype": "text/x-python",
      "codemirror_mode": {
        "name": "ipython",
        "version": 3
      },
      "pygments_lexer": "ipython3",
      "nbconvert_exporter": "python",
      "file_extension": ".py"
    },
    "kernel_info": {
      "name": "python38-azureml"
    },
    "microsoft": {
      "host": {
        "AzureML": {
          "notebookHasBeenCompleted": true
        }
      }
    },
    "nteract": {
      "version": "nteract-front-end@1.0.0"
    }
  },
  "nbformat": 4,
  "nbformat_minor": 2
}