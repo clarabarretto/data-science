{
 "cells": [
  {
   "cell_type": "markdown",
   "metadata": {},
   "source": [
    "## Hospedagens em Recife\n",
    "Buscamos analisar as mudanças sazonais do preço das hospedagens em recife"
   ]
  },
  {
   "cell_type": "code",
   "execution_count": 1,
   "metadata": {},
   "outputs": [],
   "source": [
    "import pandas as pd\n",
    "import numpy as np"
   ]
  },
  {
   "cell_type": "code",
   "execution_count": 2,
   "metadata": {},
   "outputs": [],
   "source": [
    "# carregando o dataset completo\n",
    "hosp = pd.read_csv('../resultado1.csv', decimal=\".\")"
   ]
  },
  {
   "cell_type": "markdown",
   "metadata": {},
   "source": [
    "## Definindo o tipo dos dados"
   ]
  },
  {
   "cell_type": "code",
   "execution_count": 3,
   "metadata": {},
   "outputs": [],
   "source": [
    "hosp['checkin'] = pd.to_datetime(hosp['checkin'])\n",
    "hosp['checkout'] = pd.to_datetime(hosp['checkout'])\n",
    "hosp['cidade'] = hosp[\"cidade\"].astype(\"category\")\n",
    "hosp['hotel'] = hosp[\"hotel\"].astype(\"category\")\n",
    "hosp['data_extracao'] = hosp[\"data_extracao\"].astype(\"category\")"
   ]
  },
  {
   "cell_type": "code",
   "execution_count": 4,
   "metadata": {},
   "outputs": [],
   "source": [
    "# pegando do dataset apenas os dados até junho de 2025 para comparar um ano inteiro sem repetições\n",
    "hospedagens = hosp[~((hosp['checkin'].dt.month > 6) & (hosp['checkin'].dt.year == 2025))]"
   ]
  },
  {
   "cell_type": "code",
   "execution_count": 5,
   "metadata": {},
   "outputs": [
    {
     "data": {
      "text/plain": [
       "hotel                    category\n",
       "cidade                   category\n",
       "preço                       int64\n",
       "checkin            datetime64[ns]\n",
       "checkout           datetime64[ns]\n",
       "dist_centro               float64\n",
       "dist_praia                float64\n",
       "avaliacao                 float64\n",
       "qtnd_avaliacoes           float64\n",
       "data_extracao            category\n",
       "dtype: object"
      ]
     },
     "execution_count": 5,
     "metadata": {},
     "output_type": "execute_result"
    }
   ],
   "source": [
    "# confirmando o tipo dos dados\n",
    "hospedagens.dtypes"
   ]
  },
  {
   "cell_type": "markdown",
   "metadata": {},
   "source": [
    "## Estatísticas Iniciais"
   ]
  },
  {
   "cell_type": "code",
   "execution_count": 6,
   "metadata": {},
   "outputs": [
    {
     "data": {
      "text/plain": [
       "(15643, 10)"
      ]
     },
     "execution_count": 6,
     "metadata": {},
     "output_type": "execute_result"
    }
   ],
   "source": [
    "# tamanho dos dados\n",
    "hospedagens.shape"
   ]
  },
  {
   "cell_type": "code",
   "execution_count": 7,
   "metadata": {},
   "outputs": [
    {
     "data": {
      "text/plain": [
       "Index(['hotel', 'cidade', 'preço', 'checkin', 'checkout', 'dist_centro',\n",
       "       'dist_praia', 'avaliacao', 'qtnd_avaliacoes', 'data_extracao'],\n",
       "      dtype='object')"
      ]
     },
     "execution_count": 7,
     "metadata": {},
     "output_type": "execute_result"
    }
   ],
   "source": [
    "# visualizando as colunas \n",
    "hospedagens.columns"
   ]
  },
  {
   "cell_type": "code",
   "execution_count": 8,
   "metadata": {},
   "outputs": [
    {
     "data": {
      "text/html": [
       "<div>\n",
       "<style scoped>\n",
       "    .dataframe tbody tr th:only-of-type {\n",
       "        vertical-align: middle;\n",
       "    }\n",
       "\n",
       "    .dataframe tbody tr th {\n",
       "        vertical-align: top;\n",
       "    }\n",
       "\n",
       "    .dataframe thead th {\n",
       "        text-align: right;\n",
       "    }\n",
       "</style>\n",
       "<table border=\"1\" class=\"dataframe\">\n",
       "  <thead>\n",
       "    <tr style=\"text-align: right;\">\n",
       "      <th></th>\n",
       "      <th>preço</th>\n",
       "      <th>checkin</th>\n",
       "      <th>checkout</th>\n",
       "      <th>dist_centro</th>\n",
       "      <th>dist_praia</th>\n",
       "      <th>avaliacao</th>\n",
       "      <th>qtnd_avaliacoes</th>\n",
       "    </tr>\n",
       "  </thead>\n",
       "  <tbody>\n",
       "    <tr>\n",
       "      <th>count</th>\n",
       "      <td>15643.000000</td>\n",
       "      <td>15643</td>\n",
       "      <td>15643</td>\n",
       "      <td>15643.000000</td>\n",
       "      <td>11037.000000</td>\n",
       "      <td>12510.000000</td>\n",
       "      <td>12510.000000</td>\n",
       "    </tr>\n",
       "    <tr>\n",
       "      <th>mean</th>\n",
       "      <td>2091.195551</td>\n",
       "      <td>2024-11-15 05:30:06.328709120</td>\n",
       "      <td>2024-11-22 05:30:06.328709376</td>\n",
       "      <td>8.357665</td>\n",
       "      <td>0.580475</td>\n",
       "      <td>8.190392</td>\n",
       "      <td>448.566427</td>\n",
       "    </tr>\n",
       "    <tr>\n",
       "      <th>min</th>\n",
       "      <td>226.000000</td>\n",
       "      <td>2024-07-01 00:00:00</td>\n",
       "      <td>2024-07-08 00:00:00</td>\n",
       "      <td>0.200000</td>\n",
       "      <td>0.000000</td>\n",
       "      <td>1.000000</td>\n",
       "      <td>1.000000</td>\n",
       "    </tr>\n",
       "    <tr>\n",
       "      <th>25%</th>\n",
       "      <td>1188.000000</td>\n",
       "      <td>2024-08-22 00:00:00</td>\n",
       "      <td>2024-08-29 00:00:00</td>\n",
       "      <td>4.300000</td>\n",
       "      <td>0.100000</td>\n",
       "      <td>7.700000</td>\n",
       "      <td>3.000000</td>\n",
       "    </tr>\n",
       "    <tr>\n",
       "      <th>50%</th>\n",
       "      <td>1638.000000</td>\n",
       "      <td>2024-11-01 00:00:00</td>\n",
       "      <td>2024-11-08 00:00:00</td>\n",
       "      <td>6.800000</td>\n",
       "      <td>0.450000</td>\n",
       "      <td>8.600000</td>\n",
       "      <td>14.000000</td>\n",
       "    </tr>\n",
       "    <tr>\n",
       "      <th>75%</th>\n",
       "      <td>2270.000000</td>\n",
       "      <td>2025-01-22 00:00:00</td>\n",
       "      <td>2025-01-29 00:00:00</td>\n",
       "      <td>9.500000</td>\n",
       "      <td>0.750000</td>\n",
       "      <td>9.500000</td>\n",
       "      <td>96.000000</td>\n",
       "    </tr>\n",
       "    <tr>\n",
       "      <th>max</th>\n",
       "      <td>20793.000000</td>\n",
       "      <td>2025-06-22 00:00:00</td>\n",
       "      <td>2025-06-29 00:00:00</td>\n",
       "      <td>89.400000</td>\n",
       "      <td>3.000000</td>\n",
       "      <td>10.000000</td>\n",
       "      <td>8861.000000</td>\n",
       "    </tr>\n",
       "    <tr>\n",
       "      <th>std</th>\n",
       "      <td>1874.089123</td>\n",
       "      <td>NaN</td>\n",
       "      <td>NaN</td>\n",
       "      <td>7.928466</td>\n",
       "      <td>0.703904</td>\n",
       "      <td>1.935681</td>\n",
       "      <td>1156.761127</td>\n",
       "    </tr>\n",
       "  </tbody>\n",
       "</table>\n",
       "</div>"
      ],
      "text/plain": [
       "              preço                        checkin  \\\n",
       "count  15643.000000                          15643   \n",
       "mean    2091.195551  2024-11-15 05:30:06.328709120   \n",
       "min      226.000000            2024-07-01 00:00:00   \n",
       "25%     1188.000000            2024-08-22 00:00:00   \n",
       "50%     1638.000000            2024-11-01 00:00:00   \n",
       "75%     2270.000000            2025-01-22 00:00:00   \n",
       "max    20793.000000            2025-06-22 00:00:00   \n",
       "std     1874.089123                            NaN   \n",
       "\n",
       "                            checkout   dist_centro    dist_praia  \\\n",
       "count                          15643  15643.000000  11037.000000   \n",
       "mean   2024-11-22 05:30:06.328709376      8.357665      0.580475   \n",
       "min              2024-07-08 00:00:00      0.200000      0.000000   \n",
       "25%              2024-08-29 00:00:00      4.300000      0.100000   \n",
       "50%              2024-11-08 00:00:00      6.800000      0.450000   \n",
       "75%              2025-01-29 00:00:00      9.500000      0.750000   \n",
       "max              2025-06-29 00:00:00     89.400000      3.000000   \n",
       "std                              NaN      7.928466      0.703904   \n",
       "\n",
       "          avaliacao  qtnd_avaliacoes  \n",
       "count  12510.000000     12510.000000  \n",
       "mean       8.190392       448.566427  \n",
       "min        1.000000         1.000000  \n",
       "25%        7.700000         3.000000  \n",
       "50%        8.600000        14.000000  \n",
       "75%        9.500000        96.000000  \n",
       "max       10.000000      8861.000000  \n",
       "std        1.935681      1156.761127  "
      ]
     },
     "execution_count": 8,
     "metadata": {},
     "output_type": "execute_result"
    }
   ],
   "source": [
    "# uma breve descrição dos dados\n",
    "hospedagens.describe()"
   ]
  },
  {
   "cell_type": "markdown",
   "metadata": {},
   "source": [
    "O desvio padrão gigantesto do preço chama a atenção juntamente com o máximo valor, indicando possíveis outliers."
   ]
  },
  {
   "cell_type": "code",
   "execution_count": 9,
   "metadata": {},
   "outputs": [
    {
     "name": "stderr",
     "output_type": "stream",
     "text": [
      "C:\\Users\\extre\\AppData\\Local\\Temp\\ipykernel_17568\\366261908.py:2: FutureWarning: 'M' is deprecated and will be removed in a future version, please use 'ME' instead.\n",
      "  preco_medio_mensal = hospedagens.groupby(pd.Grouper(key='checkin', freq=\"M\"))['preço'].mean()\n"
     ]
    },
    {
     "data": {
      "text/plain": [
       "checkin\n",
       "2024-07-31    1853.438967\n",
       "2024-08-31    1852.081880\n",
       "2024-09-30    1936.745310\n",
       "2024-10-31    1977.388763\n",
       "2024-11-30    2011.614892\n",
       "2024-12-31    2269.954579\n",
       "2025-01-31    2461.325480\n",
       "2025-02-28    2248.170360\n",
       "2025-03-31    2720.275000\n",
       "2025-04-30    2325.341146\n",
       "2025-05-31    2297.971154\n",
       "2025-06-30    2122.087601\n",
       "Freq: ME, Name: preço, dtype: float64"
      ]
     },
     "execution_count": 9,
     "metadata": {},
     "output_type": "execute_result"
    }
   ],
   "source": [
    "# agrupamos os dados por mês para entender a média dos preços de cada mês\n",
    "preco_medio_mensal = hospedagens.groupby(pd.Grouper(key='checkin', freq=\"M\"))['preço'].mean()\n",
    "preco_medio_mensal"
   ]
  },
  {
   "cell_type": "code",
   "execution_count": null,
   "metadata": {},
   "outputs": [],
   "source": [
    "# agrupamos os dados por mês para entender a mediana dos preços de cada mês\n",
    "preco_mediano_mensal = hospedagens.groupby(pd.Grouper(key='checkin', freq=\"M\"))['preço'].median()\n",
    "preco_mediano_mensal"
   ]
  },
  {
   "cell_type": "markdown",
   "metadata": {},
   "source": [
    "Com a média e mediana dos dados, podemos ver que em alguns meses os valores são mais altos ou baixo, destacando uma provável variabilidade dos preços."
   ]
  },
  {
   "cell_type": "code",
   "execution_count": 10,
   "metadata": {},
   "outputs": [
    {
     "name": "stderr",
     "output_type": "stream",
     "text": [
      "C:\\Users\\extre\\AppData\\Local\\Temp\\ipykernel_17568\\3033508448.py:2: FutureWarning: 'M' is deprecated and will be removed in a future version, please use 'ME' instead.\n",
      "  num_hospedagens_mes = hospedagens.groupby(pd.Grouper(key='checkin', freq=\"M\"))['preço'].count()\n"
     ]
    },
    {
     "data": {
      "text/plain": [
       "checkin\n",
       "2024-07-31    2130\n",
       "2024-08-31    2064\n",
       "2024-09-30    1759\n",
       "2024-10-31    1762\n",
       "2024-11-30    1719\n",
       "2024-12-31    1343\n",
       "2025-01-31    1146\n",
       "2025-02-28     722\n",
       "2025-03-31     760\n",
       "2025-04-30     768\n",
       "2025-05-31     728\n",
       "2025-06-30     742\n",
       "Freq: ME, Name: preço, dtype: int64"
      ]
     },
     "execution_count": 10,
     "metadata": {},
     "output_type": "execute_result"
    }
   ],
   "source": [
    "# número de acomodações aparecendo por mês\n",
    "num_hospedagens_mes = hospedagens.groupby(pd.Grouper(key='checkin', freq=\"M\"))['preço'].count()\n",
    "num_hospedagens_mes"
   ]
  },
  {
   "cell_type": "markdown",
   "metadata": {},
   "source": [
    "Aqui podemos perceber, que ao longo do tempo, o número de acomodações disponíveis para reserva vai caindo. O padrão demonstra que provavelmente uma boa parte dos hóteis, não fazem um cadastro para reserva tão antecipadamente. Com isso, cada mês se torna um grupo de análise diferente."
   ]
  },
  {
   "cell_type": "code",
   "execution_count": 9,
   "metadata": {},
   "outputs": [
    {
     "name": "stderr",
     "output_type": "stream",
     "text": [
      "C:\\Users\\extre\\AppData\\Local\\Temp\\ipykernel_10148\\2195187864.py:3: SettingWithCopyWarning: \n",
      "A value is trying to be set on a copy of a slice from a DataFrame.\n",
      "Try using .loc[row_indexer,col_indexer] = value instead\n",
      "\n",
      "See the caveats in the documentation: https://pandas.pydata.org/pandas-docs/stable/user_guide/indexing.html#returning-a-view-versus-a-copy\n",
      "  hospedagens['mes_checkin'] = hospedagens['checkin'].dt.month\n"
     ]
    }
   ],
   "source": [
    "# criando uma coluna para armazenar o mês do checkin\n",
    "# é interessante pois vamos analisar a sazonalidade dos dados\n",
    "hospedagens['mes_checkin'] = hospedagens['checkin'].dt.month"
   ]
  },
  {
   "cell_type": "markdown",
   "metadata": {},
   "source": [
    "Em seguida vamos pegar apenas as hospedagens que aparecem em todos os check-ins do dataset. O objetivo é avaliar se os hóteis que aparacem em todas as datas possuem um viés claro (como preços mais elevados)."
   ]
  },
  {
   "cell_type": "code",
   "execution_count": 12,
   "metadata": {},
   "outputs": [
    {
     "name": "stderr",
     "output_type": "stream",
     "text": [
      "C:\\Users\\extre\\AppData\\Local\\Temp\\ipykernel_17568\\413734298.py:2: FutureWarning: The default of observed=False is deprecated and will be changed to True in a future version of pandas. Pass observed=False to retain current behavior or observed=True to adopt the future default and silence this warning.\n",
      "  hotel_week_count = hospedagens.groupby('hotel')['checkin'].nunique()\n"
     ]
    },
    {
     "data": {
      "text/html": [
       "<div>\n",
       "<style scoped>\n",
       "    .dataframe tbody tr th:only-of-type {\n",
       "        vertical-align: middle;\n",
       "    }\n",
       "\n",
       "    .dataframe tbody tr th {\n",
       "        vertical-align: top;\n",
       "    }\n",
       "\n",
       "    .dataframe thead th {\n",
       "        text-align: right;\n",
       "    }\n",
       "</style>\n",
       "<table border=\"1\" class=\"dataframe\">\n",
       "  <thead>\n",
       "    <tr style=\"text-align: right;\">\n",
       "      <th></th>\n",
       "      <th>hotel</th>\n",
       "      <th>cidade</th>\n",
       "      <th>preço</th>\n",
       "      <th>checkin</th>\n",
       "      <th>checkout</th>\n",
       "      <th>dist_centro</th>\n",
       "      <th>dist_praia</th>\n",
       "      <th>avaliacao</th>\n",
       "      <th>qtnd_avaliacoes</th>\n",
       "      <th>data_extracao</th>\n",
       "      <th>mes_checkin</th>\n",
       "    </tr>\n",
       "  </thead>\n",
       "  <tbody>\n",
       "    <tr>\n",
       "      <th>23</th>\n",
       "      <td>Flat em Boa Viagem</td>\n",
       "      <td>Recife</td>\n",
       "      <td>1190</td>\n",
       "      <td>2024-07-01</td>\n",
       "      <td>2024-07-08</td>\n",
       "      <td>9.4</td>\n",
       "      <td>0.1</td>\n",
       "      <td>7.4</td>\n",
       "      <td>1798.0</td>\n",
       "      <td>2024-6-6</td>\n",
       "      <td>7</td>\n",
       "    </tr>\n",
       "    <tr>\n",
       "      <th>24</th>\n",
       "      <td>Casa Recife Pousada</td>\n",
       "      <td>Recife</td>\n",
       "      <td>421</td>\n",
       "      <td>2024-07-01</td>\n",
       "      <td>2024-07-08</td>\n",
       "      <td>8.2</td>\n",
       "      <td>1.1</td>\n",
       "      <td>7.1</td>\n",
       "      <td>602.0</td>\n",
       "      <td>2024-6-6</td>\n",
       "      <td>7</td>\n",
       "    </tr>\n",
       "    <tr>\n",
       "      <th>27</th>\n",
       "      <td>Hotel Dan Inn Mar Piedade - Grande Recife</td>\n",
       "      <td>Recife</td>\n",
       "      <td>1953</td>\n",
       "      <td>2024-07-01</td>\n",
       "      <td>2024-07-08</td>\n",
       "      <td>13.7</td>\n",
       "      <td>0.0</td>\n",
       "      <td>7.8</td>\n",
       "      <td>2778.0</td>\n",
       "      <td>2024-6-6</td>\n",
       "      <td>7</td>\n",
       "    </tr>\n",
       "    <tr>\n",
       "      <th>33</th>\n",
       "      <td>Marante Plaza Hotel</td>\n",
       "      <td>Recife</td>\n",
       "      <td>3079</td>\n",
       "      <td>2024-07-01</td>\n",
       "      <td>2024-07-08</td>\n",
       "      <td>5.0</td>\n",
       "      <td>0.0</td>\n",
       "      <td>8.3</td>\n",
       "      <td>2420.0</td>\n",
       "      <td>2024-6-6</td>\n",
       "      <td>7</td>\n",
       "    </tr>\n",
       "    <tr>\n",
       "      <th>39</th>\n",
       "      <td>Flat em Boa Viagem</td>\n",
       "      <td>Recife</td>\n",
       "      <td>1070</td>\n",
       "      <td>2024-07-01</td>\n",
       "      <td>2024-07-08</td>\n",
       "      <td>9.3</td>\n",
       "      <td>0.1</td>\n",
       "      <td>7.4</td>\n",
       "      <td>461.0</td>\n",
       "      <td>2024-6-6</td>\n",
       "      <td>7</td>\n",
       "    </tr>\n",
       "    <tr>\n",
       "      <th>...</th>\n",
       "      <td>...</td>\n",
       "      <td>...</td>\n",
       "      <td>...</td>\n",
       "      <td>...</td>\n",
       "      <td>...</td>\n",
       "      <td>...</td>\n",
       "      <td>...</td>\n",
       "      <td>...</td>\n",
       "      <td>...</td>\n",
       "      <td>...</td>\n",
       "      <td>...</td>\n",
       "    </tr>\n",
       "    <tr>\n",
       "      <th>15634</th>\n",
       "      <td>flatpaivahome bugan paiva</td>\n",
       "      <td>Recife</td>\n",
       "      <td>1886</td>\n",
       "      <td>2025-06-22</td>\n",
       "      <td>2025-06-29</td>\n",
       "      <td>19.6</td>\n",
       "      <td>0.7</td>\n",
       "      <td>NaN</td>\n",
       "      <td>NaN</td>\n",
       "      <td>2024-6-6</td>\n",
       "      <td>6</td>\n",
       "    </tr>\n",
       "    <tr>\n",
       "      <th>15636</th>\n",
       "      <td>Apto a beira-mar em Jaboatao dos Guararapes PE</td>\n",
       "      <td>Recife</td>\n",
       "      <td>2050</td>\n",
       "      <td>2025-06-22</td>\n",
       "      <td>2025-06-29</td>\n",
       "      <td>19.4</td>\n",
       "      <td>0.6</td>\n",
       "      <td>9.0</td>\n",
       "      <td>2.0</td>\n",
       "      <td>2024-6-6</td>\n",
       "      <td>6</td>\n",
       "    </tr>\n",
       "    <tr>\n",
       "      <th>15637</th>\n",
       "      <td>Apt novíssimo Tamarineira</td>\n",
       "      <td>Recife</td>\n",
       "      <td>3780</td>\n",
       "      <td>2025-06-22</td>\n",
       "      <td>2025-06-29</td>\n",
       "      <td>4.1</td>\n",
       "      <td>NaN</td>\n",
       "      <td>10.0</td>\n",
       "      <td>4.0</td>\n",
       "      <td>2024-6-6</td>\n",
       "      <td>6</td>\n",
       "    </tr>\n",
       "    <tr>\n",
       "      <th>15638</th>\n",
       "      <td>Hostel da Socorro</td>\n",
       "      <td>Recife</td>\n",
       "      <td>2835</td>\n",
       "      <td>2025-06-22</td>\n",
       "      <td>2025-06-29</td>\n",
       "      <td>9.0</td>\n",
       "      <td>0.9</td>\n",
       "      <td>1.0</td>\n",
       "      <td>1.0</td>\n",
       "      <td>2024-6-6</td>\n",
       "      <td>6</td>\n",
       "    </tr>\n",
       "    <tr>\n",
       "      <th>15640</th>\n",
       "      <td>Aconchego Boa Viagem</td>\n",
       "      <td>Recife</td>\n",
       "      <td>4032</td>\n",
       "      <td>2025-06-22</td>\n",
       "      <td>2025-06-29</td>\n",
       "      <td>8.4</td>\n",
       "      <td>NaN</td>\n",
       "      <td>NaN</td>\n",
       "      <td>NaN</td>\n",
       "      <td>2024-6-6</td>\n",
       "      <td>6</td>\n",
       "    </tr>\n",
       "  </tbody>\n",
       "</table>\n",
       "<p>2263 rows × 11 columns</p>\n",
       "</div>"
      ],
      "text/plain": [
       "                                                hotel  cidade  preço  \\\n",
       "23                                 Flat em Boa Viagem  Recife   1190   \n",
       "24                                Casa Recife Pousada  Recife    421   \n",
       "27          Hotel Dan Inn Mar Piedade - Grande Recife  Recife   1953   \n",
       "33                                Marante Plaza Hotel  Recife   3079   \n",
       "39                                 Flat em Boa Viagem  Recife   1070   \n",
       "...                                               ...     ...    ...   \n",
       "15634                       flatpaivahome bugan paiva  Recife   1886   \n",
       "15636  Apto a beira-mar em Jaboatao dos Guararapes PE  Recife   2050   \n",
       "15637                       Apt novíssimo Tamarineira  Recife   3780   \n",
       "15638                               Hostel da Socorro  Recife   2835   \n",
       "15640                            Aconchego Boa Viagem  Recife   4032   \n",
       "\n",
       "         checkin   checkout  dist_centro  dist_praia  avaliacao  \\\n",
       "23    2024-07-01 2024-07-08          9.4         0.1        7.4   \n",
       "24    2024-07-01 2024-07-08          8.2         1.1        7.1   \n",
       "27    2024-07-01 2024-07-08         13.7         0.0        7.8   \n",
       "33    2024-07-01 2024-07-08          5.0         0.0        8.3   \n",
       "39    2024-07-01 2024-07-08          9.3         0.1        7.4   \n",
       "...          ...        ...          ...         ...        ...   \n",
       "15634 2025-06-22 2025-06-29         19.6         0.7        NaN   \n",
       "15636 2025-06-22 2025-06-29         19.4         0.6        9.0   \n",
       "15637 2025-06-22 2025-06-29          4.1         NaN       10.0   \n",
       "15638 2025-06-22 2025-06-29          9.0         0.9        1.0   \n",
       "15640 2025-06-22 2025-06-29          8.4         NaN        NaN   \n",
       "\n",
       "       qtnd_avaliacoes data_extracao  mes_checkin  \n",
       "23              1798.0      2024-6-6            7  \n",
       "24               602.0      2024-6-6            7  \n",
       "27              2778.0      2024-6-6            7  \n",
       "33              2420.0      2024-6-6            7  \n",
       "39               461.0      2024-6-6            7  \n",
       "...                ...           ...          ...  \n",
       "15634              NaN      2024-6-6            6  \n",
       "15636              2.0      2024-6-6            6  \n",
       "15637              4.0      2024-6-6            6  \n",
       "15638              1.0      2024-6-6            6  \n",
       "15640              NaN      2024-6-6            6  \n",
       "\n",
       "[2263 rows x 11 columns]"
      ]
     },
     "execution_count": 12,
     "metadata": {},
     "output_type": "execute_result"
    }
   ],
   "source": [
    "# Contar a quantidade de semanas distintas para cada hotel\n",
    "hotel_week_count = hospedagens.groupby('hotel')['checkin'].nunique()\n",
    "\n",
    "# Identificar o número máximo de semanas no período (52 semanas em um ano)\n",
    "max_weeks = hospedagens['checkin'].nunique()\n",
    "\n",
    "# Identificar os hotéis que aparecem em todas as semanas\n",
    "hotels_all_weeks = hotel_week_count[hotel_week_count == max_weeks].index\n",
    "\n",
    "# Filtrar o DataFrame para manter apenas os hotéis que aparecem em todas as semanas\n",
    "hospedagens_filtered = hospedagens[hospedagens['hotel'].isin(hotels_all_weeks)]\n",
    "hospedagens_filtered"
   ]
  },
  {
   "cell_type": "code",
   "execution_count": 13,
   "metadata": {},
   "outputs": [
    {
     "data": {
      "text/plain": [
       "1714.0"
      ]
     },
     "execution_count": 13,
     "metadata": {},
     "output_type": "execute_result"
    }
   ],
   "source": [
    "# mediana dos preços das hospedagens que possuem o ambiente disponível em todos os checkins\n",
    "hospedagens_filtered['preço'].median()"
   ]
  },
  {
   "cell_type": "code",
   "execution_count": 14,
   "metadata": {},
   "outputs": [
    {
     "data": {
      "text/plain": [
       "1638.0"
      ]
     },
     "execution_count": 14,
     "metadata": {},
     "output_type": "execute_result"
    }
   ],
   "source": [
    "# mediana dos preços do dataset completo\n",
    "hospedagens['preço'].median()"
   ]
  },
  {
   "cell_type": "markdown",
   "metadata": {},
   "source": [
    "Podemos ver acima a mediana dos dados completos e a mediana dos dados que aparecem em todos os checkins. A diferença das medianas não parece ser tão significativa, então, preferimos por não optar pela imputação desses dados, já que essa iniciativa poderia modificar o principal fator de análise em questão."
   ]
  },
  {
   "cell_type": "code",
   "execution_count": 15,
   "metadata": {},
   "outputs": [
    {
     "data": {
      "text/plain": [
       "2982.846868705144"
      ]
     },
     "execution_count": 15,
     "metadata": {},
     "output_type": "execute_result"
    }
   ],
   "source": [
    "hospedagens_filtered['preço'].std()"
   ]
  },
  {
   "cell_type": "code",
   "execution_count": 16,
   "metadata": {},
   "outputs": [
    {
     "data": {
      "text/plain": [
       "1874.0891232783397"
      ]
     },
     "execution_count": 16,
     "metadata": {},
     "output_type": "execute_result"
    }
   ],
   "source": [
    "hospedagens['preço'].std()"
   ]
  },
  {
   "cell_type": "markdown",
   "metadata": {},
   "source": [
    "Diferença considerável no desvio padrão, provavelmente ocasionada pela menor consistência dos dados e bastante outliers."
   ]
  },
  {
   "cell_type": "code",
   "execution_count": 11,
   "metadata": {},
   "outputs": [
    {
     "data": {
      "text/plain": [
       "263.601427112874"
      ]
     },
     "execution_count": 11,
     "metadata": {},
     "output_type": "execute_result"
    }
   ],
   "source": [
    "# calculando o desvio padrão dos preços médios dos meses\n",
    "preco_medio_mensal['price_change'] = preco_medio_mensal.std()\n",
    "preco_medio_mensal['price_change']\n"
   ]
  },
  {
   "cell_type": "markdown",
   "metadata": {},
   "source": [
    "Apresenta um desvio padrão alto, indicando uma boa variação de valores no preço."
   ]
  },
  {
   "cell_type": "code",
   "execution_count": null,
   "metadata": {},
   "outputs": [
    {
     "data": {
      "text/plain": [
       "<Axes: >"
      ]
     },
     "execution_count": 71,
     "metadata": {},
     "output_type": "execute_result"
    },
    {
     "data": {
      "image/png": "[encoded data removed]",
      "text/plain": [
       "<Figure size 640x480 with 1 Axes>"
      ]
     },
     "metadata": {},
     "output_type": "display_data"
    }
   ],
   "source": [
    "# hiistograma do preço de estadia por 7 dias\n",
    "hospedagens['preço'].hist()"
   ]
  },
  {
   "cell_type": "markdown",
   "metadata": {},
   "source": [
    "A coluna de preços apresenta uma assimetria considerável, com valores que chegam a quase 20000."
   ]
  },
  {
   "cell_type": "markdown",
   "metadata": {},
   "source": [
    "## Definindo dados faltantes"
   ]
  },
  {
   "cell_type": "code",
   "execution_count": 10,
   "metadata": {},
   "outputs": [
    {
     "name": "stdout",
     "output_type": "stream",
     "text": [
      "hotel                 0\n",
      "cidade                0\n",
      "preço                 0\n",
      "checkin               0\n",
      "checkout              0\n",
      "dist_centro           0\n",
      "dist_praia         4606\n",
      "avaliacao          3133\n",
      "qtnd_avaliacoes    3133\n",
      "data_extracao         0\n",
      "mes_checkin           0\n",
      "dtype: int64\n"
     ]
    }
   ],
   "source": [
    "# printando quantas linhas de cada coluna está faltante\n",
    "print(hospedagens.isnull().sum())"
   ]
  },
  {
   "cell_type": "markdown",
   "metadata": {},
   "source": [
    "3 colunas com uma quantidade até considerável de dados faltantes"
   ]
  },
  {
   "cell_type": "code",
   "execution_count": 20,
   "metadata": {},
   "outputs": [
    {
     "data": {
      "text/plain": [
       "<Axes: >"
      ]
     },
     "execution_count": 20,
     "metadata": {},
     "output_type": "execute_result"
    },
    {
     "data": {
      "image/png": "[encoded data removed]",
      "text/plain": [
       "<Figure size 640x480 with 1 Axes>"
      ]
     },
     "metadata": {},
     "output_type": "display_data"
    }
   ],
   "source": [
    "# vamos plotar histogramas das colunas com dados faltantes para entender as particularidades\n",
    "hospedagens[\"avaliacao\"].hist()"
   ]
  },
  {
   "cell_type": "code",
   "execution_count": 21,
   "metadata": {},
   "outputs": [
    {
     "data": {
      "text/plain": [
       "<Axes: >"
      ]
     },
     "execution_count": 21,
     "metadata": {},
     "output_type": "execute_result"
    },
    {
     "data": {
      "image/png": "[encoded data removed]",
      "text/plain": [
       "<Figure size 640x480 with 1 Axes>"
      ]
     },
     "metadata": {},
     "output_type": "display_data"
    }
   ],
   "source": [
    "hospedagens[\"qtnd_avaliacoes\"].hist()"
   ]
  },
  {
   "cell_type": "code",
   "execution_count": 22,
   "metadata": {},
   "outputs": [
    {
     "data": {
      "text/plain": [
       "<Axes: >"
      ]
     },
     "execution_count": 22,
     "metadata": {},
     "output_type": "execute_result"
    },
    {
     "data": {
      "image/png": "[encoded data removed]",
      "text/plain": [
       "<Figure size 640x480 with 1 Axes>"
      ]
     },
     "metadata": {},
     "output_type": "display_data"
    }
   ],
   "source": [
    "hospedagens[\"dist_praia\"].hist()"
   ]
  },
  {
   "cell_type": "markdown",
   "metadata": {},
   "source": [
    "Todas as colunas analisadas são assimétricas e apresentam uma quantidade considerável de dados faltantes."
   ]
  },
  {
   "cell_type": "code",
   "execution_count": 23,
   "metadata": {},
   "outputs": [
    {
     "data": {
      "text/plain": [
       "(15643, 11)"
      ]
     },
     "execution_count": 23,
     "metadata": {},
     "output_type": "execute_result"
    }
   ],
   "source": [
    "# gerando um novo dataset a partir do csv com os dados e transformando os dados categóricos em numérico\n",
    "hosp_input = pd.read_csv('../resultado1.csv', decimal=\".\")\n",
    "hosp_input['checkin'] = pd.to_datetime(hosp_input['checkin'])\n",
    "hosp_input['mes_checkin'] = hosp_input['checkin'].dt.month\n",
    "hosp_input = hosp_input[~((hosp_input['checkin'].dt.month > 6) & (hosp_input['checkin'].dt.year == 2025))]\n",
    "hosp_input['checkin'] = hosp_input['checkin'].astype(\"category\")\n",
    "hosp_input['checkout'] = hosp_input['checkout'].astype(\"category\")\n",
    "hosp_input['cidade'] = hosp_input[\"cidade\"].astype(\"category\")\n",
    "hosp_input['hotel'] = hosp_input[\"hotel\"].astype(\"category\")\n",
    "hosp_input['data_extracao'] =hosp_input[\"data_extracao\"].astype(\"category\")\n",
    "hosp_input['hotel'] = hosp_input['hotel'].cat.codes\n",
    "hosp_input['checkin'] = hosp_input['checkin'].cat.codes\n",
    "hosp_input['checkout'] = hosp_input['checkout'].cat.codes\n",
    "hosp_input['cidade'] = hosp_input['cidade'].cat.codes\n",
    "hosp_input['data_extracao'] = hosp_input['data_extracao'].cat.codes\n",
    "hosp_input.shape"
   ]
  },
  {
   "cell_type": "markdown",
   "metadata": {},
   "source": [
    "Vamos ver a correlação dos dados para entender mais sobre a relação entre eles. Vamos usar spearman por termos dados não simétricos."
   ]
  },
  {
   "cell_type": "code",
   "execution_count": 24,
   "metadata": {},
   "outputs": [
    {
     "data": {
      "text/html": [
       "<div>\n",
       "<style scoped>\n",
       "    .dataframe tbody tr th:only-of-type {\n",
       "        vertical-align: middle;\n",
       "    }\n",
       "\n",
       "    .dataframe tbody tr th {\n",
       "        vertical-align: top;\n",
       "    }\n",
       "\n",
       "    .dataframe thead th {\n",
       "        text-align: right;\n",
       "    }\n",
       "</style>\n",
       "<table border=\"1\" class=\"dataframe\">\n",
       "  <thead>\n",
       "    <tr style=\"text-align: right;\">\n",
       "      <th></th>\n",
       "      <th>hotel</th>\n",
       "      <th>cidade</th>\n",
       "      <th>preço</th>\n",
       "      <th>checkin</th>\n",
       "      <th>checkout</th>\n",
       "      <th>dist_centro</th>\n",
       "      <th>dist_praia</th>\n",
       "      <th>avaliacao</th>\n",
       "      <th>qtnd_avaliacoes</th>\n",
       "      <th>data_extracao</th>\n",
       "      <th>mes_checkin</th>\n",
       "    </tr>\n",
       "  </thead>\n",
       "  <tbody>\n",
       "    <tr>\n",
       "      <th>hotel</th>\n",
       "      <td>1.000000</td>\n",
       "      <td>NaN</td>\n",
       "      <td>-0.042618</td>\n",
       "      <td>-0.038618</td>\n",
       "      <td>-0.038614</td>\n",
       "      <td>-0.049422</td>\n",
       "      <td>0.071000</td>\n",
       "      <td>-0.137858</td>\n",
       "      <td>0.132421</td>\n",
       "      <td>NaN</td>\n",
       "      <td>0.016777</td>\n",
       "    </tr>\n",
       "    <tr>\n",
       "      <th>cidade</th>\n",
       "      <td>NaN</td>\n",
       "      <td>NaN</td>\n",
       "      <td>NaN</td>\n",
       "      <td>NaN</td>\n",
       "      <td>NaN</td>\n",
       "      <td>NaN</td>\n",
       "      <td>NaN</td>\n",
       "      <td>NaN</td>\n",
       "      <td>NaN</td>\n",
       "      <td>NaN</td>\n",
       "      <td>NaN</td>\n",
       "    </tr>\n",
       "    <tr>\n",
       "      <th>preço</th>\n",
       "      <td>-0.042618</td>\n",
       "      <td>NaN</td>\n",
       "      <td>1.000000</td>\n",
       "      <td>0.044975</td>\n",
       "      <td>0.045242</td>\n",
       "      <td>0.117771</td>\n",
       "      <td>-0.174187</td>\n",
       "      <td>0.119423</td>\n",
       "      <td>0.059913</td>\n",
       "      <td>NaN</td>\n",
       "      <td>-0.046750</td>\n",
       "    </tr>\n",
       "    <tr>\n",
       "      <th>checkin</th>\n",
       "      <td>-0.038618</td>\n",
       "      <td>NaN</td>\n",
       "      <td>0.044975</td>\n",
       "      <td>1.000000</td>\n",
       "      <td>0.990569</td>\n",
       "      <td>-0.011076</td>\n",
       "      <td>0.025473</td>\n",
       "      <td>0.028097</td>\n",
       "      <td>-0.099139</td>\n",
       "      <td>NaN</td>\n",
       "      <td>-0.304321</td>\n",
       "    </tr>\n",
       "    <tr>\n",
       "      <th>checkout</th>\n",
       "      <td>-0.038614</td>\n",
       "      <td>NaN</td>\n",
       "      <td>0.045242</td>\n",
       "      <td>0.990569</td>\n",
       "      <td>1.000000</td>\n",
       "      <td>-0.010688</td>\n",
       "      <td>0.025448</td>\n",
       "      <td>0.027424</td>\n",
       "      <td>-0.098397</td>\n",
       "      <td>NaN</td>\n",
       "      <td>-0.304321</td>\n",
       "    </tr>\n",
       "    <tr>\n",
       "      <th>dist_centro</th>\n",
       "      <td>-0.049422</td>\n",
       "      <td>NaN</td>\n",
       "      <td>0.117771</td>\n",
       "      <td>-0.011076</td>\n",
       "      <td>-0.010688</td>\n",
       "      <td>1.000000</td>\n",
       "      <td>-0.207954</td>\n",
       "      <td>-0.048533</td>\n",
       "      <td>0.152088</td>\n",
       "      <td>NaN</td>\n",
       "      <td>0.009344</td>\n",
       "    </tr>\n",
       "    <tr>\n",
       "      <th>dist_praia</th>\n",
       "      <td>0.071000</td>\n",
       "      <td>NaN</td>\n",
       "      <td>-0.174187</td>\n",
       "      <td>0.025473</td>\n",
       "      <td>0.025448</td>\n",
       "      <td>-0.207954</td>\n",
       "      <td>1.000000</td>\n",
       "      <td>-0.058528</td>\n",
       "      <td>-0.223552</td>\n",
       "      <td>NaN</td>\n",
       "      <td>-0.020492</td>\n",
       "    </tr>\n",
       "    <tr>\n",
       "      <th>avaliacao</th>\n",
       "      <td>-0.137858</td>\n",
       "      <td>NaN</td>\n",
       "      <td>0.119423</td>\n",
       "      <td>0.028097</td>\n",
       "      <td>0.027424</td>\n",
       "      <td>-0.048533</td>\n",
       "      <td>-0.058528</td>\n",
       "      <td>1.000000</td>\n",
       "      <td>-0.216860</td>\n",
       "      <td>NaN</td>\n",
       "      <td>-0.009371</td>\n",
       "    </tr>\n",
       "    <tr>\n",
       "      <th>qtnd_avaliacoes</th>\n",
       "      <td>0.132421</td>\n",
       "      <td>NaN</td>\n",
       "      <td>0.059913</td>\n",
       "      <td>-0.099139</td>\n",
       "      <td>-0.098397</td>\n",
       "      <td>0.152088</td>\n",
       "      <td>-0.223552</td>\n",
       "      <td>-0.216860</td>\n",
       "      <td>1.000000</td>\n",
       "      <td>NaN</td>\n",
       "      <td>0.053884</td>\n",
       "    </tr>\n",
       "    <tr>\n",
       "      <th>data_extracao</th>\n",
       "      <td>NaN</td>\n",
       "      <td>NaN</td>\n",
       "      <td>NaN</td>\n",
       "      <td>NaN</td>\n",
       "      <td>NaN</td>\n",
       "      <td>NaN</td>\n",
       "      <td>NaN</td>\n",
       "      <td>NaN</td>\n",
       "      <td>NaN</td>\n",
       "      <td>NaN</td>\n",
       "      <td>NaN</td>\n",
       "    </tr>\n",
       "    <tr>\n",
       "      <th>mes_checkin</th>\n",
       "      <td>0.016777</td>\n",
       "      <td>NaN</td>\n",
       "      <td>-0.046750</td>\n",
       "      <td>-0.304321</td>\n",
       "      <td>-0.304321</td>\n",
       "      <td>0.009344</td>\n",
       "      <td>-0.020492</td>\n",
       "      <td>-0.009371</td>\n",
       "      <td>0.053884</td>\n",
       "      <td>NaN</td>\n",
       "      <td>1.000000</td>\n",
       "    </tr>\n",
       "  </tbody>\n",
       "</table>\n",
       "</div>"
      ],
      "text/plain": [
       "                    hotel  cidade     preço   checkin  checkout  dist_centro  \\\n",
       "hotel            1.000000     NaN -0.042618 -0.038618 -0.038614    -0.049422   \n",
       "cidade                NaN     NaN       NaN       NaN       NaN          NaN   \n",
       "preço           -0.042618     NaN  1.000000  0.044975  0.045242     0.117771   \n",
       "checkin         -0.038618     NaN  0.044975  1.000000  0.990569    -0.011076   \n",
       "checkout        -0.038614     NaN  0.045242  0.990569  1.000000    -0.010688   \n",
       "dist_centro     -0.049422     NaN  0.117771 -0.011076 -0.010688     1.000000   \n",
       "dist_praia       0.071000     NaN -0.174187  0.025473  0.025448    -0.207954   \n",
       "avaliacao       -0.137858     NaN  0.119423  0.028097  0.027424    -0.048533   \n",
       "qtnd_avaliacoes  0.132421     NaN  0.059913 -0.099139 -0.098397     0.152088   \n",
       "data_extracao         NaN     NaN       NaN       NaN       NaN          NaN   \n",
       "mes_checkin      0.016777     NaN -0.046750 -0.304321 -0.304321     0.009344   \n",
       "\n",
       "                 dist_praia  avaliacao  qtnd_avaliacoes  data_extracao  \\\n",
       "hotel              0.071000  -0.137858         0.132421            NaN   \n",
       "cidade                  NaN        NaN              NaN            NaN   \n",
       "preço             -0.174187   0.119423         0.059913            NaN   \n",
       "checkin            0.025473   0.028097        -0.099139            NaN   \n",
       "checkout           0.025448   0.027424        -0.098397            NaN   \n",
       "dist_centro       -0.207954  -0.048533         0.152088            NaN   \n",
       "dist_praia         1.000000  -0.058528        -0.223552            NaN   \n",
       "avaliacao         -0.058528   1.000000        -0.216860            NaN   \n",
       "qtnd_avaliacoes   -0.223552  -0.216860         1.000000            NaN   \n",
       "data_extracao           NaN        NaN              NaN            NaN   \n",
       "mes_checkin       -0.020492  -0.009371         0.053884            NaN   \n",
       "\n",
       "                 mes_checkin  \n",
       "hotel               0.016777  \n",
       "cidade                   NaN  \n",
       "preço              -0.046750  \n",
       "checkin            -0.304321  \n",
       "checkout           -0.304321  \n",
       "dist_centro         0.009344  \n",
       "dist_praia         -0.020492  \n",
       "avaliacao          -0.009371  \n",
       "qtnd_avaliacoes     0.053884  \n",
       "data_extracao            NaN  \n",
       "mes_checkin         1.000000  "
      ]
     },
     "execution_count": 24,
     "metadata": {},
     "output_type": "execute_result"
    }
   ],
   "source": [
    "# entendendo a correlação dos dados a partir do método spearman (dados não simétricos)\n",
    "hosp_input.corr(method=\"spearman\")"
   ]
  },
  {
   "cell_type": "code",
   "execution_count": 25,
   "metadata": {},
   "outputs": [
    {
     "data": {
      "text/plain": [
       "<Axes: xlabel='dist_praia', ylabel='preço'>"
      ]
     },
     "execution_count": 25,
     "metadata": {},
     "output_type": "execute_result"
    },
    {
     "data": {
      "image/png": "[encoded data removed]",
      "text/plain": [
       "<Figure size 640x480 with 1 Axes>"
      ]
     },
     "metadata": {},
     "output_type": "display_data"
    }
   ],
   "source": [
    "hosp_input.plot.scatter(x='dist_praia',y='preço')"
   ]
  },
  {
   "cell_type": "code",
   "execution_count": 26,
   "metadata": {},
   "outputs": [
    {
     "data": {
      "text/plain": [
       "count    11637.000000\n",
       "mean         0.583978\n",
       "std          0.706364\n",
       "min          0.000000\n",
       "25%          0.100000\n",
       "50%          0.450000\n",
       "75%          0.800000\n",
       "max          3.000000\n",
       "Name: dist_praia, dtype: float64"
      ]
     },
     "execution_count": 26,
     "metadata": {},
     "output_type": "execute_result"
    }
   ],
   "source": [
    "hosp_input['dist_praia'].describe()"
   ]
  },
  {
   "cell_type": "markdown",
   "metadata": {},
   "source": [
    "Podemos ver que há uma relação entre preço e distância praia. Se analisarmos bem, percebemos que os dados da dist_praia variam entre 0 e 3 obrigatoriamente, fazendo com que se imagine, que dificilmente os dados que não possuem valor nesta coluna, possuam valores entre o intervalo dito. Basicamente, no Booking.com, o proprietário pode apenas optar por não colocar a distância da praia até a propriedade ou a distância colocada é maior que 3km, então, nesses casos, os valores não aparecem e assim aparecem como dados faltantes. Com isso, não faz sentido aplicar métodos de imputação sobre a coluna dist_praia, pois provavelmente os valores imputados serão entre o intervalo de 0 e 3, sendo possibilidades que podem enviesar e gerar conclusões incorretas. \n"
   ]
  },
  {
   "cell_type": "markdown",
   "metadata": {},
   "source": [
    "Desse modo, foi preferível apagar a coluna dist_praia"
   ]
  },
  {
   "cell_type": "code",
   "execution_count": 13,
   "metadata": {},
   "outputs": [],
   "source": [
    "hosp_input = hosp_input.drop(columns=['dist_praia'])\n",
    "# excluindo a coluna checkout por não ser necessária\n",
    "hosp_input = hosp_input.drop(columns=['checkout'])"
   ]
  },
  {
   "cell_type": "markdown",
   "metadata": {},
   "source": [
    "Algumas correlações entre varáveis parecem importantes, então vamos normalizar os dados para utilizar o KNN para imputação."
   ]
  },
  {
   "cell_type": "code",
   "execution_count": 24,
   "metadata": {},
   "outputs": [
    {
     "name": "stdout",
     "output_type": "stream",
     "text": [
      "       hotel  cidade     preço  checkin  checkout  dist_centro  dist_praia  \\\n",
      "0        475       0  0.074051        0         3     0.088565        0.50   \n",
      "1        495       0  0.067001        0         3     0.050448        0.25   \n",
      "2        698       0  0.009822        0         3     0.000000        2.50   \n",
      "3         15       0  0.038168        0         3     0.011211         NaN   \n",
      "4        694       0  0.074148        0         3     0.076233        0.65   \n",
      "...      ...     ...       ...      ...       ...          ...         ...   \n",
      "15638    458       0  0.126854       46        45     0.098655        0.90   \n",
      "15639    409       0  0.209899       46        45     0.048206        0.20   \n",
      "15640     20       0  0.185054       46        45     0.091928         NaN   \n",
      "15641    206       0  0.266884       46        45     0.849776        0.10   \n",
      "15642    226       0  0.535810       46        45     0.173767        1.00   \n",
      "\n",
      "       avaliacao  qtnd_avaliacoes  data_extracao  mes_checkin  \n",
      "0       0.755556         0.350000              0            7  \n",
      "1       0.822222         0.538036              0            7  \n",
      "2       0.811111         0.000226              0            7  \n",
      "3       0.966667         0.003950              0            7  \n",
      "4       0.811111         0.584199              0            7  \n",
      "...          ...              ...            ...          ...  \n",
      "15638   0.000000         0.000000              0            6  \n",
      "15639   1.000000         0.000000              0            6  \n",
      "15640        NaN              NaN              0            6  \n",
      "15641   0.966667         0.001129              0            6  \n",
      "15642        NaN              NaN              0            6  \n",
      "\n",
      "[15643 rows x 11 columns]\n"
     ]
    }
   ],
   "source": [
    "# normalizando os dados\n",
    "from sklearn.preprocessing import MinMaxScaler\n",
    "\n",
    "columns_to_normalize = ['preço', 'dist_centro', 'avaliacao', 'qtnd_avaliacoes']\n",
    "scaler = MinMaxScaler()\n",
    "\n",
    "hosp_input[columns_to_normalize] = scaler.fit_transform(hosp_input[columns_to_normalize])\n",
    "\n",
    "print(hosp_input)"
   ]
  },
  {
   "cell_type": "code",
   "execution_count": 15,
   "metadata": {},
   "outputs": [
    {
     "name": "stdout",
     "output_type": "stream",
     "text": [
      "Imputing row 1/15643 with 0 missing, elapsed time: 55.814\n",
      "Imputing row 101/15643 with 0 missing, elapsed time: 55.892\n",
      "Imputing row 201/15643 with 0 missing, elapsed time: 56.006\n",
      "Imputing row 301/15643 with 0 missing, elapsed time: 56.048\n",
      "Imputing row 401/15643 with 0 missing, elapsed time: 56.103\n",
      "Imputing row 501/15643 with 0 missing, elapsed time: 56.143\n",
      "Imputing row 601/15643 with 0 missing, elapsed time: 56.148\n",
      "Imputing row 701/15643 with 0 missing, elapsed time: 56.154\n",
      "Imputing row 801/15643 with 0 missing, elapsed time: 56.174\n",
      "Imputing row 901/15643 with 2 missing, elapsed time: 56.274\n",
      "Imputing row 1001/15643 with 0 missing, elapsed time: 56.336\n",
      "Imputing row 1101/15643 with 0 missing, elapsed time: 56.354\n",
      "Imputing row 1201/15643 with 0 missing, elapsed time: 56.367\n",
      "Imputing row 1301/15643 with 0 missing, elapsed time: 56.388\n",
      "Imputing row 1401/15643 with 0 missing, elapsed time: 56.423\n",
      "Imputing row 1501/15643 with 0 missing, elapsed time: 56.508\n",
      "Imputing row 1601/15643 with 0 missing, elapsed time: 56.538\n",
      "Imputing row 1701/15643 with 0 missing, elapsed time: 56.540\n",
      "Imputing row 1801/15643 with 0 missing, elapsed time: 56.554\n",
      "Imputing row 1901/15643 with 0 missing, elapsed time: 56.569\n",
      "Imputing row 2001/15643 with 0 missing, elapsed time: 56.613\n",
      "Imputing row 2101/15643 with 2 missing, elapsed time: 56.673\n",
      "Imputing row 2201/15643 with 0 missing, elapsed time: 56.685\n",
      "Imputing row 2301/15643 with 0 missing, elapsed time: 56.690\n",
      "Imputing row 2401/15643 with 0 missing, elapsed time: 56.705\n",
      "Imputing row 2501/15643 with 2 missing, elapsed time: 56.744\n",
      "Imputing row 2601/15643 with 0 missing, elapsed time: 56.794\n",
      "Imputing row 2701/15643 with 0 missing, elapsed time: 56.806\n",
      "Imputing row 2801/15643 with 0 missing, elapsed time: 56.818\n",
      "Imputing row 2901/15643 with 2 missing, elapsed time: 56.834\n",
      "Imputing row 3001/15643 with 0 missing, elapsed time: 56.858\n",
      "Imputing row 3101/15643 with 2 missing, elapsed time: 56.909\n",
      "Imputing row 3201/15643 with 0 missing, elapsed time: 56.936\n",
      "Imputing row 3301/15643 with 0 missing, elapsed time: 56.939\n",
      "Imputing row 3401/15643 with 0 missing, elapsed time: 56.959\n",
      "Imputing row 3501/15643 with 0 missing, elapsed time: 57.019\n",
      "Imputing row 3601/15643 with 2 missing, elapsed time: 57.054\n",
      "Imputing row 3701/15643 with 0 missing, elapsed time: 57.140\n",
      "Imputing row 3801/15643 with 0 missing, elapsed time: 57.143\n",
      "Imputing row 3901/15643 with 0 missing, elapsed time: 57.172\n",
      "Imputing row 4001/15643 with 0 missing, elapsed time: 57.196\n",
      "Imputing row 4101/15643 with 2 missing, elapsed time: 57.253\n",
      "Imputing row 4201/15643 with 0 missing, elapsed time: 57.303\n",
      "Imputing row 4301/15643 with 0 missing, elapsed time: 57.303\n",
      "Imputing row 4401/15643 with 0 missing, elapsed time: 57.320\n",
      "Imputing row 4501/15643 with 0 missing, elapsed time: 57.351\n",
      "Imputing row 4601/15643 with 2 missing, elapsed time: 57.409\n",
      "Imputing row 4701/15643 with 0 missing, elapsed time: 57.426\n",
      "Imputing row 4801/15643 with 0 missing, elapsed time: 57.435\n",
      "Imputing row 4901/15643 with 0 missing, elapsed time: 57.444\n",
      "Imputing row 5001/15643 with 0 missing, elapsed time: 57.477\n",
      "Imputing row 5101/15643 with 0 missing, elapsed time: 57.521\n",
      "Imputing row 5201/15643 with 0 missing, elapsed time: 57.523\n",
      "Imputing row 5301/15643 with 0 missing, elapsed time: 57.534\n",
      "Imputing row 5401/15643 with 0 missing, elapsed time: 57.558\n",
      "Imputing row 5501/15643 with 0 missing, elapsed time: 57.604\n",
      "Imputing row 5601/15643 with 0 missing, elapsed time: 57.606\n",
      "Imputing row 5701/15643 with 0 missing, elapsed time: 57.615\n",
      "Imputing row 5801/15643 with 0 missing, elapsed time: 57.637\n",
      "Imputing row 5901/15643 with 2 missing, elapsed time: 57.674\n",
      "Imputing row 6001/15643 with 0 missing, elapsed time: 57.696\n",
      "Imputing row 6101/15643 with 0 missing, elapsed time: 57.701\n",
      "Imputing row 6201/15643 with 0 missing, elapsed time: 57.711\n",
      "Imputing row 6301/15643 with 0 missing, elapsed time: 57.730\n",
      "Imputing row 6401/15643 with 0 missing, elapsed time: 57.762\n",
      "Imputing row 6501/15643 with 0 missing, elapsed time: 57.766\n",
      "Imputing row 6601/15643 with 0 missing, elapsed time: 57.775\n",
      "Imputing row 6701/15643 with 2 missing, elapsed time: 57.792\n",
      "Imputing row 6801/15643 with 0 missing, elapsed time: 57.826\n",
      "Imputing row 6901/15643 with 0 missing, elapsed time: 57.829\n",
      "Imputing row 7001/15643 with 0 missing, elapsed time: 57.839\n",
      "Imputing row 7101/15643 with 0 missing, elapsed time: 57.854\n",
      "Imputing row 7201/15643 with 0 missing, elapsed time: 57.879\n",
      "Imputing row 7301/15643 with 0 missing, elapsed time: 57.908\n",
      "Imputing row 7401/15643 with 0 missing, elapsed time: 57.911\n",
      "Imputing row 7501/15643 with 0 missing, elapsed time: 57.924\n",
      "Imputing row 7601/15643 with 2 missing, elapsed time: 57.946\n",
      "Imputing row 7701/15643 with 2 missing, elapsed time: 57.986\n",
      "Imputing row 7801/15643 with 0 missing, elapsed time: 57.990\n",
      "Imputing row 7901/15643 with 0 missing, elapsed time: 57.998\n",
      "Imputing row 8001/15643 with 2 missing, elapsed time: 58.011\n",
      "Imputing row 8101/15643 with 0 missing, elapsed time: 58.040\n",
      "Imputing row 8201/15643 with 0 missing, elapsed time: 58.060\n",
      "Imputing row 8301/15643 with 0 missing, elapsed time: 58.068\n",
      "Imputing row 8401/15643 with 2 missing, elapsed time: 58.076\n",
      "Imputing row 8501/15643 with 0 missing, elapsed time: 58.110\n",
      "Imputing row 8601/15643 with 0 missing, elapsed time: 58.144\n",
      "Imputing row 8701/15643 with 0 missing, elapsed time: 58.147\n",
      "Imputing row 8801/15643 with 0 missing, elapsed time: 58.159\n",
      "Imputing row 8901/15643 with 0 missing, elapsed time: 58.195\n",
      "Imputing row 9001/15643 with 0 missing, elapsed time: 58.241\n",
      "Imputing row 9101/15643 with 0 missing, elapsed time: 58.242\n",
      "Imputing row 9201/15643 with 0 missing, elapsed time: 58.255\n",
      "Imputing row 9301/15643 with 0 missing, elapsed time: 58.270\n",
      "Imputing row 9401/15643 with 0 missing, elapsed time: 58.308\n",
      "Imputing row 9501/15643 with 0 missing, elapsed time: 58.313\n",
      "Imputing row 9601/15643 with 0 missing, elapsed time: 58.325\n",
      "Imputing row 9701/15643 with 0 missing, elapsed time: 58.340\n",
      "Imputing row 9801/15643 with 2 missing, elapsed time: 58.376\n",
      "Imputing row 9901/15643 with 0 missing, elapsed time: 58.378\n",
      "Imputing row 10001/15643 with 0 missing, elapsed time: 58.391\n",
      "Imputing row 10101/15643 with 0 missing, elapsed time: 58.413\n",
      "Imputing row 10201/15643 with 0 missing, elapsed time: 58.439\n",
      "Imputing row 10301/15643 with 0 missing, elapsed time: 58.443\n",
      "Imputing row 10401/15643 with 0 missing, elapsed time: 58.458\n",
      "Imputing row 10501/15643 with 2 missing, elapsed time: 58.490\n",
      "Imputing row 10601/15643 with 0 missing, elapsed time: 58.498\n",
      "Imputing row 10701/15643 with 0 missing, elapsed time: 58.518\n",
      "Imputing row 10801/15643 with 0 missing, elapsed time: 58.545\n",
      "Imputing row 10901/15643 with 2 missing, elapsed time: 58.559\n",
      "Imputing row 11001/15643 with 0 missing, elapsed time: 58.591\n",
      "Imputing row 11101/15643 with 0 missing, elapsed time: 58.595\n",
      "Imputing row 11201/15643 with 0 missing, elapsed time: 58.618\n",
      "Imputing row 11301/15643 with 0 missing, elapsed time: 58.647\n",
      "Imputing row 11401/15643 with 2 missing, elapsed time: 58.656\n",
      "Imputing row 11501/15643 with 2 missing, elapsed time: 58.671\n",
      "Imputing row 11601/15643 with 0 missing, elapsed time: 58.705\n",
      "Imputing row 11701/15643 with 0 missing, elapsed time: 58.709\n",
      "Imputing row 11801/15643 with 0 missing, elapsed time: 58.724\n",
      "Imputing row 11901/15643 with 0 missing, elapsed time: 58.762\n",
      "Imputing row 12001/15643 with 0 missing, elapsed time: 58.770\n",
      "Imputing row 12101/15643 with 0 missing, elapsed time: 58.782\n",
      "Imputing row 12201/15643 with 0 missing, elapsed time: 58.797\n",
      "Imputing row 12301/15643 with 0 missing, elapsed time: 58.811\n",
      "Imputing row 12401/15643 with 0 missing, elapsed time: 58.853\n",
      "Imputing row 12501/15643 with 0 missing, elapsed time: 58.858\n",
      "Imputing row 12601/15643 with 2 missing, elapsed time: 58.884\n",
      "Imputing row 12701/15643 with 0 missing, elapsed time: 58.938\n",
      "Imputing row 12801/15643 with 0 missing, elapsed time: 58.975\n",
      "Imputing row 12901/15643 with 0 missing, elapsed time: 58.991\n",
      "Imputing row 13001/15643 with 0 missing, elapsed time: 59.033\n",
      "Imputing row 13101/15643 with 0 missing, elapsed time: 59.041\n",
      "Imputing row 13201/15643 with 0 missing, elapsed time: 59.077\n",
      "Imputing row 13301/15643 with 0 missing, elapsed time: 59.088\n",
      "Imputing row 13401/15643 with 0 missing, elapsed time: 59.124\n",
      "Imputing row 13501/15643 with 0 missing, elapsed time: 59.135\n",
      "Imputing row 13601/15643 with 0 missing, elapsed time: 59.173\n",
      "Imputing row 13701/15643 with 2 missing, elapsed time: 59.185\n",
      "Imputing row 13801/15643 with 0 missing, elapsed time: 59.237\n",
      "Imputing row 13901/15643 with 2 missing, elapsed time: 59.251\n",
      "Imputing row 14001/15643 with 0 missing, elapsed time: 59.284\n",
      "Imputing row 14101/15643 with 0 missing, elapsed time: 59.305\n",
      "Imputing row 14201/15643 with 0 missing, elapsed time: 59.336\n",
      "Imputing row 14301/15643 with 0 missing, elapsed time: 59.359\n",
      "Imputing row 14401/15643 with 0 missing, elapsed time: 59.389\n",
      "Imputing row 14501/15643 with 2 missing, elapsed time: 59.433\n",
      "Imputing row 14601/15643 with 0 missing, elapsed time: 59.468\n",
      "Imputing row 14701/15643 with 2 missing, elapsed time: 59.521\n",
      "Imputing row 14801/15643 with 0 missing, elapsed time: 59.541\n",
      "Imputing row 14901/15643 with 2 missing, elapsed time: 59.593\n",
      "Imputing row 15001/15643 with 2 missing, elapsed time: 59.620\n",
      "Imputing row 15101/15643 with 0 missing, elapsed time: 59.657\n",
      "Imputing row 15201/15643 with 0 missing, elapsed time: 59.726\n",
      "Imputing row 15301/15643 with 0 missing, elapsed time: 59.759\n",
      "Imputing row 15401/15643 with 0 missing, elapsed time: 59.801\n",
      "Imputing row 15501/15643 with 2 missing, elapsed time: 59.823\n",
      "Imputing row 15601/15643 with 0 missing, elapsed time: 59.868\n"
     ]
    }
   ],
   "source": [
    "# rodando o KNN impute para imputar os dados faltantes\n",
    "from fancyimpute import KNN\n",
    "hosp_knn = KNN(k=3).fit_transform(hosp_input)"
   ]
  },
  {
   "cell_type": "code",
   "execution_count": 17,
   "metadata": {},
   "outputs": [],
   "source": [
    "hosp2 = pd.DataFrame(data=hosp_knn[0:,0:],columns=['hotel', 'cidade', 'preço', 'checkin', 'dist_centro', 'avaliacao', 'qtnd_avaliacoes', 'data_extracao', 'mes_checkin'])"
   ]
  },
  {
   "cell_type": "code",
   "execution_count": 18,
   "metadata": {},
   "outputs": [],
   "source": [
    "# revertendo a normalização\n",
    "hosp2[columns_to_normalize] = scaler.inverse_transform(hosp2[columns_to_normalize])"
   ]
  },
  {
   "cell_type": "code",
   "execution_count": 19,
   "metadata": {},
   "outputs": [
    {
     "data": {
      "text/html": [
       "<div>\n",
       "<style scoped>\n",
       "    .dataframe tbody tr th:only-of-type {\n",
       "        vertical-align: middle;\n",
       "    }\n",
       "\n",
       "    .dataframe tbody tr th {\n",
       "        vertical-align: top;\n",
       "    }\n",
       "\n",
       "    .dataframe thead th {\n",
       "        text-align: right;\n",
       "    }\n",
       "</style>\n",
       "<table border=\"1\" class=\"dataframe\">\n",
       "  <thead>\n",
       "    <tr style=\"text-align: right;\">\n",
       "      <th></th>\n",
       "      <th>hotel</th>\n",
       "      <th>cidade</th>\n",
       "      <th>preço</th>\n",
       "      <th>checkin</th>\n",
       "      <th>dist_centro</th>\n",
       "      <th>avaliacao</th>\n",
       "      <th>qtnd_avaliacoes</th>\n",
       "      <th>data_extracao</th>\n",
       "      <th>mes_checkin</th>\n",
       "    </tr>\n",
       "  </thead>\n",
       "  <tbody>\n",
       "    <tr>\n",
       "      <th>hotel</th>\n",
       "      <td>1.000000</td>\n",
       "      <td>NaN</td>\n",
       "      <td>-0.045768</td>\n",
       "      <td>-0.013961</td>\n",
       "      <td>-0.052071</td>\n",
       "      <td>-0.157552</td>\n",
       "      <td>0.147847</td>\n",
       "      <td>NaN</td>\n",
       "      <td>0.012697</td>\n",
       "    </tr>\n",
       "    <tr>\n",
       "      <th>cidade</th>\n",
       "      <td>NaN</td>\n",
       "      <td>NaN</td>\n",
       "      <td>NaN</td>\n",
       "      <td>NaN</td>\n",
       "      <td>NaN</td>\n",
       "      <td>NaN</td>\n",
       "      <td>NaN</td>\n",
       "      <td>NaN</td>\n",
       "      <td>NaN</td>\n",
       "    </tr>\n",
       "    <tr>\n",
       "      <th>preço</th>\n",
       "      <td>-0.045768</td>\n",
       "      <td>NaN</td>\n",
       "      <td>1.000000</td>\n",
       "      <td>0.092607</td>\n",
       "      <td>0.114370</td>\n",
       "      <td>0.110849</td>\n",
       "      <td>0.029606</td>\n",
       "      <td>NaN</td>\n",
       "      <td>-0.049790</td>\n",
       "    </tr>\n",
       "    <tr>\n",
       "      <th>checkin</th>\n",
       "      <td>-0.013961</td>\n",
       "      <td>NaN</td>\n",
       "      <td>0.092607</td>\n",
       "      <td>1.000000</td>\n",
       "      <td>-0.014037</td>\n",
       "      <td>0.027322</td>\n",
       "      <td>-0.090296</td>\n",
       "      <td>NaN</td>\n",
       "      <td>-0.298065</td>\n",
       "    </tr>\n",
       "    <tr>\n",
       "      <th>dist_centro</th>\n",
       "      <td>-0.052071</td>\n",
       "      <td>NaN</td>\n",
       "      <td>0.114370</td>\n",
       "      <td>-0.014037</td>\n",
       "      <td>1.000000</td>\n",
       "      <td>-0.027793</td>\n",
       "      <td>0.110995</td>\n",
       "      <td>NaN</td>\n",
       "      <td>0.009141</td>\n",
       "    </tr>\n",
       "    <tr>\n",
       "      <th>avaliacao</th>\n",
       "      <td>-0.157552</td>\n",
       "      <td>NaN</td>\n",
       "      <td>0.110849</td>\n",
       "      <td>0.027322</td>\n",
       "      <td>-0.027793</td>\n",
       "      <td>1.000000</td>\n",
       "      <td>-0.231322</td>\n",
       "      <td>NaN</td>\n",
       "      <td>-0.008055</td>\n",
       "    </tr>\n",
       "    <tr>\n",
       "      <th>qtnd_avaliacoes</th>\n",
       "      <td>0.147847</td>\n",
       "      <td>NaN</td>\n",
       "      <td>0.029606</td>\n",
       "      <td>-0.090296</td>\n",
       "      <td>0.110995</td>\n",
       "      <td>-0.231322</td>\n",
       "      <td>1.000000</td>\n",
       "      <td>NaN</td>\n",
       "      <td>0.051469</td>\n",
       "    </tr>\n",
       "    <tr>\n",
       "      <th>data_extracao</th>\n",
       "      <td>NaN</td>\n",
       "      <td>NaN</td>\n",
       "      <td>NaN</td>\n",
       "      <td>NaN</td>\n",
       "      <td>NaN</td>\n",
       "      <td>NaN</td>\n",
       "      <td>NaN</td>\n",
       "      <td>NaN</td>\n",
       "      <td>NaN</td>\n",
       "    </tr>\n",
       "    <tr>\n",
       "      <th>mes_checkin</th>\n",
       "      <td>0.012697</td>\n",
       "      <td>NaN</td>\n",
       "      <td>-0.049790</td>\n",
       "      <td>-0.298065</td>\n",
       "      <td>0.009141</td>\n",
       "      <td>-0.008055</td>\n",
       "      <td>0.051469</td>\n",
       "      <td>NaN</td>\n",
       "      <td>1.000000</td>\n",
       "    </tr>\n",
       "  </tbody>\n",
       "</table>\n",
       "</div>"
      ],
      "text/plain": [
       "                    hotel  cidade     preço   checkin  dist_centro  avaliacao  \\\n",
       "hotel            1.000000     NaN -0.045768 -0.013961    -0.052071  -0.157552   \n",
       "cidade                NaN     NaN       NaN       NaN          NaN        NaN   \n",
       "preço           -0.045768     NaN  1.000000  0.092607     0.114370   0.110849   \n",
       "checkin         -0.013961     NaN  0.092607  1.000000    -0.014037   0.027322   \n",
       "dist_centro     -0.052071     NaN  0.114370 -0.014037     1.000000  -0.027793   \n",
       "avaliacao       -0.157552     NaN  0.110849  0.027322    -0.027793   1.000000   \n",
       "qtnd_avaliacoes  0.147847     NaN  0.029606 -0.090296     0.110995  -0.231322   \n",
       "data_extracao         NaN     NaN       NaN       NaN          NaN        NaN   \n",
       "mes_checkin      0.012697     NaN -0.049790 -0.298065     0.009141  -0.008055   \n",
       "\n",
       "                 qtnd_avaliacoes  data_extracao  mes_checkin  \n",
       "hotel                   0.147847            NaN     0.012697  \n",
       "cidade                       NaN            NaN          NaN  \n",
       "preço                   0.029606            NaN    -0.049790  \n",
       "checkin                -0.090296            NaN    -0.298065  \n",
       "dist_centro             0.110995            NaN     0.009141  \n",
       "avaliacao              -0.231322            NaN    -0.008055  \n",
       "qtnd_avaliacoes         1.000000            NaN     0.051469  \n",
       "data_extracao                NaN            NaN          NaN  \n",
       "mes_checkin             0.051469            NaN     1.000000  "
      ]
     },
     "execution_count": 19,
     "metadata": {},
     "output_type": "execute_result"
    }
   ],
   "source": [
    "hosp2.corr(method='spearman')"
   ]
  },
  {
   "cell_type": "code",
   "execution_count": 25,
   "metadata": {},
   "outputs": [
    {
     "data": {
      "text/plain": [
       "hotel               389.00\n",
       "cidade                0.00\n",
       "preço              1638.00\n",
       "checkin              16.00\n",
       "checkout             16.00\n",
       "dist_centro           6.80\n",
       "dist_praia            0.45\n",
       "avaliacao             8.60\n",
       "qtnd_avaliacoes      14.00\n",
       "data_extracao         0.00\n",
       "mes_checkin           8.00\n",
       "dtype: float64"
      ]
     },
     "execution_count": 25,
     "metadata": {},
     "output_type": "execute_result"
    }
   ],
   "source": [
    "# mediana antiga\n",
    "hosp_input[columns_to_normalize] = scaler.inverse_transform(hosp_input[columns_to_normalize])\n",
    "hosp_input.median()"
   ]
  },
  {
   "cell_type": "code",
   "execution_count": 22,
   "metadata": {},
   "outputs": [
    {
     "data": {
      "text/plain": [
       "hotel               389.0\n",
       "cidade                0.0\n",
       "preço              1638.0\n",
       "checkin              16.0\n",
       "dist_centro           6.8\n",
       "avaliacao             8.7\n",
       "qtnd_avaliacoes      13.0\n",
       "data_extracao         0.0\n",
       "mes_checkin           8.0\n",
       "dtype: float64"
      ]
     },
     "execution_count": 22,
     "metadata": {},
     "output_type": "execute_result"
    }
   ],
   "source": [
    "#nova mediana\n",
    "hosp2.median()"
   ]
  },
  {
   "cell_type": "code",
   "execution_count": 26,
   "metadata": {},
   "outputs": [
    {
     "name": "stderr",
     "output_type": "stream",
     "text": [
      "C:\\Users\\extre\\AppData\\Local\\Temp\\ipykernel_10148\\135721882.py:2: SettingWithCopyWarning: \n",
      "A value is trying to be set on a copy of a slice from a DataFrame.\n",
      "Try using .loc[row_indexer,col_indexer] = value instead\n",
      "\n",
      "See the caveats in the documentation: https://pandas.pydata.org/pandas-docs/stable/user_guide/indexing.html#returning-a-view-versus-a-copy\n",
      "  hospedagens['avaliacao'] = hosp2['avaliacao']\n",
      "C:\\Users\\extre\\AppData\\Local\\Temp\\ipykernel_10148\\135721882.py:3: SettingWithCopyWarning: \n",
      "A value is trying to be set on a copy of a slice from a DataFrame.\n",
      "Try using .loc[row_indexer,col_indexer] = value instead\n",
      "\n",
      "See the caveats in the documentation: https://pandas.pydata.org/pandas-docs/stable/user_guide/indexing.html#returning-a-view-versus-a-copy\n",
      "  hospedagens['qtnd_avaliacoes'] = hosp2['qtnd_avaliacoes']\n"
     ]
    }
   ],
   "source": [
    "# passando os dados imputados para o dataset padrao\n",
    "hospedagens['avaliacao'] = hosp2['avaliacao']\n",
    "hospedagens['qtnd_avaliacoes'] = hosp2['qtnd_avaliacoes']"
   ]
  },
  {
   "cell_type": "code",
   "execution_count": 28,
   "metadata": {},
   "outputs": [
    {
     "name": "stdout",
     "output_type": "stream",
     "text": [
      "hotel              0\n",
      "cidade             0\n",
      "preço              0\n",
      "checkin            0\n",
      "checkout           0\n",
      "dist_centro        0\n",
      "avaliacao          0\n",
      "qtnd_avaliacoes    0\n",
      "data_extracao      0\n",
      "mes_checkin        0\n",
      "dtype: int64\n"
     ]
    }
   ],
   "source": [
    "hospedagens = hospedagens.drop(columns=['dist_praia'])\n",
    "print(hospedagens.isnull().sum())\n"
   ]
  },
  {
   "cell_type": "markdown",
   "metadata": {},
   "source": [
    "## Outliers\n"
   ]
  },
  {
   "cell_type": "markdown",
   "metadata": {},
   "source": [
    "Como nosso objetivo é analisar principalmente o preço das hospedagens, vamos focar na remoção de outliers sobre a coluna preço"
   ]
  },
  {
   "cell_type": "code",
   "execution_count": 29,
   "metadata": {},
   "outputs": [
    {
     "data": {
      "text/plain": [
       "<Axes: >"
      ]
     },
     "execution_count": 29,
     "metadata": {},
     "output_type": "execute_result"
    },
    {
     "data": {
      "image/png": "[encoded data removed]",
      "text/plain": [
       "<Figure size 640x480 with 1 Axes>"
      ]
     },
     "metadata": {},
     "output_type": "display_data"
    }
   ],
   "source": [
    "# plotando um histograma com valores normalizados do preço\n",
    "# como vimos em cima, os dados são assimétricos e é necessário a aplicação do log10 sobre o preço\n",
    "hospedagens['log_price'] = hospedagens['preço'].apply(np.log10)\n",
    "hospedagens[hospedagens['log_price'] > 0]['log_price'].hist()"
   ]
  },
  {
   "cell_type": "code",
   "execution_count": 30,
   "metadata": {},
   "outputs": [
    {
     "data": {
      "text/plain": [
       "<Axes: >"
      ]
     },
     "execution_count": 30,
     "metadata": {},
     "output_type": "execute_result"
    },
    {
     "data": {
      "image/png": "[encoded data removed]",
      "text/plain": [
       "<Figure size 640x480 with 1 Axes>"
      ]
     },
     "metadata": {},
     "output_type": "display_data"
    }
   ],
   "source": [
    "hospedagens[['preço']].plot(kind='box')\n"
   ]
  },
  {
   "cell_type": "code",
   "execution_count": 16,
   "metadata": {},
   "outputs": [
    {
     "data": {
      "text/plain": [
       "hotel                    category\n",
       "cidade                   category\n",
       "preço                       int64\n",
       "checkin            datetime64[ns]\n",
       "checkout           datetime64[ns]\n",
       "dist_centro               float64\n",
       "dist_praia                float64\n",
       "avaliacao                 float64\n",
       "qtnd_avaliacoes           float64\n",
       "data_extracao            category\n",
       "log_price                 float64\n",
       "dtype: object"
      ]
     },
     "execution_count": 16,
     "metadata": {},
     "output_type": "execute_result"
    }
   ],
   "source": [
    "hospedagens.dtypes"
   ]
  },
  {
   "cell_type": "markdown",
   "metadata": {},
   "source": [
    "Como podemos ver no boxplot, existem uma considerável quantidade de outliers em vários meses do nosso dataset. Como queremos entender as variabilidades do preço durante os meses, se tornou interessante a alternativa de remover os outliers por meses ao invés de remover pelo dataset inteiro."
   ]
  },
  {
   "cell_type": "code",
   "execution_count": 31,
   "metadata": {},
   "outputs": [
    {
     "name": "stdout",
     "output_type": "stream",
     "text": [
      "iqr:  mes_checkin\n",
      "1     0.307016\n",
      "2     0.343546\n",
      "3     0.411842\n",
      "4     0.376068\n",
      "5     0.369050\n",
      "6     0.393092\n",
      "7     0.238398\n",
      "8     0.235193\n",
      "9     0.244503\n",
      "10    0.247602\n",
      "11    0.249763\n",
      "12    0.282745\n",
      "Name: log_price, dtype: float64\n"
     ]
    }
   ],
   "source": [
    "# calculando o iqr por mês dos preços em log10\n",
    "grouped = hospedagens.groupby('mes_checkin')['log_price']\n",
    "\n",
    "q1_per_month = grouped.quantile(0.25)\n",
    "q3_per_month = grouped.quantile(0.75)\n",
    "\n",
    "iqr_per_month = q3_per_month - q1_per_month\n",
    "\n",
    "print('iqr: ', iqr_per_month)"
   ]
  },
  {
   "cell_type": "code",
   "execution_count": 32,
   "metadata": {},
   "outputs": [
    {
     "name": "stderr",
     "output_type": "stream",
     "text": [
      "C:\\Users\\extre\\AppData\\Local\\Temp\\ipykernel_10148\\1487978861.py:3: DeprecationWarning: DataFrameGroupBy.apply operated on the grouping columns. This behavior is deprecated, and in a future version of pandas the grouping columns will be excluded from the operation. Either pass `include_groups=False` to exclude the groupings or explicitly select the grouping columns after groupby to silence this warning.\n",
      "  hospedagens_clean = hospedagens.groupby('mes_checkin').apply(lambda x: x[\n"
     ]
    }
   ],
   "source": [
    "# Aplicar a condição de Tukey ajustada diretamente ao DataFrame original\n",
    "# Remove os outliers por mês de acordo com seu IQR\n",
    "hospedagens_clean = hospedagens.groupby('mes_checkin').apply(lambda x: x[\n",
    "    (x['log_price'] >= (q1_per_month[x.name] - 1.5 * iqr_per_month[x.name])) &\n",
    "    (x['log_price'] <= (q3_per_month[x.name] + 1.5 * iqr_per_month[x.name]))\n",
    "]).reset_index(drop=True)"
   ]
  },
  {
   "cell_type": "code",
   "execution_count": 33,
   "metadata": {},
   "outputs": [
    {
     "data": {
      "text/html": [
       "<div>\n",
       "<style scoped>\n",
       "    .dataframe tbody tr th:only-of-type {\n",
       "        vertical-align: middle;\n",
       "    }\n",
       "\n",
       "    .dataframe tbody tr th {\n",
       "        vertical-align: top;\n",
       "    }\n",
       "\n",
       "    .dataframe thead th {\n",
       "        text-align: right;\n",
       "    }\n",
       "</style>\n",
       "<table border=\"1\" class=\"dataframe\">\n",
       "  <thead>\n",
       "    <tr style=\"text-align: right;\">\n",
       "      <th></th>\n",
       "      <th>hotel</th>\n",
       "      <th>cidade</th>\n",
       "      <th>preço</th>\n",
       "      <th>checkin</th>\n",
       "      <th>checkout</th>\n",
       "      <th>dist_centro</th>\n",
       "      <th>avaliacao</th>\n",
       "      <th>qtnd_avaliacoes</th>\n",
       "      <th>data_extracao</th>\n",
       "      <th>mes_checkin</th>\n",
       "      <th>log_price</th>\n",
       "    </tr>\n",
       "  </thead>\n",
       "  <tbody>\n",
       "    <tr>\n",
       "      <th>0</th>\n",
       "      <td>Villa d'Oro Hotel</td>\n",
       "      <td>Recife</td>\n",
       "      <td>1389</td>\n",
       "      <td>2025-01-01</td>\n",
       "      <td>2025-01-08</td>\n",
       "      <td>1.4</td>\n",
       "      <td>8.600000</td>\n",
       "      <td>1620.000000</td>\n",
       "      <td>2024-6-6</td>\n",
       "      <td>1</td>\n",
       "      <td>3.142702</td>\n",
       "    </tr>\n",
       "    <tr>\n",
       "      <th>1</th>\n",
       "      <td>Hotel Central</td>\n",
       "      <td>Recife</td>\n",
       "      <td>805</td>\n",
       "      <td>2025-01-01</td>\n",
       "      <td>2025-01-08</td>\n",
       "      <td>0.8</td>\n",
       "      <td>7.300000</td>\n",
       "      <td>393.000000</td>\n",
       "      <td>2024-6-6</td>\n",
       "      <td>1</td>\n",
       "      <td>2.905796</td>\n",
       "    </tr>\n",
       "    <tr>\n",
       "      <th>2</th>\n",
       "      <td>APARTAMENTO PROXIMO À UFPE</td>\n",
       "      <td>Recife</td>\n",
       "      <td>964</td>\n",
       "      <td>2025-01-01</td>\n",
       "      <td>2025-01-08</td>\n",
       "      <td>8.4</td>\n",
       "      <td>9.100000</td>\n",
       "      <td>14.000000</td>\n",
       "      <td>2024-6-6</td>\n",
       "      <td>1</td>\n",
       "      <td>2.984077</td>\n",
       "    </tr>\n",
       "    <tr>\n",
       "      <th>3</th>\n",
       "      <td>Lindo APT Cinza à 50m do mar - Praia de Boa Vi...</td>\n",
       "      <td>Recife</td>\n",
       "      <td>1017</td>\n",
       "      <td>2025-01-01</td>\n",
       "      <td>2025-01-08</td>\n",
       "      <td>5.8</td>\n",
       "      <td>10.000000</td>\n",
       "      <td>1.000000</td>\n",
       "      <td>2024-6-6</td>\n",
       "      <td>1</td>\n",
       "      <td>3.007321</td>\n",
       "    </tr>\n",
       "    <tr>\n",
       "      <th>4</th>\n",
       "      <td>Lar Recife Olinda - Hostel com suites individuais</td>\n",
       "      <td>Recife</td>\n",
       "      <td>1091</td>\n",
       "      <td>2025-01-01</td>\n",
       "      <td>2025-01-08</td>\n",
       "      <td>3.5</td>\n",
       "      <td>9.500000</td>\n",
       "      <td>105.000000</td>\n",
       "      <td>2024-6-6</td>\n",
       "      <td>1</td>\n",
       "      <td>3.037825</td>\n",
       "    </tr>\n",
       "    <tr>\n",
       "      <th>...</th>\n",
       "      <td>...</td>\n",
       "      <td>...</td>\n",
       "      <td>...</td>\n",
       "      <td>...</td>\n",
       "      <td>...</td>\n",
       "      <td>...</td>\n",
       "      <td>...</td>\n",
       "      <td>...</td>\n",
       "      <td>...</td>\n",
       "      <td>...</td>\n",
       "      <td>...</td>\n",
       "    </tr>\n",
       "    <tr>\n",
       "      <th>14684</th>\n",
       "      <td>Apto a beira-mar em Jaboatao dos Guararapes PE</td>\n",
       "      <td>Recife</td>\n",
       "      <td>4128</td>\n",
       "      <td>2024-12-22</td>\n",
       "      <td>2024-12-29</td>\n",
       "      <td>19.4</td>\n",
       "      <td>9.000000</td>\n",
       "      <td>2.000000</td>\n",
       "      <td>2024-6-6</td>\n",
       "      <td>12</td>\n",
       "      <td>3.615740</td>\n",
       "    </tr>\n",
       "    <tr>\n",
       "      <th>14685</th>\n",
       "      <td>Hostel da Socorro</td>\n",
       "      <td>Recife</td>\n",
       "      <td>2835</td>\n",
       "      <td>2024-12-22</td>\n",
       "      <td>2024-12-29</td>\n",
       "      <td>9.0</td>\n",
       "      <td>1.000000</td>\n",
       "      <td>1.000000</td>\n",
       "      <td>2024-6-6</td>\n",
       "      <td>12</td>\n",
       "      <td>3.452553</td>\n",
       "    </tr>\n",
       "    <tr>\n",
       "      <th>14686</th>\n",
       "      <td>Flat Equipado-Jaqueira Otima Localização-SH032</td>\n",
       "      <td>Recife</td>\n",
       "      <td>4544</td>\n",
       "      <td>2024-12-22</td>\n",
       "      <td>2024-12-29</td>\n",
       "      <td>3.0</td>\n",
       "      <td>8.200000</td>\n",
       "      <td>6.000000</td>\n",
       "      <td>2024-6-6</td>\n",
       "      <td>12</td>\n",
       "      <td>3.657438</td>\n",
       "    </tr>\n",
       "    <tr>\n",
       "      <th>14687</th>\n",
       "      <td>Lindo apto à beira-mar Jaboatão dos Guararapes...</td>\n",
       "      <td>Recife</td>\n",
       "      <td>5514</td>\n",
       "      <td>2024-12-22</td>\n",
       "      <td>2024-12-29</td>\n",
       "      <td>16.6</td>\n",
       "      <td>7.000000</td>\n",
       "      <td>1.000000</td>\n",
       "      <td>2024-6-6</td>\n",
       "      <td>12</td>\n",
       "      <td>3.741467</td>\n",
       "    </tr>\n",
       "    <tr>\n",
       "      <th>14688</th>\n",
       "      <td>Aconchego Boa Viagem</td>\n",
       "      <td>Recife</td>\n",
       "      <td>4032</td>\n",
       "      <td>2024-12-22</td>\n",
       "      <td>2024-12-29</td>\n",
       "      <td>8.4</td>\n",
       "      <td>8.239833</td>\n",
       "      <td>6.593308</td>\n",
       "      <td>2024-6-6</td>\n",
       "      <td>12</td>\n",
       "      <td>3.605521</td>\n",
       "    </tr>\n",
       "  </tbody>\n",
       "</table>\n",
       "<p>14689 rows × 11 columns</p>\n",
       "</div>"
      ],
      "text/plain": [
       "                                                   hotel  cidade  preço  \\\n",
       "0                                      Villa d'Oro Hotel  Recife   1389   \n",
       "1                                          Hotel Central  Recife    805   \n",
       "2                             APARTAMENTO PROXIMO À UFPE  Recife    964   \n",
       "3      Lindo APT Cinza à 50m do mar - Praia de Boa Vi...  Recife   1017   \n",
       "4      Lar Recife Olinda - Hostel com suites individuais  Recife   1091   \n",
       "...                                                  ...     ...    ...   \n",
       "14684     Apto a beira-mar em Jaboatao dos Guararapes PE  Recife   4128   \n",
       "14685                                  Hostel da Socorro  Recife   2835   \n",
       "14686     Flat Equipado-Jaqueira Otima Localização-SH032  Recife   4544   \n",
       "14687  Lindo apto à beira-mar Jaboatão dos Guararapes...  Recife   5514   \n",
       "14688                               Aconchego Boa Viagem  Recife   4032   \n",
       "\n",
       "         checkin   checkout  dist_centro  avaliacao  qtnd_avaliacoes  \\\n",
       "0     2025-01-01 2025-01-08          1.4   8.600000      1620.000000   \n",
       "1     2025-01-01 2025-01-08          0.8   7.300000       393.000000   \n",
       "2     2025-01-01 2025-01-08          8.4   9.100000        14.000000   \n",
       "3     2025-01-01 2025-01-08          5.8  10.000000         1.000000   \n",
       "4     2025-01-01 2025-01-08          3.5   9.500000       105.000000   \n",
       "...          ...        ...          ...        ...              ...   \n",
       "14684 2024-12-22 2024-12-29         19.4   9.000000         2.000000   \n",
       "14685 2024-12-22 2024-12-29          9.0   1.000000         1.000000   \n",
       "14686 2024-12-22 2024-12-29          3.0   8.200000         6.000000   \n",
       "14687 2024-12-22 2024-12-29         16.6   7.000000         1.000000   \n",
       "14688 2024-12-22 2024-12-29          8.4   8.239833         6.593308   \n",
       "\n",
       "      data_extracao  mes_checkin  log_price  \n",
       "0          2024-6-6            1   3.142702  \n",
       "1          2024-6-6            1   2.905796  \n",
       "2          2024-6-6            1   2.984077  \n",
       "3          2024-6-6            1   3.007321  \n",
       "4          2024-6-6            1   3.037825  \n",
       "...             ...          ...        ...  \n",
       "14684      2024-6-6           12   3.615740  \n",
       "14685      2024-6-6           12   3.452553  \n",
       "14686      2024-6-6           12   3.657438  \n",
       "14687      2024-6-6           12   3.741467  \n",
       "14688      2024-6-6           12   3.605521  \n",
       "\n",
       "[14689 rows x 11 columns]"
      ]
     },
     "execution_count": 33,
     "metadata": {},
     "output_type": "execute_result"
    }
   ],
   "source": [
    "# dataset após a remoção\n",
    "hospedagens_clean"
   ]
  },
  {
   "cell_type": "code",
   "execution_count": 34,
   "metadata": {},
   "outputs": [
    {
     "name": "stderr",
     "output_type": "stream",
     "text": [
      "C:\\Users\\extre\\AppData\\Local\\Temp\\ipykernel_10148\\139006889.py:2: FutureWarning: 'M' is deprecated and will be removed in a future version, please use 'ME' instead.\n",
      "  preco_medio_mensal = hospedagens_clean.groupby(pd.Grouper(key='checkin', freq=\"M\"))['preço'].mean()\n"
     ]
    },
    {
     "data": {
      "text/plain": [
       "checkin\n",
       "2024-07-31    1715.769387\n",
       "2024-08-31    1645.414099\n",
       "2024-09-30    1720.720195\n",
       "2024-10-31    1762.274056\n",
       "2024-11-30    1806.231776\n",
       "2024-12-31    2015.132750\n",
       "2025-01-31    2128.298424\n",
       "2025-02-28    2015.024709\n",
       "2025-03-31    2683.467026\n",
       "2025-04-30    2102.872283\n",
       "2025-05-31    2018.750000\n",
       "2025-06-30    1873.267507\n",
       "Freq: ME, Name: preço, dtype: float64"
      ]
     },
     "execution_count": 34,
     "metadata": {},
     "output_type": "execute_result"
    }
   ],
   "source": [
    "# média nova dos preços de cada mês\n",
    "preco_medio_mensal = hospedagens_clean.groupby(pd.Grouper(key='checkin', freq=\"M\"))['preço'].mean()\n",
    "preco_medio_mensal"
   ]
  },
  {
   "cell_type": "code",
   "execution_count": 35,
   "metadata": {},
   "outputs": [
    {
     "name": "stderr",
     "output_type": "stream",
     "text": [
      "C:\\Users\\extre\\AppData\\Local\\Temp\\ipykernel_10148\\1362972130.py:2: FutureWarning: 'M' is deprecated and will be removed in a future version, please use 'ME' instead.\n",
      "  preco_mediano_mensal = hospedagens_clean.groupby(pd.Grouper(key='checkin', freq=\"M\"))['preço'].median()\n"
     ]
    },
    {
     "data": {
      "text/plain": [
       "checkin\n",
       "2024-07-31    1575.0\n",
       "2024-08-31    1487.0\n",
       "2024-09-30    1593.0\n",
       "2024-10-31    1618.0\n",
       "2024-11-30    1638.0\n",
       "2024-12-31    1712.0\n",
       "2025-01-31    1960.0\n",
       "2025-02-28    1700.0\n",
       "2025-03-31    1915.0\n",
       "2025-04-30    1747.0\n",
       "2025-05-31    1687.0\n",
       "2025-06-30    1566.5\n",
       "Freq: ME, Name: preço, dtype: float64"
      ]
     },
     "execution_count": 35,
     "metadata": {},
     "output_type": "execute_result"
    }
   ],
   "source": [
    "# mediana nova dos preços de cada mês\n",
    "preco_mediano_mensal = hospedagens_clean.groupby(pd.Grouper(key='checkin', freq=\"M\"))['preço'].median()\n",
    "preco_mediano_mensal"
   ]
  },
  {
   "cell_type": "markdown",
   "metadata": {},
   "source": [
    "É possível notar algumas mudanças nesses dados em comparação com o dataset antes da remoção, mas a variação nos dados por mês permanece, inclusive ainda há uma \"alta\" variação nos meses de janeiro e março, meses que possuem épocas festivas. "
   ]
  },
  {
   "cell_type": "code",
   "execution_count": 36,
   "metadata": {},
   "outputs": [
    {
     "data": {
      "text/plain": [
       "<Axes: >"
      ]
     },
     "execution_count": 36,
     "metadata": {},
     "output_type": "execute_result"
    },
    {
     "data": {
      "image/png": "[encoded data removed]",
      "text/plain": [
       "<Figure size 640x480 with 1 Axes>"
      ]
     },
     "metadata": {},
     "output_type": "display_data"
    }
   ],
   "source": [
    "hospedagens_clean['preço'].plot(kind='box')"
   ]
  },
  {
   "cell_type": "code",
   "execution_count": 37,
   "metadata": {},
   "outputs": [
    {
     "data": {
      "text/html": [
       "<div>\n",
       "<style scoped>\n",
       "    .dataframe tbody tr th:only-of-type {\n",
       "        vertical-align: middle;\n",
       "    }\n",
       "\n",
       "    .dataframe tbody tr th {\n",
       "        vertical-align: top;\n",
       "    }\n",
       "\n",
       "    .dataframe thead th {\n",
       "        text-align: right;\n",
       "    }\n",
       "</style>\n",
       "<table border=\"1\" class=\"dataframe\">\n",
       "  <thead>\n",
       "    <tr style=\"text-align: right;\">\n",
       "      <th></th>\n",
       "      <th>preço</th>\n",
       "      <th>checkin</th>\n",
       "      <th>checkout</th>\n",
       "      <th>dist_centro</th>\n",
       "      <th>avaliacao</th>\n",
       "      <th>qtnd_avaliacoes</th>\n",
       "      <th>mes_checkin</th>\n",
       "      <th>log_price</th>\n",
       "    </tr>\n",
       "  </thead>\n",
       "  <tbody>\n",
       "    <tr>\n",
       "      <th>count</th>\n",
       "      <td>14689.000000</td>\n",
       "      <td>14689</td>\n",
       "      <td>14689</td>\n",
       "      <td>14689.000000</td>\n",
       "      <td>14689.000000</td>\n",
       "      <td>14689.000000</td>\n",
       "      <td>14689.000000</td>\n",
       "      <td>14689.000000</td>\n",
       "    </tr>\n",
       "    <tr>\n",
       "      <th>mean</th>\n",
       "      <td>1882.464906</td>\n",
       "      <td>2024-11-16 11:32:18.348423936</td>\n",
       "      <td>2024-11-23 11:32:18.348424192</td>\n",
       "      <td>8.217118</td>\n",
       "      <td>8.269038</td>\n",
       "      <td>420.040997</td>\n",
       "      <td>7.384437</td>\n",
       "      <td>3.216039</td>\n",
       "    </tr>\n",
       "    <tr>\n",
       "      <th>min</th>\n",
       "      <td>268.000000</td>\n",
       "      <td>2024-07-01 00:00:00</td>\n",
       "      <td>2024-07-08 00:00:00</td>\n",
       "      <td>0.200000</td>\n",
       "      <td>1.000000</td>\n",
       "      <td>1.000000</td>\n",
       "      <td>1.000000</td>\n",
       "      <td>2.428135</td>\n",
       "    </tr>\n",
       "    <tr>\n",
       "      <th>25%</th>\n",
       "      <td>1190.000000</td>\n",
       "      <td>2024-08-22 00:00:00</td>\n",
       "      <td>2024-08-29 00:00:00</td>\n",
       "      <td>4.400000</td>\n",
       "      <td>7.700000</td>\n",
       "      <td>3.000000</td>\n",
       "      <td>5.000000</td>\n",
       "      <td>3.075547</td>\n",
       "    </tr>\n",
       "    <tr>\n",
       "      <th>50%</th>\n",
       "      <td>1638.000000</td>\n",
       "      <td>2024-11-01 00:00:00</td>\n",
       "      <td>2024-11-08 00:00:00</td>\n",
       "      <td>6.800000</td>\n",
       "      <td>8.700000</td>\n",
       "      <td>13.000000</td>\n",
       "      <td>8.000000</td>\n",
       "      <td>3.214314</td>\n",
       "    </tr>\n",
       "    <tr>\n",
       "      <th>75%</th>\n",
       "      <td>2173.000000</td>\n",
       "      <td>2025-01-22 00:00:00</td>\n",
       "      <td>2025-01-29 00:00:00</td>\n",
       "      <td>9.500000</td>\n",
       "      <td>9.500000</td>\n",
       "      <td>81.000000</td>\n",
       "      <td>10.000000</td>\n",
       "      <td>3.337060</td>\n",
       "    </tr>\n",
       "    <tr>\n",
       "      <th>max</th>\n",
       "      <td>13388.000000</td>\n",
       "      <td>2025-06-22 00:00:00</td>\n",
       "      <td>2025-06-29 00:00:00</td>\n",
       "      <td>89.400000</td>\n",
       "      <td>10.000001</td>\n",
       "      <td>8861.000000</td>\n",
       "      <td>12.000000</td>\n",
       "      <td>4.126716</td>\n",
       "    </tr>\n",
       "    <tr>\n",
       "      <th>std</th>\n",
       "      <td>1115.147037</td>\n",
       "      <td>NaN</td>\n",
       "      <td>NaN</td>\n",
       "      <td>7.000741</td>\n",
       "      <td>1.886275</td>\n",
       "      <td>1117.820120</td>\n",
       "      <td>3.261753</td>\n",
       "      <td>0.221443</td>\n",
       "    </tr>\n",
       "  </tbody>\n",
       "</table>\n",
       "</div>"
      ],
      "text/plain": [
       "              preço                        checkin  \\\n",
       "count  14689.000000                          14689   \n",
       "mean    1882.464906  2024-11-16 11:32:18.348423936   \n",
       "min      268.000000            2024-07-01 00:00:00   \n",
       "25%     1190.000000            2024-08-22 00:00:00   \n",
       "50%     1638.000000            2024-11-01 00:00:00   \n",
       "75%     2173.000000            2025-01-22 00:00:00   \n",
       "max    13388.000000            2025-06-22 00:00:00   \n",
       "std     1115.147037                            NaN   \n",
       "\n",
       "                            checkout   dist_centro     avaliacao  \\\n",
       "count                          14689  14689.000000  14689.000000   \n",
       "mean   2024-11-23 11:32:18.348424192      8.217118      8.269038   \n",
       "min              2024-07-08 00:00:00      0.200000      1.000000   \n",
       "25%              2024-08-29 00:00:00      4.400000      7.700000   \n",
       "50%              2024-11-08 00:00:00      6.800000      8.700000   \n",
       "75%              2025-01-29 00:00:00      9.500000      9.500000   \n",
       "max              2025-06-29 00:00:00     89.400000     10.000001   \n",
       "std                              NaN      7.000741      1.886275   \n",
       "\n",
       "       qtnd_avaliacoes   mes_checkin     log_price  \n",
       "count     14689.000000  14689.000000  14689.000000  \n",
       "mean        420.040997      7.384437      3.216039  \n",
       "min           1.000000      1.000000      2.428135  \n",
       "25%           3.000000      5.000000      3.075547  \n",
       "50%          13.000000      8.000000      3.214314  \n",
       "75%          81.000000     10.000000      3.337060  \n",
       "max        8861.000000     12.000000      4.126716  \n",
       "std        1117.820120      3.261753      0.221443  "
      ]
     },
     "execution_count": 37,
     "metadata": {},
     "output_type": "execute_result"
    }
   ],
   "source": [
    "hospedagens_clean.describe()"
   ]
  },
  {
   "cell_type": "markdown",
   "metadata": {},
   "source": [
    "Apesar de o gráfico ainda, aparentemente, apresentar outliers, muitos foram removidos e houve um ajuste significativo."
   ]
  },
  {
   "cell_type": "markdown",
   "metadata": {},
   "source": [
    "## Discretização"
   ]
  },
  {
   "cell_type": "markdown",
   "metadata": {},
   "source": [
    "Decidimos discretizar as colunas principais da nossa análise: Preço e Mes_checkin.\n",
    "Discretizamos preço para gerar categorias de preço, variando de econômico até muito caro. Esse é um bom jeito para visualizar oportunidades, podendo filtrar os dados pela tag \"econômico\" para visualizar boas oportunidades de preço.\n",
    "E, também, aplicamos categorias de estações do ano através da discretização, para assim ficar mais fácil a visualização futura de insights sobre estações do ano e sua variabilidade no preço."
   ]
  },
  {
   "cell_type": "code",
   "execution_count": 38,
   "metadata": {},
   "outputs": [],
   "source": [
    "# Discretizar a coluna de preços em 5 categorias\n",
    "hospedagens_clean['price_category'] = pd.qcut(hospedagens_clean['preço'], 5, labels=['Econômico', 'Baixo', 'Médio', 'Caro', 'Muito Caro'])\n"
   ]
  },
  {
   "cell_type": "code",
   "execution_count": 39,
   "metadata": {},
   "outputs": [
    {
     "data": {
      "text/html": [
       "<div>\n",
       "<style scoped>\n",
       "    .dataframe tbody tr th:only-of-type {\n",
       "        vertical-align: middle;\n",
       "    }\n",
       "\n",
       "    .dataframe tbody tr th {\n",
       "        vertical-align: top;\n",
       "    }\n",
       "\n",
       "    .dataframe thead th {\n",
       "        text-align: right;\n",
       "    }\n",
       "</style>\n",
       "<table border=\"1\" class=\"dataframe\">\n",
       "  <thead>\n",
       "    <tr style=\"text-align: right;\">\n",
       "      <th></th>\n",
       "      <th>hotel</th>\n",
       "      <th>cidade</th>\n",
       "      <th>preço</th>\n",
       "      <th>checkin</th>\n",
       "      <th>checkout</th>\n",
       "      <th>dist_centro</th>\n",
       "      <th>avaliacao</th>\n",
       "      <th>qtnd_avaliacoes</th>\n",
       "      <th>data_extracao</th>\n",
       "      <th>mes_checkin</th>\n",
       "      <th>log_price</th>\n",
       "      <th>price_category</th>\n",
       "    </tr>\n",
       "  </thead>\n",
       "  <tbody>\n",
       "    <tr>\n",
       "      <th>0</th>\n",
       "      <td>Villa d'Oro Hotel</td>\n",
       "      <td>Recife</td>\n",
       "      <td>1389</td>\n",
       "      <td>2025-01-01</td>\n",
       "      <td>2025-01-08</td>\n",
       "      <td>1.4</td>\n",
       "      <td>8.6</td>\n",
       "      <td>1620.0</td>\n",
       "      <td>2024-6-6</td>\n",
       "      <td>1</td>\n",
       "      <td>3.142702</td>\n",
       "      <td>Baixo</td>\n",
       "    </tr>\n",
       "    <tr>\n",
       "      <th>1</th>\n",
       "      <td>Hotel Central</td>\n",
       "      <td>Recife</td>\n",
       "      <td>805</td>\n",
       "      <td>2025-01-01</td>\n",
       "      <td>2025-01-08</td>\n",
       "      <td>0.8</td>\n",
       "      <td>7.3</td>\n",
       "      <td>393.0</td>\n",
       "      <td>2024-6-6</td>\n",
       "      <td>1</td>\n",
       "      <td>2.905796</td>\n",
       "      <td>Econômico</td>\n",
       "    </tr>\n",
       "    <tr>\n",
       "      <th>2</th>\n",
       "      <td>APARTAMENTO PROXIMO À UFPE</td>\n",
       "      <td>Recife</td>\n",
       "      <td>964</td>\n",
       "      <td>2025-01-01</td>\n",
       "      <td>2025-01-08</td>\n",
       "      <td>8.4</td>\n",
       "      <td>9.1</td>\n",
       "      <td>14.0</td>\n",
       "      <td>2024-6-6</td>\n",
       "      <td>1</td>\n",
       "      <td>2.984077</td>\n",
       "      <td>Econômico</td>\n",
       "    </tr>\n",
       "    <tr>\n",
       "      <th>3</th>\n",
       "      <td>Lindo APT Cinza à 50m do mar - Praia de Boa Vi...</td>\n",
       "      <td>Recife</td>\n",
       "      <td>1017</td>\n",
       "      <td>2025-01-01</td>\n",
       "      <td>2025-01-08</td>\n",
       "      <td>5.8</td>\n",
       "      <td>10.0</td>\n",
       "      <td>1.0</td>\n",
       "      <td>2024-6-6</td>\n",
       "      <td>1</td>\n",
       "      <td>3.007321</td>\n",
       "      <td>Econômico</td>\n",
       "    </tr>\n",
       "    <tr>\n",
       "      <th>4</th>\n",
       "      <td>Lar Recife Olinda - Hostel com suites individuais</td>\n",
       "      <td>Recife</td>\n",
       "      <td>1091</td>\n",
       "      <td>2025-01-01</td>\n",
       "      <td>2025-01-08</td>\n",
       "      <td>3.5</td>\n",
       "      <td>9.5</td>\n",
       "      <td>105.0</td>\n",
       "      <td>2024-6-6</td>\n",
       "      <td>1</td>\n",
       "      <td>3.037825</td>\n",
       "      <td>Econômico</td>\n",
       "    </tr>\n",
       "  </tbody>\n",
       "</table>\n",
       "</div>"
      ],
      "text/plain": [
       "                                               hotel  cidade  preço  \\\n",
       "0                                  Villa d'Oro Hotel  Recife   1389   \n",
       "1                                      Hotel Central  Recife    805   \n",
       "2                         APARTAMENTO PROXIMO À UFPE  Recife    964   \n",
       "3  Lindo APT Cinza à 50m do mar - Praia de Boa Vi...  Recife   1017   \n",
       "4  Lar Recife Olinda - Hostel com suites individuais  Recife   1091   \n",
       "\n",
       "     checkin   checkout  dist_centro  avaliacao  qtnd_avaliacoes  \\\n",
       "0 2025-01-01 2025-01-08          1.4        8.6           1620.0   \n",
       "1 2025-01-01 2025-01-08          0.8        7.3            393.0   \n",
       "2 2025-01-01 2025-01-08          8.4        9.1             14.0   \n",
       "3 2025-01-01 2025-01-08          5.8       10.0              1.0   \n",
       "4 2025-01-01 2025-01-08          3.5        9.5            105.0   \n",
       "\n",
       "  data_extracao  mes_checkin  log_price price_category  \n",
       "0      2024-6-6            1   3.142702          Baixo  \n",
       "1      2024-6-6            1   2.905796      Econômico  \n",
       "2      2024-6-6            1   2.984077      Econômico  \n",
       "3      2024-6-6            1   3.007321      Econômico  \n",
       "4      2024-6-6            1   3.037825      Econômico  "
      ]
     },
     "execution_count": 39,
     "metadata": {},
     "output_type": "execute_result"
    }
   ],
   "source": [
    "hospedagens_clean.head()"
   ]
  },
  {
   "cell_type": "code",
   "execution_count": 40,
   "metadata": {},
   "outputs": [
    {
     "data": {
      "text/html": [
       "<div>\n",
       "<style scoped>\n",
       "    .dataframe tbody tr th:only-of-type {\n",
       "        vertical-align: middle;\n",
       "    }\n",
       "\n",
       "    .dataframe tbody tr th {\n",
       "        vertical-align: top;\n",
       "    }\n",
       "\n",
       "    .dataframe thead th {\n",
       "        text-align: right;\n",
       "    }\n",
       "</style>\n",
       "<table border=\"1\" class=\"dataframe\">\n",
       "  <thead>\n",
       "    <tr style=\"text-align: right;\">\n",
       "      <th></th>\n",
       "      <th>hotel</th>\n",
       "      <th>cidade</th>\n",
       "      <th>preço</th>\n",
       "      <th>checkin</th>\n",
       "      <th>checkout</th>\n",
       "      <th>dist_centro</th>\n",
       "      <th>avaliacao</th>\n",
       "      <th>qtnd_avaliacoes</th>\n",
       "      <th>data_extracao</th>\n",
       "      <th>mes_checkin</th>\n",
       "      <th>log_price</th>\n",
       "      <th>price_category</th>\n",
       "      <th>season</th>\n",
       "    </tr>\n",
       "  </thead>\n",
       "  <tbody>\n",
       "    <tr>\n",
       "      <th>0</th>\n",
       "      <td>Villa d'Oro Hotel</td>\n",
       "      <td>Recife</td>\n",
       "      <td>1389</td>\n",
       "      <td>2025-01-01</td>\n",
       "      <td>2025-01-08</td>\n",
       "      <td>1.4</td>\n",
       "      <td>8.6</td>\n",
       "      <td>1620.0</td>\n",
       "      <td>2024-6-6</td>\n",
       "      <td>1</td>\n",
       "      <td>3.142702</td>\n",
       "      <td>Baixo</td>\n",
       "      <td>Verão</td>\n",
       "    </tr>\n",
       "    <tr>\n",
       "      <th>1</th>\n",
       "      <td>Hotel Central</td>\n",
       "      <td>Recife</td>\n",
       "      <td>805</td>\n",
       "      <td>2025-01-01</td>\n",
       "      <td>2025-01-08</td>\n",
       "      <td>0.8</td>\n",
       "      <td>7.3</td>\n",
       "      <td>393.0</td>\n",
       "      <td>2024-6-6</td>\n",
       "      <td>1</td>\n",
       "      <td>2.905796</td>\n",
       "      <td>Econômico</td>\n",
       "      <td>Verão</td>\n",
       "    </tr>\n",
       "    <tr>\n",
       "      <th>2</th>\n",
       "      <td>APARTAMENTO PROXIMO À UFPE</td>\n",
       "      <td>Recife</td>\n",
       "      <td>964</td>\n",
       "      <td>2025-01-01</td>\n",
       "      <td>2025-01-08</td>\n",
       "      <td>8.4</td>\n",
       "      <td>9.1</td>\n",
       "      <td>14.0</td>\n",
       "      <td>2024-6-6</td>\n",
       "      <td>1</td>\n",
       "      <td>2.984077</td>\n",
       "      <td>Econômico</td>\n",
       "      <td>Verão</td>\n",
       "    </tr>\n",
       "    <tr>\n",
       "      <th>3</th>\n",
       "      <td>Lindo APT Cinza à 50m do mar - Praia de Boa Vi...</td>\n",
       "      <td>Recife</td>\n",
       "      <td>1017</td>\n",
       "      <td>2025-01-01</td>\n",
       "      <td>2025-01-08</td>\n",
       "      <td>5.8</td>\n",
       "      <td>10.0</td>\n",
       "      <td>1.0</td>\n",
       "      <td>2024-6-6</td>\n",
       "      <td>1</td>\n",
       "      <td>3.007321</td>\n",
       "      <td>Econômico</td>\n",
       "      <td>Verão</td>\n",
       "    </tr>\n",
       "    <tr>\n",
       "      <th>4</th>\n",
       "      <td>Lar Recife Olinda - Hostel com suites individuais</td>\n",
       "      <td>Recife</td>\n",
       "      <td>1091</td>\n",
       "      <td>2025-01-01</td>\n",
       "      <td>2025-01-08</td>\n",
       "      <td>3.5</td>\n",
       "      <td>9.5</td>\n",
       "      <td>105.0</td>\n",
       "      <td>2024-6-6</td>\n",
       "      <td>1</td>\n",
       "      <td>3.037825</td>\n",
       "      <td>Econômico</td>\n",
       "      <td>Verão</td>\n",
       "    </tr>\n",
       "    <tr>\n",
       "      <th>5</th>\n",
       "      <td>Bonito é ser Feliz</td>\n",
       "      <td>Recife</td>\n",
       "      <td>684</td>\n",
       "      <td>2025-01-01</td>\n",
       "      <td>2025-01-08</td>\n",
       "      <td>4.8</td>\n",
       "      <td>9.8</td>\n",
       "      <td>46.0</td>\n",
       "      <td>2024-6-6</td>\n",
       "      <td>1</td>\n",
       "      <td>2.835056</td>\n",
       "      <td>Econômico</td>\n",
       "      <td>Verão</td>\n",
       "    </tr>\n",
       "    <tr>\n",
       "      <th>6</th>\n",
       "      <td>Park Hotel</td>\n",
       "      <td>Recife</td>\n",
       "      <td>2684</td>\n",
       "      <td>2025-01-01</td>\n",
       "      <td>2025-01-08</td>\n",
       "      <td>8.6</td>\n",
       "      <td>8.5</td>\n",
       "      <td>5064.0</td>\n",
       "      <td>2024-6-6</td>\n",
       "      <td>1</td>\n",
       "      <td>3.428783</td>\n",
       "      <td>Muito Caro</td>\n",
       "      <td>Verão</td>\n",
       "    </tr>\n",
       "    <tr>\n",
       "      <th>7</th>\n",
       "      <td>Rede Andrade LG Inn</td>\n",
       "      <td>Recife</td>\n",
       "      <td>1827</td>\n",
       "      <td>2025-01-01</td>\n",
       "      <td>2025-01-08</td>\n",
       "      <td>6.8</td>\n",
       "      <td>7.7</td>\n",
       "      <td>8861.0</td>\n",
       "      <td>2024-6-6</td>\n",
       "      <td>1</td>\n",
       "      <td>3.261739</td>\n",
       "      <td>Caro</td>\n",
       "      <td>Verão</td>\n",
       "    </tr>\n",
       "    <tr>\n",
       "      <th>8</th>\n",
       "      <td>Qto Duplo próximo ao Shopping Recife</td>\n",
       "      <td>Recife</td>\n",
       "      <td>625</td>\n",
       "      <td>2025-01-01</td>\n",
       "      <td>2025-01-08</td>\n",
       "      <td>8.1</td>\n",
       "      <td>10.0</td>\n",
       "      <td>3.0</td>\n",
       "      <td>2024-6-6</td>\n",
       "      <td>1</td>\n",
       "      <td>2.795880</td>\n",
       "      <td>Econômico</td>\n",
       "      <td>Verão</td>\n",
       "    </tr>\n",
       "    <tr>\n",
       "      <th>9</th>\n",
       "      <td>Hotel Pousada Casa Grande</td>\n",
       "      <td>Recife</td>\n",
       "      <td>1190</td>\n",
       "      <td>2025-01-01</td>\n",
       "      <td>2025-01-08</td>\n",
       "      <td>11.5</td>\n",
       "      <td>8.0</td>\n",
       "      <td>2.0</td>\n",
       "      <td>2024-6-6</td>\n",
       "      <td>1</td>\n",
       "      <td>3.075547</td>\n",
       "      <td>Baixo</td>\n",
       "      <td>Verão</td>\n",
       "    </tr>\n",
       "  </tbody>\n",
       "</table>\n",
       "</div>"
      ],
      "text/plain": [
       "                                               hotel  cidade  preço  \\\n",
       "0                                  Villa d'Oro Hotel  Recife   1389   \n",
       "1                                      Hotel Central  Recife    805   \n",
       "2                         APARTAMENTO PROXIMO À UFPE  Recife    964   \n",
       "3  Lindo APT Cinza à 50m do mar - Praia de Boa Vi...  Recife   1017   \n",
       "4  Lar Recife Olinda - Hostel com suites individuais  Recife   1091   \n",
       "5                                 Bonito é ser Feliz  Recife    684   \n",
       "6                                         Park Hotel  Recife   2684   \n",
       "7                                Rede Andrade LG Inn  Recife   1827   \n",
       "8               Qto Duplo próximo ao Shopping Recife  Recife    625   \n",
       "9                          Hotel Pousada Casa Grande  Recife   1190   \n",
       "\n",
       "     checkin   checkout  dist_centro  avaliacao  qtnd_avaliacoes  \\\n",
       "0 2025-01-01 2025-01-08          1.4        8.6           1620.0   \n",
       "1 2025-01-01 2025-01-08          0.8        7.3            393.0   \n",
       "2 2025-01-01 2025-01-08          8.4        9.1             14.0   \n",
       "3 2025-01-01 2025-01-08          5.8       10.0              1.0   \n",
       "4 2025-01-01 2025-01-08          3.5        9.5            105.0   \n",
       "5 2025-01-01 2025-01-08          4.8        9.8             46.0   \n",
       "6 2025-01-01 2025-01-08          8.6        8.5           5064.0   \n",
       "7 2025-01-01 2025-01-08          6.8        7.7           8861.0   \n",
       "8 2025-01-01 2025-01-08          8.1       10.0              3.0   \n",
       "9 2025-01-01 2025-01-08         11.5        8.0              2.0   \n",
       "\n",
       "  data_extracao  mes_checkin  log_price price_category season  \n",
       "0      2024-6-6            1   3.142702          Baixo  Verão  \n",
       "1      2024-6-6            1   2.905796      Econômico  Verão  \n",
       "2      2024-6-6            1   2.984077      Econômico  Verão  \n",
       "3      2024-6-6            1   3.007321      Econômico  Verão  \n",
       "4      2024-6-6            1   3.037825      Econômico  Verão  \n",
       "5      2024-6-6            1   2.835056      Econômico  Verão  \n",
       "6      2024-6-6            1   3.428783     Muito Caro  Verão  \n",
       "7      2024-6-6            1   3.261739           Caro  Verão  \n",
       "8      2024-6-6            1   2.795880      Econômico  Verão  \n",
       "9      2024-6-6            1   3.075547          Baixo  Verão  "
      ]
     },
     "execution_count": 40,
     "metadata": {},
     "output_type": "execute_result"
    }
   ],
   "source": [
    "# Definir a função para mapear os meses para as estações do ano\n",
    "def month_to_season(month):\n",
    "    if month in [9, 10, 11]:\n",
    "        return 'Primavera'\n",
    "    elif month in [12, 1, 2]:\n",
    "        return 'Verão'\n",
    "    elif month in [3, 4, 5]:\n",
    "        return 'Outono'\n",
    "    else:\n",
    "        return 'Inverno'\n",
    "\n",
    "# Discretizar os meses e adicionar categorias de estações do ano\n",
    "hospedagens_clean['season'] = hospedagens_clean['mes_checkin'].apply(month_to_season)\n",
    "hospedagens_clean.head(10)"
   ]
  },
  {
   "cell_type": "code",
   "execution_count": 41,
   "metadata": {},
   "outputs": [
    {
     "data": {
      "text/html": [
       "<div>\n",
       "<style scoped>\n",
       "    .dataframe tbody tr th:only-of-type {\n",
       "        vertical-align: middle;\n",
       "    }\n",
       "\n",
       "    .dataframe tbody tr th {\n",
       "        vertical-align: top;\n",
       "    }\n",
       "\n",
       "    .dataframe thead th {\n",
       "        text-align: right;\n",
       "    }\n",
       "</style>\n",
       "<table border=\"1\" class=\"dataframe\">\n",
       "  <thead>\n",
       "    <tr style=\"text-align: right;\">\n",
       "      <th></th>\n",
       "      <th>hotel</th>\n",
       "      <th>cidade</th>\n",
       "      <th>preço</th>\n",
       "      <th>checkin</th>\n",
       "      <th>checkout</th>\n",
       "      <th>dist_centro</th>\n",
       "      <th>avaliacao</th>\n",
       "      <th>qtnd_avaliacoes</th>\n",
       "      <th>data_extracao</th>\n",
       "      <th>mes_checkin</th>\n",
       "      <th>log_price</th>\n",
       "      <th>price_category</th>\n",
       "      <th>season</th>\n",
       "    </tr>\n",
       "  </thead>\n",
       "  <tbody>\n",
       "    <tr>\n",
       "      <th>13431</th>\n",
       "      <td>Hotel Golden Park Recife Boa Viagem</td>\n",
       "      <td>Recife</td>\n",
       "      <td>1722</td>\n",
       "      <td>2024-12-01</td>\n",
       "      <td>2024-12-08</td>\n",
       "      <td>9.3</td>\n",
       "      <td>7.5</td>\n",
       "      <td>2655.0</td>\n",
       "      <td>2024-6-6</td>\n",
       "      <td>12</td>\n",
       "      <td>3.236033</td>\n",
       "      <td>Médio</td>\n",
       "      <td>Verão</td>\n",
       "    </tr>\n",
       "    <tr>\n",
       "      <th>13432</th>\n",
       "      <td>Transamerica Fit Recife</td>\n",
       "      <td>Recife</td>\n",
       "      <td>1648</td>\n",
       "      <td>2024-12-01</td>\n",
       "      <td>2024-12-08</td>\n",
       "      <td>7.0</td>\n",
       "      <td>8.3</td>\n",
       "      <td>5177.0</td>\n",
       "      <td>2024-6-6</td>\n",
       "      <td>12</td>\n",
       "      <td>3.216957</td>\n",
       "      <td>Médio</td>\n",
       "      <td>Verão</td>\n",
       "    </tr>\n",
       "    <tr>\n",
       "      <th>13433</th>\n",
       "      <td>Aconchegante Apto de 1qt a 60mts do Consulado EUA</td>\n",
       "      <td>Recife</td>\n",
       "      <td>1011</td>\n",
       "      <td>2024-12-01</td>\n",
       "      <td>2024-12-08</td>\n",
       "      <td>1.2</td>\n",
       "      <td>9.7</td>\n",
       "      <td>36.0</td>\n",
       "      <td>2024-6-6</td>\n",
       "      <td>12</td>\n",
       "      <td>3.004751</td>\n",
       "      <td>Econômico</td>\n",
       "      <td>Verão</td>\n",
       "    </tr>\n",
       "    <tr>\n",
       "      <th>13434</th>\n",
       "      <td>Park Hotel</td>\n",
       "      <td>Recife</td>\n",
       "      <td>2095</td>\n",
       "      <td>2024-12-01</td>\n",
       "      <td>2024-12-08</td>\n",
       "      <td>8.6</td>\n",
       "      <td>8.5</td>\n",
       "      <td>5064.0</td>\n",
       "      <td>2024-6-6</td>\n",
       "      <td>12</td>\n",
       "      <td>3.321184</td>\n",
       "      <td>Caro</td>\n",
       "      <td>Verão</td>\n",
       "    </tr>\n",
       "    <tr>\n",
       "      <th>13435</th>\n",
       "      <td>Hotel Central</td>\n",
       "      <td>Recife</td>\n",
       "      <td>805</td>\n",
       "      <td>2024-12-01</td>\n",
       "      <td>2024-12-08</td>\n",
       "      <td>0.8</td>\n",
       "      <td>7.3</td>\n",
       "      <td>393.0</td>\n",
       "      <td>2024-6-6</td>\n",
       "      <td>12</td>\n",
       "      <td>2.905796</td>\n",
       "      <td>Econômico</td>\n",
       "      <td>Verão</td>\n",
       "    </tr>\n",
       "  </tbody>\n",
       "</table>\n",
       "</div>"
      ],
      "text/plain": [
       "                                                   hotel  cidade  preço  \\\n",
       "13431                Hotel Golden Park Recife Boa Viagem  Recife   1722   \n",
       "13432                            Transamerica Fit Recife  Recife   1648   \n",
       "13433  Aconchegante Apto de 1qt a 60mts do Consulado EUA  Recife   1011   \n",
       "13434                                         Park Hotel  Recife   2095   \n",
       "13435                                      Hotel Central  Recife    805   \n",
       "\n",
       "         checkin   checkout  dist_centro  avaliacao  qtnd_avaliacoes  \\\n",
       "13431 2024-12-01 2024-12-08          9.3        7.5           2655.0   \n",
       "13432 2024-12-01 2024-12-08          7.0        8.3           5177.0   \n",
       "13433 2024-12-01 2024-12-08          1.2        9.7             36.0   \n",
       "13434 2024-12-01 2024-12-08          8.6        8.5           5064.0   \n",
       "13435 2024-12-01 2024-12-08          0.8        7.3            393.0   \n",
       "\n",
       "      data_extracao  mes_checkin  log_price price_category season  \n",
       "13431      2024-6-6           12   3.236033          Médio  Verão  \n",
       "13432      2024-6-6           12   3.216957          Médio  Verão  \n",
       "13433      2024-6-6           12   3.004751      Econômico  Verão  \n",
       "13434      2024-6-6           12   3.321184           Caro  Verão  \n",
       "13435      2024-6-6           12   2.905796      Econômico  Verão  "
      ]
     },
     "execution_count": 41,
     "metadata": {},
     "output_type": "execute_result"
    }
   ],
   "source": [
    "hospedagens_clean[hospedagens_clean['mes_checkin'] == 12].head()"
   ]
  },
  {
   "cell_type": "code",
   "execution_count": 42,
   "metadata": {},
   "outputs": [
    {
     "data": {
      "text/html": [
       "<div>\n",
       "<style scoped>\n",
       "    .dataframe tbody tr th:only-of-type {\n",
       "        vertical-align: middle;\n",
       "    }\n",
       "\n",
       "    .dataframe tbody tr th {\n",
       "        vertical-align: top;\n",
       "    }\n",
       "\n",
       "    .dataframe thead th {\n",
       "        text-align: right;\n",
       "    }\n",
       "</style>\n",
       "<table border=\"1\" class=\"dataframe\">\n",
       "  <thead>\n",
       "    <tr style=\"text-align: right;\">\n",
       "      <th></th>\n",
       "      <th>hotel</th>\n",
       "      <th>cidade</th>\n",
       "      <th>preço</th>\n",
       "      <th>checkin</th>\n",
       "      <th>checkout</th>\n",
       "      <th>dist_centro</th>\n",
       "      <th>avaliacao</th>\n",
       "      <th>qtnd_avaliacoes</th>\n",
       "      <th>data_extracao</th>\n",
       "      <th>mes_checkin</th>\n",
       "      <th>log_price</th>\n",
       "      <th>price_category</th>\n",
       "      <th>season</th>\n",
       "    </tr>\n",
       "  </thead>\n",
       "  <tbody>\n",
       "    <tr>\n",
       "      <th>0</th>\n",
       "      <td>Villa d'Oro Hotel</td>\n",
       "      <td>Recife</td>\n",
       "      <td>1389</td>\n",
       "      <td>2025-01-01</td>\n",
       "      <td>2025-01-08</td>\n",
       "      <td>1.4</td>\n",
       "      <td>8.600000</td>\n",
       "      <td>1620.000000</td>\n",
       "      <td>2024-6-6</td>\n",
       "      <td>1</td>\n",
       "      <td>3.142702</td>\n",
       "      <td>Baixo</td>\n",
       "      <td>Verão</td>\n",
       "    </tr>\n",
       "    <tr>\n",
       "      <th>9</th>\n",
       "      <td>Hotel Pousada Casa Grande</td>\n",
       "      <td>Recife</td>\n",
       "      <td>1190</td>\n",
       "      <td>2025-01-01</td>\n",
       "      <td>2025-01-08</td>\n",
       "      <td>11.5</td>\n",
       "      <td>8.000000</td>\n",
       "      <td>2.000000</td>\n",
       "      <td>2024-6-6</td>\n",
       "      <td>1</td>\n",
       "      <td>3.075547</td>\n",
       "      <td>Baixo</td>\n",
       "      <td>Verão</td>\n",
       "    </tr>\n",
       "    <tr>\n",
       "      <th>25</th>\n",
       "      <td>ibis budget Recife Jaboatão</td>\n",
       "      <td>Recife</td>\n",
       "      <td>1265</td>\n",
       "      <td>2025-01-01</td>\n",
       "      <td>2025-01-08</td>\n",
       "      <td>12.7</td>\n",
       "      <td>8.400000</td>\n",
       "      <td>2077.000000</td>\n",
       "      <td>2024-6-6</td>\n",
       "      <td>1</td>\n",
       "      <td>3.102091</td>\n",
       "      <td>Baixo</td>\n",
       "      <td>Verão</td>\n",
       "    </tr>\n",
       "    <tr>\n",
       "      <th>34</th>\n",
       "      <td>Pousada Nordestina</td>\n",
       "      <td>Recife</td>\n",
       "      <td>1260</td>\n",
       "      <td>2025-01-01</td>\n",
       "      <td>2025-01-08</td>\n",
       "      <td>14.1</td>\n",
       "      <td>7.300000</td>\n",
       "      <td>253.000000</td>\n",
       "      <td>2024-6-6</td>\n",
       "      <td>1</td>\n",
       "      <td>3.100371</td>\n",
       "      <td>Baixo</td>\n",
       "      <td>Verão</td>\n",
       "    </tr>\n",
       "    <tr>\n",
       "      <th>46</th>\n",
       "      <td>Espaço inteiro a beira mar</td>\n",
       "      <td>Recife</td>\n",
       "      <td>1428</td>\n",
       "      <td>2025-01-01</td>\n",
       "      <td>2025-01-08</td>\n",
       "      <td>7.0</td>\n",
       "      <td>10.000000</td>\n",
       "      <td>2.000000</td>\n",
       "      <td>2024-6-6</td>\n",
       "      <td>1</td>\n",
       "      <td>3.154728</td>\n",
       "      <td>Baixo</td>\n",
       "      <td>Verão</td>\n",
       "    </tr>\n",
       "    <tr>\n",
       "      <th>...</th>\n",
       "      <td>...</td>\n",
       "      <td>...</td>\n",
       "      <td>...</td>\n",
       "      <td>...</td>\n",
       "      <td>...</td>\n",
       "      <td>...</td>\n",
       "      <td>...</td>\n",
       "      <td>...</td>\n",
       "      <td>...</td>\n",
       "      <td>...</td>\n",
       "      <td>...</td>\n",
       "      <td>...</td>\n",
       "      <td>...</td>\n",
       "    </tr>\n",
       "    <tr>\n",
       "      <th>14618</th>\n",
       "      <td>Pousada Shalom</td>\n",
       "      <td>Recife</td>\n",
       "      <td>1190</td>\n",
       "      <td>2024-12-22</td>\n",
       "      <td>2024-12-29</td>\n",
       "      <td>4.8</td>\n",
       "      <td>7.201257</td>\n",
       "      <td>341.754484</td>\n",
       "      <td>2024-6-6</td>\n",
       "      <td>12</td>\n",
       "      <td>3.075547</td>\n",
       "      <td>Baixo</td>\n",
       "      <td>Verão</td>\n",
       "    </tr>\n",
       "    <tr>\n",
       "      <th>14619</th>\n",
       "      <td>Aurora Recife Hostel</td>\n",
       "      <td>Recife</td>\n",
       "      <td>1176</td>\n",
       "      <td>2024-12-22</td>\n",
       "      <td>2024-12-29</td>\n",
       "      <td>1.1</td>\n",
       "      <td>8.965950</td>\n",
       "      <td>574.734345</td>\n",
       "      <td>2024-6-6</td>\n",
       "      <td>12</td>\n",
       "      <td>3.070407</td>\n",
       "      <td>Baixo</td>\n",
       "      <td>Verão</td>\n",
       "    </tr>\n",
       "    <tr>\n",
       "      <th>14634</th>\n",
       "      <td>Quarto Litoral Sul</td>\n",
       "      <td>Recife</td>\n",
       "      <td>1418</td>\n",
       "      <td>2024-12-22</td>\n",
       "      <td>2024-12-29</td>\n",
       "      <td>4.5</td>\n",
       "      <td>1.000000</td>\n",
       "      <td>1.000000</td>\n",
       "      <td>2024-6-6</td>\n",
       "      <td>12</td>\n",
       "      <td>3.151676</td>\n",
       "      <td>Baixo</td>\n",
       "      <td>Verão</td>\n",
       "    </tr>\n",
       "    <tr>\n",
       "      <th>14661</th>\n",
       "      <td>Bugan Paiva flatpaivahome</td>\n",
       "      <td>Recife</td>\n",
       "      <td>1386</td>\n",
       "      <td>2024-12-22</td>\n",
       "      <td>2024-12-29</td>\n",
       "      <td>19.6</td>\n",
       "      <td>8.000000</td>\n",
       "      <td>5.000000</td>\n",
       "      <td>2024-6-6</td>\n",
       "      <td>12</td>\n",
       "      <td>3.141763</td>\n",
       "      <td>Baixo</td>\n",
       "      <td>Verão</td>\n",
       "    </tr>\n",
       "    <tr>\n",
       "      <th>14669</th>\n",
       "      <td>Pousada Joãozinho Caminhador</td>\n",
       "      <td>Recife</td>\n",
       "      <td>1260</td>\n",
       "      <td>2024-12-22</td>\n",
       "      <td>2024-12-29</td>\n",
       "      <td>11.6</td>\n",
       "      <td>6.000000</td>\n",
       "      <td>290.000000</td>\n",
       "      <td>2024-6-6</td>\n",
       "      <td>12</td>\n",
       "      <td>3.100371</td>\n",
       "      <td>Baixo</td>\n",
       "      <td>Verão</td>\n",
       "    </tr>\n",
       "  </tbody>\n",
       "</table>\n",
       "<p>2869 rows × 13 columns</p>\n",
       "</div>"
      ],
      "text/plain": [
       "                              hotel  cidade  preço    checkin   checkout  \\\n",
       "0                 Villa d'Oro Hotel  Recife   1389 2025-01-01 2025-01-08   \n",
       "9         Hotel Pousada Casa Grande  Recife   1190 2025-01-01 2025-01-08   \n",
       "25      ibis budget Recife Jaboatão  Recife   1265 2025-01-01 2025-01-08   \n",
       "34               Pousada Nordestina  Recife   1260 2025-01-01 2025-01-08   \n",
       "46       Espaço inteiro a beira mar  Recife   1428 2025-01-01 2025-01-08   \n",
       "...                             ...     ...    ...        ...        ...   \n",
       "14618                Pousada Shalom  Recife   1190 2024-12-22 2024-12-29   \n",
       "14619          Aurora Recife Hostel  Recife   1176 2024-12-22 2024-12-29   \n",
       "14634            Quarto Litoral Sul  Recife   1418 2024-12-22 2024-12-29   \n",
       "14661     Bugan Paiva flatpaivahome  Recife   1386 2024-12-22 2024-12-29   \n",
       "14669  Pousada Joãozinho Caminhador  Recife   1260 2024-12-22 2024-12-29   \n",
       "\n",
       "       dist_centro  avaliacao  qtnd_avaliacoes data_extracao  mes_checkin  \\\n",
       "0              1.4   8.600000      1620.000000      2024-6-6            1   \n",
       "9             11.5   8.000000         2.000000      2024-6-6            1   \n",
       "25            12.7   8.400000      2077.000000      2024-6-6            1   \n",
       "34            14.1   7.300000       253.000000      2024-6-6            1   \n",
       "46             7.0  10.000000         2.000000      2024-6-6            1   \n",
       "...            ...        ...              ...           ...          ...   \n",
       "14618          4.8   7.201257       341.754484      2024-6-6           12   \n",
       "14619          1.1   8.965950       574.734345      2024-6-6           12   \n",
       "14634          4.5   1.000000         1.000000      2024-6-6           12   \n",
       "14661         19.6   8.000000         5.000000      2024-6-6           12   \n",
       "14669         11.6   6.000000       290.000000      2024-6-6           12   \n",
       "\n",
       "       log_price price_category season  \n",
       "0       3.142702          Baixo  Verão  \n",
       "9       3.075547          Baixo  Verão  \n",
       "25      3.102091          Baixo  Verão  \n",
       "34      3.100371          Baixo  Verão  \n",
       "46      3.154728          Baixo  Verão  \n",
       "...          ...            ...    ...  \n",
       "14618   3.075547          Baixo  Verão  \n",
       "14619   3.070407          Baixo  Verão  \n",
       "14634   3.151676          Baixo  Verão  \n",
       "14661   3.141763          Baixo  Verão  \n",
       "14669   3.100371          Baixo  Verão  \n",
       "\n",
       "[2869 rows x 13 columns]"
      ]
     },
     "execution_count": 42,
     "metadata": {},
     "output_type": "execute_result"
    }
   ],
   "source": [
    "hospedagens_clean[hospedagens_clean['price_category'] == 'Baixo']"
   ]
  },
  {
   "cell_type": "markdown",
   "metadata": {},
   "source": [
    "## Teste de hipótese\n",
    "\n",
    "Existe uma variação significativa nos preços que possa indicar uma alta e baixa temporada no local?\n"
   ]
  },
  {
   "cell_type": "markdown",
   "metadata": {},
   "source": [
    "Para isso, utilizamos o teste de hipótese 'Kruskal-Wallis' pois:\n",
    "\n",
    "- Assume variáveis não paramétricas: Nossa distribuição não é simétrica.\n",
    "- Compara 3 ou mais grupos: Por estar separado por meses, precisávamos de um teste que pudesse ser aplicado para todos os 12 grupos\n",
    "- Compara grupos distintos: Os dados de cada mês são diferentes uns dos outros"
   ]
  },
  {
   "cell_type": "markdown",
   "metadata": {},
   "source": [
    "Hipótese Nula (H0): Os preços dos hotéis não variam significativamente entre os meses.\n",
    "\n",
    "Hipótese Alternativa (HA): Os preços dos hotéis variam significativamente entre os meses"
   ]
  },
  {
   "cell_type": "code",
   "execution_count": 43,
   "metadata": {},
   "outputs": [
    {
     "name": "stdout",
     "output_type": "stream",
     "text": [
      "Kruskal-Wallis H-Statistic: 290.3988006323174, p-value: 9.210047813395453e-56\n",
      "Rejeitamos a hipótese nula: Existe uma variação significativa nos preços entre os meses.\n"
     ]
    }
   ],
   "source": [
    "from scipy.stats import f_oneway, kruskal\n",
    "\n",
    "# Filtrar dados por mês\n",
    "grouped = hospedagens_clean.groupby('mes_checkin')['preço'].apply(list)\n",
    "\n",
    "# Realizar Kruskal-Wallis\n",
    "h_statistic, p_value = kruskal(*grouped)\n",
    "\n",
    "print(f\"Kruskal-Wallis H-Statistic: {h_statistic}, p-value: {p_value}\")\n",
    "\n",
    "# Verificar resultado\n",
    "if p_value < 0.01:\n",
    "    print(\"Rejeitamos a hipótese nula: Existe uma variação significativa nos preços entre os meses.\")\n",
    "else:\n",
    "    print(\"Falhamos em rejeitar a hipótese nula: Não existe uma variação significativa nos preços entre os meses.\")\n"
   ]
  },
  {
   "cell_type": "code",
   "execution_count": 44,
   "metadata": {},
   "outputs": [
    {
     "data": {
      "image/png": "[encoded data removed]",
      "text/plain": [
       "<Figure size 640x480 with 4 Axes>"
      ]
     },
     "metadata": {},
     "output_type": "display_data"
    }
   ],
   "source": [
    "import pandas as pd\n",
    "from statsmodels.tsa.seasonal import seasonal_decompose\n",
    "import matplotlib.pyplot as plt\n",
    "\n",
    "\n",
    "# Supondo que você tenha uma série temporal de preços\n",
    "hospedagens_clean = hospedagens_clean.set_index('mes_checkin')\n",
    "\n",
    "# Realizar a decomposição\n",
    "result = seasonal_decompose(hospedagens_clean['preço'], model='additive', period=12)  # Ajustar 'period' conforme necessário\n",
    "\n",
    "# Plotar os componentes\n",
    "result.plot()\n",
    "plt.show()\n",
    "\n",
    "# Exibir componentes individualmente\n",
    "# trend = result.trend\n",
    "# seasonal = result.seasonal\n",
    "# residual = result.resid\n",
    "\n",
    "# # Visualizar os componentes\n",
    "# plt.figure(figsize=(12, 8))\n",
    "# plt.subplot(411)\n",
    "# plt.plot(hospedagens_clean['preço'], label='Original')\n",
    "# plt.legend(loc='upper left')\n",
    "# plt.subplot(412)\n",
    "# plt.plot(trend, label='Tendência')\n",
    "# plt.legend(loc='upper left')\n",
    "# plt.subplot(413)\n",
    "# plt.plot(seasonal, label='Sazonalidade')\n",
    "# plt.legend(loc='upper left')\n",
    "# plt.subplot(414)\n",
    "# plt.plot(residual, label='Resíduos')\n",
    "# plt.legend(loc='upper left')\n",
    "# plt.tight_layout()\n",
    "# plt.show()\n"
   ]
  },
  {
   "cell_type": "markdown",
   "metadata": {},
   "source": [
    "Com isso, percebemos, que sim, os dados possuem uma certa variação de preço entre os meses."
   ]
  }
 ],
 "metadata": {
  "kernelspec": {
   "display_name": "Python 3",
   "language": "python",
   "name": "python3"
  },
  "language_info": {
   "codemirror_mode": {
    "name": "ipython",
    "version": 3
   },
   "file_extension": ".py",
   "mimetype": "text/x-python",
   "name": "python",
   "nbconvert_exporter": "python",
   "pygments_lexer": "ipython3",
   "version": "3.12.0"
  }
 },
 "nbformat": 4,
 "nbformat_minor": 2
}
