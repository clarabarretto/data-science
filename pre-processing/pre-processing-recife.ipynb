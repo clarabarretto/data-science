{
 "cells": [
  {
   "cell_type": "markdown",
   "metadata": {},
   "source": [
    "## Hospedagens em Recife\n",
    "Buscamos analisar as mudanças sazonais do preço das hospedagens em recife"
   ]
  },
  {
   "cell_type": "code",
   "execution_count": 2,
   "metadata": {},
   "outputs": [],
   "source": [
    "import pandas as pd\n",
    "import numpy as np"
   ]
  },
  {
   "cell_type": "code",
   "execution_count": 3,
   "metadata": {},
   "outputs": [],
   "source": [
    "# carregando o dataset completo\n",
    "hosp = pd.read_csv('../resultado1.csv', decimal=\".\")"
   ]
  },
  {
   "cell_type": "markdown",
   "metadata": {},
   "source": [
    "## Definindo o tipo dos dados"
   ]
  },
  {
   "cell_type": "code",
   "execution_count": 4,
   "metadata": {},
   "outputs": [],
   "source": [
    "hosp['checkin'] = pd.to_datetime(hosp['checkin'])\n",
    "hosp['checkout'] = pd.to_datetime(hosp['checkout'])\n",
    "hosp['cidade'] = hosp[\"cidade\"].astype(\"category\")\n",
    "hosp['hotel'] = hosp[\"hotel\"].astype(\"category\")\n",
    "hosp['data_extracao'] = hosp[\"data_extracao\"].astype(\"category\")"
   ]
  },
  {
   "cell_type": "code",
   "execution_count": 5,
   "metadata": {},
   "outputs": [],
   "source": [
    "# pegando do dataset apenas os dados até junho de 2025 para comparar um ano inteiro sem repetições\n",
    "hospedagens = hosp[~((hosp['checkin'].dt.month > 6) & (hosp['checkin'].dt.year == 2025))]\n"
   ]
  },
  {
   "cell_type": "code",
   "execution_count": 15,
   "metadata": {},
   "outputs": [
    {
     "data": {
      "text/plain": [
       "hotel                    category\n",
       "cidade                   category\n",
       "preço                       int64\n",
       "checkin            datetime64[ns]\n",
       "checkout           datetime64[ns]\n",
       "dist_centro               float64\n",
       "dist_praia                float64\n",
       "avaliacao                 float64\n",
       "qtnd_avaliacoes           float64\n",
       "data_extracao            category\n",
       "dtype: object"
      ]
     },
     "execution_count": 15,
     "metadata": {},
     "output_type": "execute_result"
    }
   ],
   "source": [
    "# confirmando o tipo dos dados\n",
    "hospedagens.dtypes"
   ]
  },
  {
   "cell_type": "markdown",
   "metadata": {},
   "source": [
    "## Estatísticas Iniciais"
   ]
  },
  {
   "cell_type": "code",
   "execution_count": 16,
   "metadata": {},
   "outputs": [
    {
     "data": {
      "text/plain": [
       "(15643, 10)"
      ]
     },
     "execution_count": 16,
     "metadata": {},
     "output_type": "execute_result"
    }
   ],
   "source": [
    "# tamanho dos dados\n",
    "hospedagens.shape"
   ]
  },
  {
   "cell_type": "code",
   "execution_count": 17,
   "metadata": {},
   "outputs": [
    {
     "data": {
      "text/plain": [
       "Index(['hotel', 'cidade', 'preço', 'checkin', 'checkout', 'dist_centro',\n",
       "       'dist_praia', 'avaliacao', 'qtnd_avaliacoes', 'data_extracao'],\n",
       "      dtype='object')"
      ]
     },
     "execution_count": 17,
     "metadata": {},
     "output_type": "execute_result"
    }
   ],
   "source": [
    "# visualizando as colunas \n",
    "hospedagens.columns"
   ]
  },
  {
   "cell_type": "code",
   "execution_count": 18,
   "metadata": {},
   "outputs": [
    {
     "name": "stderr",
     "output_type": "stream",
     "text": [
      "C:\\Users\\extre\\AppData\\Local\\Temp\\ipykernel_19640\\366261908.py:2: FutureWarning: 'M' is deprecated and will be removed in a future version, please use 'ME' instead.\n",
      "  preco_medio_mensal = hospedagens.groupby(pd.Grouper(key='checkin', freq=\"M\"))['preço'].mean()\n"
     ]
    },
    {
     "data": {
      "text/plain": [
       "checkin\n",
       "2024-07-31    1853.438967\n",
       "2024-08-31    1852.081880\n",
       "2024-09-30    1936.745310\n",
       "2024-10-31    1977.388763\n",
       "2024-11-30    2011.614892\n",
       "2024-12-31    2269.954579\n",
       "2025-01-31    2461.325480\n",
       "2025-02-28    2248.170360\n",
       "2025-03-31    2720.275000\n",
       "2025-04-30    2325.341146\n",
       "2025-05-31    2297.971154\n",
       "2025-06-30    2122.087601\n",
       "Freq: ME, Name: preço, dtype: float64"
      ]
     },
     "execution_count": 18,
     "metadata": {},
     "output_type": "execute_result"
    }
   ],
   "source": [
    "# agrupamos os dados por mês para entender a média dos preços de cada mês\n",
    "preco_medio_mensal = hospedagens.groupby(pd.Grouper(key='checkin', freq=\"M\"))['preço'].mean()\n",
    "preco_medio_mensal"
   ]
  },
  {
   "cell_type": "code",
   "execution_count": 19,
   "metadata": {},
   "outputs": [
    {
     "name": "stderr",
     "output_type": "stream",
     "text": [
      "C:\\Users\\extre\\AppData\\Local\\Temp\\ipykernel_19640\\4288441743.py:1: FutureWarning: 'M' is deprecated and will be removed in a future version, please use 'ME' instead.\n",
      "  num_hospedagens_mes = hospedagens.groupby(pd.Grouper(key='checkin', freq=\"M\"))['preço'].count()\n"
     ]
    },
    {
     "data": {
      "text/plain": [
       "checkin\n",
       "2024-07-31    2130\n",
       "2024-08-31    2064\n",
       "2024-09-30    1759\n",
       "2024-10-31    1762\n",
       "2024-11-30    1719\n",
       "2024-12-31    1343\n",
       "2025-01-31    1146\n",
       "2025-02-28     722\n",
       "2025-03-31     760\n",
       "2025-04-30     768\n",
       "2025-05-31     728\n",
       "2025-06-30     742\n",
       "Freq: ME, Name: preço, dtype: int64"
      ]
     },
     "execution_count": 19,
     "metadata": {},
     "output_type": "execute_result"
    }
   ],
   "source": [
    "# número de acomodações aparecendo por mês\n",
    "num_hospedagens_mes = hospedagens.groupby(pd.Grouper(key='checkin', freq=\"M\"))['preço'].count()\n",
    "num_hospedagens_mes"
   ]
  },
  {
   "cell_type": "code",
   "execution_count": 23,
   "metadata": {},
   "outputs": [
    {
     "data": {
      "text/plain": [
       "507.22985390756304"
      ]
     },
     "execution_count": 23,
     "metadata": {},
     "output_type": "execute_result"
    }
   ],
   "source": [
    "# calculando o desvio padrão dos preços médios dos meses\n",
    "preco_medio_mensal['price_change'] = preco_medio_mensal.std()\n",
    "preco_medio_mensal['price_change']\n"
   ]
  },
  {
   "cell_type": "code",
   "execution_count": 6,
   "metadata": {},
   "outputs": [
    {
     "data": {
      "text/plain": [
       "<Axes: >"
      ]
     },
     "execution_count": 6,
     "metadata": {},
     "output_type": "execute_result"
    },
    {
     "data": {
      "image/png": "[encoded data removed]",
      "text/plain": [
       "<Figure size 640x480 with 1 Axes>"
      ]
     },
     "metadata": {},
     "output_type": "display_data"
    }
   ],
   "source": [
    "# hiistograma do preço de estadia por 7 dias\n",
    "hospedagens['preço'].hist()"
   ]
  },
  {
   "cell_type": "code",
   "execution_count": 7,
   "metadata": {},
   "outputs": [
    {
     "name": "stderr",
     "output_type": "stream",
     "text": [
      "C:\\Users\\extre\\AppData\\Local\\Temp\\ipykernel_9044\\690311496.py:1: SettingWithCopyWarning: \n",
      "A value is trying to be set on a copy of a slice from a DataFrame.\n",
      "Try using .loc[row_indexer,col_indexer] = value instead\n",
      "\n",
      "See the caveats in the documentation: https://pandas.pydata.org/pandas-docs/stable/user_guide/indexing.html#returning-a-view-versus-a-copy\n",
      "  hospedagens['log_price'] = hospedagens['preço'].apply(np.log10)\n"
     ]
    },
    {
     "data": {
      "text/plain": [
       "<Axes: >"
      ]
     },
     "execution_count": 7,
     "metadata": {},
     "output_type": "execute_result"
    },
    {
     "data": {
      "image/png": "[encoded data removed]",
      "text/plain": [
       "<Figure size 640x480 with 1 Axes>"
      ]
     },
     "metadata": {},
     "output_type": "display_data"
    }
   ],
   "source": [
    "hospedagens['log_price'] = hospedagens['preço'].apply(np.log10)\n",
    "hospedagens[hospedagens['log_price'] > 0]['log_price'].hist()"
   ]
  },
  {
   "cell_type": "markdown",
   "metadata": {},
   "source": [
    "## Definindo dados faltantes"
   ]
  },
  {
   "cell_type": "code",
   "execution_count": 8,
   "metadata": {},
   "outputs": [
    {
     "name": "stdout",
     "output_type": "stream",
     "text": [
      "hotel                 0\n",
      "cidade                0\n",
      "preço                 0\n",
      "checkin               0\n",
      "checkout              0\n",
      "dist_centro           0\n",
      "dist_praia         4606\n",
      "avaliacao          3133\n",
      "qtnd_avaliacoes    3133\n",
      "data_extracao         0\n",
      "log_price             0\n",
      "dtype: int64\n"
     ]
    }
   ],
   "source": [
    "# printando quantas linhas de cada coluna está faltante\n",
    "print(hospedagens.isnull().sum())"
   ]
  },
  {
   "cell_type": "code",
   "execution_count": 9,
   "metadata": {},
   "outputs": [],
   "source": [
    "# gerando um novo dataset a partir do csv com os dados e transformando os dados categóricos em numérico\n",
    "hosp_input = pd.read_csv('../resultado1.csv', decimal=\".\")\n",
    "hosp_input['checkin'] = pd.to_datetime(hosp_input['checkin'])\n",
    "hosp_inputedagens = hosp_input[~((hosp_input['checkin'].dt.month > 6) & (hosp_input['checkin'].dt.year == 2025))]\n",
    "hosp_input['checkin'] = hosp_input['checkin'].astype(\"category\")\n",
    "hosp_input['checkout'] = hosp_input['checkout'].astype(\"category\")\n",
    "hosp_input['cidade'] = hosp_input[\"cidade\"].astype(\"category\")\n",
    "hosp_input['hotel'] = hosp_input[\"hotel\"].astype(\"category\")\n",
    "hosp_input['data_extracao'] =hosp_input[\"data_extracao\"].astype(\"category\")\n",
    "hosp_input['hotel'] = hosp_input['hotel'].cat.codes\n",
    "hosp_input['checkin'] = hosp_input['checkin'].cat.codes\n",
    "hosp_input['checkout'] = hosp_input['checkout'].cat.codes\n",
    "hosp_input['cidade'] = hosp_input['cidade'].cat.codes\n",
    "hosp_input['data_extracao'] = hosp_input['data_extracao'].cat.codes"
   ]
  },
  {
   "cell_type": "code",
   "execution_count": 10,
   "metadata": {},
   "outputs": [
    {
     "data": {
      "text/html": [
       "<div>\n",
       "<style scoped>\n",
       "    .dataframe tbody tr th:only-of-type {\n",
       "        vertical-align: middle;\n",
       "    }\n",
       "\n",
       "    .dataframe tbody tr th {\n",
       "        vertical-align: top;\n",
       "    }\n",
       "\n",
       "    .dataframe thead th {\n",
       "        text-align: right;\n",
       "    }\n",
       "</style>\n",
       "<table border=\"1\" class=\"dataframe\">\n",
       "  <thead>\n",
       "    <tr style=\"text-align: right;\">\n",
       "      <th></th>\n",
       "      <th>hotel</th>\n",
       "      <th>cidade</th>\n",
       "      <th>preço</th>\n",
       "      <th>checkin</th>\n",
       "      <th>checkout</th>\n",
       "      <th>dist_centro</th>\n",
       "      <th>dist_praia</th>\n",
       "      <th>avaliacao</th>\n",
       "      <th>qtnd_avaliacoes</th>\n",
       "      <th>data_extracao</th>\n",
       "    </tr>\n",
       "  </thead>\n",
       "  <tbody>\n",
       "    <tr>\n",
       "      <th>hotel</th>\n",
       "      <td>1.000000</td>\n",
       "      <td>NaN</td>\n",
       "      <td>-0.042618</td>\n",
       "      <td>-0.038618</td>\n",
       "      <td>-0.038614</td>\n",
       "      <td>-0.049422</td>\n",
       "      <td>0.071000</td>\n",
       "      <td>-0.137858</td>\n",
       "      <td>0.132421</td>\n",
       "      <td>NaN</td>\n",
       "    </tr>\n",
       "    <tr>\n",
       "      <th>cidade</th>\n",
       "      <td>NaN</td>\n",
       "      <td>NaN</td>\n",
       "      <td>NaN</td>\n",
       "      <td>NaN</td>\n",
       "      <td>NaN</td>\n",
       "      <td>NaN</td>\n",
       "      <td>NaN</td>\n",
       "      <td>NaN</td>\n",
       "      <td>NaN</td>\n",
       "      <td>NaN</td>\n",
       "    </tr>\n",
       "    <tr>\n",
       "      <th>preço</th>\n",
       "      <td>-0.042618</td>\n",
       "      <td>NaN</td>\n",
       "      <td>1.000000</td>\n",
       "      <td>0.044975</td>\n",
       "      <td>0.045242</td>\n",
       "      <td>0.117771</td>\n",
       "      <td>-0.174187</td>\n",
       "      <td>0.119423</td>\n",
       "      <td>0.059913</td>\n",
       "      <td>NaN</td>\n",
       "    </tr>\n",
       "    <tr>\n",
       "      <th>checkin</th>\n",
       "      <td>-0.038618</td>\n",
       "      <td>NaN</td>\n",
       "      <td>0.044975</td>\n",
       "      <td>1.000000</td>\n",
       "      <td>0.990569</td>\n",
       "      <td>-0.011076</td>\n",
       "      <td>0.025473</td>\n",
       "      <td>0.028097</td>\n",
       "      <td>-0.099139</td>\n",
       "      <td>NaN</td>\n",
       "    </tr>\n",
       "    <tr>\n",
       "      <th>checkout</th>\n",
       "      <td>-0.038614</td>\n",
       "      <td>NaN</td>\n",
       "      <td>0.045242</td>\n",
       "      <td>0.990569</td>\n",
       "      <td>1.000000</td>\n",
       "      <td>-0.010688</td>\n",
       "      <td>0.025448</td>\n",
       "      <td>0.027424</td>\n",
       "      <td>-0.098397</td>\n",
       "      <td>NaN</td>\n",
       "    </tr>\n",
       "    <tr>\n",
       "      <th>dist_centro</th>\n",
       "      <td>-0.049422</td>\n",
       "      <td>NaN</td>\n",
       "      <td>0.117771</td>\n",
       "      <td>-0.011076</td>\n",
       "      <td>-0.010688</td>\n",
       "      <td>1.000000</td>\n",
       "      <td>-0.207954</td>\n",
       "      <td>-0.048533</td>\n",
       "      <td>0.152088</td>\n",
       "      <td>NaN</td>\n",
       "    </tr>\n",
       "    <tr>\n",
       "      <th>dist_praia</th>\n",
       "      <td>0.071000</td>\n",
       "      <td>NaN</td>\n",
       "      <td>-0.174187</td>\n",
       "      <td>0.025473</td>\n",
       "      <td>0.025448</td>\n",
       "      <td>-0.207954</td>\n",
       "      <td>1.000000</td>\n",
       "      <td>-0.058528</td>\n",
       "      <td>-0.223552</td>\n",
       "      <td>NaN</td>\n",
       "    </tr>\n",
       "    <tr>\n",
       "      <th>avaliacao</th>\n",
       "      <td>-0.137858</td>\n",
       "      <td>NaN</td>\n",
       "      <td>0.119423</td>\n",
       "      <td>0.028097</td>\n",
       "      <td>0.027424</td>\n",
       "      <td>-0.048533</td>\n",
       "      <td>-0.058528</td>\n",
       "      <td>1.000000</td>\n",
       "      <td>-0.216860</td>\n",
       "      <td>NaN</td>\n",
       "    </tr>\n",
       "    <tr>\n",
       "      <th>qtnd_avaliacoes</th>\n",
       "      <td>0.132421</td>\n",
       "      <td>NaN</td>\n",
       "      <td>0.059913</td>\n",
       "      <td>-0.099139</td>\n",
       "      <td>-0.098397</td>\n",
       "      <td>0.152088</td>\n",
       "      <td>-0.223552</td>\n",
       "      <td>-0.216860</td>\n",
       "      <td>1.000000</td>\n",
       "      <td>NaN</td>\n",
       "    </tr>\n",
       "    <tr>\n",
       "      <th>data_extracao</th>\n",
       "      <td>NaN</td>\n",
       "      <td>NaN</td>\n",
       "      <td>NaN</td>\n",
       "      <td>NaN</td>\n",
       "      <td>NaN</td>\n",
       "      <td>NaN</td>\n",
       "      <td>NaN</td>\n",
       "      <td>NaN</td>\n",
       "      <td>NaN</td>\n",
       "      <td>NaN</td>\n",
       "    </tr>\n",
       "  </tbody>\n",
       "</table>\n",
       "</div>"
      ],
      "text/plain": [
       "                    hotel  cidade     preço   checkin  checkout  dist_centro  \\\n",
       "hotel            1.000000     NaN -0.042618 -0.038618 -0.038614    -0.049422   \n",
       "cidade                NaN     NaN       NaN       NaN       NaN          NaN   \n",
       "preço           -0.042618     NaN  1.000000  0.044975  0.045242     0.117771   \n",
       "checkin         -0.038618     NaN  0.044975  1.000000  0.990569    -0.011076   \n",
       "checkout        -0.038614     NaN  0.045242  0.990569  1.000000    -0.010688   \n",
       "dist_centro     -0.049422     NaN  0.117771 -0.011076 -0.010688     1.000000   \n",
       "dist_praia       0.071000     NaN -0.174187  0.025473  0.025448    -0.207954   \n",
       "avaliacao       -0.137858     NaN  0.119423  0.028097  0.027424    -0.048533   \n",
       "qtnd_avaliacoes  0.132421     NaN  0.059913 -0.099139 -0.098397     0.152088   \n",
       "data_extracao         NaN     NaN       NaN       NaN       NaN          NaN   \n",
       "\n",
       "                 dist_praia  avaliacao  qtnd_avaliacoes  data_extracao  \n",
       "hotel              0.071000  -0.137858         0.132421            NaN  \n",
       "cidade                  NaN        NaN              NaN            NaN  \n",
       "preço             -0.174187   0.119423         0.059913            NaN  \n",
       "checkin            0.025473   0.028097        -0.099139            NaN  \n",
       "checkout           0.025448   0.027424        -0.098397            NaN  \n",
       "dist_centro       -0.207954  -0.048533         0.152088            NaN  \n",
       "dist_praia         1.000000  -0.058528        -0.223552            NaN  \n",
       "avaliacao         -0.058528   1.000000        -0.216860            NaN  \n",
       "qtnd_avaliacoes   -0.223552  -0.216860         1.000000            NaN  \n",
       "data_extracao           NaN        NaN              NaN            NaN  "
      ]
     },
     "execution_count": 10,
     "metadata": {},
     "output_type": "execute_result"
    }
   ],
   "source": [
    "hosp_input.corr(method=\"spearman\")"
   ]
  }
 ],
 "metadata": {
  "kernelspec": {
   "display_name": "Python 3",
   "language": "python",
   "name": "python3"
  },
  "language_info": {
   "codemirror_mode": {
    "name": "ipython",
    "version": 3
   },
   "file_extension": ".py",
   "mimetype": "text/x-python",
   "name": "python",
   "nbconvert_exporter": "python",
   "pygments_lexer": "ipython3",
   "version": "3.12.0"
  }
 },
 "nbformat": 4,
 "nbformat_minor": 2
}
