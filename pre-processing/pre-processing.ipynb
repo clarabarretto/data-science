{
 "cells": [
  {
   "cell_type": "code",
   "execution_count": 1,
   "metadata": {},
   "outputs": [],
   "source": [
    "import pandas as pd\n",
    "import numpy as np"
   ]
  },
  {
   "cell_type": "code",
   "execution_count": 13,
   "metadata": {},
   "outputs": [],
   "source": [
    "hp = pd.read_csv('../selenium-extraction/resultado.csv', decimal=\".\")"
   ]
  },
  {
   "cell_type": "code",
   "execution_count": 23,
   "metadata": {},
   "outputs": [
    {
     "data": {
      "text/plain": [
       "Index(['hotel', 'cidade', 'preço', 'checkin', 'checkout', 'dist_centro',\n",
       "       'dist_praia', 'avaliacao', 'qtnd_avaliacoes', 'data_extracao'],\n",
       "      dtype='object')"
      ]
     },
     "execution_count": 23,
     "metadata": {},
     "output_type": "execute_result"
    }
   ],
   "source": [
    "hp.columns"
   ]
  },
  {
   "cell_type": "code",
   "execution_count": 18,
   "metadata": {},
   "outputs": [
    {
     "data": {
      "text/plain": [
       "hotel                      object\n",
       "cidade                   category\n",
       "preço                       int64\n",
       "checkin            datetime64[ns]\n",
       "checkout           datetime64[ns]\n",
       "dist_centro               float64\n",
       "dist_praia                float64\n",
       "avaliacao                 float64\n",
       "qtnd_avaliacoes           float64\n",
       "data_extracao            category\n",
       "dtype: object"
      ]
     },
     "execution_count": 18,
     "metadata": {},
     "output_type": "execute_result"
    }
   ],
   "source": [
    "hp.dtypes"
   ]
  },
  {
   "cell_type": "markdown",
   "metadata": {},
   "source": [
    "# Definindo os tipos das colunas"
   ]
  },
  {
   "cell_type": "code",
   "execution_count": 20,
   "metadata": {},
   "outputs": [],
   "source": [
    "hp['checkin'] = pd.to_datetime(hp['checkin'])\n",
    "hp['checkout'] = pd.to_datetime(hp['checkout'])\n",
    "hp['cidade'] = hp[\"cidade\"].astype(\"category\")\n",
    "hp['hotel'] = hp[\"hotel\"].astype(\"category\")\n",
    "hp['data_extracao'] =hp[\"data_extracao\"].astype(\"category\")"
   ]
  },
  {
   "cell_type": "code",
   "execution_count": 19,
   "metadata": {},
   "outputs": [
    {
     "data": {
      "text/plain": [
       "Index(['Lisboa', 'Paris'], dtype='object')"
      ]
     },
     "execution_count": 19,
     "metadata": {},
     "output_type": "execute_result"
    }
   ],
   "source": [
    "hp[\"cidade\"].cat.categories"
   ]
  },
  {
   "cell_type": "code",
   "execution_count": 21,
   "metadata": {},
   "outputs": [
    {
     "data": {
      "text/plain": [
       "Index(['#Private room C', '#Tram28_Cosy',\n",
       "       '* Cozy & Renovated Studio in Paris *',\n",
       "       '- SweetHome Lisbon sinta-se em casa -',\n",
       "       '0#Studio 2pers#Champs Elysées#Arc de Triomphe',\n",
       "       '0.Appart 4pers#Jardin Luxembourg#NECKER',\n",
       "       '024 A - In the Heart of Lisbon',\n",
       "       '024 B - Cosy Retreat in Madragoa -Lisbon',\n",
       "       '024 C - Lisbon Tiles House', '024 D - Cosy Retreat in Lisbon',\n",
       "       ...\n",
       "       'xxxx xxxx', '´Sao Vicente III´- Eco-studio french balcony&view',\n",
       "       'Áurea Museum by Eurostars Hotel Company', 'Échappée sur les toits',\n",
       "       'Élégance Parisienne au cœur du Marais',\n",
       "       'Élégant Studio Lumineux Paris',\n",
       "       'Étage d’un duplex au 17ème arr de Paris  vue sur le Défense à 10min des champs Élysée',\n",
       "       'ღ Le Jardin Parisien Calme avec Terrasse et Wifi ღ', '休闲民宿', '理想方向'],\n",
       "      dtype='object', length=6677)"
      ]
     },
     "execution_count": 21,
     "metadata": {},
     "output_type": "execute_result"
    }
   ],
   "source": [
    "hp[\"hotel\"].cat.categories"
   ]
  }
 ],
 "metadata": {
  "kernelspec": {
   "display_name": "Python 3",
   "language": "python",
   "name": "python3"
  },
  "language_info": {
   "codemirror_mode": {
    "name": "ipython",
    "version": 3
   },
   "file_extension": ".py",
   "mimetype": "text/x-python",
   "name": "python",
   "nbconvert_exporter": "python",
   "pygments_lexer": "ipython3",
   "version": "3.12.0"
  }
 },
 "nbformat": 4,
 "nbformat_minor": 2
}
