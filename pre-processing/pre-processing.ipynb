{
 "cells": [
  {
   "cell_type": "code",
   "execution_count": 1,
   "metadata": {},
   "outputs": [],
   "source": [
    "import pandas as pd\n",
    "import numpy as np"
   ]
  },
  {
   "cell_type": "code",
   "execution_count": 25,
   "metadata": {},
   "outputs": [],
   "source": [
    "hosp = pd.read_csv('../selenium-extraction/resultado.csv', decimal=\".\")"
   ]
  },
  {
   "cell_type": "code",
   "execution_count": 26,
   "metadata": {},
   "outputs": [
    {
     "data": {
      "text/plain": [
       "Index(['hotel', 'cidade', 'preço', 'checkin', 'checkout', 'dist_centro',\n",
       "       'dist_praia', 'avaliacao', 'qtnd_avaliacoes', 'data_extracao'],\n",
       "      dtype='object')"
      ]
     },
     "execution_count": 26,
     "metadata": {},
     "output_type": "execute_result"
    }
   ],
   "source": [
    "hosp.columns"
   ]
  },
  {
   "cell_type": "code",
   "execution_count": 27,
   "metadata": {},
   "outputs": [
    {
     "data": {
      "text/plain": [
       "hotel               object\n",
       "cidade              object\n",
       "preço                int64\n",
       "checkin             object\n",
       "checkout            object\n",
       "dist_centro        float64\n",
       "dist_praia         float64\n",
       "avaliacao          float64\n",
       "qtnd_avaliacoes    float64\n",
       "data_extracao       object\n",
       "dtype: object"
      ]
     },
     "execution_count": 27,
     "metadata": {},
     "output_type": "execute_result"
    }
   ],
   "source": [
    "hosp.dtypes"
   ]
  },
  {
   "cell_type": "markdown",
   "metadata": {},
   "source": [
    "# Definindo os tipos das colunas"
   ]
  },
  {
   "cell_type": "code",
   "execution_count": 28,
   "metadata": {},
   "outputs": [],
   "source": [
    "hosp['checkin'] = pd.to_datetime(hosp['checkin'])\n",
    "hosp['checkout'] = pd.to_datetime(hosp['checkout'])\n",
    "hosp['cidade'] = hosp[\"cidade\"].astype(\"category\")\n",
    "hosp['hotel'] = hosp[\"hotel\"].astype(\"category\")\n",
    "hosp['data_extracao'] =hosp[\"data_extracao\"].astype(\"category\")"
   ]
  },
  {
   "cell_type": "code",
   "execution_count": 29,
   "metadata": {},
   "outputs": [
    {
     "data": {
      "text/plain": [
       "Index(['Lisboa', 'Paris'], dtype='object')"
      ]
     },
     "execution_count": 29,
     "metadata": {},
     "output_type": "execute_result"
    }
   ],
   "source": [
    "hosp[\"cidade\"].cat.categories"
   ]
  },
  {
   "cell_type": "code",
   "execution_count": 30,
   "metadata": {},
   "outputs": [
    {
     "data": {
      "text/plain": [
       "Index(['#Private room C', '#Tram28_Cosy',\n",
       "       '* Cozy & Renovated Studio in Paris *',\n",
       "       '- SweetHome Lisbon sinta-se em casa -',\n",
       "       '0#Studio 2pers#Champs Elysées#Arc de Triomphe',\n",
       "       '0.Appart 4pers#Jardin Luxembourg#NECKER',\n",
       "       '024 A - In the Heart of Lisbon',\n",
       "       '024 B - Cosy Retreat in Madragoa -Lisbon',\n",
       "       '024 C - Lisbon Tiles House', '024 D - Cosy Retreat in Lisbon',\n",
       "       ...\n",
       "       'xxxx xxxx', '´Sao Vicente III´- Eco-studio french balcony&view',\n",
       "       'Áurea Museum by Eurostars Hotel Company', 'Échappée sur les toits',\n",
       "       'Élégance Parisienne au cœur du Marais',\n",
       "       'Élégant Studio Lumineux Paris',\n",
       "       'Étage d’un duplex au 17ème arr de Paris  vue sur le Défense à 10min des champs Élysée',\n",
       "       'ღ Le Jardin Parisien Calme avec Terrasse et Wifi ღ', '休闲民宿', '理想方向'],\n",
       "      dtype='object', length=6677)"
      ]
     },
     "execution_count": 30,
     "metadata": {},
     "output_type": "execute_result"
    }
   ],
   "source": [
    "hosp[\"hotel\"].cat.categories"
   ]
  },
  {
   "cell_type": "markdown",
   "metadata": {},
   "source": [
    "# Removendo Colunas"
   ]
  },
  {
   "cell_type": "code",
   "execution_count": 32,
   "metadata": {},
   "outputs": [
    {
     "data": {
      "text/plain": [
       "(100650, 10)"
      ]
     },
     "execution_count": 32,
     "metadata": {},
     "output_type": "execute_result"
    }
   ],
   "source": [
    "hosp.shape"
   ]
  },
  {
   "cell_type": "code",
   "execution_count": 31,
   "metadata": {},
   "outputs": [
    {
     "name": "stdout",
     "output_type": "stream",
     "text": [
      "hotel                   0\n",
      "cidade                  0\n",
      "preço                   0\n",
      "checkin                 0\n",
      "checkout                0\n",
      "dist_centro             0\n",
      "dist_praia         100650\n",
      "avaliacao            3894\n",
      "qtnd_avaliacoes      3894\n",
      "data_extracao           0\n",
      "dtype: int64\n"
     ]
    }
   ],
   "source": [
    "print(hosp.isnull().sum())"
   ]
  },
  {
   "cell_type": "markdown",
   "metadata": {},
   "source": [
    "Observamos que a coluna \"dist_praia\" apresenta mais de 100.000 linhas sem valores. Desta forma fica viável a exclusão da coluna, visto que ela apresenta 100% das suas linhas vazias."
   ]
  },
  {
   "cell_type": "code",
   "execution_count": null,
   "metadata": {},
   "outputs": [],
   "source": []
  }
 ],
 "metadata": {
  "kernelspec": {
   "display_name": "Python 3",
   "language": "python",
   "name": "python3"
  },
  "language_info": {
   "codemirror_mode": {
    "name": "ipython",
    "version": 3
   },
   "file_extension": ".py",
   "mimetype": "text/x-python",
   "name": "python",
   "nbconvert_exporter": "python",
   "pygments_lexer": "ipython3",
   "version": "3.12.0"
  }
 },
 "nbformat": 4,
 "nbformat_minor": 2
}
