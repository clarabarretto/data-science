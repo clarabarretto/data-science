{
 "cells": [
  {
   "cell_type": "code",
   "execution_count": 1,
   "metadata": {},
   "outputs": [],
   "source": [
    "import pandas as pd\n",
    "import numpy as np"
   ]
  },
  {
   "cell_type": "code",
   "execution_count": 20,
   "metadata": {},
   "outputs": [],
   "source": [
    "hosp = pd.read_csv('../selenium-extraction/resultado.csv', decimal=\".\")"
   ]
  },
  {
   "cell_type": "code",
   "execution_count": 21,
   "metadata": {},
   "outputs": [
    {
     "data": {
      "text/plain": [
       "Index(['hotel', 'cidade', 'preço', 'checkin', 'checkout', 'dist_centro',\n",
       "       'dist_praia', 'avaliacao', 'qtnd_avaliacoes', 'data_extracao'],\n",
       "      dtype='object')"
      ]
     },
     "execution_count": 21,
     "metadata": {},
     "output_type": "execute_result"
    }
   ],
   "source": [
    "hosp.columns"
   ]
  },
  {
   "cell_type": "code",
   "execution_count": 4,
   "metadata": {},
   "outputs": [
    {
     "data": {
      "text/plain": [
       "hotel               object\n",
       "cidade              object\n",
       "preço                int64\n",
       "checkin             object\n",
       "checkout            object\n",
       "dist_centro        float64\n",
       "dist_praia         float64\n",
       "avaliacao          float64\n",
       "qtnd_avaliacoes    float64\n",
       "data_extracao       object\n",
       "dtype: object"
      ]
     },
     "execution_count": 4,
     "metadata": {},
     "output_type": "execute_result"
    }
   ],
   "source": [
    "hosp.dtypes"
   ]
  },
  {
   "cell_type": "markdown",
   "metadata": {},
   "source": [
    "## Definindo os tipos das colunas"
   ]
  },
  {
   "cell_type": "code",
   "execution_count": 22,
   "metadata": {},
   "outputs": [],
   "source": [
    "hosp['checkin'] = hosp[\"checkin\"].astype(\"category\")\n",
    "hosp['checkout'] = hosp[\"checkout\"].astype(\"category\")\n",
    "hosp['cidade'] = hosp[\"cidade\"].astype(\"category\")\n",
    "hosp['hotel'] = hosp[\"hotel\"].astype(\"category\")\n",
    "hosp['data_extracao'] =hosp[\"data_extracao\"].astype(\"category\")"
   ]
  },
  {
   "cell_type": "code",
   "execution_count": 6,
   "metadata": {},
   "outputs": [
    {
     "data": {
      "text/plain": [
       "Index(['Lisboa', 'Paris'], dtype='object')"
      ]
     },
     "execution_count": 6,
     "metadata": {},
     "output_type": "execute_result"
    }
   ],
   "source": [
    "hosp[\"cidade\"].cat.categories"
   ]
  },
  {
   "cell_type": "code",
   "execution_count": 7,
   "metadata": {},
   "outputs": [
    {
     "data": {
      "text/plain": [
       "Index(['#Private room C', '#Tram28_Cosy',\n",
       "       '* Cozy & Renovated Studio in Paris *',\n",
       "       '- SweetHome Lisbon sinta-se em casa -',\n",
       "       '0#Studio 2pers#Champs Elysées#Arc de Triomphe',\n",
       "       '0.Appart 4pers#Jardin Luxembourg#NECKER',\n",
       "       '024 A - In the Heart of Lisbon',\n",
       "       '024 B - Cosy Retreat in Madragoa -Lisbon',\n",
       "       '024 C - Lisbon Tiles House', '024 D - Cosy Retreat in Lisbon',\n",
       "       ...\n",
       "       'xxxx xxxx', '´Sao Vicente III´- Eco-studio french balcony&view',\n",
       "       'Áurea Museum by Eurostars Hotel Company', 'Échappée sur les toits',\n",
       "       'Élégance Parisienne au cœur du Marais',\n",
       "       'Élégant Studio Lumineux Paris',\n",
       "       'Étage d’un duplex au 17ème arr de Paris  vue sur le Défense à 10min des champs Élysée',\n",
       "       'ღ Le Jardin Parisien Calme avec Terrasse et Wifi ღ', '休闲民宿', '理想方向'],\n",
       "      dtype='object', length=6677)"
      ]
     },
     "execution_count": 7,
     "metadata": {},
     "output_type": "execute_result"
    }
   ],
   "source": [
    "hosp[\"hotel\"].cat.categories"
   ]
  },
  {
   "cell_type": "markdown",
   "metadata": {},
   "source": [
    "## Removendo Colunas"
   ]
  },
  {
   "cell_type": "code",
   "execution_count": 8,
   "metadata": {},
   "outputs": [
    {
     "data": {
      "text/plain": [
       "(100650, 10)"
      ]
     },
     "execution_count": 8,
     "metadata": {},
     "output_type": "execute_result"
    }
   ],
   "source": [
    "hosp.shape"
   ]
  },
  {
   "cell_type": "code",
   "execution_count": 9,
   "metadata": {},
   "outputs": [
    {
     "name": "stdout",
     "output_type": "stream",
     "text": [
      "hotel                   0\n",
      "cidade                  0\n",
      "preço                   0\n",
      "checkin                 0\n",
      "checkout                0\n",
      "dist_centro             0\n",
      "dist_praia         100650\n",
      "avaliacao            3894\n",
      "qtnd_avaliacoes      3894\n",
      "data_extracao           0\n",
      "dtype: int64\n"
     ]
    }
   ],
   "source": [
    "print(hosp.isnull().sum())"
   ]
  },
  {
   "cell_type": "markdown",
   "metadata": {},
   "source": [
    "Observamos que a coluna \"dist_praia\" apresenta mais de 100.000 linhas sem valores. Desta forma fica viável a exclusão da coluna, visto que ela apresenta 100% das suas linhas vazias."
   ]
  },
  {
   "cell_type": "code",
   "execution_count": 23,
   "metadata": {},
   "outputs": [],
   "source": [
    "hosp.drop(columns=['dist_praia'], inplace=True)"
   ]
  },
  {
   "cell_type": "code",
   "execution_count": 11,
   "metadata": {},
   "outputs": [
    {
     "data": {
      "text/html": [
       "<div>\n",
       "<style scoped>\n",
       "    .dataframe tbody tr th:only-of-type {\n",
       "        vertical-align: middle;\n",
       "    }\n",
       "\n",
       "    .dataframe tbody tr th {\n",
       "        vertical-align: top;\n",
       "    }\n",
       "\n",
       "    .dataframe thead th {\n",
       "        text-align: right;\n",
       "    }\n",
       "</style>\n",
       "<table border=\"1\" class=\"dataframe\">\n",
       "  <thead>\n",
       "    <tr style=\"text-align: right;\">\n",
       "      <th></th>\n",
       "      <th>hotel</th>\n",
       "      <th>cidade</th>\n",
       "      <th>preço</th>\n",
       "      <th>checkin</th>\n",
       "      <th>checkout</th>\n",
       "      <th>dist_centro</th>\n",
       "      <th>avaliacao</th>\n",
       "      <th>qtnd_avaliacoes</th>\n",
       "      <th>data_extracao</th>\n",
       "    </tr>\n",
       "  </thead>\n",
       "  <tbody>\n",
       "    <tr>\n",
       "      <th>0</th>\n",
       "      <td>TURIM Boulevard Hotel</td>\n",
       "      <td>Lisboa</td>\n",
       "      <td>12144</td>\n",
       "      <td>2024-06-01</td>\n",
       "      <td>2024-06-08</td>\n",
       "      <td>0.9</td>\n",
       "      <td>8.5</td>\n",
       "      <td>5355.0</td>\n",
       "      <td>2024-5-23</td>\n",
       "    </tr>\n",
       "  </tbody>\n",
       "</table>\n",
       "</div>"
      ],
      "text/plain": [
       "                   hotel  cidade  preço    checkin   checkout  dist_centro  \\\n",
       "0  TURIM Boulevard Hotel  Lisboa  12144 2024-06-01 2024-06-08          0.9   \n",
       "\n",
       "   avaliacao  qtnd_avaliacoes data_extracao  \n",
       "0        8.5           5355.0     2024-5-23  "
      ]
     },
     "execution_count": 11,
     "metadata": {},
     "output_type": "execute_result"
    }
   ],
   "source": [
    "hosp.head(1)"
   ]
  },
  {
   "cell_type": "markdown",
   "metadata": {},
   "source": [
    "## Inserindo Dados Ausentes\n",
    "\n",
    "Como visto, a tabela possui dois campos que possuem dados ausentes. A ideia aqui é escolher a melhor técnica de imputação de dados para o nosso caso, e assim imputá-los e sumir com os espaços vazios."
   ]
  },
  {
   "cell_type": "code",
   "execution_count": 12,
   "metadata": {},
   "outputs": [
    {
     "name": "stdout",
     "output_type": "stream",
     "text": [
      "hotel                 0\n",
      "cidade                0\n",
      "preço                 0\n",
      "checkin               0\n",
      "checkout              0\n",
      "dist_centro           0\n",
      "avaliacao          3894\n",
      "qtnd_avaliacoes    3894\n",
      "data_extracao         0\n",
      "dtype: int64\n"
     ]
    }
   ],
   "source": [
    "print(hosp.isnull().sum())"
   ]
  },
  {
   "cell_type": "code",
   "execution_count": 13,
   "metadata": {},
   "outputs": [
    {
     "data": {
      "text/plain": [
       "<Axes: >"
      ]
     },
     "execution_count": 13,
     "metadata": {},
     "output_type": "execute_result"
    },
    {
     "data": {
      "image/png": "[encoded data removed]",
      "text/plain": [
       "<Figure size 640x480 with 1 Axes>"
      ]
     },
     "metadata": {},
     "output_type": "display_data"
    }
   ],
   "source": [
    "hosp[\"avaliacao\"].hist()"
   ]
  },
  {
   "cell_type": "code",
   "execution_count": 14,
   "metadata": {},
   "outputs": [
    {
     "data": {
      "text/plain": [
       "<Axes: >"
      ]
     },
     "execution_count": 14,
     "metadata": {},
     "output_type": "execute_result"
    },
    {
     "data": {
      "image/png": "[encoded data removed]",
      "text/plain": [
       "<Figure size 640x480 with 1 Axes>"
      ]
     },
     "metadata": {},
     "output_type": "display_data"
    }
   ],
   "source": [
    "hosp[\"qtnd_avaliacoes\"].hist()"
   ]
  },
  {
   "cell_type": "markdown",
   "metadata": {},
   "source": [
    "Foi possível perceber a partir dos histogramas que, os dados das colunas avaliação e qtnd_avaliacoes, são assimétricos, então, não é interessante realizar a imputação dos dados a partir da média e mediana dos dados. Uma abordagem interessante para esse cenário seria a utilização do método KNN para imputar os dados a partir da proximidade dos dados."
   ]
  },
  {
   "cell_type": "code",
   "execution_count": 28,
   "metadata": {},
   "outputs": [],
   "source": [
    "hosp_input = pd.read_csv('../selenium-extraction/resultado.csv', decimal=\".\")\n",
    "hosp_input.drop(columns=['dist_praia'], inplace=True)"
   ]
  },
  {
   "cell_type": "code",
   "execution_count": 29,
   "metadata": {},
   "outputs": [
    {
     "data": {
      "text/plain": [
       "hotel               object\n",
       "cidade              object\n",
       "preço                int64\n",
       "checkin             object\n",
       "checkout            object\n",
       "dist_centro        float64\n",
       "avaliacao          float64\n",
       "qtnd_avaliacoes    float64\n",
       "data_extracao       object\n",
       "dtype: object"
      ]
     },
     "execution_count": 29,
     "metadata": {},
     "output_type": "execute_result"
    }
   ],
   "source": [
    "hosp_input.dtypes"
   ]
  },
  {
   "cell_type": "code",
   "execution_count": 30,
   "metadata": {},
   "outputs": [],
   "source": [
    "hosp_input['checkin'] = hosp_input['checkin'].astype(\"category\")\n",
    "hosp_input['checkout'] = hosp_input['checkout'].astype(\"category\")\n",
    "hosp_input['cidade'] = hosp_input[\"cidade\"].astype(\"category\")\n",
    "hosp_input['hotel'] = hosp_input[\"hotel\"].astype(\"category\")\n",
    "hosp_input['data_extracao'] =hosp_input[\"data_extracao\"].astype(\"category\")\n",
    "hosp_input['avaliacao'] = hosp_input['avaliacao'].replace('None', pd.NA)\n",
    "hosp_input['avaliacao'] = pd.to_numeric(hosp_input['avaliacao'], errors='coerce')\n",
    "hosp_input['avaliacao'] =hosp_input[\"avaliacao\"].astype(\"float\")\n",
    "hosp_input['qtnd_avaliacoes'] = hosp_input['qtnd_avaliacoes'].replace('None', pd.NA)\n",
    "hosp_input['qtnd_avaliacoes'] = pd.to_numeric(hosp_input['qtnd_avaliacoes'], errors='coerce')\n",
    "hosp_input['qtnd_avaliacoes'] =hosp_input[\"qtnd_avaliacoes\"].astype(\"float\")"
   ]
  },
  {
   "cell_type": "code",
   "execution_count": 31,
   "metadata": {},
   "outputs": [],
   "source": [
    "hosp_input['hotel'] = hosp_input['hotel'].cat.codes\n",
    "hosp_input['checkin'] = hosp_input['checkin'].cat.codes\n",
    "hosp_input['checkout'] = hosp_input['checkout'].cat.codes\n",
    "hosp_input['cidade'] = hosp_input['cidade'].cat.codes\n",
    "hosp_input['data_extracao'] = hosp_input['data_extracao'].cat.codes"
   ]
  },
  {
   "cell_type": "code",
   "execution_count": 32,
   "metadata": {},
   "outputs": [
    {
     "data": {
      "text/html": [
       "<div>\n",
       "<style scoped>\n",
       "    .dataframe tbody tr th:only-of-type {\n",
       "        vertical-align: middle;\n",
       "    }\n",
       "\n",
       "    .dataframe tbody tr th {\n",
       "        vertical-align: top;\n",
       "    }\n",
       "\n",
       "    .dataframe thead th {\n",
       "        text-align: right;\n",
       "    }\n",
       "</style>\n",
       "<table border=\"1\" class=\"dataframe\">\n",
       "  <thead>\n",
       "    <tr style=\"text-align: right;\">\n",
       "      <th></th>\n",
       "      <th>hotel</th>\n",
       "      <th>cidade</th>\n",
       "      <th>preço</th>\n",
       "      <th>checkin</th>\n",
       "      <th>checkout</th>\n",
       "      <th>dist_centro</th>\n",
       "      <th>avaliacao</th>\n",
       "      <th>qtnd_avaliacoes</th>\n",
       "      <th>data_extracao</th>\n",
       "    </tr>\n",
       "  </thead>\n",
       "  <tbody>\n",
       "    <tr>\n",
       "      <th>0</th>\n",
       "      <td>6125</td>\n",
       "      <td>0</td>\n",
       "      <td>12144</td>\n",
       "      <td>0</td>\n",
       "      <td>3</td>\n",
       "      <td>0.9</td>\n",
       "      <td>8.5</td>\n",
       "      <td>5355.0</td>\n",
       "      <td>0</td>\n",
       "    </tr>\n",
       "    <tr>\n",
       "      <th>1</th>\n",
       "      <td>4485</td>\n",
       "      <td>0</td>\n",
       "      <td>6478</td>\n",
       "      <td>0</td>\n",
       "      <td>3</td>\n",
       "      <td>3.1</td>\n",
       "      <td>8.3</td>\n",
       "      <td>3469.0</td>\n",
       "      <td>0</td>\n",
       "    </tr>\n",
       "    <tr>\n",
       "      <th>2</th>\n",
       "      <td>4246</td>\n",
       "      <td>0</td>\n",
       "      <td>4067</td>\n",
       "      <td>0</td>\n",
       "      <td>3</td>\n",
       "      <td>3.9</td>\n",
       "      <td>8.1</td>\n",
       "      <td>4658.0</td>\n",
       "      <td>0</td>\n",
       "    </tr>\n",
       "  </tbody>\n",
       "</table>\n",
       "</div>"
      ],
      "text/plain": [
       "   hotel  cidade  preço  checkin  checkout  dist_centro  avaliacao  \\\n",
       "0   6125       0  12144        0         3          0.9        8.5   \n",
       "1   4485       0   6478        0         3          3.1        8.3   \n",
       "2   4246       0   4067        0         3          3.9        8.1   \n",
       "\n",
       "   qtnd_avaliacoes  data_extracao  \n",
       "0           5355.0              0  \n",
       "1           3469.0              0  \n",
       "2           4658.0              0  "
      ]
     },
     "execution_count": 32,
     "metadata": {},
     "output_type": "execute_result"
    }
   ],
   "source": [
    "hosp_input.head(3)"
   ]
  },
  {
   "cell_type": "code",
   "execution_count": 33,
   "metadata": {},
   "outputs": [
    {
     "name": "stdout",
     "output_type": "stream",
     "text": [
      "        hotel  cidade     preço  checkin  checkout  dist_centro  avaliacao  \\\n",
      "0        6125       0  0.027797        0         3     0.016807   0.833333   \n",
      "1        4485       0  0.014528        0         3     0.063025   0.811111   \n",
      "2        4246       0  0.008882        0         3     0.079832   0.788889   \n",
      "3         500       0  0.008620        0         3     0.033613   0.755556   \n",
      "4        5528       0  0.004393        0         3     0.025210   0.833333   \n",
      "...       ...     ...       ...      ...       ...          ...        ...   \n",
      "100645   4367       1  0.026823       49        49     0.012605   0.644444   \n",
      "100646   5598       1  0.011718       49        49     0.039916        NaN   \n",
      "100647   1048       1  0.032394       49        49     0.052521   0.888889   \n",
      "100648   4345       1  0.022275       49        49     0.071429   0.666667   \n",
      "100649   1949       1  0.013905       49        49     0.096639   0.444444   \n",
      "\n",
      "        qtnd_avaliacoes  data_extracao  \n",
      "0              0.337728              0  \n",
      "1              0.218760              0  \n",
      "2              0.293761              0  \n",
      "3              0.197124              0  \n",
      "4              0.009020              0  \n",
      "...                 ...            ...  \n",
      "100645         0.000505              0  \n",
      "100646              NaN              0  \n",
      "100647         0.000063              0  \n",
      "100648         0.000000              0  \n",
      "100649         0.000126              0  \n",
      "\n",
      "[100650 rows x 9 columns]\n"
     ]
    }
   ],
   "source": [
    "from sklearn.preprocessing import MinMaxScaler\n",
    "\n",
    "columns_to_normalize = ['preço', 'dist_centro', 'avaliacao', 'qtnd_avaliacoes']\n",
    "\n",
    "scaler = MinMaxScaler()\n",
    "\n",
    "hosp_input[columns_to_normalize] = scaler.fit_transform(hosp_input[columns_to_normalize])\n",
    "\n",
    "print(hosp_input)"
   ]
  },
  {
   "cell_type": "code",
   "execution_count": null,
   "metadata": {},
   "outputs": [],
   "source": [
    "from fancyimpute import KNN\n",
    "hosp_knn = KNN(k=3).fit_transform(hosp_input)"
   ]
  },
  {
   "cell_type": "code",
   "execution_count": null,
   "metadata": {},
   "outputs": [],
   "source": [
    "hosp2 = pd.DataFrame(data=hosp_knn[0:,0:],columns=['hotel', 'cidade', 'preço', 'checkin', 'checkout', 'dist_centro','avaliacao', 'qtnd_avaliacoes', 'data_extracao'])"
   ]
  },
  {
   "cell_type": "code",
   "execution_count": null,
   "metadata": {},
   "outputs": [],
   "source": [
    "# revertendo a normalização\n",
    "hosp2[columns_to_normalize] = scaler.inverse_transform(hosp2[columns_to_normalize])"
   ]
  },
  {
   "cell_type": "code",
   "execution_count": null,
   "metadata": {},
   "outputs": [],
   "source": [
    "hosp2.to_csv('dataset_imputado.csv', index=False)"
   ]
  },
  {
   "cell_type": "code",
   "execution_count": 40,
   "metadata": {},
   "outputs": [],
   "source": [
    "hosp2 = pd.read_csv('./dataset_imputado_azure.csv', decimal=\".\")"
   ]
  },
  {
   "cell_type": "code",
   "execution_count": 27,
   "metadata": {},
   "outputs": [
    {
     "data": {
      "text/html": [
       "<div>\n",
       "<style scoped>\n",
       "    .dataframe tbody tr th:only-of-type {\n",
       "        vertical-align: middle;\n",
       "    }\n",
       "\n",
       "    .dataframe tbody tr th {\n",
       "        vertical-align: top;\n",
       "    }\n",
       "\n",
       "    .dataframe thead th {\n",
       "        text-align: right;\n",
       "    }\n",
       "</style>\n",
       "<table border=\"1\" class=\"dataframe\">\n",
       "  <thead>\n",
       "    <tr style=\"text-align: right;\">\n",
       "      <th></th>\n",
       "      <th>hotel</th>\n",
       "      <th>cidade</th>\n",
       "      <th>preço</th>\n",
       "      <th>checkin</th>\n",
       "      <th>checkout</th>\n",
       "      <th>dist_centro</th>\n",
       "      <th>avaliacao</th>\n",
       "      <th>qtnd_avaliacoes</th>\n",
       "      <th>data_extracao</th>\n",
       "    </tr>\n",
       "  </thead>\n",
       "  <tbody>\n",
       "    <tr>\n",
       "      <th>hotel</th>\n",
       "      <td>1.000000</td>\n",
       "      <td>-0.011205</td>\n",
       "      <td>-0.056653</td>\n",
       "      <td>-0.022800</td>\n",
       "      <td>-0.022748</td>\n",
       "      <td>0.033942</td>\n",
       "      <td>0.055877</td>\n",
       "      <td>0.118322</td>\n",
       "      <td>NaN</td>\n",
       "    </tr>\n",
       "    <tr>\n",
       "      <th>cidade</th>\n",
       "      <td>-0.011205</td>\n",
       "      <td>1.000000</td>\n",
       "      <td>0.383131</td>\n",
       "      <td>-0.008059</td>\n",
       "      <td>-0.007619</td>\n",
       "      <td>0.379990</td>\n",
       "      <td>-0.027196</td>\n",
       "      <td>0.115390</td>\n",
       "      <td>NaN</td>\n",
       "    </tr>\n",
       "    <tr>\n",
       "      <th>preço</th>\n",
       "      <td>-0.056653</td>\n",
       "      <td>0.383131</td>\n",
       "      <td>1.000000</td>\n",
       "      <td>0.016703</td>\n",
       "      <td>0.017726</td>\n",
       "      <td>-0.084053</td>\n",
       "      <td>0.306950</td>\n",
       "      <td>-0.104463</td>\n",
       "      <td>NaN</td>\n",
       "    </tr>\n",
       "    <tr>\n",
       "      <th>checkin</th>\n",
       "      <td>-0.022800</td>\n",
       "      <td>-0.008059</td>\n",
       "      <td>0.016703</td>\n",
       "      <td>1.000000</td>\n",
       "      <td>0.989876</td>\n",
       "      <td>-0.048478</td>\n",
       "      <td>0.058477</td>\n",
       "      <td>-0.197229</td>\n",
       "      <td>NaN</td>\n",
       "    </tr>\n",
       "    <tr>\n",
       "      <th>checkout</th>\n",
       "      <td>-0.022748</td>\n",
       "      <td>-0.007619</td>\n",
       "      <td>0.017726</td>\n",
       "      <td>0.989876</td>\n",
       "      <td>1.000000</td>\n",
       "      <td>-0.048001</td>\n",
       "      <td>0.058043</td>\n",
       "      <td>-0.197665</td>\n",
       "      <td>NaN</td>\n",
       "    </tr>\n",
       "    <tr>\n",
       "      <th>dist_centro</th>\n",
       "      <td>0.033942</td>\n",
       "      <td>0.379990</td>\n",
       "      <td>-0.084053</td>\n",
       "      <td>-0.048478</td>\n",
       "      <td>-0.048001</td>\n",
       "      <td>1.000000</td>\n",
       "      <td>-0.073571</td>\n",
       "      <td>0.099942</td>\n",
       "      <td>NaN</td>\n",
       "    </tr>\n",
       "    <tr>\n",
       "      <th>avaliacao</th>\n",
       "      <td>0.055877</td>\n",
       "      <td>-0.027196</td>\n",
       "      <td>0.306950</td>\n",
       "      <td>0.058477</td>\n",
       "      <td>0.058043</td>\n",
       "      <td>-0.073571</td>\n",
       "      <td>1.000000</td>\n",
       "      <td>0.039476</td>\n",
       "      <td>NaN</td>\n",
       "    </tr>\n",
       "    <tr>\n",
       "      <th>qtnd_avaliacoes</th>\n",
       "      <td>0.118322</td>\n",
       "      <td>0.115390</td>\n",
       "      <td>-0.104463</td>\n",
       "      <td>-0.197229</td>\n",
       "      <td>-0.197665</td>\n",
       "      <td>0.099942</td>\n",
       "      <td>0.039476</td>\n",
       "      <td>1.000000</td>\n",
       "      <td>NaN</td>\n",
       "    </tr>\n",
       "    <tr>\n",
       "      <th>data_extracao</th>\n",
       "      <td>NaN</td>\n",
       "      <td>NaN</td>\n",
       "      <td>NaN</td>\n",
       "      <td>NaN</td>\n",
       "      <td>NaN</td>\n",
       "      <td>NaN</td>\n",
       "      <td>NaN</td>\n",
       "      <td>NaN</td>\n",
       "      <td>NaN</td>\n",
       "    </tr>\n",
       "  </tbody>\n",
       "</table>\n",
       "</div>"
      ],
      "text/plain": [
       "                    hotel    cidade     preço   checkin  checkout  \\\n",
       "hotel            1.000000 -0.011205 -0.056653 -0.022800 -0.022748   \n",
       "cidade          -0.011205  1.000000  0.383131 -0.008059 -0.007619   \n",
       "preço           -0.056653  0.383131  1.000000  0.016703  0.017726   \n",
       "checkin         -0.022800 -0.008059  0.016703  1.000000  0.989876   \n",
       "checkout        -0.022748 -0.007619  0.017726  0.989876  1.000000   \n",
       "dist_centro      0.033942  0.379990 -0.084053 -0.048478 -0.048001   \n",
       "avaliacao        0.055877 -0.027196  0.306950  0.058477  0.058043   \n",
       "qtnd_avaliacoes  0.118322  0.115390 -0.104463 -0.197229 -0.197665   \n",
       "data_extracao         NaN       NaN       NaN       NaN       NaN   \n",
       "\n",
       "                 dist_centro  avaliacao  qtnd_avaliacoes  data_extracao  \n",
       "hotel               0.033942   0.055877         0.118322            NaN  \n",
       "cidade              0.379990  -0.027196         0.115390            NaN  \n",
       "preço              -0.084053   0.306950        -0.104463            NaN  \n",
       "checkin            -0.048478   0.058477        -0.197229            NaN  \n",
       "checkout           -0.048001   0.058043        -0.197665            NaN  \n",
       "dist_centro         1.000000  -0.073571         0.099942            NaN  \n",
       "avaliacao          -0.073571   1.000000         0.039476            NaN  \n",
       "qtnd_avaliacoes     0.099942   0.039476         1.000000            NaN  \n",
       "data_extracao            NaN        NaN              NaN            NaN  "
      ]
     },
     "execution_count": 27,
     "metadata": {},
     "output_type": "execute_result"
    }
   ],
   "source": [
    "# nova correlação\n",
    "hosp2.corr(method='spearman')"
   ]
  },
  {
   "cell_type": "code",
   "execution_count": 36,
   "metadata": {},
   "outputs": [
    {
     "data": {
      "text/html": [
       "<div>\n",
       "<style scoped>\n",
       "    .dataframe tbody tr th:only-of-type {\n",
       "        vertical-align: middle;\n",
       "    }\n",
       "\n",
       "    .dataframe tbody tr th {\n",
       "        vertical-align: top;\n",
       "    }\n",
       "\n",
       "    .dataframe thead th {\n",
       "        text-align: right;\n",
       "    }\n",
       "</style>\n",
       "<table border=\"1\" class=\"dataframe\">\n",
       "  <thead>\n",
       "    <tr style=\"text-align: right;\">\n",
       "      <th></th>\n",
       "      <th>hotel</th>\n",
       "      <th>cidade</th>\n",
       "      <th>preço</th>\n",
       "      <th>checkin</th>\n",
       "      <th>checkout</th>\n",
       "      <th>dist_centro</th>\n",
       "      <th>avaliacao</th>\n",
       "      <th>qtnd_avaliacoes</th>\n",
       "      <th>data_extracao</th>\n",
       "    </tr>\n",
       "  </thead>\n",
       "  <tbody>\n",
       "    <tr>\n",
       "      <th>hotel</th>\n",
       "      <td>1.000000</td>\n",
       "      <td>-0.011205</td>\n",
       "      <td>-0.056653</td>\n",
       "      <td>-0.022800</td>\n",
       "      <td>-0.022748</td>\n",
       "      <td>0.033942</td>\n",
       "      <td>0.056593</td>\n",
       "      <td>0.120421</td>\n",
       "      <td>NaN</td>\n",
       "    </tr>\n",
       "    <tr>\n",
       "      <th>cidade</th>\n",
       "      <td>-0.011205</td>\n",
       "      <td>1.000000</td>\n",
       "      <td>0.383131</td>\n",
       "      <td>-0.008059</td>\n",
       "      <td>-0.007619</td>\n",
       "      <td>0.379990</td>\n",
       "      <td>-0.031233</td>\n",
       "      <td>0.128419</td>\n",
       "      <td>NaN</td>\n",
       "    </tr>\n",
       "    <tr>\n",
       "      <th>preço</th>\n",
       "      <td>-0.056653</td>\n",
       "      <td>0.383131</td>\n",
       "      <td>1.000000</td>\n",
       "      <td>0.016703</td>\n",
       "      <td>0.017726</td>\n",
       "      <td>-0.084053</td>\n",
       "      <td>0.313687</td>\n",
       "      <td>-0.122718</td>\n",
       "      <td>NaN</td>\n",
       "    </tr>\n",
       "    <tr>\n",
       "      <th>checkin</th>\n",
       "      <td>-0.022800</td>\n",
       "      <td>-0.008059</td>\n",
       "      <td>0.016703</td>\n",
       "      <td>1.000000</td>\n",
       "      <td>0.989876</td>\n",
       "      <td>-0.048478</td>\n",
       "      <td>0.062800</td>\n",
       "      <td>-0.186332</td>\n",
       "      <td>NaN</td>\n",
       "    </tr>\n",
       "    <tr>\n",
       "      <th>checkout</th>\n",
       "      <td>-0.022748</td>\n",
       "      <td>-0.007619</td>\n",
       "      <td>0.017726</td>\n",
       "      <td>0.989876</td>\n",
       "      <td>1.000000</td>\n",
       "      <td>-0.048001</td>\n",
       "      <td>0.062405</td>\n",
       "      <td>-0.186712</td>\n",
       "      <td>NaN</td>\n",
       "    </tr>\n",
       "    <tr>\n",
       "      <th>dist_centro</th>\n",
       "      <td>0.033942</td>\n",
       "      <td>0.379990</td>\n",
       "      <td>-0.084053</td>\n",
       "      <td>-0.048478</td>\n",
       "      <td>-0.048001</td>\n",
       "      <td>1.000000</td>\n",
       "      <td>-0.078769</td>\n",
       "      <td>0.110822</td>\n",
       "      <td>NaN</td>\n",
       "    </tr>\n",
       "    <tr>\n",
       "      <th>avaliacao</th>\n",
       "      <td>0.056593</td>\n",
       "      <td>-0.031233</td>\n",
       "      <td>0.313687</td>\n",
       "      <td>0.062800</td>\n",
       "      <td>0.062405</td>\n",
       "      <td>-0.078769</td>\n",
       "      <td>1.000000</td>\n",
       "      <td>0.031440</td>\n",
       "      <td>NaN</td>\n",
       "    </tr>\n",
       "    <tr>\n",
       "      <th>qtnd_avaliacoes</th>\n",
       "      <td>0.120421</td>\n",
       "      <td>0.128419</td>\n",
       "      <td>-0.122718</td>\n",
       "      <td>-0.186332</td>\n",
       "      <td>-0.186712</td>\n",
       "      <td>0.110822</td>\n",
       "      <td>0.031440</td>\n",
       "      <td>1.000000</td>\n",
       "      <td>NaN</td>\n",
       "    </tr>\n",
       "    <tr>\n",
       "      <th>data_extracao</th>\n",
       "      <td>NaN</td>\n",
       "      <td>NaN</td>\n",
       "      <td>NaN</td>\n",
       "      <td>NaN</td>\n",
       "      <td>NaN</td>\n",
       "      <td>NaN</td>\n",
       "      <td>NaN</td>\n",
       "      <td>NaN</td>\n",
       "      <td>NaN</td>\n",
       "    </tr>\n",
       "  </tbody>\n",
       "</table>\n",
       "</div>"
      ],
      "text/plain": [
       "                    hotel    cidade     preço   checkin  checkout  \\\n",
       "hotel            1.000000 -0.011205 -0.056653 -0.022800 -0.022748   \n",
       "cidade          -0.011205  1.000000  0.383131 -0.008059 -0.007619   \n",
       "preço           -0.056653  0.383131  1.000000  0.016703  0.017726   \n",
       "checkin         -0.022800 -0.008059  0.016703  1.000000  0.989876   \n",
       "checkout        -0.022748 -0.007619  0.017726  0.989876  1.000000   \n",
       "dist_centro      0.033942  0.379990 -0.084053 -0.048478 -0.048001   \n",
       "avaliacao        0.056593 -0.031233  0.313687  0.062800  0.062405   \n",
       "qtnd_avaliacoes  0.120421  0.128419 -0.122718 -0.186332 -0.186712   \n",
       "data_extracao         NaN       NaN       NaN       NaN       NaN   \n",
       "\n",
       "                 dist_centro  avaliacao  qtnd_avaliacoes  data_extracao  \n",
       "hotel               0.033942   0.056593         0.120421            NaN  \n",
       "cidade              0.379990  -0.031233         0.128419            NaN  \n",
       "preço              -0.084053   0.313687        -0.122718            NaN  \n",
       "checkin            -0.048478   0.062800        -0.186332            NaN  \n",
       "checkout           -0.048001   0.062405        -0.186712            NaN  \n",
       "dist_centro         1.000000  -0.078769         0.110822            NaN  \n",
       "avaliacao          -0.078769   1.000000         0.031440            NaN  \n",
       "qtnd_avaliacoes     0.110822   0.031440         1.000000            NaN  \n",
       "data_extracao            NaN        NaN              NaN            NaN  "
      ]
     },
     "execution_count": 36,
     "metadata": {},
     "output_type": "execute_result"
    }
   ],
   "source": [
    "hosp_corr = pd.read_csv('../selenium-extraction/resultado.csv', decimal=\".\")\n",
    "hosp_corr.drop(columns=['dist_praia'], inplace=True)\n",
    "# antiga correlação\n",
    "hosp_corr['checkin'] = hosp_corr['checkin'].astype(\"category\")\n",
    "hosp_corr['checkout'] = hosp_corr['checkout'].astype(\"category\")\n",
    "hosp_corr['cidade'] = hosp_corr[\"cidade\"].astype(\"category\")\n",
    "hosp_corr['hotel'] = hosp_corr[\"hotel\"].astype(\"category\")\n",
    "hosp_corr['data_extracao'] =hosp_corr[\"data_extracao\"].astype(\"category\")\n",
    "hosp_corr['hotel'] = hosp_corr['hotel'].cat.codes\n",
    "hosp_corr['checkin'] = hosp_corr['checkin'].cat.codes\n",
    "hosp_corr['checkout'] = hosp_corr['checkout'].cat.codes\n",
    "hosp_corr['cidade'] = hosp_corr['cidade'].cat.codes\n",
    "hosp_corr['data_extracao'] = hosp_corr['data_extracao'].cat.codes\n",
    "hosp_corr.corr(method=\"spearman\")"
   ]
  },
  {
   "cell_type": "code",
   "execution_count": 25,
   "metadata": {},
   "outputs": [
    {
     "name": "stdout",
     "output_type": "stream",
     "text": [
      "hotel              0\n",
      "cidade             0\n",
      "preço              0\n",
      "checkin            0\n",
      "checkout           0\n",
      "dist_centro        0\n",
      "avaliacao          0\n",
      "qtnd_avaliacoes    0\n",
      "data_extracao      0\n",
      "dtype: int64\n"
     ]
    }
   ],
   "source": [
    "print(hosp2.isnull().sum())"
   ]
  },
  {
   "cell_type": "code",
   "execution_count": 41,
   "metadata": {},
   "outputs": [
    {
     "data": {
      "text/plain": [
       "hotel               3427.228097\n",
       "cidade                 0.500089\n",
       "preço              11377.355022\n",
       "checkin               25.055579\n",
       "checkout              25.051366\n",
       "dist_centro            2.184525\n",
       "avaliacao              8.208949\n",
       "qtnd_avaliacoes      958.859257\n",
       "data_extracao          0.000000\n",
       "dtype: float64"
      ]
     },
     "execution_count": 41,
     "metadata": {},
     "output_type": "execute_result"
    }
   ],
   "source": [
    "# nova média\n",
    "hosp2.mean()"
   ]
  },
  {
   "cell_type": "code",
   "execution_count": 43,
   "metadata": {},
   "outputs": [
    {
     "data": {
      "text/plain": [
       "hotel               3427.228097\n",
       "cidade                 0.500089\n",
       "preço              11377.355022\n",
       "checkin               25.055579\n",
       "checkout              25.051366\n",
       "dist_centro            2.184525\n",
       "avaliacao              8.217686\n",
       "qtnd_avaliacoes      977.851296\n",
       "data_extracao          0.000000\n",
       "dtype: float64"
      ]
     },
     "execution_count": 43,
     "metadata": {},
     "output_type": "execute_result"
    }
   ],
   "source": [
    "# média antiga\n",
    "hosp_corr.mean()"
   ]
  },
  {
   "cell_type": "code",
   "execution_count": 44,
   "metadata": {},
   "outputs": [
    {
     "data": {
      "text/plain": [
       "hotel              3444.0\n",
       "cidade                1.0\n",
       "preço              7741.0\n",
       "checkin              25.0\n",
       "checkout             25.0\n",
       "dist_centro           1.7\n",
       "avaliacao             8.3\n",
       "qtnd_avaliacoes     361.0\n",
       "data_extracao         0.0\n",
       "dtype: float64"
      ]
     },
     "execution_count": 44,
     "metadata": {},
     "output_type": "execute_result"
    }
   ],
   "source": [
    "# mediana nova\n",
    "hosp2.median()"
   ]
  },
  {
   "cell_type": "code",
   "execution_count": 45,
   "metadata": {},
   "outputs": [
    {
     "data": {
      "text/plain": [
       "hotel              3444.0\n",
       "cidade                1.0\n",
       "preço              7741.0\n",
       "checkin              25.0\n",
       "checkout             25.0\n",
       "dist_centro           1.7\n",
       "avaliacao             8.3\n",
       "qtnd_avaliacoes     389.0\n",
       "data_extracao         0.0\n",
       "dtype: float64"
      ]
     },
     "execution_count": 45,
     "metadata": {},
     "output_type": "execute_result"
    }
   ],
   "source": [
    "# mediana antiga\n",
    "hosp_corr.median()"
   ]
  },
  {
   "cell_type": "code",
   "execution_count": 46,
   "metadata": {},
   "outputs": [],
   "source": [
    "hosp2['hotel'] = hosp['hotel']\n",
    "hosp2['cidade'] = hosp['cidade']\n",
    "hosp2['checkin'] = hosp['checkin']\n",
    "hosp2['checkout'] = hosp['checkout']\n",
    "hosp2['data_extracao'] = hosp['data_extracao']"
   ]
  },
  {
   "cell_type": "markdown",
   "metadata": {},
   "source": [
    "## Discretização dos Dados"
   ]
  },
  {
   "cell_type": "code",
   "execution_count": 65,
   "metadata": {},
   "outputs": [],
   "source": [
    "hosp2['preco_binned'] = pd.qcut(hosp2['preço'], q=4, labels=['Baixo', 'Médio Baixo', 'Médio Alto', 'Alto'])"
   ]
  },
  {
   "cell_type": "code",
   "execution_count": 66,
   "metadata": {},
   "outputs": [
    {
     "data": {
      "text/html": [
       "<div>\n",
       "<style scoped>\n",
       "    .dataframe tbody tr th:only-of-type {\n",
       "        vertical-align: middle;\n",
       "    }\n",
       "\n",
       "    .dataframe tbody tr th {\n",
       "        vertical-align: top;\n",
       "    }\n",
       "\n",
       "    .dataframe thead th {\n",
       "        text-align: right;\n",
       "    }\n",
       "</style>\n",
       "<table border=\"1\" class=\"dataframe\">\n",
       "  <thead>\n",
       "    <tr style=\"text-align: right;\">\n",
       "      <th></th>\n",
       "      <th>hotel</th>\n",
       "      <th>cidade</th>\n",
       "      <th>preço</th>\n",
       "      <th>checkin</th>\n",
       "      <th>checkout</th>\n",
       "      <th>dist_centro</th>\n",
       "      <th>avaliacao</th>\n",
       "      <th>qtnd_avaliacoes</th>\n",
       "      <th>data_extracao</th>\n",
       "      <th>preco_binned</th>\n",
       "    </tr>\n",
       "  </thead>\n",
       "  <tbody>\n",
       "    <tr>\n",
       "      <th>0</th>\n",
       "      <td>TURIM Boulevard Hotel</td>\n",
       "      <td>Lisboa</td>\n",
       "      <td>12144.0</td>\n",
       "      <td>2024-06-1</td>\n",
       "      <td>2024-06-8</td>\n",
       "      <td>0.9</td>\n",
       "      <td>8.5</td>\n",
       "      <td>5355.0</td>\n",
       "      <td>2024-5-23</td>\n",
       "      <td>Médio Alto</td>\n",
       "    </tr>\n",
       "    <tr>\n",
       "      <th>1</th>\n",
       "      <td>Luzeiros Suites</td>\n",
       "      <td>Lisboa</td>\n",
       "      <td>6478.0</td>\n",
       "      <td>2024-06-1</td>\n",
       "      <td>2024-06-8</td>\n",
       "      <td>3.1</td>\n",
       "      <td>8.3</td>\n",
       "      <td>3469.0</td>\n",
       "      <td>2024-5-23</td>\n",
       "      <td>Médio Baixo</td>\n",
       "    </tr>\n",
       "    <tr>\n",
       "      <th>2</th>\n",
       "      <td>Lisbon Serviced Apartments - Campos</td>\n",
       "      <td>Lisboa</td>\n",
       "      <td>4067.0</td>\n",
       "      <td>2024-06-1</td>\n",
       "      <td>2024-06-8</td>\n",
       "      <td>3.9</td>\n",
       "      <td>8.1</td>\n",
       "      <td>4658.0</td>\n",
       "      <td>2024-5-23</td>\n",
       "      <td>Baixo</td>\n",
       "    </tr>\n",
       "    <tr>\n",
       "      <th>3</th>\n",
       "      <td>Amazonia Lisboa Hotel</td>\n",
       "      <td>Lisboa</td>\n",
       "      <td>3955.0</td>\n",
       "      <td>2024-06-1</td>\n",
       "      <td>2024-06-8</td>\n",
       "      <td>1.7</td>\n",
       "      <td>7.8</td>\n",
       "      <td>3126.0</td>\n",
       "      <td>2024-5-23</td>\n",
       "      <td>Baixo</td>\n",
       "    </tr>\n",
       "    <tr>\n",
       "      <th>4</th>\n",
       "      <td>Rua Luciano Cordeiro Bhuiyan Family Host</td>\n",
       "      <td>Lisboa</td>\n",
       "      <td>2150.0</td>\n",
       "      <td>2024-06-1</td>\n",
       "      <td>2024-06-8</td>\n",
       "      <td>1.3</td>\n",
       "      <td>8.5</td>\n",
       "      <td>144.0</td>\n",
       "      <td>2024-5-23</td>\n",
       "      <td>Baixo</td>\n",
       "    </tr>\n",
       "  </tbody>\n",
       "</table>\n",
       "</div>"
      ],
      "text/plain": [
       "                                      hotel  cidade    preço    checkin  \\\n",
       "0                     TURIM Boulevard Hotel  Lisboa  12144.0  2024-06-1   \n",
       "1                           Luzeiros Suites  Lisboa   6478.0  2024-06-1   \n",
       "2       Lisbon Serviced Apartments - Campos  Lisboa   4067.0  2024-06-1   \n",
       "3                     Amazonia Lisboa Hotel  Lisboa   3955.0  2024-06-1   \n",
       "4  Rua Luciano Cordeiro Bhuiyan Family Host  Lisboa   2150.0  2024-06-1   \n",
       "\n",
       "    checkout  dist_centro  avaliacao  qtnd_avaliacoes data_extracao  \\\n",
       "0  2024-06-8          0.9        8.5           5355.0     2024-5-23   \n",
       "1  2024-06-8          3.1        8.3           3469.0     2024-5-23   \n",
       "2  2024-06-8          3.9        8.1           4658.0     2024-5-23   \n",
       "3  2024-06-8          1.7        7.8           3126.0     2024-5-23   \n",
       "4  2024-06-8          1.3        8.5            144.0     2024-5-23   \n",
       "\n",
       "  preco_binned  \n",
       "0   Médio Alto  \n",
       "1  Médio Baixo  \n",
       "2        Baixo  \n",
       "3        Baixo  \n",
       "4        Baixo  "
      ]
     },
     "execution_count": 66,
     "metadata": {},
     "output_type": "execute_result"
    }
   ],
   "source": [
    "hosp2.head()"
   ]
  },
  {
   "cell_type": "code",
   "execution_count": 67,
   "metadata": {},
   "outputs": [],
   "source": [
    "hosp2['dist_centro_binned'] = pd.cut(hosp2['dist_centro'], bins=3, labels=['Próximo', 'Médio', 'Distante'])"
   ]
  },
  {
   "cell_type": "code",
   "execution_count": 68,
   "metadata": {},
   "outputs": [
    {
     "data": {
      "text/html": [
       "<div>\n",
       "<style scoped>\n",
       "    .dataframe tbody tr th:only-of-type {\n",
       "        vertical-align: middle;\n",
       "    }\n",
       "\n",
       "    .dataframe tbody tr th {\n",
       "        vertical-align: top;\n",
       "    }\n",
       "\n",
       "    .dataframe thead th {\n",
       "        text-align: right;\n",
       "    }\n",
       "</style>\n",
       "<table border=\"1\" class=\"dataframe\">\n",
       "  <thead>\n",
       "    <tr style=\"text-align: right;\">\n",
       "      <th></th>\n",
       "      <th>hotel</th>\n",
       "      <th>cidade</th>\n",
       "      <th>preço</th>\n",
       "      <th>checkin</th>\n",
       "      <th>checkout</th>\n",
       "      <th>dist_centro</th>\n",
       "      <th>avaliacao</th>\n",
       "      <th>qtnd_avaliacoes</th>\n",
       "      <th>data_extracao</th>\n",
       "      <th>preco_binned</th>\n",
       "      <th>dist_centro_binned</th>\n",
       "    </tr>\n",
       "  </thead>\n",
       "  <tbody>\n",
       "    <tr>\n",
       "      <th>0</th>\n",
       "      <td>TURIM Boulevard Hotel</td>\n",
       "      <td>Lisboa</td>\n",
       "      <td>12144.0</td>\n",
       "      <td>2024-06-1</td>\n",
       "      <td>2024-06-8</td>\n",
       "      <td>0.9</td>\n",
       "      <td>8.5</td>\n",
       "      <td>5355.0</td>\n",
       "      <td>2024-5-23</td>\n",
       "      <td>Médio Alto</td>\n",
       "      <td>Próximo</td>\n",
       "    </tr>\n",
       "    <tr>\n",
       "      <th>1</th>\n",
       "      <td>Luzeiros Suites</td>\n",
       "      <td>Lisboa</td>\n",
       "      <td>6478.0</td>\n",
       "      <td>2024-06-1</td>\n",
       "      <td>2024-06-8</td>\n",
       "      <td>3.1</td>\n",
       "      <td>8.3</td>\n",
       "      <td>3469.0</td>\n",
       "      <td>2024-5-23</td>\n",
       "      <td>Médio Baixo</td>\n",
       "      <td>Próximo</td>\n",
       "    </tr>\n",
       "    <tr>\n",
       "      <th>2</th>\n",
       "      <td>Lisbon Serviced Apartments - Campos</td>\n",
       "      <td>Lisboa</td>\n",
       "      <td>4067.0</td>\n",
       "      <td>2024-06-1</td>\n",
       "      <td>2024-06-8</td>\n",
       "      <td>3.9</td>\n",
       "      <td>8.1</td>\n",
       "      <td>4658.0</td>\n",
       "      <td>2024-5-23</td>\n",
       "      <td>Baixo</td>\n",
       "      <td>Próximo</td>\n",
       "    </tr>\n",
       "  </tbody>\n",
       "</table>\n",
       "</div>"
      ],
      "text/plain": [
       "                                 hotel  cidade    preço    checkin   checkout  \\\n",
       "0                TURIM Boulevard Hotel  Lisboa  12144.0  2024-06-1  2024-06-8   \n",
       "1                      Luzeiros Suites  Lisboa   6478.0  2024-06-1  2024-06-8   \n",
       "2  Lisbon Serviced Apartments - Campos  Lisboa   4067.0  2024-06-1  2024-06-8   \n",
       "\n",
       "   dist_centro  avaliacao  qtnd_avaliacoes data_extracao preco_binned  \\\n",
       "0          0.9        8.5           5355.0     2024-5-23   Médio Alto   \n",
       "1          3.1        8.3           3469.0     2024-5-23  Médio Baixo   \n",
       "2          3.9        8.1           4658.0     2024-5-23        Baixo   \n",
       "\n",
       "  dist_centro_binned  \n",
       "0            Próximo  \n",
       "1            Próximo  \n",
       "2            Próximo  "
      ]
     },
     "execution_count": 68,
     "metadata": {},
     "output_type": "execute_result"
    }
   ],
   "source": [
    "hosp2.head(3)"
   ]
  },
  {
   "cell_type": "code",
   "execution_count": 69,
   "metadata": {},
   "outputs": [],
   "source": [
    "hosp2.to_csv('resultado_pre_processamento.csv', index=False)"
   ]
  },
  {
   "cell_type": "code",
   "execution_count": null,
   "metadata": {},
   "outputs": [],
   "source": [
    "hosp2['checkin'] = hosp2['checkin'].astype(\"category\")\n",
    "hosp2['checkout'] = hosp2['checkout'].astype(\"category\")\n",
    "hosp2['cidade'] = hosp2[\"cidade\"].astype(\"category\")\n",
    "hosp2['hotel'] = hosp2[\"hotel\"].astype(\"category\")\n",
    "hosp2['data_extracao'] = hosp2[\"data_extracao\"].astype(\"category\")\n",
    "hosp2['hotel'] = hosp2['hotel'].cat.codes\n",
    "hosp2['checkin'] = hosp2['checkin'].cat.codes\n",
    "hosp2['checkout'] = hosp2['checkout'].cat.codes\n",
    "hosp2['cidade'] = hosp2['cidade'].cat.codes\n",
    "hosp2['data_extracao'] = hosp2['data_extracao'].cat.codes"
   ]
  },
  {
   "cell_type": "code",
   "execution_count": null,
   "metadata": {},
   "outputs": [
    {
     "data": {
      "text/html": [
       "<div>\n",
       "<style scoped>\n",
       "    .dataframe tbody tr th:only-of-type {\n",
       "        vertical-align: middle;\n",
       "    }\n",
       "\n",
       "    .dataframe tbody tr th {\n",
       "        vertical-align: top;\n",
       "    }\n",
       "\n",
       "    .dataframe thead th {\n",
       "        text-align: right;\n",
       "    }\n",
       "</style>\n",
       "<table border=\"1\" class=\"dataframe\">\n",
       "  <thead>\n",
       "    <tr style=\"text-align: right;\">\n",
       "      <th></th>\n",
       "      <th>hotel</th>\n",
       "      <th>cidade</th>\n",
       "      <th>preço</th>\n",
       "      <th>checkin</th>\n",
       "      <th>checkout</th>\n",
       "      <th>dist_centro</th>\n",
       "      <th>avaliacao</th>\n",
       "      <th>qtnd_avaliacoes</th>\n",
       "      <th>data_extracao</th>\n",
       "    </tr>\n",
       "  </thead>\n",
       "  <tbody>\n",
       "    <tr>\n",
       "      <th>hotel</th>\n",
       "      <td>1.000000</td>\n",
       "      <td>-0.011205</td>\n",
       "      <td>-0.056653</td>\n",
       "      <td>-0.022800</td>\n",
       "      <td>-0.022748</td>\n",
       "      <td>0.033942</td>\n",
       "      <td>0.055778</td>\n",
       "      <td>0.124004</td>\n",
       "      <td>NaN</td>\n",
       "    </tr>\n",
       "    <tr>\n",
       "      <th>cidade</th>\n",
       "      <td>-0.011205</td>\n",
       "      <td>1.000000</td>\n",
       "      <td>0.383131</td>\n",
       "      <td>-0.008059</td>\n",
       "      <td>-0.007619</td>\n",
       "      <td>0.379990</td>\n",
       "      <td>-0.031459</td>\n",
       "      <td>0.118741</td>\n",
       "      <td>NaN</td>\n",
       "    </tr>\n",
       "    <tr>\n",
       "      <th>preço</th>\n",
       "      <td>-0.056653</td>\n",
       "      <td>0.383131</td>\n",
       "      <td>1.000000</td>\n",
       "      <td>0.016703</td>\n",
       "      <td>0.017726</td>\n",
       "      <td>-0.084053</td>\n",
       "      <td>0.319655</td>\n",
       "      <td>-0.113606</td>\n",
       "      <td>NaN</td>\n",
       "    </tr>\n",
       "    <tr>\n",
       "      <th>checkin</th>\n",
       "      <td>-0.022800</td>\n",
       "      <td>-0.008059</td>\n",
       "      <td>0.016703</td>\n",
       "      <td>1.000000</td>\n",
       "      <td>0.989876</td>\n",
       "      <td>-0.048478</td>\n",
       "      <td>0.056043</td>\n",
       "      <td>-0.183567</td>\n",
       "      <td>NaN</td>\n",
       "    </tr>\n",
       "    <tr>\n",
       "      <th>checkout</th>\n",
       "      <td>-0.022748</td>\n",
       "      <td>-0.007619</td>\n",
       "      <td>0.017726</td>\n",
       "      <td>0.989876</td>\n",
       "      <td>1.000000</td>\n",
       "      <td>-0.048001</td>\n",
       "      <td>0.055621</td>\n",
       "      <td>-0.183861</td>\n",
       "      <td>NaN</td>\n",
       "    </tr>\n",
       "    <tr>\n",
       "      <th>dist_centro</th>\n",
       "      <td>0.033942</td>\n",
       "      <td>0.379990</td>\n",
       "      <td>-0.084053</td>\n",
       "      <td>-0.048478</td>\n",
       "      <td>-0.048001</td>\n",
       "      <td>1.000000</td>\n",
       "      <td>-0.082974</td>\n",
       "      <td>0.107224</td>\n",
       "      <td>NaN</td>\n",
       "    </tr>\n",
       "    <tr>\n",
       "      <th>avaliacao</th>\n",
       "      <td>0.055778</td>\n",
       "      <td>-0.031459</td>\n",
       "      <td>0.319655</td>\n",
       "      <td>0.056043</td>\n",
       "      <td>0.055621</td>\n",
       "      <td>-0.082974</td>\n",
       "      <td>1.000000</td>\n",
       "      <td>0.035063</td>\n",
       "      <td>NaN</td>\n",
       "    </tr>\n",
       "    <tr>\n",
       "      <th>qtnd_avaliacoes</th>\n",
       "      <td>0.124004</td>\n",
       "      <td>0.118741</td>\n",
       "      <td>-0.113606</td>\n",
       "      <td>-0.183567</td>\n",
       "      <td>-0.183861</td>\n",
       "      <td>0.107224</td>\n",
       "      <td>0.035063</td>\n",
       "      <td>1.000000</td>\n",
       "      <td>NaN</td>\n",
       "    </tr>\n",
       "    <tr>\n",
       "      <th>data_extracao</th>\n",
       "      <td>NaN</td>\n",
       "      <td>NaN</td>\n",
       "      <td>NaN</td>\n",
       "      <td>NaN</td>\n",
       "      <td>NaN</td>\n",
       "      <td>NaN</td>\n",
       "      <td>NaN</td>\n",
       "      <td>NaN</td>\n",
       "      <td>NaN</td>\n",
       "    </tr>\n",
       "  </tbody>\n",
       "</table>\n",
       "</div>"
      ],
      "text/plain": [
       "                    hotel    cidade     preço   checkin  checkout  \\\n",
       "hotel            1.000000 -0.011205 -0.056653 -0.022800 -0.022748   \n",
       "cidade          -0.011205  1.000000  0.383131 -0.008059 -0.007619   \n",
       "preço           -0.056653  0.383131  1.000000  0.016703  0.017726   \n",
       "checkin         -0.022800 -0.008059  0.016703  1.000000  0.989876   \n",
       "checkout        -0.022748 -0.007619  0.017726  0.989876  1.000000   \n",
       "dist_centro      0.033942  0.379990 -0.084053 -0.048478 -0.048001   \n",
       "avaliacao        0.055778 -0.031459  0.319655  0.056043  0.055621   \n",
       "qtnd_avaliacoes  0.124004  0.118741 -0.113606 -0.183567 -0.183861   \n",
       "data_extracao         NaN       NaN       NaN       NaN       NaN   \n",
       "\n",
       "                 dist_centro  avaliacao  qtnd_avaliacoes  data_extracao  \n",
       "hotel               0.033942   0.055778         0.124004            NaN  \n",
       "cidade              0.379990  -0.031459         0.118741            NaN  \n",
       "preço              -0.084053   0.319655        -0.113606            NaN  \n",
       "checkin            -0.048478   0.056043        -0.183567            NaN  \n",
       "checkout           -0.048001   0.055621        -0.183861            NaN  \n",
       "dist_centro         1.000000  -0.082974         0.107224            NaN  \n",
       "avaliacao          -0.082974   1.000000         0.035063            NaN  \n",
       "qtnd_avaliacoes     0.107224   0.035063         1.000000            NaN  \n",
       "data_extracao            NaN        NaN              NaN            NaN  "
      ]
     },
     "execution_count": 7,
     "metadata": {},
     "output_type": "execute_result"
    }
   ],
   "source": [
    "#nova correlação\n",
    "hosp2.corr(method='spearman')"
   ]
  },
  {
   "cell_type": "code",
   "execution_count": null,
   "metadata": {},
   "outputs": [
    {
     "data": {
      "text/html": [
       "<div>\n",
       "<style scoped>\n",
       "    .dataframe tbody tr th:only-of-type {\n",
       "        vertical-align: middle;\n",
       "    }\n",
       "\n",
       "    .dataframe tbody tr th {\n",
       "        vertical-align: top;\n",
       "    }\n",
       "\n",
       "    .dataframe thead th {\n",
       "        text-align: right;\n",
       "    }\n",
       "</style>\n",
       "<table border=\"1\" class=\"dataframe\">\n",
       "  <thead>\n",
       "    <tr style=\"text-align: right;\">\n",
       "      <th></th>\n",
       "      <th>hotel</th>\n",
       "      <th>cidade</th>\n",
       "      <th>preço</th>\n",
       "      <th>checkin</th>\n",
       "      <th>checkout</th>\n",
       "      <th>dist_centro</th>\n",
       "      <th>avaliacao</th>\n",
       "      <th>qtnd_avaliacoes</th>\n",
       "      <th>data_extracao</th>\n",
       "    </tr>\n",
       "  </thead>\n",
       "  <tbody>\n",
       "    <tr>\n",
       "      <th>hotel</th>\n",
       "      <td>1.000000</td>\n",
       "      <td>-0.011205</td>\n",
       "      <td>-0.056653</td>\n",
       "      <td>-0.022920</td>\n",
       "      <td>-0.022920</td>\n",
       "      <td>0.033942</td>\n",
       "      <td>0.056593</td>\n",
       "      <td>0.120421</td>\n",
       "      <td>NaN</td>\n",
       "    </tr>\n",
       "    <tr>\n",
       "      <th>cidade</th>\n",
       "      <td>-0.011205</td>\n",
       "      <td>1.000000</td>\n",
       "      <td>0.383131</td>\n",
       "      <td>-0.008168</td>\n",
       "      <td>-0.008168</td>\n",
       "      <td>0.379990</td>\n",
       "      <td>-0.031233</td>\n",
       "      <td>0.128419</td>\n",
       "      <td>NaN</td>\n",
       "    </tr>\n",
       "    <tr>\n",
       "      <th>preço</th>\n",
       "      <td>-0.056653</td>\n",
       "      <td>0.383131</td>\n",
       "      <td>1.000000</td>\n",
       "      <td>0.016103</td>\n",
       "      <td>0.016103</td>\n",
       "      <td>-0.084053</td>\n",
       "      <td>0.313687</td>\n",
       "      <td>-0.122718</td>\n",
       "      <td>NaN</td>\n",
       "    </tr>\n",
       "    <tr>\n",
       "      <th>checkin</th>\n",
       "      <td>-0.022920</td>\n",
       "      <td>-0.008168</td>\n",
       "      <td>0.016103</td>\n",
       "      <td>1.000000</td>\n",
       "      <td>1.000000</td>\n",
       "      <td>-0.048895</td>\n",
       "      <td>0.062952</td>\n",
       "      <td>-0.186814</td>\n",
       "      <td>NaN</td>\n",
       "    </tr>\n",
       "    <tr>\n",
       "      <th>checkout</th>\n",
       "      <td>-0.022920</td>\n",
       "      <td>-0.008168</td>\n",
       "      <td>0.016103</td>\n",
       "      <td>1.000000</td>\n",
       "      <td>1.000000</td>\n",
       "      <td>-0.048895</td>\n",
       "      <td>0.062952</td>\n",
       "      <td>-0.186814</td>\n",
       "      <td>NaN</td>\n",
       "    </tr>\n",
       "    <tr>\n",
       "      <th>dist_centro</th>\n",
       "      <td>0.033942</td>\n",
       "      <td>0.379990</td>\n",
       "      <td>-0.084053</td>\n",
       "      <td>-0.048895</td>\n",
       "      <td>-0.048895</td>\n",
       "      <td>1.000000</td>\n",
       "      <td>-0.078769</td>\n",
       "      <td>0.110822</td>\n",
       "      <td>NaN</td>\n",
       "    </tr>\n",
       "    <tr>\n",
       "      <th>avaliacao</th>\n",
       "      <td>0.056593</td>\n",
       "      <td>-0.031233</td>\n",
       "      <td>0.313687</td>\n",
       "      <td>0.062952</td>\n",
       "      <td>0.062952</td>\n",
       "      <td>-0.078769</td>\n",
       "      <td>1.000000</td>\n",
       "      <td>0.031440</td>\n",
       "      <td>NaN</td>\n",
       "    </tr>\n",
       "    <tr>\n",
       "      <th>qtnd_avaliacoes</th>\n",
       "      <td>0.120421</td>\n",
       "      <td>0.128419</td>\n",
       "      <td>-0.122718</td>\n",
       "      <td>-0.186814</td>\n",
       "      <td>-0.186814</td>\n",
       "      <td>0.110822</td>\n",
       "      <td>0.031440</td>\n",
       "      <td>1.000000</td>\n",
       "      <td>NaN</td>\n",
       "    </tr>\n",
       "    <tr>\n",
       "      <th>data_extracao</th>\n",
       "      <td>NaN</td>\n",
       "      <td>NaN</td>\n",
       "      <td>NaN</td>\n",
       "      <td>NaN</td>\n",
       "      <td>NaN</td>\n",
       "      <td>NaN</td>\n",
       "      <td>NaN</td>\n",
       "      <td>NaN</td>\n",
       "      <td>NaN</td>\n",
       "    </tr>\n",
       "  </tbody>\n",
       "</table>\n",
       "</div>"
      ],
      "text/plain": [
       "                    hotel    cidade     preço   checkin  checkout  \\\n",
       "hotel            1.000000 -0.011205 -0.056653 -0.022920 -0.022920   \n",
       "cidade          -0.011205  1.000000  0.383131 -0.008168 -0.008168   \n",
       "preço           -0.056653  0.383131  1.000000  0.016103  0.016103   \n",
       "checkin         -0.022920 -0.008168  0.016103  1.000000  1.000000   \n",
       "checkout        -0.022920 -0.008168  0.016103  1.000000  1.000000   \n",
       "dist_centro      0.033942  0.379990 -0.084053 -0.048895 -0.048895   \n",
       "avaliacao        0.056593 -0.031233  0.313687  0.062952  0.062952   \n",
       "qtnd_avaliacoes  0.120421  0.128419 -0.122718 -0.186814 -0.186814   \n",
       "data_extracao         NaN       NaN       NaN       NaN       NaN   \n",
       "\n",
       "                 dist_centro  avaliacao  qtnd_avaliacoes  data_extracao  \n",
       "hotel               0.033942   0.056593         0.120421            NaN  \n",
       "cidade              0.379990  -0.031233         0.128419            NaN  \n",
       "preço              -0.084053   0.313687        -0.122718            NaN  \n",
       "checkin            -0.048895   0.062952        -0.186814            NaN  \n",
       "checkout           -0.048895   0.062952        -0.186814            NaN  \n",
       "dist_centro         1.000000  -0.078769         0.110822            NaN  \n",
       "avaliacao          -0.078769   1.000000         0.031440            NaN  \n",
       "qtnd_avaliacoes     0.110822   0.031440         1.000000            NaN  \n",
       "data_extracao            NaN        NaN              NaN            NaN  "
      ]
     },
     "execution_count": 19,
     "metadata": {},
     "output_type": "execute_result"
    }
   ],
   "source": [
    "#antiga correlação\n",
    "hosp['checkin'] = hosp['checkin'].astype(\"category\")\n",
    "hosp['checkout'] = hosp['checkout'].astype(\"category\")\n",
    "hosp['hotel'] = hosp['hotel'].cat.codes\n",
    "hosp['checkin'] = hosp['checkin'].cat.codes\n",
    "hosp['checkout'] = hosp['checkout'].cat.codes\n",
    "hosp['cidade'] = hosp['cidade'].cat.codes\n",
    "hosp['data_extracao'] = hosp['data_extracao'].cat.codes\n",
    "hosp.corr(method='spearman')"
   ]
  }
 ],
 "metadata": {
  "kernelspec": {
   "display_name": "Python 3",
   "language": "python",
   "name": "python3"
  },
  "language_info": {
   "codemirror_mode": {
    "name": "ipython",
    "version": 3
   },
   "file_extension": ".py",
   "mimetype": "text/x-python",
   "name": "python",
   "nbconvert_exporter": "python",
   "pygments_lexer": "ipython3",
   "version": "3.12.0"
  }
 },
 "nbformat": 4,
 "nbformat_minor": 2
}
