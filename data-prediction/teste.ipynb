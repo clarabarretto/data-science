{
 "cells": [
  {
   "cell_type": "code",
   "execution_count": 2,
   "metadata": {},
   "outputs": [],
   "source": [
    "import mlflow\n",
    "import mlflow.sklearn\n",
    "from sklearn.model_selection import TimeSeriesSplit\n",
    "from sklearn.ensemble import RandomForestRegressor\n",
    "from sklearn.metrics import mean_absolute_error\n",
    "import numpy as np\n",
    "import pandas as pd\n",
    "\n",
    "# Carregar os dados\n",
    "df = pd.read_csv('processed-dataset.csv', parse_dates=['checkin'], index_col='checkin')"
   ]
  },
  {
   "cell_type": "code",
   "execution_count": 3,
   "metadata": {},
   "outputs": [],
   "source": [
    "# Feature Engineering\n",
    "df['dia_da_semana'] = df.index.dayofweek\n",
    "df['mes'] = df.index.month\n",
    "df['ano'] = df.index.year\n",
    "df['lag_1'] = df['preço'].shift(1)\n",
    "df['lag_2'] = df['preço'].shift(2)\n",
    "df['rolling_mean_2'] = df['preço'].rolling(window=2).mean()\n",
    "df['rolling_mean_4'] = df['preço'].rolling(window=4).mean()\n",
    "\n",
    "df = df.dropna()"
   ]
  },
  {
   "cell_type": "code",
   "execution_count": 4,
   "metadata": {},
   "outputs": [
    {
     "name": "stdout",
     "output_type": "stream",
     "text": [
      "Train Index: [   0    1    2 ... 2433 2434 2435], Test Index: [2436 2437 2438 ... 4865 4866 4867]\n",
      "MAE: 48.54488898026315\n",
      "Train Index: [   0    1    2 ... 4865 4866 4867], Test Index: [4868 4869 4870 ... 7297 7298 7299]\n",
      "MAE: 20.79071957236842\n",
      "Train Index: [   0    1    2 ... 7297 7298 7299], Test Index: [7300 7301 7302 ... 9729 9730 9731]\n",
      "MAE: 14.677397203947368\n",
      "Train Index: [   0    1    2 ... 9729 9730 9731], Test Index: [ 9732  9733  9734 ... 12161 12162 12163]\n",
      "MAE: 12.03175575657895\n",
      "Train Index: [    0     1     2 ... 12161 12162 12163], Test Index: [12164 12165 12166 ... 14593 14594 14595]\n",
      "MAE: 16.253248355263157\n",
      "Mean MAE: 22.459601973684208, Std MAE: 13.34952343514642\n"
     ]
    }
   ],
   "source": [
    "# Selecionar as features para o modelo\n",
    "features = df[['dia_da_semana', 'mes', 'ano', 'lag_1', 'lag_2', 'rolling_mean_2', 'rolling_mean_4']]\n",
    "target = df['preço']\n",
    "\n",
    "# Configuração da validação cruzada\n",
    "tscv = TimeSeriesSplit(n_splits=5)\n",
    "\n",
    "mae_scores = []\n",
    "\n",
    "# Iniciar um experimento no MLflow\n",
    "mlflow.set_experiment(\"Previsão de Preços de Hotéis\")\n",
    "\n",
    "with mlflow.start_run():\n",
    "    for train_index, test_index in tscv.split(features):\n",
    "        X_train, X_test = features.iloc[train_index], features.iloc[test_index]\n",
    "        y_train, y_test = target.iloc[train_index], target.iloc[test_index]\n",
    "\n",
    "        model = RandomForestRegressor(n_estimators=100, random_state=42)\n",
    "        model.fit(X_train, y_train)\n",
    "        predictions = model.predict(X_test)\n",
    "\n",
    "        mae = mean_absolute_error(y_test, predictions)\n",
    "        mae_scores.append(mae)\n",
    "\n",
    "        print(f\"Train Index: {train_index}, Test Index: {test_index}\")\n",
    "        print(f\"MAE: {mae}\")\n",
    "\n",
    "        # Registrar parâmetros, métricas e artefatos no MLflow\n",
    "        mlflow.log_param(\"n_estimators\", 100)\n",
    "        mlflow.log_metric(\"mae\", mae)\n",
    "\n",
    "    mean_mae = np.mean(mae_scores)\n",
    "    std_mae = np.std(mae_scores)\n",
    "\n",
    "    mlflow.log_metric(\"mean_mae\", mean_mae)\n",
    "    mlflow.log_metric(\"std_mae\", std_mae)\n",
    "    \n",
    "    # Registrar o modelo no MLflow\n",
    "    mlflow.sklearn.log_model(model, \"random_forest_model\")\n",
    "\n",
    "print(f\"Mean MAE: {mean_mae}, Std MAE: {std_mae}\")"
   ]
  },
  {
   "cell_type": "code",
   "execution_count": 17,
   "metadata": {},
   "outputs": [
    {
     "name": "stdout",
     "output_type": "stream",
     "text": [
      "Preço previsto do hotel: 519.3\n"
     ]
    }
   ],
   "source": [
    "\n",
    "# Carregar o modelo treinado do MLflow\n",
    "model_path = \"mlruns/391920513749379523/7c197ca336754e5c9eab1d4e8d5a9c1c/artifacts/random_forest_model\"\n",
    "loaded_model = mlflow.sklearn.load_model(model_path)\n",
    "\n",
    "# Dados de entrada para a predição (exemplo)\n",
    "# Aqui, você precisa fornecer as mesmas features que foram usadas durante o treinamento do modelo\n",
    "# Este é um exemplo fictício para ilustração\n",
    "new_data = pd.DataFrame({\n",
    "    'dia_da_semana': [1],       # Exemplo: Quarta-feira\n",
    "    'mes': [3],                 # Exemplo: Julho\n",
    "    'ano': [2025],              # Exemplo: 2024\n",
    "    'lag_1': [250],             # Valor do preço do último período\n",
    "    'lag_2': [240],             # Valor do preço do penúltimo período\n",
    "    'rolling_mean_2': [245],    # Média móvel dos últimos 2 períodos\n",
    "    'rolling_mean_4': [235],    # Média móvel dos últimos 4 períodos\n",
    "})\n",
    "\n",
    "# Realizar a predição\n",
    "predicted_price = loaded_model.predict(new_data)\n",
    "\n",
    "# Exibir o preço previsto\n",
    "print(f\"Preço previsto do hotel: {predicted_price[0]}\")\n"
   ]
  }
 ],
 "metadata": {
  "kernelspec": {
   "display_name": "Python 3",
   "language": "python",
   "name": "python3"
  },
  "language_info": {
   "codemirror_mode": {
    "name": "ipython",
    "version": 3
   },
   "file_extension": ".py",
   "mimetype": "text/x-python",
   "name": "python",
   "nbconvert_exporter": "python",
   "pygments_lexer": "ipython3",
   "version": "3.12.0"
  }
 },
 "nbformat": 4,
 "nbformat_minor": 2
}
