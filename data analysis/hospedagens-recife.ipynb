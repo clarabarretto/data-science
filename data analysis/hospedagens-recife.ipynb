{
 "cells": [
  {
   "cell_type": "markdown",
   "metadata": {},
   "source": [
    "## Hospedagens em Recife\n",
    "Nesta análise, exploramos a variação dos preços de hospedagem em Recife ao longo de um ano, com foco na identificação de padrões sazonais. Utilizamos técnicas estatísticas e visualizações para examinar como os preços variam entre os diferentes meses do ano. Esses insights são fundamentais para entender as dinâmicas do mercado hoteleiro e podem orientar estratégias de precificação e planejamento."
   ]
  },
  {
   "cell_type": "markdown",
   "metadata": {},
   "source": [
    "Os dados para esta análise foram obtidos do website booking.com utilizando a ferramenta Selenium. Coletamos informações como nomes, preços e detalhes de hospedagens para check-in de uma pessoa, com duração de 7 dias (o preço representando 7 diárias). Separamos os meses em 4 semanas cada um e assim extraímos os dados por cada check-in."
   ]
  },
  {
   "cell_type": "code",
   "execution_count": 2,
   "metadata": {},
   "outputs": [],
   "source": [
    "import numpy as np\n",
    "import pandas as pd\n",
    "import matplotlib.pyplot as plt\n",
    "\n",
    "from scipy import stats\n",
    "from fancyimpute import KNN\n",
    "from scipy.stats import f_oneway, kruskal, shapiro\n",
    "from sklearn.preprocessing import MinMaxScaler\n",
    "from statsmodels.tsa.seasonal import seasonal_decompose"
   ]
  },
  {
   "cell_type": "code",
   "execution_count": 8,
   "metadata": {},
   "outputs": [],
   "source": [
    "# carregando o dataset completo\n",
    "hosp = pd.read_csv('dataset.csv', decimal=\".\")\n",
    "\n",
    "fer = pd.read_csv('feriados-recife.csv')"
   ]
  },
  {
   "cell_type": "markdown",
   "metadata": {
    "tags": [
     "tipodosdados",
     "#tipodosdados"
    ]
   },
   "source": [
    "\n",
    "## Definindo o tipo dos dados <a id=\"tipodosdados\"></a>"
   ]
  },
  {
   "cell_type": "markdown",
   "metadata": {},
   "source": [
    "Cidade e hotel vão virar atributos categóricos e checkin e checkout vão inicialmente ser colunas com o tipo data para conseguirmos operar adequadamente sobre eles"
   ]
  },
  {
   "cell_type": "code",
   "execution_count": 9,
   "metadata": {},
   "outputs": [],
   "source": [
    "hosp['checkin'] = pd.to_datetime(hosp['checkin'])\n",
    "hosp['checkout'] = pd.to_datetime(hosp['checkout'])\n",
    "hosp['cidade'] = hosp[\"cidade\"].astype(\"category\")\n",
    "hosp['hotel'] = hosp[\"hotel\"].astype(\"category\")\n",
    "hosp['data_extracao'] = hosp[\"data_extracao\"].astype(\"category\")"
   ]
  },
  {
   "cell_type": "code",
   "execution_count": 10,
   "metadata": {},
   "outputs": [],
   "source": [
    "# pegando do dataset apenas os dados até junho de 2025 para comparar um ano inteiro sem repetições\n",
    "hospedagens = hosp[~((hosp['checkin'].dt.month > 6) & (hosp['checkin'].dt.year == 2025))]"
   ]
  },
  {
   "cell_type": "code",
   "execution_count": 22,
   "metadata": {},
   "outputs": [
    {
     "data": {
      "text/html": [
       "<div>\n",
       "<style scoped>\n",
       "    .dataframe tbody tr th:only-of-type {\n",
       "        vertical-align: middle;\n",
       "    }\n",
       "\n",
       "    .dataframe tbody tr th {\n",
       "        vertical-align: top;\n",
       "    }\n",
       "\n",
       "    .dataframe thead th {\n",
       "        text-align: right;\n",
       "    }\n",
       "</style>\n",
       "<table border=\"1\" class=\"dataframe\">\n",
       "  <thead>\n",
       "    <tr style=\"text-align: right;\">\n",
       "      <th></th>\n",
       "      <th>hotel</th>\n",
       "      <th>cidade</th>\n",
       "      <th>preço</th>\n",
       "      <th>checkin</th>\n",
       "      <th>checkout</th>\n",
       "      <th>dist_centro</th>\n",
       "      <th>dist_praia</th>\n",
       "      <th>avaliacao</th>\n",
       "      <th>qtnd_avaliacoes</th>\n",
       "      <th>data_extracao</th>\n",
       "      <th>tem_feriado</th>\n",
       "      <th>nome_feriado</th>\n",
       "    </tr>\n",
       "  </thead>\n",
       "  <tbody>\n",
       "    <tr>\n",
       "      <th>0</th>\n",
       "      <td>Hotel Euro Suíte Recife Boa Viagem</td>\n",
       "      <td>Recife</td>\n",
       "      <td>1749</td>\n",
       "      <td>2024-07-01</td>\n",
       "      <td>2024-07-08</td>\n",
       "      <td>8.1</td>\n",
       "      <td>0.50</td>\n",
       "      <td>7.8</td>\n",
       "      <td>3102.0</td>\n",
       "      <td>2024-6-6</td>\n",
       "      <td>False</td>\n",
       "      <td>None</td>\n",
       "    </tr>\n",
       "    <tr>\n",
       "      <th>1</th>\n",
       "      <td>Kastel Manibu Recife - Boa Viagem</td>\n",
       "      <td>Recife</td>\n",
       "      <td>1604</td>\n",
       "      <td>2024-07-01</td>\n",
       "      <td>2024-07-08</td>\n",
       "      <td>4.7</td>\n",
       "      <td>0.25</td>\n",
       "      <td>8.4</td>\n",
       "      <td>4768.0</td>\n",
       "      <td>2024-6-6</td>\n",
       "      <td>False</td>\n",
       "      <td>None</td>\n",
       "    </tr>\n",
       "    <tr>\n",
       "      <th>2</th>\n",
       "      <td>Veja o mar no silêncio do centro! Hospede-se n...</td>\n",
       "      <td>Recife</td>\n",
       "      <td>428</td>\n",
       "      <td>2024-07-01</td>\n",
       "      <td>2024-07-08</td>\n",
       "      <td>0.2</td>\n",
       "      <td>2.50</td>\n",
       "      <td>8.3</td>\n",
       "      <td>3.0</td>\n",
       "      <td>2024-6-6</td>\n",
       "      <td>False</td>\n",
       "      <td>None</td>\n",
       "    </tr>\n",
       "    <tr>\n",
       "      <th>3</th>\n",
       "      <td>Aconchegante Apto de 1qt a 60mts do Consulado EUA</td>\n",
       "      <td>Recife</td>\n",
       "      <td>1011</td>\n",
       "      <td>2024-07-01</td>\n",
       "      <td>2024-07-08</td>\n",
       "      <td>1.2</td>\n",
       "      <td>NaN</td>\n",
       "      <td>9.7</td>\n",
       "      <td>36.0</td>\n",
       "      <td>2024-6-6</td>\n",
       "      <td>False</td>\n",
       "      <td>None</td>\n",
       "    </tr>\n",
       "    <tr>\n",
       "      <th>4</th>\n",
       "      <td>Transamerica Fit Recife</td>\n",
       "      <td>Recife</td>\n",
       "      <td>1751</td>\n",
       "      <td>2024-07-01</td>\n",
       "      <td>2024-07-08</td>\n",
       "      <td>7.0</td>\n",
       "      <td>0.65</td>\n",
       "      <td>8.3</td>\n",
       "      <td>5177.0</td>\n",
       "      <td>2024-6-6</td>\n",
       "      <td>False</td>\n",
       "      <td>None</td>\n",
       "    </tr>\n",
       "    <tr>\n",
       "      <th>...</th>\n",
       "      <td>...</td>\n",
       "      <td>...</td>\n",
       "      <td>...</td>\n",
       "      <td>...</td>\n",
       "      <td>...</td>\n",
       "      <td>...</td>\n",
       "      <td>...</td>\n",
       "      <td>...</td>\n",
       "      <td>...</td>\n",
       "      <td>...</td>\n",
       "      <td>...</td>\n",
       "      <td>...</td>\n",
       "    </tr>\n",
       "    <tr>\n",
       "      <th>16900</th>\n",
       "      <td>Flat no melhor lugar de boa viagem</td>\n",
       "      <td>Recife</td>\n",
       "      <td>4543</td>\n",
       "      <td>2025-08-22</td>\n",
       "      <td>2025-08-29</td>\n",
       "      <td>4.5</td>\n",
       "      <td>0.20</td>\n",
       "      <td>10.0</td>\n",
       "      <td>1.0</td>\n",
       "      <td>2024-6-6</td>\n",
       "      <td>False</td>\n",
       "      <td>None</td>\n",
       "    </tr>\n",
       "    <tr>\n",
       "      <th>16901</th>\n",
       "      <td>Hostel da Socorro</td>\n",
       "      <td>Recife</td>\n",
       "      <td>2835</td>\n",
       "      <td>2025-08-22</td>\n",
       "      <td>2025-08-29</td>\n",
       "      <td>9.0</td>\n",
       "      <td>0.90</td>\n",
       "      <td>1.0</td>\n",
       "      <td>1.0</td>\n",
       "      <td>2024-6-6</td>\n",
       "      <td>False</td>\n",
       "      <td>None</td>\n",
       "    </tr>\n",
       "    <tr>\n",
       "      <th>16902</th>\n",
       "      <td>Lindo apto à beira-mar Jaboatão dos Guararapes...</td>\n",
       "      <td>Recife</td>\n",
       "      <td>2935</td>\n",
       "      <td>2025-08-22</td>\n",
       "      <td>2025-08-29</td>\n",
       "      <td>16.6</td>\n",
       "      <td>0.50</td>\n",
       "      <td>7.0</td>\n",
       "      <td>1.0</td>\n",
       "      <td>2024-6-6</td>\n",
       "      <td>False</td>\n",
       "      <td>None</td>\n",
       "    </tr>\n",
       "    <tr>\n",
       "      <th>16903</th>\n",
       "      <td>Aconchego Boa Viagem</td>\n",
       "      <td>Recife</td>\n",
       "      <td>4032</td>\n",
       "      <td>2025-08-22</td>\n",
       "      <td>2025-08-29</td>\n",
       "      <td>8.4</td>\n",
       "      <td>NaN</td>\n",
       "      <td>NaN</td>\n",
       "      <td>NaN</td>\n",
       "      <td>2024-6-6</td>\n",
       "      <td>False</td>\n",
       "      <td>None</td>\n",
       "    </tr>\n",
       "    <tr>\n",
       "      <th>16904</th>\n",
       "      <td>Casa para Carnaval</td>\n",
       "      <td>Recife</td>\n",
       "      <td>16380</td>\n",
       "      <td>2025-08-22</td>\n",
       "      <td>2025-08-29</td>\n",
       "      <td>5.6</td>\n",
       "      <td>NaN</td>\n",
       "      <td>NaN</td>\n",
       "      <td>NaN</td>\n",
       "      <td>2024-6-6</td>\n",
       "      <td>False</td>\n",
       "      <td>None</td>\n",
       "    </tr>\n",
       "  </tbody>\n",
       "</table>\n",
       "<p>16905 rows × 12 columns</p>\n",
       "</div>"
      ],
      "text/plain": [
       "                                                   hotel  cidade  preço  \\\n",
       "0                     Hotel Euro Suíte Recife Boa Viagem  Recife   1749   \n",
       "1                      Kastel Manibu Recife - Boa Viagem  Recife   1604   \n",
       "2      Veja o mar no silêncio do centro! Hospede-se n...  Recife    428   \n",
       "3      Aconchegante Apto de 1qt a 60mts do Consulado EUA  Recife   1011   \n",
       "4                                Transamerica Fit Recife  Recife   1751   \n",
       "...                                                  ...     ...    ...   \n",
       "16900                 Flat no melhor lugar de boa viagem  Recife   4543   \n",
       "16901                                  Hostel da Socorro  Recife   2835   \n",
       "16902  Lindo apto à beira-mar Jaboatão dos Guararapes...  Recife   2935   \n",
       "16903                               Aconchego Boa Viagem  Recife   4032   \n",
       "16904                                 Casa para Carnaval  Recife  16380   \n",
       "\n",
       "         checkin   checkout  dist_centro  dist_praia  avaliacao  \\\n",
       "0     2024-07-01 2024-07-08          8.1        0.50        7.8   \n",
       "1     2024-07-01 2024-07-08          4.7        0.25        8.4   \n",
       "2     2024-07-01 2024-07-08          0.2        2.50        8.3   \n",
       "3     2024-07-01 2024-07-08          1.2         NaN        9.7   \n",
       "4     2024-07-01 2024-07-08          7.0        0.65        8.3   \n",
       "...          ...        ...          ...         ...        ...   \n",
       "16900 2025-08-22 2025-08-29          4.5        0.20       10.0   \n",
       "16901 2025-08-22 2025-08-29          9.0        0.90        1.0   \n",
       "16902 2025-08-22 2025-08-29         16.6        0.50        7.0   \n",
       "16903 2025-08-22 2025-08-29          8.4         NaN        NaN   \n",
       "16904 2025-08-22 2025-08-29          5.6         NaN        NaN   \n",
       "\n",
       "       qtnd_avaliacoes data_extracao  tem_feriado nome_feriado  \n",
       "0               3102.0      2024-6-6        False         None  \n",
       "1               4768.0      2024-6-6        False         None  \n",
       "2                  3.0      2024-6-6        False         None  \n",
       "3                 36.0      2024-6-6        False         None  \n",
       "4               5177.0      2024-6-6        False         None  \n",
       "...                ...           ...          ...          ...  \n",
       "16900              1.0      2024-6-6        False         None  \n",
       "16901              1.0      2024-6-6        False         None  \n",
       "16902              1.0      2024-6-6        False         None  \n",
       "16903              NaN      2024-6-6        False         None  \n",
       "16904              NaN      2024-6-6        False         None  \n",
       "\n",
       "[16905 rows x 12 columns]"
      ]
     },
     "execution_count": 22,
     "metadata": {},
     "output_type": "execute_result"
    }
   ],
   "source": [
    "# Inicializar a coluna 'tem_feriado' como False\n",
    "hosp['tem_feriado'] = False\n",
    "hosp['nome_feriado'] = None  # Inicializar a coluna 'nome_feriado' com None\n",
    "\n",
    "# Iterar sobre os feriados e marcar se houver interseção com o período de estadia\n",
    "for index, row in fer.iterrows():\n",
    "    data_feriado = row['data']\n",
    "    feriado = row['nome_feriado']\n",
    "    \n",
    "    # Verificar se há interseção entre a data do feriado e o período de estadia\n",
    "    mask = (hosp['checkin'] <= data_feriado) & (hosp['checkout'] >= data_feriado)\n",
    "    \n",
    "    # Marcar 'tem_feriado' como True nas linhas que satisfazem a condição\n",
    "    hosp.loc[mask, 'tem_feriado'] = True\n",
    "    hosp.loc[mask, 'nome_feriado'] = feriado  # Adicionar o nome do feriado\n",
    "    \n",
    "# Exibir o DataFrame hosp atualizadoh\n",
    "hosp\n"
   ]
  },
  {
   "cell_type": "code",
   "execution_count": 24,
   "metadata": {},
   "outputs": [
    {
     "data": {
      "text/html": [
       "<div>\n",
       "<style scoped>\n",
       "    .dataframe tbody tr th:only-of-type {\n",
       "        vertical-align: middle;\n",
       "    }\n",
       "\n",
       "    .dataframe tbody tr th {\n",
       "        vertical-align: top;\n",
       "    }\n",
       "\n",
       "    .dataframe thead th {\n",
       "        text-align: right;\n",
       "    }\n",
       "</style>\n",
       "<table border=\"1\" class=\"dataframe\">\n",
       "  <thead>\n",
       "    <tr style=\"text-align: right;\">\n",
       "      <th></th>\n",
       "      <th>hotel</th>\n",
       "      <th>cidade</th>\n",
       "      <th>preço</th>\n",
       "      <th>checkin</th>\n",
       "      <th>checkout</th>\n",
       "      <th>dist_centro</th>\n",
       "      <th>dist_praia</th>\n",
       "      <th>avaliacao</th>\n",
       "      <th>qtnd_avaliacoes</th>\n",
       "      <th>data_extracao</th>\n",
       "      <th>tem_feriado</th>\n",
       "      <th>nome_feriado</th>\n",
       "    </tr>\n",
       "  </thead>\n",
       "  <tbody>\n",
       "    <tr>\n",
       "      <th>1040</th>\n",
       "      <td>Hotel Euro Suíte Recife Boa Viagem</td>\n",
       "      <td>Recife</td>\n",
       "      <td>1749</td>\n",
       "      <td>2024-07-15</td>\n",
       "      <td>2024-07-22</td>\n",
       "      <td>8.1</td>\n",
       "      <td>0.50</td>\n",
       "      <td>7.8</td>\n",
       "      <td>3102.0</td>\n",
       "      <td>2024-6-6</td>\n",
       "      <td>True</td>\n",
       "      <td>Padroeira</td>\n",
       "    </tr>\n",
       "    <tr>\n",
       "      <th>1041</th>\n",
       "      <td>Kastel Manibu Recife - Boa Viagem</td>\n",
       "      <td>Recife</td>\n",
       "      <td>1630</td>\n",
       "      <td>2024-07-15</td>\n",
       "      <td>2024-07-22</td>\n",
       "      <td>4.7</td>\n",
       "      <td>0.25</td>\n",
       "      <td>8.4</td>\n",
       "      <td>4768.0</td>\n",
       "      <td>2024-6-6</td>\n",
       "      <td>True</td>\n",
       "      <td>Padroeira</td>\n",
       "    </tr>\n",
       "    <tr>\n",
       "      <th>1042</th>\n",
       "      <td>Flat aconchegante em Boa Viagem</td>\n",
       "      <td>Recife</td>\n",
       "      <td>696</td>\n",
       "      <td>2024-07-15</td>\n",
       "      <td>2024-07-22</td>\n",
       "      <td>4.7</td>\n",
       "      <td>0.00</td>\n",
       "      <td>NaN</td>\n",
       "      <td>NaN</td>\n",
       "      <td>2024-6-6</td>\n",
       "      <td>True</td>\n",
       "      <td>Padroeira</td>\n",
       "    </tr>\n",
       "    <tr>\n",
       "      <th>1043</th>\n",
       "      <td>Transamerica Fit Recife</td>\n",
       "      <td>Recife</td>\n",
       "      <td>1648</td>\n",
       "      <td>2024-07-15</td>\n",
       "      <td>2024-07-22</td>\n",
       "      <td>7.0</td>\n",
       "      <td>0.65</td>\n",
       "      <td>8.3</td>\n",
       "      <td>5177.0</td>\n",
       "      <td>2024-6-6</td>\n",
       "      <td>True</td>\n",
       "      <td>Padroeira</td>\n",
       "    </tr>\n",
       "    <tr>\n",
       "      <th>1044</th>\n",
       "      <td>Aconchegante Apto de 1qt a 60mts do Consulado EUA</td>\n",
       "      <td>Recife</td>\n",
       "      <td>1011</td>\n",
       "      <td>2024-07-15</td>\n",
       "      <td>2024-07-22</td>\n",
       "      <td>1.2</td>\n",
       "      <td>NaN</td>\n",
       "      <td>9.7</td>\n",
       "      <td>36.0</td>\n",
       "      <td>2024-6-6</td>\n",
       "      <td>True</td>\n",
       "      <td>Padroeira</td>\n",
       "    </tr>\n",
       "    <tr>\n",
       "      <th>...</th>\n",
       "      <td>...</td>\n",
       "      <td>...</td>\n",
       "      <td>...</td>\n",
       "      <td>...</td>\n",
       "      <td>...</td>\n",
       "      <td>...</td>\n",
       "      <td>...</td>\n",
       "      <td>...</td>\n",
       "      <td>...</td>\n",
       "      <td>...</td>\n",
       "      <td>...</td>\n",
       "      <td>...</td>\n",
       "    </tr>\n",
       "    <tr>\n",
       "      <th>16166</th>\n",
       "      <td>Lindo apto à beira-mar Jaboatão dos Guararapes...</td>\n",
       "      <td>Recife</td>\n",
       "      <td>2928</td>\n",
       "      <td>2025-07-15</td>\n",
       "      <td>2025-07-22</td>\n",
       "      <td>16.6</td>\n",
       "      <td>0.50</td>\n",
       "      <td>7.0</td>\n",
       "      <td>1.0</td>\n",
       "      <td>2024-6-6</td>\n",
       "      <td>True</td>\n",
       "      <td>Padroeira</td>\n",
       "    </tr>\n",
       "    <tr>\n",
       "      <th>16167</th>\n",
       "      <td>Hostel da Socorro</td>\n",
       "      <td>Recife</td>\n",
       "      <td>2835</td>\n",
       "      <td>2025-07-15</td>\n",
       "      <td>2025-07-22</td>\n",
       "      <td>9.0</td>\n",
       "      <td>0.90</td>\n",
       "      <td>1.0</td>\n",
       "      <td>1.0</td>\n",
       "      <td>2024-6-6</td>\n",
       "      <td>True</td>\n",
       "      <td>Padroeira</td>\n",
       "    </tr>\n",
       "    <tr>\n",
       "      <th>16168</th>\n",
       "      <td>Aconchego Boa Viagem</td>\n",
       "      <td>Recife</td>\n",
       "      <td>4032</td>\n",
       "      <td>2025-07-15</td>\n",
       "      <td>2025-07-22</td>\n",
       "      <td>8.4</td>\n",
       "      <td>NaN</td>\n",
       "      <td>NaN</td>\n",
       "      <td>NaN</td>\n",
       "      <td>2024-6-6</td>\n",
       "      <td>True</td>\n",
       "      <td>Padroeira</td>\n",
       "    </tr>\n",
       "    <tr>\n",
       "      <th>16169</th>\n",
       "      <td>Casa para Carnaval</td>\n",
       "      <td>Recife</td>\n",
       "      <td>16380</td>\n",
       "      <td>2025-07-15</td>\n",
       "      <td>2025-07-22</td>\n",
       "      <td>5.6</td>\n",
       "      <td>NaN</td>\n",
       "      <td>NaN</td>\n",
       "      <td>NaN</td>\n",
       "      <td>2024-6-6</td>\n",
       "      <td>True</td>\n",
       "      <td>Padroeira</td>\n",
       "    </tr>\n",
       "    <tr>\n",
       "      <th>16170</th>\n",
       "      <td>Cond Clube em Piedade noCarnaval</td>\n",
       "      <td>Recife</td>\n",
       "      <td>11246</td>\n",
       "      <td>2025-07-15</td>\n",
       "      <td>2025-07-22</td>\n",
       "      <td>15.7</td>\n",
       "      <td>1.00</td>\n",
       "      <td>NaN</td>\n",
       "      <td>NaN</td>\n",
       "      <td>2024-6-6</td>\n",
       "      <td>True</td>\n",
       "      <td>Padroeira</td>\n",
       "    </tr>\n",
       "  </tbody>\n",
       "</table>\n",
       "<p>4981 rows × 12 columns</p>\n",
       "</div>"
      ],
      "text/plain": [
       "                                                   hotel  cidade  preço  \\\n",
       "1040                  Hotel Euro Suíte Recife Boa Viagem  Recife   1749   \n",
       "1041                   Kastel Manibu Recife - Boa Viagem  Recife   1630   \n",
       "1042                     Flat aconchegante em Boa Viagem  Recife    696   \n",
       "1043                             Transamerica Fit Recife  Recife   1648   \n",
       "1044   Aconchegante Apto de 1qt a 60mts do Consulado EUA  Recife   1011   \n",
       "...                                                  ...     ...    ...   \n",
       "16166  Lindo apto à beira-mar Jaboatão dos Guararapes...  Recife   2928   \n",
       "16167                                  Hostel da Socorro  Recife   2835   \n",
       "16168                               Aconchego Boa Viagem  Recife   4032   \n",
       "16169                                 Casa para Carnaval  Recife  16380   \n",
       "16170                   Cond Clube em Piedade noCarnaval  Recife  11246   \n",
       "\n",
       "         checkin   checkout  dist_centro  dist_praia  avaliacao  \\\n",
       "1040  2024-07-15 2024-07-22          8.1        0.50        7.8   \n",
       "1041  2024-07-15 2024-07-22          4.7        0.25        8.4   \n",
       "1042  2024-07-15 2024-07-22          4.7        0.00        NaN   \n",
       "1043  2024-07-15 2024-07-22          7.0        0.65        8.3   \n",
       "1044  2024-07-15 2024-07-22          1.2         NaN        9.7   \n",
       "...          ...        ...          ...         ...        ...   \n",
       "16166 2025-07-15 2025-07-22         16.6        0.50        7.0   \n",
       "16167 2025-07-15 2025-07-22          9.0        0.90        1.0   \n",
       "16168 2025-07-15 2025-07-22          8.4         NaN        NaN   \n",
       "16169 2025-07-15 2025-07-22          5.6         NaN        NaN   \n",
       "16170 2025-07-15 2025-07-22         15.7        1.00        NaN   \n",
       "\n",
       "       qtnd_avaliacoes data_extracao  tem_feriado nome_feriado  \n",
       "1040            3102.0      2024-6-6         True    Padroeira  \n",
       "1041            4768.0      2024-6-6         True    Padroeira  \n",
       "1042               NaN      2024-6-6         True    Padroeira  \n",
       "1043            5177.0      2024-6-6         True    Padroeira  \n",
       "1044              36.0      2024-6-6         True    Padroeira  \n",
       "...                ...           ...          ...          ...  \n",
       "16166              1.0      2024-6-6         True    Padroeira  \n",
       "16167              1.0      2024-6-6         True    Padroeira  \n",
       "16168              NaN      2024-6-6         True    Padroeira  \n",
       "16169              NaN      2024-6-6         True    Padroeira  \n",
       "16170              NaN      2024-6-6         True    Padroeira  \n",
       "\n",
       "[4981 rows x 12 columns]"
      ]
     },
     "execution_count": 24,
     "metadata": {},
     "output_type": "execute_result"
    }
   ],
   "source": [
    "hosp[hosp['tem_feriado'] == True]"
   ]
  },
  {
   "cell_type": "code",
   "execution_count": 5,
   "metadata": {},
   "outputs": [
    {
     "data": {
      "text/plain": [
       "hotel                    category\n",
       "cidade                   category\n",
       "preço                       int64\n",
       "checkin            datetime64[ns]\n",
       "checkout           datetime64[ns]\n",
       "dist_centro               float64\n",
       "dist_praia                float64\n",
       "avaliacao                 float64\n",
       "qtnd_avaliacoes           float64\n",
       "data_extracao            category\n",
       "dtype: object"
      ]
     },
     "execution_count": 5,
     "metadata": {},
     "output_type": "execute_result"
    }
   ],
   "source": [
    "# confirmando o tipo dos dados\n",
    "hospedagens.dtypes"
   ]
  },
  {
   "cell_type": "markdown",
   "metadata": {},
   "source": [
    "## Estatísticas Iniciais"
   ]
  },
  {
   "cell_type": "code",
   "execution_count": 6,
   "metadata": {},
   "outputs": [
    {
     "data": {
      "text/plain": [
       "(15643, 10)"
      ]
     },
     "execution_count": 6,
     "metadata": {},
     "output_type": "execute_result"
    }
   ],
   "source": [
    "# tamanho dos dados\n",
    "hospedagens.shape"
   ]
  },
  {
   "cell_type": "code",
   "execution_count": 7,
   "metadata": {},
   "outputs": [
    {
     "data": {
      "text/plain": [
       "Index(['hotel', 'cidade', 'preço', 'checkin', 'checkout', 'dist_centro',\n",
       "       'dist_praia', 'avaliacao', 'qtnd_avaliacoes', 'data_extracao'],\n",
       "      dtype='object')"
      ]
     },
     "execution_count": 7,
     "metadata": {},
     "output_type": "execute_result"
    }
   ],
   "source": [
    "# visualizando as colunas \n",
    "hospedagens.columns"
   ]
  },
  {
   "cell_type": "code",
   "execution_count": 8,
   "metadata": {},
   "outputs": [
    {
     "data": {
      "text/html": [
       "<div>\n",
       "<style scoped>\n",
       "    .dataframe tbody tr th:only-of-type {\n",
       "        vertical-align: middle;\n",
       "    }\n",
       "\n",
       "    .dataframe tbody tr th {\n",
       "        vertical-align: top;\n",
       "    }\n",
       "\n",
       "    .dataframe thead th {\n",
       "        text-align: right;\n",
       "    }\n",
       "</style>\n",
       "<table border=\"1\" class=\"dataframe\">\n",
       "  <thead>\n",
       "    <tr style=\"text-align: right;\">\n",
       "      <th></th>\n",
       "      <th>preço</th>\n",
       "      <th>checkin</th>\n",
       "      <th>checkout</th>\n",
       "      <th>dist_centro</th>\n",
       "      <th>dist_praia</th>\n",
       "      <th>avaliacao</th>\n",
       "      <th>qtnd_avaliacoes</th>\n",
       "    </tr>\n",
       "  </thead>\n",
       "  <tbody>\n",
       "    <tr>\n",
       "      <th>count</th>\n",
       "      <td>15643.000000</td>\n",
       "      <td>15643</td>\n",
       "      <td>15643</td>\n",
       "      <td>15643.000000</td>\n",
       "      <td>11037.000000</td>\n",
       "      <td>12510.000000</td>\n",
       "      <td>12510.000000</td>\n",
       "    </tr>\n",
       "    <tr>\n",
       "      <th>mean</th>\n",
       "      <td>2091.195551</td>\n",
       "      <td>2024-11-15 05:30:06.328709120</td>\n",
       "      <td>2024-11-22 05:30:06.328709376</td>\n",
       "      <td>8.357665</td>\n",
       "      <td>0.580475</td>\n",
       "      <td>8.190392</td>\n",
       "      <td>448.566427</td>\n",
       "    </tr>\n",
       "    <tr>\n",
       "      <th>min</th>\n",
       "      <td>226.000000</td>\n",
       "      <td>2024-07-01 00:00:00</td>\n",
       "      <td>2024-07-08 00:00:00</td>\n",
       "      <td>0.200000</td>\n",
       "      <td>0.000000</td>\n",
       "      <td>1.000000</td>\n",
       "      <td>1.000000</td>\n",
       "    </tr>\n",
       "    <tr>\n",
       "      <th>25%</th>\n",
       "      <td>1188.000000</td>\n",
       "      <td>2024-08-22 00:00:00</td>\n",
       "      <td>2024-08-29 00:00:00</td>\n",
       "      <td>4.300000</td>\n",
       "      <td>0.100000</td>\n",
       "      <td>7.700000</td>\n",
       "      <td>3.000000</td>\n",
       "    </tr>\n",
       "    <tr>\n",
       "      <th>50%</th>\n",
       "      <td>1638.000000</td>\n",
       "      <td>2024-11-01 00:00:00</td>\n",
       "      <td>2024-11-08 00:00:00</td>\n",
       "      <td>6.800000</td>\n",
       "      <td>0.450000</td>\n",
       "      <td>8.600000</td>\n",
       "      <td>14.000000</td>\n",
       "    </tr>\n",
       "    <tr>\n",
       "      <th>75%</th>\n",
       "      <td>2270.000000</td>\n",
       "      <td>2025-01-22 00:00:00</td>\n",
       "      <td>2025-01-29 00:00:00</td>\n",
       "      <td>9.500000</td>\n",
       "      <td>0.750000</td>\n",
       "      <td>9.500000</td>\n",
       "      <td>96.000000</td>\n",
       "    </tr>\n",
       "    <tr>\n",
       "      <th>max</th>\n",
       "      <td>20793.000000</td>\n",
       "      <td>2025-06-22 00:00:00</td>\n",
       "      <td>2025-06-29 00:00:00</td>\n",
       "      <td>89.400000</td>\n",
       "      <td>3.000000</td>\n",
       "      <td>10.000000</td>\n",
       "      <td>8861.000000</td>\n",
       "    </tr>\n",
       "    <tr>\n",
       "      <th>std</th>\n",
       "      <td>1874.089123</td>\n",
       "      <td>NaN</td>\n",
       "      <td>NaN</td>\n",
       "      <td>7.928466</td>\n",
       "      <td>0.703904</td>\n",
       "      <td>1.935681</td>\n",
       "      <td>1156.761127</td>\n",
       "    </tr>\n",
       "  </tbody>\n",
       "</table>\n",
       "</div>"
      ],
      "text/plain": [
       "              preço                        checkin  \\\n",
       "count  15643.000000                          15643   \n",
       "mean    2091.195551  2024-11-15 05:30:06.328709120   \n",
       "min      226.000000            2024-07-01 00:00:00   \n",
       "25%     1188.000000            2024-08-22 00:00:00   \n",
       "50%     1638.000000            2024-11-01 00:00:00   \n",
       "75%     2270.000000            2025-01-22 00:00:00   \n",
       "max    20793.000000            2025-06-22 00:00:00   \n",
       "std     1874.089123                            NaN   \n",
       "\n",
       "                            checkout   dist_centro    dist_praia  \\\n",
       "count                          15643  15643.000000  11037.000000   \n",
       "mean   2024-11-22 05:30:06.328709376      8.357665      0.580475   \n",
       "min              2024-07-08 00:00:00      0.200000      0.000000   \n",
       "25%              2024-08-29 00:00:00      4.300000      0.100000   \n",
       "50%              2024-11-08 00:00:00      6.800000      0.450000   \n",
       "75%              2025-01-29 00:00:00      9.500000      0.750000   \n",
       "max              2025-06-29 00:00:00     89.400000      3.000000   \n",
       "std                              NaN      7.928466      0.703904   \n",
       "\n",
       "          avaliacao  qtnd_avaliacoes  \n",
       "count  12510.000000     12510.000000  \n",
       "mean       8.190392       448.566427  \n",
       "min        1.000000         1.000000  \n",
       "25%        7.700000         3.000000  \n",
       "50%        8.600000        14.000000  \n",
       "75%        9.500000        96.000000  \n",
       "max       10.000000      8861.000000  \n",
       "std        1.935681      1156.761127  "
      ]
     },
     "execution_count": 8,
     "metadata": {},
     "output_type": "execute_result"
    }
   ],
   "source": [
    "# uma breve descrição dos dados\n",
    "hospedagens.describe()"
   ]
  },
  {
   "cell_type": "markdown",
   "metadata": {},
   "source": [
    "O desvio padrão gigantesco do preço chama a atenção juntamente com o máximo valor, indicando possíveis outliers, os quais podem distorcer a análise estatística e exigir uma investigação mais aprofundada para compreender sua origem"
   ]
  },
  {
   "cell_type": "code",
   "execution_count": 9,
   "metadata": {},
   "outputs": [
    {
     "data": {
      "text/plain": [
       "<Axes: >"
      ]
     },
     "execution_count": 9,
     "metadata": {},
     "output_type": "execute_result"
    },
    {
     "data": {
      "image/png": "[encoded data removed]",
      "text/plain": [
       "<Figure size 640x480 with 1 Axes>"
      ]
     },
     "metadata": {},
     "output_type": "display_data"
    }
   ],
   "source": [
    "# hiistograma do preço das estadias\n",
    "hospedagens['preço'].hist()"
   ]
  },
  {
   "cell_type": "markdown",
   "metadata": {},
   "source": [
    "O histograma dos preços segue uma distribuição exponencial, indicando bastante outliers e que os dados são consideravelmente assimétricos. Potencialmente, aplicar o log10 sobre o preço pode minimizar os danos"
   ]
  },
  {
   "cell_type": "code",
   "execution_count": 10,
   "metadata": {},
   "outputs": [
    {
     "data": {
      "text/plain": [
       "<Axes: >"
      ]
     },
     "execution_count": 10,
     "metadata": {},
     "output_type": "execute_result"
    },
    {
     "data": {
      "image/png": "[encoded data removed]",
      "text/plain": [
       "<Figure size 640x480 with 1 Axes>"
      ]
     },
     "metadata": {},
     "output_type": "display_data"
    }
   ],
   "source": [
    "# plotando o boxplot dos dados\n",
    "hospedagens['preço'].plot(kind='box')"
   ]
  },
  {
   "cell_type": "markdown",
   "metadata": {},
   "source": [
    "O boxplot indica muitos outliers, como indicado anteriormente pelo desvio padrão alto e pelo histograma"
   ]
  },
  {
   "cell_type": "markdown",
   "metadata": {},
   "source": [
    "### Estatísticas por Mês"
   ]
  },
  {
   "cell_type": "markdown",
   "metadata": {},
   "source": [
    "Vamos agora printar estatísticas sobre o preço agrupado com o mês. Essas estatísticas podem revelar insights interessantes sobre o nosso objetivo principal (análise de variação dos preços e sazonalidade)."
   ]
  },
  {
   "cell_type": "code",
   "execution_count": 11,
   "metadata": {},
   "outputs": [
    {
     "name": "stderr",
     "output_type": "stream",
     "text": [
      "C:\\Users\\extre\\AppData\\Local\\Temp\\ipykernel_20684\\366261908.py:2: FutureWarning: 'M' is deprecated and will be removed in a future version, please use 'ME' instead.\n",
      "  preco_medio_mensal = hospedagens.groupby(pd.Grouper(key='checkin', freq=\"M\"))['preço'].mean()\n"
     ]
    },
    {
     "data": {
      "text/plain": [
       "checkin\n",
       "2024-07-31    1853.438967\n",
       "2024-08-31    1852.081880\n",
       "2024-09-30    1936.745310\n",
       "2024-10-31    1977.388763\n",
       "2024-11-30    2011.614892\n",
       "2024-12-31    2269.954579\n",
       "2025-01-31    2461.325480\n",
       "2025-02-28    2248.170360\n",
       "2025-03-31    2720.275000\n",
       "2025-04-30    2325.341146\n",
       "2025-05-31    2297.971154\n",
       "2025-06-30    2122.087601\n",
       "Freq: ME, Name: preço, dtype: float64"
      ]
     },
     "execution_count": 11,
     "metadata": {},
     "output_type": "execute_result"
    }
   ],
   "source": [
    "# agrupamos os dados por mês para entender a média dos preços de cada mês\n",
    "preco_medio_mensal = hospedagens.groupby(pd.Grouper(key='checkin', freq=\"M\"))['preço'].mean()\n",
    "preco_medio_mensal"
   ]
  },
  {
   "cell_type": "code",
   "execution_count": 12,
   "metadata": {},
   "outputs": [
    {
     "name": "stderr",
     "output_type": "stream",
     "text": [
      "C:\\Users\\extre\\AppData\\Local\\Temp\\ipykernel_20684\\3941188951.py:1: FutureWarning: 'M' is deprecated and will be removed in a future version, please use 'ME' instead.\n",
      "  preco_medio_mensal = hospedagens.groupby(pd.Grouper(key='checkin', freq=\"M\"))['preço'].median()\n"
     ]
    },
    {
     "data": {
      "image/png": "[encoded data removed]",
      "text/plain": [
       "<Figure size 640x480 with 1 Axes>"
      ]
     },
     "metadata": {},
     "output_type": "display_data"
    }
   ],
   "source": [
    "preco_medio_mensal = hospedagens.groupby(pd.Grouper(key='checkin', freq=\"M\"))['preço'].median()\n",
    "plt.bar(preco_medio_mensal.index, preco_medio_mensal.values, width=25)\n",
    "plt.xlabel('Check-in')\n",
    "plt.ylabel('Preço')\n",
    "plt.title('Histograma de Preços Médios em Função dos Check-ins')\n",
    "plt.xticks(rotation=45)\n",
    "plt.grid(True)\n",
    "plt.tight_layout()\n",
    "plt.show()"
   ]
  },
  {
   "cell_type": "markdown",
   "metadata": {},
   "source": [
    "Os preços médios traçados acima apresentam um pico em alguns pontos do período abordado, ressaltando principalmente os meses de janeiro e março, períodos que possuem épocas festivas interessantes, como o ano-novo e o carnaval. Isso sugere que essas são épocas mais procuradas pelos clientes e ,assim, o preço sobe"
   ]
  },
  {
   "cell_type": "code",
   "execution_count": 13,
   "metadata": {},
   "outputs": [
    {
     "name": "stderr",
     "output_type": "stream",
     "text": [
      "C:\\Users\\extre\\AppData\\Local\\Temp\\ipykernel_20684\\1934855314.py:2: FutureWarning: 'M' is deprecated and will be removed in a future version, please use 'ME' instead.\n",
      "  preco_mediano_mensal = hospedagens.groupby(pd.Grouper(key='checkin', freq=\"M\"))['preço'].median()\n"
     ]
    },
    {
     "data": {
      "text/plain": [
       "checkin\n",
       "2024-07-31    1567.0\n",
       "2024-08-31    1487.0\n",
       "2024-09-30    1595.0\n",
       "2024-10-31    1620.0\n",
       "2024-11-30    1638.0\n",
       "2024-12-31    1712.0\n",
       "2025-01-31    2004.0\n",
       "2025-02-28    1707.5\n",
       "2025-03-31    1895.0\n",
       "2025-04-30    1762.0\n",
       "2025-05-31    1714.0\n",
       "2025-06-30    1575.0\n",
       "Freq: ME, Name: preço, dtype: float64"
      ]
     },
     "execution_count": 13,
     "metadata": {},
     "output_type": "execute_result"
    }
   ],
   "source": [
    "# agrupamos os dados por mês para entender a mediana dos preços de cada mês\n",
    "preco_mediano_mensal = hospedagens.groupby(pd.Grouper(key='checkin', freq=\"M\"))['preço'].median()\n",
    "preco_mediano_mensal"
   ]
  },
  {
   "cell_type": "code",
   "execution_count": 14,
   "metadata": {},
   "outputs": [
    {
     "name": "stderr",
     "output_type": "stream",
     "text": [
      "C:\\Users\\extre\\AppData\\Local\\Temp\\ipykernel_20684\\3836946410.py:2: FutureWarning: 'M' is deprecated and will be removed in a future version, please use 'ME' instead.\n",
      "  preco_mediano_mensal = hospedagens.groupby(pd.Grouper(key='checkin', freq=\"M\"))['preço'].median()\n"
     ]
    },
    {
     "data": {
      "image/png": "[encoded data removed]",
      "text/plain": [
       "<Figure size 640x480 with 1 Axes>"
      ]
     },
     "metadata": {},
     "output_type": "display_data"
    }
   ],
   "source": [
    "# Plotando o histograma dos preços por mês\n",
    "preco_mediano_mensal = hospedagens.groupby(pd.Grouper(key='checkin', freq=\"M\"))['preço'].median()\n",
    "plt.bar(preco_mediano_mensal.index, preco_mediano_mensal.values, width=25)\n",
    "plt.xlabel('Check-in')\n",
    "plt.ylabel('Preço')\n",
    "plt.title('Histograma de Preços em Função dos Check-ins')\n",
    "plt.xticks(rotation=45)\n",
    "plt.grid(True)\n",
    "plt.tight_layout()\n",
    "plt.show()"
   ]
  },
  {
   "cell_type": "markdown",
   "metadata": {},
   "source": [
    "Os preços medianos mantém a mesma pegada da média, ressaltando os meses de janeiro e março como os mais cobiçados"
   ]
  },
  {
   "cell_type": "markdown",
   "metadata": {},
   "source": [
    "Com a média e mediana dos dados, podemos ver que em alguns meses os valores são mais altos ou baixo, destacando uma provável variabilidade dos preços."
   ]
  },
  {
   "cell_type": "markdown",
   "metadata": {},
   "source": [
    "Agora vamos entender a distribuição do número de acomodações ao longo do tempo"
   ]
  },
  {
   "cell_type": "code",
   "execution_count": 15,
   "metadata": {},
   "outputs": [
    {
     "name": "stderr",
     "output_type": "stream",
     "text": [
      "C:\\Users\\extre\\AppData\\Local\\Temp\\ipykernel_20684\\3033508448.py:2: FutureWarning: 'M' is deprecated and will be removed in a future version, please use 'ME' instead.\n",
      "  num_hospedagens_mes = hospedagens.groupby(pd.Grouper(key='checkin', freq=\"M\"))['preço'].count()\n"
     ]
    },
    {
     "data": {
      "text/plain": [
       "checkin\n",
       "2024-07-31    2130\n",
       "2024-08-31    2064\n",
       "2024-09-30    1759\n",
       "2024-10-31    1762\n",
       "2024-11-30    1719\n",
       "2024-12-31    1343\n",
       "2025-01-31    1146\n",
       "2025-02-28     722\n",
       "2025-03-31     760\n",
       "2025-04-30     768\n",
       "2025-05-31     728\n",
       "2025-06-30     742\n",
       "Freq: ME, Name: preço, dtype: int64"
      ]
     },
     "execution_count": 15,
     "metadata": {},
     "output_type": "execute_result"
    }
   ],
   "source": [
    "# número de acomodações aparecendo por mês\n",
    "num_hospedagens_mes = hospedagens.groupby(pd.Grouper(key='checkin', freq=\"M\"))['preço'].count()\n",
    "num_hospedagens_mes"
   ]
  },
  {
   "cell_type": "code",
   "execution_count": 16,
   "metadata": {},
   "outputs": [
    {
     "data": {
      "image/png": "[encoded data removed]",
      "text/plain": [
       "<Figure size 640x480 with 1 Axes>"
      ]
     },
     "metadata": {},
     "output_type": "display_data"
    }
   ],
   "source": [
    "# Plotando o histograma da quantidade de hospedagens que apareceram cadastradas na booking por mês\n",
    "plt.bar(num_hospedagens_mes.index, num_hospedagens_mes.values, width=25)\n",
    "plt.xlabel('Check-in')\n",
    "plt.ylabel('Quantidade de Hospedagens')\n",
    "plt.xticks(rotation=45)\n",
    "plt.grid(True)\n",
    "plt.tight_layout()\n",
    "plt.show()"
   ]
  },
  {
   "cell_type": "markdown",
   "metadata": {},
   "source": [
    "Aqui podemos perceber, que ao longo do tempo, o número de acomodações disponíveis para reserva vai caindo. O padrão demonstra que provavelmente uma boa parte dos hóteis, não fazem um cadastro para reserva tão antecipadamente. Com isso, cada mês se torna um grupo de análise diferente."
   ]
  },
  {
   "cell_type": "markdown",
   "metadata": {},
   "source": [
    "Agora vamos calcular o desvio padrão dos preços médios dos meses"
   ]
  },
  {
   "cell_type": "code",
   "execution_count": 17,
   "metadata": {},
   "outputs": [
    {
     "data": {
      "text/plain": [
       "145.65283418478546"
      ]
     },
     "execution_count": 17,
     "metadata": {},
     "output_type": "execute_result"
    }
   ],
   "source": [
    "# calculando o desvio padrão dos preços médios dos meses\n",
    "preco_medio_mensal['price_change'] = preco_medio_mensal.std()\n",
    "preco_medio_mensal['price_change']\n"
   ]
  },
  {
   "cell_type": "markdown",
   "metadata": {},
   "source": [
    "Obtivemos um desvio padrão considerável, já esperado por conta dos plots anteriores. Esse desvio padrão ressalta que provavelmente há uma variação no preço entre os meses, o que pode indicar padrões sazonais"
   ]
  },
  {
   "cell_type": "code",
   "execution_count": 18,
   "metadata": {},
   "outputs": [
    {
     "name": "stderr",
     "output_type": "stream",
     "text": [
      "C:\\Users\\extre\\AppData\\Local\\Temp\\ipykernel_20684\\2195187864.py:3: SettingWithCopyWarning: \n",
      "A value is trying to be set on a copy of a slice from a DataFrame.\n",
      "Try using .loc[row_indexer,col_indexer] = value instead\n",
      "\n",
      "See the caveats in the documentation: https://pandas.pydata.org/pandas-docs/stable/user_guide/indexing.html#returning-a-view-versus-a-copy\n",
      "  hospedagens['mes_checkin'] = hospedagens['checkin'].dt.month\n"
     ]
    }
   ],
   "source": [
    "# criando uma coluna para armazenar o mês do checkin\n",
    "# é interessante pois vamos analisar a sazonalidade dos dados\n",
    "hospedagens['mes_checkin'] = hospedagens['checkin'].dt.month"
   ]
  },
  {
   "cell_type": "markdown",
   "metadata": {},
   "source": [
    "Em seguida vamos pegar apenas as hospedagens que aparecem em todos os check-ins do dataset. O objetivo é avaliar se os hóteis que aparacem em todas as datas possuem um viés claro (como preços mais elevados)."
   ]
  },
  {
   "cell_type": "code",
   "execution_count": 19,
   "metadata": {},
   "outputs": [
    {
     "name": "stderr",
     "output_type": "stream",
     "text": [
      "C:\\Users\\extre\\AppData\\Local\\Temp\\ipykernel_20684\\413734298.py:2: FutureWarning: The default of observed=False is deprecated and will be changed to True in a future version of pandas. Pass observed=False to retain current behavior or observed=True to adopt the future default and silence this warning.\n",
      "  hotel_week_count = hospedagens.groupby('hotel')['checkin'].nunique()\n"
     ]
    },
    {
     "data": {
      "text/html": [
       "<div>\n",
       "<style scoped>\n",
       "    .dataframe tbody tr th:only-of-type {\n",
       "        vertical-align: middle;\n",
       "    }\n",
       "\n",
       "    .dataframe tbody tr th {\n",
       "        vertical-align: top;\n",
       "    }\n",
       "\n",
       "    .dataframe thead th {\n",
       "        text-align: right;\n",
       "    }\n",
       "</style>\n",
       "<table border=\"1\" class=\"dataframe\">\n",
       "  <thead>\n",
       "    <tr style=\"text-align: right;\">\n",
       "      <th></th>\n",
       "      <th>hotel</th>\n",
       "      <th>cidade</th>\n",
       "      <th>preço</th>\n",
       "      <th>checkin</th>\n",
       "      <th>checkout</th>\n",
       "      <th>dist_centro</th>\n",
       "      <th>dist_praia</th>\n",
       "      <th>avaliacao</th>\n",
       "      <th>qtnd_avaliacoes</th>\n",
       "      <th>data_extracao</th>\n",
       "      <th>mes_checkin</th>\n",
       "    </tr>\n",
       "  </thead>\n",
       "  <tbody>\n",
       "    <tr>\n",
       "      <th>23</th>\n",
       "      <td>Flat em Boa Viagem</td>\n",
       "      <td>Recife</td>\n",
       "      <td>1190</td>\n",
       "      <td>2024-07-01</td>\n",
       "      <td>2024-07-08</td>\n",
       "      <td>9.4</td>\n",
       "      <td>0.1</td>\n",
       "      <td>7.4</td>\n",
       "      <td>1798.0</td>\n",
       "      <td>2024-6-6</td>\n",
       "      <td>7</td>\n",
       "    </tr>\n",
       "    <tr>\n",
       "      <th>24</th>\n",
       "      <td>Casa Recife Pousada</td>\n",
       "      <td>Recife</td>\n",
       "      <td>421</td>\n",
       "      <td>2024-07-01</td>\n",
       "      <td>2024-07-08</td>\n",
       "      <td>8.2</td>\n",
       "      <td>1.1</td>\n",
       "      <td>7.1</td>\n",
       "      <td>602.0</td>\n",
       "      <td>2024-6-6</td>\n",
       "      <td>7</td>\n",
       "    </tr>\n",
       "    <tr>\n",
       "      <th>27</th>\n",
       "      <td>Hotel Dan Inn Mar Piedade - Grande Recife</td>\n",
       "      <td>Recife</td>\n",
       "      <td>1953</td>\n",
       "      <td>2024-07-01</td>\n",
       "      <td>2024-07-08</td>\n",
       "      <td>13.7</td>\n",
       "      <td>0.0</td>\n",
       "      <td>7.8</td>\n",
       "      <td>2778.0</td>\n",
       "      <td>2024-6-6</td>\n",
       "      <td>7</td>\n",
       "    </tr>\n",
       "    <tr>\n",
       "      <th>33</th>\n",
       "      <td>Marante Plaza Hotel</td>\n",
       "      <td>Recife</td>\n",
       "      <td>3079</td>\n",
       "      <td>2024-07-01</td>\n",
       "      <td>2024-07-08</td>\n",
       "      <td>5.0</td>\n",
       "      <td>0.0</td>\n",
       "      <td>8.3</td>\n",
       "      <td>2420.0</td>\n",
       "      <td>2024-6-6</td>\n",
       "      <td>7</td>\n",
       "    </tr>\n",
       "    <tr>\n",
       "      <th>39</th>\n",
       "      <td>Flat em Boa Viagem</td>\n",
       "      <td>Recife</td>\n",
       "      <td>1070</td>\n",
       "      <td>2024-07-01</td>\n",
       "      <td>2024-07-08</td>\n",
       "      <td>9.3</td>\n",
       "      <td>0.1</td>\n",
       "      <td>7.4</td>\n",
       "      <td>461.0</td>\n",
       "      <td>2024-6-6</td>\n",
       "      <td>7</td>\n",
       "    </tr>\n",
       "    <tr>\n",
       "      <th>...</th>\n",
       "      <td>...</td>\n",
       "      <td>...</td>\n",
       "      <td>...</td>\n",
       "      <td>...</td>\n",
       "      <td>...</td>\n",
       "      <td>...</td>\n",
       "      <td>...</td>\n",
       "      <td>...</td>\n",
       "      <td>...</td>\n",
       "      <td>...</td>\n",
       "      <td>...</td>\n",
       "    </tr>\n",
       "    <tr>\n",
       "      <th>15634</th>\n",
       "      <td>flatpaivahome bugan paiva</td>\n",
       "      <td>Recife</td>\n",
       "      <td>1886</td>\n",
       "      <td>2025-06-22</td>\n",
       "      <td>2025-06-29</td>\n",
       "      <td>19.6</td>\n",
       "      <td>0.7</td>\n",
       "      <td>NaN</td>\n",
       "      <td>NaN</td>\n",
       "      <td>2024-6-6</td>\n",
       "      <td>6</td>\n",
       "    </tr>\n",
       "    <tr>\n",
       "      <th>15636</th>\n",
       "      <td>Apto a beira-mar em Jaboatao dos Guararapes PE</td>\n",
       "      <td>Recife</td>\n",
       "      <td>2050</td>\n",
       "      <td>2025-06-22</td>\n",
       "      <td>2025-06-29</td>\n",
       "      <td>19.4</td>\n",
       "      <td>0.6</td>\n",
       "      <td>9.0</td>\n",
       "      <td>2.0</td>\n",
       "      <td>2024-6-6</td>\n",
       "      <td>6</td>\n",
       "    </tr>\n",
       "    <tr>\n",
       "      <th>15637</th>\n",
       "      <td>Apt novíssimo Tamarineira</td>\n",
       "      <td>Recife</td>\n",
       "      <td>3780</td>\n",
       "      <td>2025-06-22</td>\n",
       "      <td>2025-06-29</td>\n",
       "      <td>4.1</td>\n",
       "      <td>NaN</td>\n",
       "      <td>10.0</td>\n",
       "      <td>4.0</td>\n",
       "      <td>2024-6-6</td>\n",
       "      <td>6</td>\n",
       "    </tr>\n",
       "    <tr>\n",
       "      <th>15638</th>\n",
       "      <td>Hostel da Socorro</td>\n",
       "      <td>Recife</td>\n",
       "      <td>2835</td>\n",
       "      <td>2025-06-22</td>\n",
       "      <td>2025-06-29</td>\n",
       "      <td>9.0</td>\n",
       "      <td>0.9</td>\n",
       "      <td>1.0</td>\n",
       "      <td>1.0</td>\n",
       "      <td>2024-6-6</td>\n",
       "      <td>6</td>\n",
       "    </tr>\n",
       "    <tr>\n",
       "      <th>15640</th>\n",
       "      <td>Aconchego Boa Viagem</td>\n",
       "      <td>Recife</td>\n",
       "      <td>4032</td>\n",
       "      <td>2025-06-22</td>\n",
       "      <td>2025-06-29</td>\n",
       "      <td>8.4</td>\n",
       "      <td>NaN</td>\n",
       "      <td>NaN</td>\n",
       "      <td>NaN</td>\n",
       "      <td>2024-6-6</td>\n",
       "      <td>6</td>\n",
       "    </tr>\n",
       "  </tbody>\n",
       "</table>\n",
       "<p>2263 rows × 11 columns</p>\n",
       "</div>"
      ],
      "text/plain": [
       "                                                hotel  cidade  preço  \\\n",
       "23                                 Flat em Boa Viagem  Recife   1190   \n",
       "24                                Casa Recife Pousada  Recife    421   \n",
       "27          Hotel Dan Inn Mar Piedade - Grande Recife  Recife   1953   \n",
       "33                                Marante Plaza Hotel  Recife   3079   \n",
       "39                                 Flat em Boa Viagem  Recife   1070   \n",
       "...                                               ...     ...    ...   \n",
       "15634                       flatpaivahome bugan paiva  Recife   1886   \n",
       "15636  Apto a beira-mar em Jaboatao dos Guararapes PE  Recife   2050   \n",
       "15637                       Apt novíssimo Tamarineira  Recife   3780   \n",
       "15638                               Hostel da Socorro  Recife   2835   \n",
       "15640                            Aconchego Boa Viagem  Recife   4032   \n",
       "\n",
       "         checkin   checkout  dist_centro  dist_praia  avaliacao  \\\n",
       "23    2024-07-01 2024-07-08          9.4         0.1        7.4   \n",
       "24    2024-07-01 2024-07-08          8.2         1.1        7.1   \n",
       "27    2024-07-01 2024-07-08         13.7         0.0        7.8   \n",
       "33    2024-07-01 2024-07-08          5.0         0.0        8.3   \n",
       "39    2024-07-01 2024-07-08          9.3         0.1        7.4   \n",
       "...          ...        ...          ...         ...        ...   \n",
       "15634 2025-06-22 2025-06-29         19.6         0.7        NaN   \n",
       "15636 2025-06-22 2025-06-29         19.4         0.6        9.0   \n",
       "15637 2025-06-22 2025-06-29          4.1         NaN       10.0   \n",
       "15638 2025-06-22 2025-06-29          9.0         0.9        1.0   \n",
       "15640 2025-06-22 2025-06-29          8.4         NaN        NaN   \n",
       "\n",
       "       qtnd_avaliacoes data_extracao  mes_checkin  \n",
       "23              1798.0      2024-6-6            7  \n",
       "24               602.0      2024-6-6            7  \n",
       "27              2778.0      2024-6-6            7  \n",
       "33              2420.0      2024-6-6            7  \n",
       "39               461.0      2024-6-6            7  \n",
       "...                ...           ...          ...  \n",
       "15634              NaN      2024-6-6            6  \n",
       "15636              2.0      2024-6-6            6  \n",
       "15637              4.0      2024-6-6            6  \n",
       "15638              1.0      2024-6-6            6  \n",
       "15640              NaN      2024-6-6            6  \n",
       "\n",
       "[2263 rows x 11 columns]"
      ]
     },
     "execution_count": 19,
     "metadata": {},
     "output_type": "execute_result"
    }
   ],
   "source": [
    "# Contar a quantidade de semanas distintas para cada hotel\n",
    "hotel_week_count = hospedagens.groupby('hotel')['checkin'].nunique()\n",
    "\n",
    "# Identificar o número máximo de semanas no período (52 semanas em um ano)\n",
    "max_weeks = hospedagens['checkin'].nunique()\n",
    "\n",
    "# Identificar os hotéis que aparecem em todas as semanas\n",
    "hotels_all_weeks = hotel_week_count[hotel_week_count == max_weeks].index\n",
    "\n",
    "# Filtrar o DataFrame para manter apenas os hotéis que aparecem em todas as semanas\n",
    "hospedagens_filtered = hospedagens[hospedagens['hotel'].isin(hotels_all_weeks)]\n",
    "hospedagens_filtered"
   ]
  },
  {
   "cell_type": "code",
   "execution_count": 20,
   "metadata": {},
   "outputs": [
    {
     "data": {
      "text/plain": [
       "1714.0"
      ]
     },
     "execution_count": 20,
     "metadata": {},
     "output_type": "execute_result"
    }
   ],
   "source": [
    "# mediana dos preços das hospedagens que possuem o ambiente disponível em todos os checkins\n",
    "hospedagens_filtered['preço'].median()"
   ]
  },
  {
   "cell_type": "code",
   "execution_count": 21,
   "metadata": {},
   "outputs": [
    {
     "data": {
      "text/plain": [
       "1638.0"
      ]
     },
     "execution_count": 21,
     "metadata": {},
     "output_type": "execute_result"
    }
   ],
   "source": [
    "# mediana dos preços do dataset completo\n",
    "hospedagens['preço'].median()"
   ]
  },
  {
   "cell_type": "markdown",
   "metadata": {},
   "source": [
    "Podemos ver acima a mediana dos dados completos e a mediana dos dados que aparecem em todos os checkins. A diferença das medianas não parece ser tão significativa, então, preferimos por não optar pela imputação desses dados, já que essa iniciativa poderia modificar o principal fator de análise em questão."
   ]
  },
  {
   "cell_type": "code",
   "execution_count": 22,
   "metadata": {},
   "outputs": [
    {
     "data": {
      "text/plain": [
       "2982.846868705144"
      ]
     },
     "execution_count": 22,
     "metadata": {},
     "output_type": "execute_result"
    }
   ],
   "source": [
    "hospedagens_filtered['preço'].std()"
   ]
  },
  {
   "cell_type": "code",
   "execution_count": 23,
   "metadata": {},
   "outputs": [
    {
     "data": {
      "text/plain": [
       "1874.0891232783397"
      ]
     },
     "execution_count": 23,
     "metadata": {},
     "output_type": "execute_result"
    }
   ],
   "source": [
    "hospedagens['preço'].std()"
   ]
  },
  {
   "cell_type": "markdown",
   "metadata": {},
   "source": [
    "Diferença considerável no desvio padrão, provavelmente ocasionada pela menor consistência dos dados e bastante outliers."
   ]
  },
  {
   "cell_type": "markdown",
   "metadata": {},
   "source": [
    "Agora vamos plotar o histograma dos preços de cada mês"
   ]
  },
  {
   "cell_type": "code",
   "execution_count": 24,
   "metadata": {},
   "outputs": [
    {
     "data": {
      "image/png": "[encoded data removed]",
      "text/plain": [
       "<Figure size 1000x600 with 12 Axes>"
      ]
     },
     "metadata": {},
     "output_type": "display_data"
    }
   ],
   "source": [
    "# Criar uma figura para os histogramas\n",
    "plt.figure(figsize=(10, 6))\n",
    "\n",
    "# Plotar histograma para cada mês\n",
    "for month in range(1, 13):\n",
    "    data_month = hospedagens[hospedagens['mes_checkin'] == month]\n",
    "    plt.subplot(3, 4, month)\n",
    "    plt.hist(data_month['preço'], bins=20, edgecolor='black')\n",
    "    plt.title(f'Mês {month}')\n",
    "    plt.xlabel('Preço')\n",
    "    plt.ylabel('Quantidade de Dados')\n",
    "    plt.grid(True)"
   ]
  },
  {
   "cell_type": "markdown",
   "metadata": {},
   "source": [
    "Todos os meses apresentam uma distribuição exponencial, indicando que os dados são assimétricos e que possuem uma boa quantidade de outliers. Devemos reduzir essa assimetria para aplicar métodos de identificação de outliers e realizar testes de hipótese que suportem dados assimétricos"
   ]
  },
  {
   "cell_type": "markdown",
   "metadata": {},
   "source": [
    "Plotando o boxplot de todos os meses para verificar a distribuição e outliers"
   ]
  },
  {
   "cell_type": "code",
   "execution_count": 25,
   "metadata": {},
   "outputs": [
    {
     "data": {
      "image/png": "[encoded data removed]",
      "text/plain": [
       "<Figure size 1000x600 with 12 Axes>"
      ]
     },
     "metadata": {},
     "output_type": "display_data"
    }
   ],
   "source": [
    "# Criar uma figura para os boxplots\n",
    "plt.figure(figsize=(10, 6))\n",
    "\n",
    "# Iterar sobre os meses e criar um boxplot para cada mês\n",
    "for month in range(1, 13):\n",
    "    data_month = hospedagens[hospedagens['mes_checkin'] == month]\n",
    "    plt.subplot(3, 4, month)\n",
    "    plt.boxplot(data_month['preço'], vert=False)\n",
    "    plt.title(f'Mês {month}')\n",
    "    plt.xlabel('Preço')\n",
    "    plt.grid(True)\n",
    "\n",
    "plt.tight_layout()\n",
    "plt.show()"
   ]
  },
  {
   "cell_type": "markdown",
   "metadata": {},
   "source": [
    "Todos os meses seguem o mesmo padrão, apresentando uma mediana enxuta se comparada aos maiores valores."
   ]
  },
  {
   "cell_type": "markdown",
   "metadata": {},
   "source": [
    "## Definindo dados faltantes"
   ]
  },
  {
   "cell_type": "markdown",
   "metadata": {},
   "source": [
    "Primeiro vamos printar a quantidade de dados faltantes"
   ]
  },
  {
   "cell_type": "code",
   "execution_count": 26,
   "metadata": {},
   "outputs": [
    {
     "name": "stdout",
     "output_type": "stream",
     "text": [
      "hotel                 0\n",
      "cidade                0\n",
      "preço                 0\n",
      "checkin               0\n",
      "checkout              0\n",
      "dist_centro           0\n",
      "dist_praia         4606\n",
      "avaliacao          3133\n",
      "qtnd_avaliacoes    3133\n",
      "data_extracao         0\n",
      "mes_checkin           0\n",
      "dtype: int64\n"
     ]
    }
   ],
   "source": [
    "# printando quantas linhas de cada coluna está faltante\n",
    "print(hospedagens.isnull().sum())"
   ]
  },
  {
   "cell_type": "markdown",
   "metadata": {},
   "source": [
    "3 colunas com uma quantidade até considerável de dados faltantes"
   ]
  },
  {
   "cell_type": "code",
   "execution_count": 27,
   "metadata": {},
   "outputs": [
    {
     "data": {
      "image/png": "[encoded data removed]",
      "text/plain": [
       "<Figure size 1500x500 with 3 Axes>"
      ]
     },
     "metadata": {},
     "output_type": "display_data"
    }
   ],
   "source": [
    "# Criar uma figura para os histogramas\n",
    "plt.figure(figsize=(15, 5))\n",
    "\n",
    "# Histograma para 'dist_praia'\n",
    "plt.subplot(1, 3, 1)\n",
    "plt.hist(hospedagens['dist_praia'], bins=20, edgecolor='black')\n",
    "plt.title('Distância até a Praia')\n",
    "plt.xlabel('Distância (km)')\n",
    "plt.ylabel('Quantidade de Dados')\n",
    "plt.grid(True)\n",
    "\n",
    "# Histograma para 'avaliacao'\n",
    "plt.subplot(1, 3, 2)\n",
    "plt.hist(hospedagens['avaliacao'], bins=20, edgecolor='black')\n",
    "plt.title('Avaliação')\n",
    "plt.xlabel('Avaliação')\n",
    "plt.ylabel('Quantidade de Dados')\n",
    "plt.grid(True)\n",
    "\n",
    "# Histograma para 'qtnd_avaliacoes'\n",
    "plt.subplot(1, 3, 3)\n",
    "plt.hist(hospedagens['qtnd_avaliacoes'], bins=20, edgecolor='black')\n",
    "plt.title('Quantidade de Avaliações')\n",
    "plt.xlabel('Quantidade')\n",
    "plt.ylabel('Quantidade de Dados')\n",
    "plt.grid(True)\n",
    "\n",
    "plt.tight_layout()\n",
    "plt.show()"
   ]
  },
  {
   "cell_type": "markdown",
   "metadata": {},
   "source": [
    "Todas as colunas analisadas são assimétricas e apresentam uma quantidade considerável de dados faltantes."
   ]
  },
  {
   "cell_type": "markdown",
   "metadata": {},
   "source": [
    "Pegando um novo dataset e definindo o tipo dados para imputar os dados"
   ]
  },
  {
   "cell_type": "code",
   "execution_count": 28,
   "metadata": {},
   "outputs": [
    {
     "data": {
      "text/plain": [
       "(15643, 11)"
      ]
     },
     "execution_count": 28,
     "metadata": {},
     "output_type": "execute_result"
    }
   ],
   "source": [
    "# gerando um novo dataset a partir do csv com os dados e transformando os dados categóricos em numérico\n",
    "hosp_input = pd.read_csv('dataset.csv', decimal=\".\")\n",
    "hosp_input['checkin'] = pd.to_datetime(hosp_input['checkin'])\n",
    "hosp_input['mes_checkin'] = hosp_input['checkin'].dt.month\n",
    "hosp_input = hosp_input[~((hosp_input['checkin'].dt.month > 6) & (hosp_input['checkin'].dt.year == 2025))]\n",
    "hosp_input['checkin'] = hosp_input['checkin'].astype(\"category\")\n",
    "hosp_input['checkout'] = hosp_input['checkout'].astype(\"category\")\n",
    "hosp_input['cidade'] = hosp_input[\"cidade\"].astype(\"category\")\n",
    "hosp_input['hotel'] = hosp_input[\"hotel\"].astype(\"category\")\n",
    "hosp_input['data_extracao'] =hosp_input[\"data_extracao\"].astype(\"category\")\n",
    "hosp_input['hotel'] = hosp_input['hotel'].cat.codes\n",
    "hosp_input['checkin'] = hosp_input['checkin'].cat.codes\n",
    "hosp_input['checkout'] = hosp_input['checkout'].cat.codes\n",
    "hosp_input['cidade'] = hosp_input['cidade'].cat.codes\n",
    "hosp_input['data_extracao'] = hosp_input['data_extracao'].cat.codes\n",
    "hosp_input.shape"
   ]
  },
  {
   "cell_type": "markdown",
   "metadata": {},
   "source": [
    "Vamos ver a correlação dos dados para entender mais sobre a relação entre eles. Vamos usar spearman por termos dados não simétricos."
   ]
  },
  {
   "cell_type": "code",
   "execution_count": 29,
   "metadata": {},
   "outputs": [
    {
     "data": {
      "text/html": [
       "<div>\n",
       "<style scoped>\n",
       "    .dataframe tbody tr th:only-of-type {\n",
       "        vertical-align: middle;\n",
       "    }\n",
       "\n",
       "    .dataframe tbody tr th {\n",
       "        vertical-align: top;\n",
       "    }\n",
       "\n",
       "    .dataframe thead th {\n",
       "        text-align: right;\n",
       "    }\n",
       "</style>\n",
       "<table border=\"1\" class=\"dataframe\">\n",
       "  <thead>\n",
       "    <tr style=\"text-align: right;\">\n",
       "      <th></th>\n",
       "      <th>hotel</th>\n",
       "      <th>cidade</th>\n",
       "      <th>preço</th>\n",
       "      <th>checkin</th>\n",
       "      <th>checkout</th>\n",
       "      <th>dist_centro</th>\n",
       "      <th>dist_praia</th>\n",
       "      <th>avaliacao</th>\n",
       "      <th>qtnd_avaliacoes</th>\n",
       "      <th>data_extracao</th>\n",
       "      <th>mes_checkin</th>\n",
       "    </tr>\n",
       "  </thead>\n",
       "  <tbody>\n",
       "    <tr>\n",
       "      <th>hotel</th>\n",
       "      <td>1.000000</td>\n",
       "      <td>NaN</td>\n",
       "      <td>-0.045768</td>\n",
       "      <td>-0.013961</td>\n",
       "      <td>-0.013941</td>\n",
       "      <td>-0.052071</td>\n",
       "      <td>0.079522</td>\n",
       "      <td>-0.137409</td>\n",
       "      <td>0.130129</td>\n",
       "      <td>NaN</td>\n",
       "      <td>0.012697</td>\n",
       "    </tr>\n",
       "    <tr>\n",
       "      <th>cidade</th>\n",
       "      <td>NaN</td>\n",
       "      <td>NaN</td>\n",
       "      <td>NaN</td>\n",
       "      <td>NaN</td>\n",
       "      <td>NaN</td>\n",
       "      <td>NaN</td>\n",
       "      <td>NaN</td>\n",
       "      <td>NaN</td>\n",
       "      <td>NaN</td>\n",
       "      <td>NaN</td>\n",
       "      <td>NaN</td>\n",
       "    </tr>\n",
       "    <tr>\n",
       "      <th>preço</th>\n",
       "      <td>-0.045768</td>\n",
       "      <td>NaN</td>\n",
       "      <td>1.000000</td>\n",
       "      <td>0.092607</td>\n",
       "      <td>0.092925</td>\n",
       "      <td>0.114370</td>\n",
       "      <td>-0.177471</td>\n",
       "      <td>0.127552</td>\n",
       "      <td>0.047562</td>\n",
       "      <td>NaN</td>\n",
       "      <td>-0.049790</td>\n",
       "    </tr>\n",
       "    <tr>\n",
       "      <th>checkin</th>\n",
       "      <td>-0.013961</td>\n",
       "      <td>NaN</td>\n",
       "      <td>0.092607</td>\n",
       "      <td>1.000000</td>\n",
       "      <td>0.988251</td>\n",
       "      <td>-0.014037</td>\n",
       "      <td>0.022954</td>\n",
       "      <td>0.018551</td>\n",
       "      <td>-0.071389</td>\n",
       "      <td>NaN</td>\n",
       "      <td>-0.298065</td>\n",
       "    </tr>\n",
       "    <tr>\n",
       "      <th>checkout</th>\n",
       "      <td>-0.013941</td>\n",
       "      <td>NaN</td>\n",
       "      <td>0.092925</td>\n",
       "      <td>0.988251</td>\n",
       "      <td>1.000000</td>\n",
       "      <td>-0.013602</td>\n",
       "      <td>0.022948</td>\n",
       "      <td>0.017814</td>\n",
       "      <td>-0.070567</td>\n",
       "      <td>NaN</td>\n",
       "      <td>-0.298065</td>\n",
       "    </tr>\n",
       "    <tr>\n",
       "      <th>dist_centro</th>\n",
       "      <td>-0.052071</td>\n",
       "      <td>NaN</td>\n",
       "      <td>0.114370</td>\n",
       "      <td>-0.014037</td>\n",
       "      <td>-0.013602</td>\n",
       "      <td>1.000000</td>\n",
       "      <td>-0.206097</td>\n",
       "      <td>-0.048546</td>\n",
       "      <td>0.147993</td>\n",
       "      <td>NaN</td>\n",
       "      <td>0.009141</td>\n",
       "    </tr>\n",
       "    <tr>\n",
       "      <th>dist_praia</th>\n",
       "      <td>0.079522</td>\n",
       "      <td>NaN</td>\n",
       "      <td>-0.177471</td>\n",
       "      <td>0.022954</td>\n",
       "      <td>0.022948</td>\n",
       "      <td>-0.206097</td>\n",
       "      <td>1.000000</td>\n",
       "      <td>-0.055413</td>\n",
       "      <td>-0.221707</td>\n",
       "      <td>NaN</td>\n",
       "      <td>-0.019462</td>\n",
       "    </tr>\n",
       "    <tr>\n",
       "      <th>avaliacao</th>\n",
       "      <td>-0.137409</td>\n",
       "      <td>NaN</td>\n",
       "      <td>0.127552</td>\n",
       "      <td>0.018551</td>\n",
       "      <td>0.017814</td>\n",
       "      <td>-0.048546</td>\n",
       "      <td>-0.055413</td>\n",
       "      <td>1.000000</td>\n",
       "      <td>-0.209505</td>\n",
       "      <td>NaN</td>\n",
       "      <td>-0.007647</td>\n",
       "    </tr>\n",
       "    <tr>\n",
       "      <th>qtnd_avaliacoes</th>\n",
       "      <td>0.130129</td>\n",
       "      <td>NaN</td>\n",
       "      <td>0.047562</td>\n",
       "      <td>-0.071389</td>\n",
       "      <td>-0.070567</td>\n",
       "      <td>0.147993</td>\n",
       "      <td>-0.221707</td>\n",
       "      <td>-0.209505</td>\n",
       "      <td>1.000000</td>\n",
       "      <td>NaN</td>\n",
       "      <td>0.047857</td>\n",
       "    </tr>\n",
       "    <tr>\n",
       "      <th>data_extracao</th>\n",
       "      <td>NaN</td>\n",
       "      <td>NaN</td>\n",
       "      <td>NaN</td>\n",
       "      <td>NaN</td>\n",
       "      <td>NaN</td>\n",
       "      <td>NaN</td>\n",
       "      <td>NaN</td>\n",
       "      <td>NaN</td>\n",
       "      <td>NaN</td>\n",
       "      <td>NaN</td>\n",
       "      <td>NaN</td>\n",
       "    </tr>\n",
       "    <tr>\n",
       "      <th>mes_checkin</th>\n",
       "      <td>0.012697</td>\n",
       "      <td>NaN</td>\n",
       "      <td>-0.049790</td>\n",
       "      <td>-0.298065</td>\n",
       "      <td>-0.298065</td>\n",
       "      <td>0.009141</td>\n",
       "      <td>-0.019462</td>\n",
       "      <td>-0.007647</td>\n",
       "      <td>0.047857</td>\n",
       "      <td>NaN</td>\n",
       "      <td>1.000000</td>\n",
       "    </tr>\n",
       "  </tbody>\n",
       "</table>\n",
       "</div>"
      ],
      "text/plain": [
       "                    hotel  cidade     preço   checkin  checkout  dist_centro  \\\n",
       "hotel            1.000000     NaN -0.045768 -0.013961 -0.013941    -0.052071   \n",
       "cidade                NaN     NaN       NaN       NaN       NaN          NaN   \n",
       "preço           -0.045768     NaN  1.000000  0.092607  0.092925     0.114370   \n",
       "checkin         -0.013961     NaN  0.092607  1.000000  0.988251    -0.014037   \n",
       "checkout        -0.013941     NaN  0.092925  0.988251  1.000000    -0.013602   \n",
       "dist_centro     -0.052071     NaN  0.114370 -0.014037 -0.013602     1.000000   \n",
       "dist_praia       0.079522     NaN -0.177471  0.022954  0.022948    -0.206097   \n",
       "avaliacao       -0.137409     NaN  0.127552  0.018551  0.017814    -0.048546   \n",
       "qtnd_avaliacoes  0.130129     NaN  0.047562 -0.071389 -0.070567     0.147993   \n",
       "data_extracao         NaN     NaN       NaN       NaN       NaN          NaN   \n",
       "mes_checkin      0.012697     NaN -0.049790 -0.298065 -0.298065     0.009141   \n",
       "\n",
       "                 dist_praia  avaliacao  qtnd_avaliacoes  data_extracao  \\\n",
       "hotel              0.079522  -0.137409         0.130129            NaN   \n",
       "cidade                  NaN        NaN              NaN            NaN   \n",
       "preço             -0.177471   0.127552         0.047562            NaN   \n",
       "checkin            0.022954   0.018551        -0.071389            NaN   \n",
       "checkout           0.022948   0.017814        -0.070567            NaN   \n",
       "dist_centro       -0.206097  -0.048546         0.147993            NaN   \n",
       "dist_praia         1.000000  -0.055413        -0.221707            NaN   \n",
       "avaliacao         -0.055413   1.000000        -0.209505            NaN   \n",
       "qtnd_avaliacoes   -0.221707  -0.209505         1.000000            NaN   \n",
       "data_extracao           NaN        NaN              NaN            NaN   \n",
       "mes_checkin       -0.019462  -0.007647         0.047857            NaN   \n",
       "\n",
       "                 mes_checkin  \n",
       "hotel               0.012697  \n",
       "cidade                   NaN  \n",
       "preço              -0.049790  \n",
       "checkin            -0.298065  \n",
       "checkout           -0.298065  \n",
       "dist_centro         0.009141  \n",
       "dist_praia         -0.019462  \n",
       "avaliacao          -0.007647  \n",
       "qtnd_avaliacoes     0.047857  \n",
       "data_extracao            NaN  \n",
       "mes_checkin         1.000000  "
      ]
     },
     "execution_count": 29,
     "metadata": {},
     "output_type": "execute_result"
    }
   ],
   "source": [
    "# entendendo a correlação dos dados a partir do método spearman (dados não simétricos)\n",
    "hosp_input.corr(method=\"spearman\")"
   ]
  },
  {
   "cell_type": "markdown",
   "metadata": {},
   "source": [
    "A relação entre dist_praia e preço me chamaram a atenção. Vamos plotar um scatter para entender mais sobre a correlação entre essas duas colunas"
   ]
  },
  {
   "cell_type": "code",
   "execution_count": 30,
   "metadata": {},
   "outputs": [
    {
     "data": {
      "text/plain": [
       "<Axes: xlabel='dist_praia', ylabel='preço'>"
      ]
     },
     "execution_count": 30,
     "metadata": {},
     "output_type": "execute_result"
    },
    {
     "data": {
      "image/png": "[encoded data removed]",
      "text/plain": [
       "<Figure size 640x480 with 1 Axes>"
      ]
     },
     "metadata": {},
     "output_type": "display_data"
    }
   ],
   "source": [
    "hosp_input.plot.scatter(x='dist_praia',y='preço')"
   ]
  },
  {
   "cell_type": "markdown",
   "metadata": {},
   "source": [
    "O plot sugere que quanto mais próximo de 0 o valor de dist_praia, o valor do preço potencialmente será maior. Pode servir para uma boa análise, mas apresenta uma quantidade grande de outliers."
   ]
  },
  {
   "cell_type": "code",
   "execution_count": 31,
   "metadata": {},
   "outputs": [
    {
     "data": {
      "text/plain": [
       "<Axes: >"
      ]
     },
     "execution_count": 31,
     "metadata": {},
     "output_type": "execute_result"
    },
    {
     "data": {
      "image/png": "[encoded data removed]",
      "text/plain": [
       "<Figure size 640x480 with 1 Axes>"
      ]
     },
     "metadata": {},
     "output_type": "display_data"
    }
   ],
   "source": [
    "hosp_input['dist_praia'].plot(kind='box')"
   ]
  },
  {
   "cell_type": "markdown",
   "metadata": {},
   "source": [
    "Com o box plot é possível entender que a maior concentração dos dados está na parte mais baixa, indicando que existem muitos hoteis perto da praia e poucos longe, o que pode não ser uma realidade palpável"
   ]
  },
  {
   "cell_type": "code",
   "execution_count": 32,
   "metadata": {},
   "outputs": [
    {
     "data": {
      "text/plain": [
       "count    11037.000000\n",
       "mean         0.580475\n",
       "std          0.703904\n",
       "min          0.000000\n",
       "25%          0.100000\n",
       "50%          0.450000\n",
       "75%          0.750000\n",
       "max          3.000000\n",
       "Name: dist_praia, dtype: float64"
      ]
     },
     "execution_count": 32,
     "metadata": {},
     "output_type": "execute_result"
    }
   ],
   "source": [
    "hosp_input['dist_praia'].describe()"
   ]
  },
  {
   "cell_type": "markdown",
   "metadata": {},
   "source": [
    "Podemos ver que há uma relação entre preço e distância praia. Se analisarmos bem, percebemos que os dados da dist_praia variam entre 0 e 3 obrigatoriamente, fazendo com que se imagine, que dificilmente os dados que não possuem valor nesta coluna, possuam valores entre o intervalo dito. Basicamente, no Booking.com, o proprietário pode apenas optar por não colocar a distância da praia até a propriedade ou a distância colocada é maior que 3km, então, nesses casos, os valores não aparecem e assim aparecem como dados faltantes. Com isso, não faz sentido aplicar métodos de imputação sobre a coluna dist_praia, pois provavelmente os valores imputados serão entre o intervalo de 0 e 3, sendo possibilidades que podem enviesar e gerar conclusões incorretas. \n"
   ]
  },
  {
   "cell_type": "markdown",
   "metadata": {},
   "source": [
    "Desse modo, foi preferível apagar a coluna dist_praia"
   ]
  },
  {
   "cell_type": "code",
   "execution_count": 33,
   "metadata": {},
   "outputs": [],
   "source": [
    "hosp_input = hosp_input.drop(columns=['dist_praia'])\n",
    "# excluindo a coluna checkout por não ser necessária\n",
    "hosp_input = hosp_input.drop(columns=['checkout'])"
   ]
  },
  {
   "cell_type": "markdown",
   "metadata": {},
   "source": [
    "Como os dados faltantes representam um percentual um tanto considerável dos dados, foi preferível escolher o método KNN para imputação dos dados. Para isso, vamos primeiro NORMALIZAR os dados para obter um resultado melhor do KNN."
   ]
  },
  {
   "cell_type": "code",
   "execution_count": 34,
   "metadata": {},
   "outputs": [
    {
     "name": "stdout",
     "output_type": "stream",
     "text": [
      "       hotel  cidade     preço  checkin  dist_centro  avaliacao  \\\n",
      "0        475       0  0.074051        0     0.088565   0.755556   \n",
      "1        495       0  0.067001        0     0.050448   0.822222   \n",
      "2        698       0  0.009822        0     0.000000   0.811111   \n",
      "3         15       0  0.038168        0     0.011211   0.966667   \n",
      "4        694       0  0.074148        0     0.076233   0.811111   \n",
      "...      ...     ...       ...      ...          ...        ...   \n",
      "15638    458       0  0.126854       46     0.098655   0.000000   \n",
      "15639    409       0  0.209899       46     0.048206   1.000000   \n",
      "15640     20       0  0.185054       46     0.091928        NaN   \n",
      "15641    206       0  0.266884       46     0.849776   0.966667   \n",
      "15642    226       0  0.535810       46     0.173767        NaN   \n",
      "\n",
      "       qtnd_avaliacoes  data_extracao  mes_checkin  \n",
      "0             0.350000              0            7  \n",
      "1             0.538036              0            7  \n",
      "2             0.000226              0            7  \n",
      "3             0.003950              0            7  \n",
      "4             0.584199              0            7  \n",
      "...                ...            ...          ...  \n",
      "15638         0.000000              0            6  \n",
      "15639         0.000000              0            6  \n",
      "15640              NaN              0            6  \n",
      "15641         0.001129              0            6  \n",
      "15642              NaN              0            6  \n",
      "\n",
      "[15643 rows x 9 columns]\n"
     ]
    }
   ],
   "source": [
    "# normalizando os dados\n",
    "\n",
    "columns_to_normalize = ['preço', 'dist_centro', 'avaliacao', 'qtnd_avaliacoes']\n",
    "scaler = MinMaxScaler()\n",
    "\n",
    "hosp_input[columns_to_normalize] = scaler.fit_transform(hosp_input[columns_to_normalize])\n",
    "\n",
    "print(hosp_input)"
   ]
  },
  {
   "cell_type": "markdown",
   "metadata": {},
   "source": [
    "Aplicando o KNN no dataset normalizado utilizando a biblioteca fancyimpute"
   ]
  },
  {
   "cell_type": "code",
   "execution_count": 35,
   "metadata": {},
   "outputs": [
    {
     "name": "stdout",
     "output_type": "stream",
     "text": [
      "Imputing row 1/15643 with 0 missing, elapsed time: 52.774\n",
      "Imputing row 101/15643 with 0 missing, elapsed time: 52.947\n",
      "Imputing row 201/15643 with 0 missing, elapsed time: 53.086\n",
      "Imputing row 301/15643 with 0 missing, elapsed time: 53.140\n",
      "Imputing row 401/15643 with 0 missing, elapsed time: 53.229\n",
      "Imputing row 501/15643 with 0 missing, elapsed time: 53.353\n",
      "Imputing row 601/15643 with 0 missing, elapsed time: 53.361\n",
      "Imputing row 701/15643 with 0 missing, elapsed time: 53.369\n",
      "Imputing row 801/15643 with 0 missing, elapsed time: 53.395\n",
      "Imputing row 901/15643 with 2 missing, elapsed time: 53.449\n",
      "Imputing row 1001/15643 with 0 missing, elapsed time: 53.530\n",
      "Imputing row 1101/15643 with 0 missing, elapsed time: 53.545\n",
      "Imputing row 1201/15643 with 0 missing, elapsed time: 53.547\n",
      "Imputing row 1301/15643 with 0 missing, elapsed time: 53.569\n",
      "Imputing row 1401/15643 with 0 missing, elapsed time: 53.629\n",
      "Imputing row 1501/15643 with 0 missing, elapsed time: 53.702\n",
      "Imputing row 1601/15643 with 0 missing, elapsed time: 53.745\n",
      "Imputing row 1701/15643 with 0 missing, elapsed time: 53.749\n",
      "Imputing row 1801/15643 with 0 missing, elapsed time: 53.762\n",
      "Imputing row 1901/15643 with 0 missing, elapsed time: 53.794\n",
      "Imputing row 2001/15643 with 0 missing, elapsed time: 53.847\n",
      "Imputing row 2101/15643 with 2 missing, elapsed time: 53.907\n",
      "Imputing row 2201/15643 with 0 missing, elapsed time: 53.916\n",
      "Imputing row 2301/15643 with 0 missing, elapsed time: 53.924\n",
      "Imputing row 2401/15643 with 0 missing, elapsed time: 53.941\n",
      "Imputing row 2501/15643 with 2 missing, elapsed time: 53.969\n",
      "Imputing row 2601/15643 with 0 missing, elapsed time: 54.032\n",
      "Imputing row 2701/15643 with 0 missing, elapsed time: 54.051\n",
      "Imputing row 2801/15643 with 0 missing, elapsed time: 54.060\n",
      "Imputing row 2901/15643 with 2 missing, elapsed time: 54.077\n",
      "Imputing row 3001/15643 with 0 missing, elapsed time: 54.128\n",
      "Imputing row 3101/15643 with 2 missing, elapsed time: 54.193\n",
      "Imputing row 3201/15643 with 0 missing, elapsed time: 54.232\n",
      "Imputing row 3301/15643 with 0 missing, elapsed time: 54.236\n",
      "Imputing row 3401/15643 with 0 missing, elapsed time: 54.259\n",
      "Imputing row 3501/15643 with 0 missing, elapsed time: 54.279\n",
      "Imputing row 3601/15643 with 2 missing, elapsed time: 54.333\n",
      "Imputing row 3701/15643 with 0 missing, elapsed time: 54.385\n",
      "Imputing row 3801/15643 with 0 missing, elapsed time: 54.386\n",
      "Imputing row 3901/15643 with 0 missing, elapsed time: 54.402\n",
      "Imputing row 4001/15643 with 0 missing, elapsed time: 54.426\n",
      "Imputing row 4101/15643 with 2 missing, elapsed time: 54.496\n",
      "Imputing row 4201/15643 with 0 missing, elapsed time: 54.581\n",
      "Imputing row 4301/15643 with 0 missing, elapsed time: 54.581\n",
      "Imputing row 4401/15643 with 0 missing, elapsed time: 54.601\n",
      "Imputing row 4501/15643 with 0 missing, elapsed time: 54.621\n",
      "Imputing row 4601/15643 with 2 missing, elapsed time: 54.719\n",
      "Imputing row 4701/15643 with 0 missing, elapsed time: 54.742\n",
      "Imputing row 4801/15643 with 0 missing, elapsed time: 54.746\n",
      "Imputing row 4901/15643 with 0 missing, elapsed time: 54.761\n",
      "Imputing row 5001/15643 with 0 missing, elapsed time: 54.801\n",
      "Imputing row 5101/15643 with 0 missing, elapsed time: 54.849\n",
      "Imputing row 5201/15643 with 0 missing, elapsed time: 54.851\n",
      "Imputing row 5301/15643 with 0 missing, elapsed time: 54.867\n",
      "Imputing row 5401/15643 with 0 missing, elapsed time: 54.901\n",
      "Imputing row 5501/15643 with 0 missing, elapsed time: 54.949\n",
      "Imputing row 5601/15643 with 0 missing, elapsed time: 54.951\n",
      "Imputing row 5701/15643 with 0 missing, elapsed time: 54.959\n",
      "Imputing row 5801/15643 with 0 missing, elapsed time: 54.976\n",
      "Imputing row 5901/15643 with 2 missing, elapsed time: 55.018\n",
      "Imputing row 6001/15643 with 0 missing, elapsed time: 55.051\n",
      "Imputing row 6101/15643 with 0 missing, elapsed time: 55.060\n",
      "Imputing row 6201/15643 with 0 missing, elapsed time: 55.082\n",
      "Imputing row 6301/15643 with 0 missing, elapsed time: 55.119\n",
      "Imputing row 6401/15643 with 0 missing, elapsed time: 55.181\n",
      "Imputing row 6501/15643 with 0 missing, elapsed time: 55.184\n",
      "Imputing row 6601/15643 with 0 missing, elapsed time: 55.198\n",
      "Imputing row 6701/15643 with 2 missing, elapsed time: 55.226\n",
      "Imputing row 6801/15643 with 0 missing, elapsed time: 55.285\n",
      "Imputing row 6901/15643 with 0 missing, elapsed time: 55.295\n",
      "Imputing row 7001/15643 with 0 missing, elapsed time: 55.302\n",
      "Imputing row 7101/15643 with 0 missing, elapsed time: 55.320\n",
      "Imputing row 7201/15643 with 0 missing, elapsed time: 55.359\n",
      "Imputing row 7301/15643 with 0 missing, elapsed time: 55.400\n",
      "Imputing row 7401/15643 with 0 missing, elapsed time: 55.404\n",
      "Imputing row 7501/15643 with 0 missing, elapsed time: 55.419\n",
      "Imputing row 7601/15643 with 2 missing, elapsed time: 55.449\n",
      "Imputing row 7701/15643 with 2 missing, elapsed time: 55.509\n",
      "Imputing row 7801/15643 with 0 missing, elapsed time: 55.515\n",
      "Imputing row 7901/15643 with 0 missing, elapsed time: 55.526\n",
      "Imputing row 8001/15643 with 2 missing, elapsed time: 55.555\n",
      "Imputing row 8101/15643 with 0 missing, elapsed time: 55.595\n",
      "Imputing row 8201/15643 with 0 missing, elapsed time: 55.631\n",
      "Imputing row 8301/15643 with 0 missing, elapsed time: 55.642\n",
      "Imputing row 8401/15643 with 2 missing, elapsed time: 55.653\n",
      "Imputing row 8501/15643 with 0 missing, elapsed time: 55.690\n",
      "Imputing row 8601/15643 with 0 missing, elapsed time: 55.734\n",
      "Imputing row 8701/15643 with 0 missing, elapsed time: 55.736\n",
      "Imputing row 8801/15643 with 0 missing, elapsed time: 55.750\n",
      "Imputing row 8901/15643 with 0 missing, elapsed time: 55.788\n",
      "Imputing row 9001/15643 with 0 missing, elapsed time: 55.866\n",
      "Imputing row 9101/15643 with 0 missing, elapsed time: 55.866\n",
      "Imputing row 9201/15643 with 0 missing, elapsed time: 55.885\n",
      "Imputing row 9301/15643 with 0 missing, elapsed time: 55.909\n",
      "Imputing row 9401/15643 with 0 missing, elapsed time: 55.964\n",
      "Imputing row 9501/15643 with 0 missing, elapsed time: 55.975\n",
      "Imputing row 9601/15643 with 0 missing, elapsed time: 55.991\n",
      "Imputing row 9701/15643 with 0 missing, elapsed time: 56.011\n",
      "Imputing row 9801/15643 with 2 missing, elapsed time: 56.083\n",
      "Imputing row 9901/15643 with 0 missing, elapsed time: 56.085\n",
      "Imputing row 10001/15643 with 0 missing, elapsed time: 56.113\n",
      "Imputing row 10101/15643 with 0 missing, elapsed time: 56.156\n",
      "Imputing row 10201/15643 with 0 missing, elapsed time: 56.197\n",
      "Imputing row 10301/15643 with 0 missing, elapsed time: 56.203\n",
      "Imputing row 10401/15643 with 0 missing, elapsed time: 56.226\n",
      "Imputing row 10501/15643 with 2 missing, elapsed time: 56.275\n",
      "Imputing row 10601/15643 with 0 missing, elapsed time: 56.293\n",
      "Imputing row 10701/15643 with 0 missing, elapsed time: 56.336\n",
      "Imputing row 10801/15643 with 0 missing, elapsed time: 56.391\n",
      "Imputing row 10901/15643 with 2 missing, elapsed time: 56.409\n",
      "Imputing row 11001/15643 with 0 missing, elapsed time: 56.458\n",
      "Imputing row 11101/15643 with 0 missing, elapsed time: 56.466\n",
      "Imputing row 11201/15643 with 0 missing, elapsed time: 56.493\n",
      "Imputing row 11301/15643 with 0 missing, elapsed time: 56.543\n",
      "Imputing row 11401/15643 with 2 missing, elapsed time: 56.551\n",
      "Imputing row 11501/15643 with 2 missing, elapsed time: 56.570\n",
      "Imputing row 11601/15643 with 0 missing, elapsed time: 56.619\n",
      "Imputing row 11701/15643 with 0 missing, elapsed time: 56.628\n",
      "Imputing row 11801/15643 with 0 missing, elapsed time: 56.651\n",
      "Imputing row 11901/15643 with 0 missing, elapsed time: 56.699\n",
      "Imputing row 12001/15643 with 0 missing, elapsed time: 56.710\n",
      "Imputing row 12101/15643 with 0 missing, elapsed time: 56.743\n",
      "Imputing row 12201/15643 with 0 missing, elapsed time: 56.779\n",
      "Imputing row 12301/15643 with 0 missing, elapsed time: 56.805\n",
      "Imputing row 12401/15643 with 0 missing, elapsed time: 56.863\n",
      "Imputing row 12501/15643 with 0 missing, elapsed time: 56.876\n",
      "Imputing row 12601/15643 with 2 missing, elapsed time: 56.917\n",
      "Imputing row 12701/15643 with 0 missing, elapsed time: 56.970\n",
      "Imputing row 12801/15643 with 0 missing, elapsed time: 57.019\n",
      "Imputing row 12901/15643 with 0 missing, elapsed time: 57.037\n",
      "Imputing row 13001/15643 with 0 missing, elapsed time: 57.086\n",
      "Imputing row 13101/15643 with 0 missing, elapsed time: 57.092\n",
      "Imputing row 13201/15643 with 0 missing, elapsed time: 57.100\n",
      "Imputing row 13301/15643 with 0 missing, elapsed time: 57.102\n",
      "Imputing row 13401/15643 with 0 missing, elapsed time: 57.115\n",
      "Imputing row 13501/15643 with 0 missing, elapsed time: 57.118\n",
      "Imputing row 13601/15643 with 0 missing, elapsed time: 57.133\n",
      "Imputing row 13701/15643 with 2 missing, elapsed time: 57.136\n",
      "Imputing row 13801/15643 with 0 missing, elapsed time: 57.149\n",
      "Imputing row 13901/15643 with 2 missing, elapsed time: 57.152\n",
      "Imputing row 14001/15643 with 0 missing, elapsed time: 57.166\n",
      "Imputing row 14101/15643 with 0 missing, elapsed time: 57.170\n",
      "Imputing row 14201/15643 with 0 missing, elapsed time: 57.181\n",
      "Imputing row 14301/15643 with 0 missing, elapsed time: 57.201\n",
      "Imputing row 14401/15643 with 0 missing, elapsed time: 57.210\n",
      "Imputing row 14501/15643 with 2 missing, elapsed time: 57.216\n",
      "Imputing row 14601/15643 with 0 missing, elapsed time: 57.224\n",
      "Imputing row 14701/15643 with 2 missing, elapsed time: 57.233\n",
      "Imputing row 14801/15643 with 0 missing, elapsed time: 57.240\n",
      "Imputing row 14901/15643 with 2 missing, elapsed time: 57.256\n",
      "Imputing row 15001/15643 with 2 missing, elapsed time: 57.271\n",
      "Imputing row 15101/15643 with 0 missing, elapsed time: 57.278\n",
      "Imputing row 15201/15643 with 0 missing, elapsed time: 57.287\n",
      "Imputing row 15301/15643 with 0 missing, elapsed time: 57.295\n",
      "Imputing row 15401/15643 with 0 missing, elapsed time: 57.309\n",
      "Imputing row 15501/15643 with 2 missing, elapsed time: 57.318\n",
      "Imputing row 15601/15643 with 0 missing, elapsed time: 57.331\n"
     ]
    }
   ],
   "source": [
    "# rodando o KNN impute para imputar os dados faltantes\n",
    "hosp_knn = KNN(k=3).fit_transform(hosp_input)"
   ]
  },
  {
   "cell_type": "markdown",
   "metadata": {},
   "source": [
    "Após aplicado o KNN, vamos transferir os dados para um novo dataset"
   ]
  },
  {
   "cell_type": "code",
   "execution_count": 36,
   "metadata": {},
   "outputs": [],
   "source": [
    "hosp2 = pd.DataFrame(data=hosp_knn[0:,0:],columns=['hotel', 'cidade', 'preço', 'checkin', 'dist_centro', 'avaliacao', 'qtnd_avaliacoes', 'data_extracao', 'mes_checkin'])"
   ]
  },
  {
   "cell_type": "markdown",
   "metadata": {},
   "source": [
    "Revertendo a normalização através da mesma biblioteca"
   ]
  },
  {
   "cell_type": "code",
   "execution_count": 37,
   "metadata": {},
   "outputs": [],
   "source": [
    "# revertendo a normalização\n",
    "hosp2[columns_to_normalize] = scaler.inverse_transform(hosp2[columns_to_normalize])"
   ]
  },
  {
   "cell_type": "markdown",
   "metadata": {},
   "source": [
    "Revendo a correlação entre os dados para comparação"
   ]
  },
  {
   "cell_type": "code",
   "execution_count": 38,
   "metadata": {},
   "outputs": [
    {
     "data": {
      "text/html": [
       "<div>\n",
       "<style scoped>\n",
       "    .dataframe tbody tr th:only-of-type {\n",
       "        vertical-align: middle;\n",
       "    }\n",
       "\n",
       "    .dataframe tbody tr th {\n",
       "        vertical-align: top;\n",
       "    }\n",
       "\n",
       "    .dataframe thead th {\n",
       "        text-align: right;\n",
       "    }\n",
       "</style>\n",
       "<table border=\"1\" class=\"dataframe\">\n",
       "  <thead>\n",
       "    <tr style=\"text-align: right;\">\n",
       "      <th></th>\n",
       "      <th>hotel</th>\n",
       "      <th>cidade</th>\n",
       "      <th>preço</th>\n",
       "      <th>checkin</th>\n",
       "      <th>dist_centro</th>\n",
       "      <th>avaliacao</th>\n",
       "      <th>qtnd_avaliacoes</th>\n",
       "      <th>data_extracao</th>\n",
       "      <th>mes_checkin</th>\n",
       "    </tr>\n",
       "  </thead>\n",
       "  <tbody>\n",
       "    <tr>\n",
       "      <th>hotel</th>\n",
       "      <td>1.000000</td>\n",
       "      <td>NaN</td>\n",
       "      <td>-0.045768</td>\n",
       "      <td>-0.013961</td>\n",
       "      <td>-0.052071</td>\n",
       "      <td>-0.157552</td>\n",
       "      <td>0.147847</td>\n",
       "      <td>NaN</td>\n",
       "      <td>0.012697</td>\n",
       "    </tr>\n",
       "    <tr>\n",
       "      <th>cidade</th>\n",
       "      <td>NaN</td>\n",
       "      <td>NaN</td>\n",
       "      <td>NaN</td>\n",
       "      <td>NaN</td>\n",
       "      <td>NaN</td>\n",
       "      <td>NaN</td>\n",
       "      <td>NaN</td>\n",
       "      <td>NaN</td>\n",
       "      <td>NaN</td>\n",
       "    </tr>\n",
       "    <tr>\n",
       "      <th>preço</th>\n",
       "      <td>-0.045768</td>\n",
       "      <td>NaN</td>\n",
       "      <td>1.000000</td>\n",
       "      <td>0.092607</td>\n",
       "      <td>0.114370</td>\n",
       "      <td>0.110849</td>\n",
       "      <td>0.029606</td>\n",
       "      <td>NaN</td>\n",
       "      <td>-0.049790</td>\n",
       "    </tr>\n",
       "    <tr>\n",
       "      <th>checkin</th>\n",
       "      <td>-0.013961</td>\n",
       "      <td>NaN</td>\n",
       "      <td>0.092607</td>\n",
       "      <td>1.000000</td>\n",
       "      <td>-0.014037</td>\n",
       "      <td>0.027322</td>\n",
       "      <td>-0.090296</td>\n",
       "      <td>NaN</td>\n",
       "      <td>-0.298065</td>\n",
       "    </tr>\n",
       "    <tr>\n",
       "      <th>dist_centro</th>\n",
       "      <td>-0.052071</td>\n",
       "      <td>NaN</td>\n",
       "      <td>0.114370</td>\n",
       "      <td>-0.014037</td>\n",
       "      <td>1.000000</td>\n",
       "      <td>-0.027793</td>\n",
       "      <td>0.110995</td>\n",
       "      <td>NaN</td>\n",
       "      <td>0.009141</td>\n",
       "    </tr>\n",
       "    <tr>\n",
       "      <th>avaliacao</th>\n",
       "      <td>-0.157552</td>\n",
       "      <td>NaN</td>\n",
       "      <td>0.110849</td>\n",
       "      <td>0.027322</td>\n",
       "      <td>-0.027793</td>\n",
       "      <td>1.000000</td>\n",
       "      <td>-0.231322</td>\n",
       "      <td>NaN</td>\n",
       "      <td>-0.008055</td>\n",
       "    </tr>\n",
       "    <tr>\n",
       "      <th>qtnd_avaliacoes</th>\n",
       "      <td>0.147847</td>\n",
       "      <td>NaN</td>\n",
       "      <td>0.029606</td>\n",
       "      <td>-0.090296</td>\n",
       "      <td>0.110995</td>\n",
       "      <td>-0.231322</td>\n",
       "      <td>1.000000</td>\n",
       "      <td>NaN</td>\n",
       "      <td>0.051469</td>\n",
       "    </tr>\n",
       "    <tr>\n",
       "      <th>data_extracao</th>\n",
       "      <td>NaN</td>\n",
       "      <td>NaN</td>\n",
       "      <td>NaN</td>\n",
       "      <td>NaN</td>\n",
       "      <td>NaN</td>\n",
       "      <td>NaN</td>\n",
       "      <td>NaN</td>\n",
       "      <td>NaN</td>\n",
       "      <td>NaN</td>\n",
       "    </tr>\n",
       "    <tr>\n",
       "      <th>mes_checkin</th>\n",
       "      <td>0.012697</td>\n",
       "      <td>NaN</td>\n",
       "      <td>-0.049790</td>\n",
       "      <td>-0.298065</td>\n",
       "      <td>0.009141</td>\n",
       "      <td>-0.008055</td>\n",
       "      <td>0.051469</td>\n",
       "      <td>NaN</td>\n",
       "      <td>1.000000</td>\n",
       "    </tr>\n",
       "  </tbody>\n",
       "</table>\n",
       "</div>"
      ],
      "text/plain": [
       "                    hotel  cidade     preço   checkin  dist_centro  avaliacao  \\\n",
       "hotel            1.000000     NaN -0.045768 -0.013961    -0.052071  -0.157552   \n",
       "cidade                NaN     NaN       NaN       NaN          NaN        NaN   \n",
       "preço           -0.045768     NaN  1.000000  0.092607     0.114370   0.110849   \n",
       "checkin         -0.013961     NaN  0.092607  1.000000    -0.014037   0.027322   \n",
       "dist_centro     -0.052071     NaN  0.114370 -0.014037     1.000000  -0.027793   \n",
       "avaliacao       -0.157552     NaN  0.110849  0.027322    -0.027793   1.000000   \n",
       "qtnd_avaliacoes  0.147847     NaN  0.029606 -0.090296     0.110995  -0.231322   \n",
       "data_extracao         NaN     NaN       NaN       NaN          NaN        NaN   \n",
       "mes_checkin      0.012697     NaN -0.049790 -0.298065     0.009141  -0.008055   \n",
       "\n",
       "                 qtnd_avaliacoes  data_extracao  mes_checkin  \n",
       "hotel                   0.147847            NaN     0.012697  \n",
       "cidade                       NaN            NaN          NaN  \n",
       "preço                   0.029606            NaN    -0.049790  \n",
       "checkin                -0.090296            NaN    -0.298065  \n",
       "dist_centro             0.110995            NaN     0.009141  \n",
       "avaliacao              -0.231322            NaN    -0.008055  \n",
       "qtnd_avaliacoes         1.000000            NaN     0.051469  \n",
       "data_extracao                NaN            NaN          NaN  \n",
       "mes_checkin             0.051469            NaN     1.000000  "
      ]
     },
     "execution_count": 38,
     "metadata": {},
     "output_type": "execute_result"
    }
   ],
   "source": [
    "hosp2.corr(method='spearman')"
   ]
  },
  {
   "cell_type": "markdown",
   "metadata": {},
   "source": [
    "Não houve mudanças significativas de diferença entre os valore, indicando que a imputação foi provavelmente bem sucedida"
   ]
  },
  {
   "cell_type": "code",
   "execution_count": 39,
   "metadata": {},
   "outputs": [
    {
     "data": {
      "text/plain": [
       "hotel               389.0\n",
       "cidade                0.0\n",
       "preço              1638.0\n",
       "checkin              16.0\n",
       "dist_centro           6.8\n",
       "avaliacao             8.6\n",
       "qtnd_avaliacoes      14.0\n",
       "data_extracao         0.0\n",
       "mes_checkin           8.0\n",
       "dtype: float64"
      ]
     },
     "execution_count": 39,
     "metadata": {},
     "output_type": "execute_result"
    }
   ],
   "source": [
    "# mediana antiga\n",
    "hosp_input[columns_to_normalize] = scaler.inverse_transform(hosp_input[columns_to_normalize])\n",
    "hosp_input.median()"
   ]
  },
  {
   "cell_type": "code",
   "execution_count": 40,
   "metadata": {},
   "outputs": [
    {
     "data": {
      "text/plain": [
       "hotel               389.0\n",
       "cidade                0.0\n",
       "preço              1638.0\n",
       "checkin              16.0\n",
       "dist_centro           6.8\n",
       "avaliacao             8.7\n",
       "qtnd_avaliacoes      13.0\n",
       "data_extracao         0.0\n",
       "mes_checkin           8.0\n",
       "dtype: float64"
      ]
     },
     "execution_count": 40,
     "metadata": {},
     "output_type": "execute_result"
    }
   ],
   "source": [
    "#nova mediana\n",
    "hosp2.median()"
   ]
  },
  {
   "cell_type": "markdown",
   "metadata": {},
   "source": [
    "Nas medianas também não houve mudanças significativas"
   ]
  },
  {
   "cell_type": "markdown",
   "metadata": {},
   "source": [
    "Passando os dados imputados para o dataset original"
   ]
  },
  {
   "cell_type": "code",
   "execution_count": 41,
   "metadata": {},
   "outputs": [
    {
     "name": "stderr",
     "output_type": "stream",
     "text": [
      "C:\\Users\\extre\\AppData\\Local\\Temp\\ipykernel_20684\\135721882.py:2: SettingWithCopyWarning: \n",
      "A value is trying to be set on a copy of a slice from a DataFrame.\n",
      "Try using .loc[row_indexer,col_indexer] = value instead\n",
      "\n",
      "See the caveats in the documentation: https://pandas.pydata.org/pandas-docs/stable/user_guide/indexing.html#returning-a-view-versus-a-copy\n",
      "  hospedagens['avaliacao'] = hosp2['avaliacao']\n",
      "C:\\Users\\extre\\AppData\\Local\\Temp\\ipykernel_20684\\135721882.py:3: SettingWithCopyWarning: \n",
      "A value is trying to be set on a copy of a slice from a DataFrame.\n",
      "Try using .loc[row_indexer,col_indexer] = value instead\n",
      "\n",
      "See the caveats in the documentation: https://pandas.pydata.org/pandas-docs/stable/user_guide/indexing.html#returning-a-view-versus-a-copy\n",
      "  hospedagens['qtnd_avaliacoes'] = hosp2['qtnd_avaliacoes']\n"
     ]
    }
   ],
   "source": [
    "# passando os dados imputados para o dataset padrao\n",
    "hospedagens['avaliacao'] = hosp2['avaliacao']\n",
    "hospedagens['qtnd_avaliacoes'] = hosp2['qtnd_avaliacoes']"
   ]
  },
  {
   "cell_type": "markdown",
   "metadata": {},
   "source": [
    "Printando se ainda existem valores nulos e garantindo que o processo de imputação foi feito corretamente"
   ]
  },
  {
   "cell_type": "code",
   "execution_count": 42,
   "metadata": {},
   "outputs": [
    {
     "name": "stdout",
     "output_type": "stream",
     "text": [
      "hotel              0\n",
      "cidade             0\n",
      "preço              0\n",
      "checkin            0\n",
      "checkout           0\n",
      "dist_centro        0\n",
      "avaliacao          0\n",
      "qtnd_avaliacoes    0\n",
      "data_extracao      0\n",
      "mes_checkin        0\n",
      "dtype: int64\n"
     ]
    }
   ],
   "source": [
    "hospedagens = hospedagens.drop(columns=['dist_praia'])\n",
    "print(hospedagens.isnull().sum())\n"
   ]
  },
  {
   "cell_type": "markdown",
   "metadata": {},
   "source": [
    "## Outliers\n"
   ]
  },
  {
   "cell_type": "markdown",
   "metadata": {},
   "source": [
    "Como nosso objetivo é analisar principalmente o preço das hospedagens, vamos focar na remoção de outliers sobre a coluna preço"
   ]
  },
  {
   "cell_type": "markdown",
   "metadata": {},
   "source": [
    "Removendo primeiro linhas duplicadas com o mesmo checkin, que possuam o mesmo nome de hotel e o mesmo preço."
   ]
  },
  {
   "cell_type": "code",
   "execution_count": 43,
   "metadata": {},
   "outputs": [
    {
     "name": "stdout",
     "output_type": "stream",
     "text": [
      "Hotéis duplicados por mês de check-in:\n",
      "          checkin                            hotel  preço  count\n",
      "732    2024-07-01                           Duplex    714      2\n",
      "2895   2024-07-08                           Duplex    714      2\n",
      "4445   2024-07-15  Apartamento Beira Mar em Recife   9450      2\n",
      "6608   2024-07-22  Apartamento Beira Mar em Recife   9450      2\n",
      "8771   2024-08-01  Apartamento Beira Mar em Recife   9450      2\n",
      "...           ...                              ...    ...    ...\n",
      "95904  2025-06-08                           Duplex    714      2\n",
      "98067  2025-06-15                           Duplex    714      2\n",
      "98473  2025-06-15               Flat em Boa Viagem   4760      2\n",
      "100230 2025-06-22                           Duplex    714      2\n",
      "100636 2025-06-22               Flat em Boa Viagem   4760      2\n",
      "\n",
      "[101 rows x 4 columns]\n",
      "Total de registros duplicados: 202\n"
     ]
    },
    {
     "name": "stderr",
     "output_type": "stream",
     "text": [
      "C:\\Users\\extre\\AppData\\Local\\Temp\\ipykernel_20684\\3177665228.py:4: FutureWarning: The default of observed=False is deprecated and will be changed to True in a future version of pandas. Pass observed=False to retain current behavior or observed=True to adopt the future default and silence this warning.\n",
      "  duplicated_counts = duplicated_entries.groupby(['checkin', 'hotel', 'preço']).size().reset_index(name='count')\n"
     ]
    }
   ],
   "source": [
    "duplicated_entries = hospedagens[hospedagens.duplicated(subset=['checkin', 'hotel', 'preço'], keep=False)]\n",
    "\n",
    "# Agrupar e contar ocorrências de duplicatas\n",
    "duplicated_counts = duplicated_entries.groupby(['checkin', 'hotel', 'preço']).size().reset_index(name='count')\n",
    "\n",
    "# Filtrar apenas os registros com mais de uma ocorrência\n",
    "duplicated_counts = duplicated_counts[duplicated_counts['count'] > 1]\n",
    "\n",
    "# Printar os resultados\n",
    "print(\"Hotéis duplicados por mês de check-in:\")\n",
    "print(duplicated_counts)\n",
    "\n",
    "# Quantidade total de duplicatas\n",
    "total_duplicates = duplicated_counts['count'].sum()\n",
    "print(\"Total de registros duplicados:\", total_duplicates)\n",
    "\n",
    "# Remover as duplicatas do DataFrame original\n",
    "hospedagens = hospedagens.drop_duplicates(subset=['checkin', 'hotel', 'preço'], keep='first')"
   ]
  },
  {
   "cell_type": "code",
   "execution_count": 44,
   "metadata": {},
   "outputs": [
    {
     "data": {
      "text/plain": [
       "(15542, 10)"
      ]
     },
     "execution_count": 44,
     "metadata": {},
     "output_type": "execute_result"
    }
   ],
   "source": [
    "hospedagens.shape"
   ]
  },
  {
   "cell_type": "markdown",
   "metadata": {},
   "source": [
    "Agora vamos entender a partir de um teste de simetria se os dados são ou não simétricos. O objetivo é descobrir se realmente os dados são assimétricos para assim poder prosseguir corretamente na remoção de outliers"
   ]
  },
  {
   "cell_type": "code",
   "execution_count": 45,
   "metadata": {},
   "outputs": [
    {
     "name": "stdout",
     "output_type": "stream",
     "text": [
      "Estatística de teste: 12721.589754297982, p-valor: 0.0\n",
      "A distribuição não é simétrica.\n"
     ]
    }
   ],
   "source": [
    "# Teste de D'Agostino\n",
    "k2, p_value = stats.normaltest(hospedagens['preço'])\n",
    "print(f\"Estatística de teste: {k2}, p-valor: {p_value}\")\n",
    "\n",
    "# Interpretar o resultado\n",
    "alpha = 0.05\n",
    "if p_value > alpha:\n",
    "    print(\"A distribuição é aproximadamente simétrica.\")\n",
    "else:\n",
    "    print(\"A distribuição não é simétrica.\")"
   ]
  },
  {
   "cell_type": "markdown",
   "metadata": {},
   "source": [
    "O teste acima identificou que a distribuição não é simétrica. Então vamos aplicar log10 no preço para deixar os preços mais simétricos, para assim aplicar o método tukey e identificar os outliers."
   ]
  },
  {
   "cell_type": "code",
   "execution_count": 46,
   "metadata": {},
   "outputs": [
    {
     "data": {
      "text/plain": [
       "<Axes: >"
      ]
     },
     "execution_count": 46,
     "metadata": {},
     "output_type": "execute_result"
    },
    {
     "data": {
      "image/png": "[encoded data removed]",
      "text/plain": [
       "<Figure size 640x480 with 1 Axes>"
      ]
     },
     "metadata": {},
     "output_type": "display_data"
    }
   ],
   "source": [
    "# plotando um histograma com valores normalizados do preço\n",
    "# como vimos em cima, os dados são assimétricos e é necessário a aplicação do log10 sobre o preço\n",
    "hospedagens['log_price'] = hospedagens['preço'].apply(np.log10)\n",
    "hospedagens[hospedagens['log_price'] > 0]['log_price'].hist()"
   ]
  },
  {
   "cell_type": "markdown",
   "metadata": {},
   "source": [
    "Visualizando o boxplot dos dados para entender mais sobre a quantidade de outliers"
   ]
  },
  {
   "cell_type": "code",
   "execution_count": 47,
   "metadata": {},
   "outputs": [
    {
     "data": {
      "text/plain": [
       "<Axes: >"
      ]
     },
     "execution_count": 47,
     "metadata": {},
     "output_type": "execute_result"
    },
    {
     "data": {
      "image/png": "[encoded data removed]",
      "text/plain": [
       "<Figure size 640x480 with 1 Axes>"
      ]
     },
     "metadata": {},
     "output_type": "display_data"
    }
   ],
   "source": [
    "hospedagens[['preço']].plot(kind='box')\n"
   ]
  },
  {
   "cell_type": "markdown",
   "metadata": {},
   "source": [
    "Como podemos ver no boxplot, existem uma considerável quantidade de outliers em vários meses do nosso dataset. Como queremos entender as variabilidades do preço durante os meses, se tornou interessante a alternativa de remover os outliers por meses ao invés de remover pelo dataset inteiro."
   ]
  },
  {
   "cell_type": "markdown",
   "metadata": {},
   "source": [
    "Resolvemos aplicar o método tukey por ele ser menos sensível a valores extremos, pois a maioria dos outliers que aparecem no boxplot são frutos de acomodações mais luxuosas"
   ]
  },
  {
   "cell_type": "markdown",
   "metadata": {},
   "source": [
    "Primeiro calculamos o IQR por mês"
   ]
  },
  {
   "cell_type": "code",
   "execution_count": 48,
   "metadata": {},
   "outputs": [
    {
     "name": "stdout",
     "output_type": "stream",
     "text": [
      "iqr:  mes_checkin\n",
      "1     0.307016\n",
      "2     0.341651\n",
      "3     0.406200\n",
      "4     0.371278\n",
      "5     0.366135\n",
      "6     0.385967\n",
      "7     0.237284\n",
      "8     0.234822\n",
      "9     0.243876\n",
      "10    0.246672\n",
      "11    0.249558\n",
      "12    0.281956\n",
      "Name: log_price, dtype: float64\n"
     ]
    }
   ],
   "source": [
    "# calculando o iqr por mês dos preços em log10\n",
    "grouped = hospedagens.groupby('mes_checkin')['log_price']\n",
    "\n",
    "q1_per_month = grouped.quantile(0.25)\n",
    "q3_per_month = grouped.quantile(0.75)\n",
    "\n",
    "iqr_per_month = q3_per_month - q1_per_month\n",
    "\n",
    "print('iqr: ', iqr_per_month)"
   ]
  },
  {
   "cell_type": "markdown",
   "metadata": {},
   "source": [
    "Aplicando o tukey"
   ]
  },
  {
   "cell_type": "code",
   "execution_count": 49,
   "metadata": {},
   "outputs": [
    {
     "name": "stderr",
     "output_type": "stream",
     "text": [
      "C:\\Users\\extre\\AppData\\Local\\Temp\\ipykernel_20684\\1487978861.py:3: DeprecationWarning: DataFrameGroupBy.apply operated on the grouping columns. This behavior is deprecated, and in a future version of pandas the grouping columns will be excluded from the operation. Either pass `include_groups=False` to exclude the groupings or explicitly select the grouping columns after groupby to silence this warning.\n",
      "  hospedagens_clean = hospedagens.groupby('mes_checkin').apply(lambda x: x[\n"
     ]
    }
   ],
   "source": [
    "# Aplicar a condição de Tukey ajustada diretamente ao DataFrame original\n",
    "# Remove os outliers por mês de acordo com seu IQR\n",
    "hospedagens_clean = hospedagens.groupby('mes_checkin').apply(lambda x: x[\n",
    "    (x['log_price'] >= (q1_per_month[x.name] - 1.5 * iqr_per_month[x.name])) &\n",
    "    (x['log_price'] <= (q3_per_month[x.name] + 1.5 * iqr_per_month[x.name]))\n",
    "]).reset_index(drop=True)"
   ]
  },
  {
   "cell_type": "code",
   "execution_count": 50,
   "metadata": {},
   "outputs": [
    {
     "data": {
      "text/html": [
       "<div>\n",
       "<style scoped>\n",
       "    .dataframe tbody tr th:only-of-type {\n",
       "        vertical-align: middle;\n",
       "    }\n",
       "\n",
       "    .dataframe tbody tr th {\n",
       "        vertical-align: top;\n",
       "    }\n",
       "\n",
       "    .dataframe thead th {\n",
       "        text-align: right;\n",
       "    }\n",
       "</style>\n",
       "<table border=\"1\" class=\"dataframe\">\n",
       "  <thead>\n",
       "    <tr style=\"text-align: right;\">\n",
       "      <th></th>\n",
       "      <th>hotel</th>\n",
       "      <th>cidade</th>\n",
       "      <th>preço</th>\n",
       "      <th>checkin</th>\n",
       "      <th>checkout</th>\n",
       "      <th>dist_centro</th>\n",
       "      <th>avaliacao</th>\n",
       "      <th>qtnd_avaliacoes</th>\n",
       "      <th>data_extracao</th>\n",
       "      <th>mes_checkin</th>\n",
       "      <th>log_price</th>\n",
       "    </tr>\n",
       "  </thead>\n",
       "  <tbody>\n",
       "    <tr>\n",
       "      <th>0</th>\n",
       "      <td>Villa d'Oro Hotel</td>\n",
       "      <td>Recife</td>\n",
       "      <td>1389</td>\n",
       "      <td>2025-01-01</td>\n",
       "      <td>2025-01-08</td>\n",
       "      <td>1.4</td>\n",
       "      <td>8.600000</td>\n",
       "      <td>1620.000000</td>\n",
       "      <td>2024-6-6</td>\n",
       "      <td>1</td>\n",
       "      <td>3.142702</td>\n",
       "    </tr>\n",
       "    <tr>\n",
       "      <th>1</th>\n",
       "      <td>Hotel Central</td>\n",
       "      <td>Recife</td>\n",
       "      <td>805</td>\n",
       "      <td>2025-01-01</td>\n",
       "      <td>2025-01-08</td>\n",
       "      <td>0.8</td>\n",
       "      <td>7.300000</td>\n",
       "      <td>393.000000</td>\n",
       "      <td>2024-6-6</td>\n",
       "      <td>1</td>\n",
       "      <td>2.905796</td>\n",
       "    </tr>\n",
       "    <tr>\n",
       "      <th>2</th>\n",
       "      <td>APARTAMENTO PROXIMO À UFPE</td>\n",
       "      <td>Recife</td>\n",
       "      <td>964</td>\n",
       "      <td>2025-01-01</td>\n",
       "      <td>2025-01-08</td>\n",
       "      <td>8.4</td>\n",
       "      <td>9.100000</td>\n",
       "      <td>14.000000</td>\n",
       "      <td>2024-6-6</td>\n",
       "      <td>1</td>\n",
       "      <td>2.984077</td>\n",
       "    </tr>\n",
       "    <tr>\n",
       "      <th>3</th>\n",
       "      <td>Lindo APT Cinza à 50m do mar - Praia de Boa Vi...</td>\n",
       "      <td>Recife</td>\n",
       "      <td>1017</td>\n",
       "      <td>2025-01-01</td>\n",
       "      <td>2025-01-08</td>\n",
       "      <td>5.8</td>\n",
       "      <td>10.000000</td>\n",
       "      <td>1.000000</td>\n",
       "      <td>2024-6-6</td>\n",
       "      <td>1</td>\n",
       "      <td>3.007321</td>\n",
       "    </tr>\n",
       "    <tr>\n",
       "      <th>4</th>\n",
       "      <td>Lar Recife Olinda - Hostel com suites individuais</td>\n",
       "      <td>Recife</td>\n",
       "      <td>1091</td>\n",
       "      <td>2025-01-01</td>\n",
       "      <td>2025-01-08</td>\n",
       "      <td>3.5</td>\n",
       "      <td>9.500000</td>\n",
       "      <td>105.000000</td>\n",
       "      <td>2024-6-6</td>\n",
       "      <td>1</td>\n",
       "      <td>3.037825</td>\n",
       "    </tr>\n",
       "    <tr>\n",
       "      <th>...</th>\n",
       "      <td>...</td>\n",
       "      <td>...</td>\n",
       "      <td>...</td>\n",
       "      <td>...</td>\n",
       "      <td>...</td>\n",
       "      <td>...</td>\n",
       "      <td>...</td>\n",
       "      <td>...</td>\n",
       "      <td>...</td>\n",
       "      <td>...</td>\n",
       "      <td>...</td>\n",
       "    </tr>\n",
       "    <tr>\n",
       "      <th>14594</th>\n",
       "      <td>Apto a beira-mar em Jaboatao dos Guararapes PE</td>\n",
       "      <td>Recife</td>\n",
       "      <td>4128</td>\n",
       "      <td>2024-12-22</td>\n",
       "      <td>2024-12-29</td>\n",
       "      <td>19.4</td>\n",
       "      <td>9.000000</td>\n",
       "      <td>2.000000</td>\n",
       "      <td>2024-6-6</td>\n",
       "      <td>12</td>\n",
       "      <td>3.615740</td>\n",
       "    </tr>\n",
       "    <tr>\n",
       "      <th>14595</th>\n",
       "      <td>Hostel da Socorro</td>\n",
       "      <td>Recife</td>\n",
       "      <td>2835</td>\n",
       "      <td>2024-12-22</td>\n",
       "      <td>2024-12-29</td>\n",
       "      <td>9.0</td>\n",
       "      <td>1.000000</td>\n",
       "      <td>1.000000</td>\n",
       "      <td>2024-6-6</td>\n",
       "      <td>12</td>\n",
       "      <td>3.452553</td>\n",
       "    </tr>\n",
       "    <tr>\n",
       "      <th>14596</th>\n",
       "      <td>Flat Equipado-Jaqueira Otima Localização-SH032</td>\n",
       "      <td>Recife</td>\n",
       "      <td>4544</td>\n",
       "      <td>2024-12-22</td>\n",
       "      <td>2024-12-29</td>\n",
       "      <td>3.0</td>\n",
       "      <td>8.200000</td>\n",
       "      <td>6.000000</td>\n",
       "      <td>2024-6-6</td>\n",
       "      <td>12</td>\n",
       "      <td>3.657438</td>\n",
       "    </tr>\n",
       "    <tr>\n",
       "      <th>14597</th>\n",
       "      <td>Lindo apto à beira-mar Jaboatão dos Guararapes...</td>\n",
       "      <td>Recife</td>\n",
       "      <td>5514</td>\n",
       "      <td>2024-12-22</td>\n",
       "      <td>2024-12-29</td>\n",
       "      <td>16.6</td>\n",
       "      <td>7.000000</td>\n",
       "      <td>1.000000</td>\n",
       "      <td>2024-6-6</td>\n",
       "      <td>12</td>\n",
       "      <td>3.741467</td>\n",
       "    </tr>\n",
       "    <tr>\n",
       "      <th>14598</th>\n",
       "      <td>Aconchego Boa Viagem</td>\n",
       "      <td>Recife</td>\n",
       "      <td>4032</td>\n",
       "      <td>2024-12-22</td>\n",
       "      <td>2024-12-29</td>\n",
       "      <td>8.4</td>\n",
       "      <td>8.239833</td>\n",
       "      <td>6.593308</td>\n",
       "      <td>2024-6-6</td>\n",
       "      <td>12</td>\n",
       "      <td>3.605521</td>\n",
       "    </tr>\n",
       "  </tbody>\n",
       "</table>\n",
       "<p>14599 rows × 11 columns</p>\n",
       "</div>"
      ],
      "text/plain": [
       "                                                   hotel  cidade  preço  \\\n",
       "0                                      Villa d'Oro Hotel  Recife   1389   \n",
       "1                                          Hotel Central  Recife    805   \n",
       "2                             APARTAMENTO PROXIMO À UFPE  Recife    964   \n",
       "3      Lindo APT Cinza à 50m do mar - Praia de Boa Vi...  Recife   1017   \n",
       "4      Lar Recife Olinda - Hostel com suites individuais  Recife   1091   \n",
       "...                                                  ...     ...    ...   \n",
       "14594     Apto a beira-mar em Jaboatao dos Guararapes PE  Recife   4128   \n",
       "14595                                  Hostel da Socorro  Recife   2835   \n",
       "14596     Flat Equipado-Jaqueira Otima Localização-SH032  Recife   4544   \n",
       "14597  Lindo apto à beira-mar Jaboatão dos Guararapes...  Recife   5514   \n",
       "14598                               Aconchego Boa Viagem  Recife   4032   \n",
       "\n",
       "         checkin   checkout  dist_centro  avaliacao  qtnd_avaliacoes  \\\n",
       "0     2025-01-01 2025-01-08          1.4   8.600000      1620.000000   \n",
       "1     2025-01-01 2025-01-08          0.8   7.300000       393.000000   \n",
       "2     2025-01-01 2025-01-08          8.4   9.100000        14.000000   \n",
       "3     2025-01-01 2025-01-08          5.8  10.000000         1.000000   \n",
       "4     2025-01-01 2025-01-08          3.5   9.500000       105.000000   \n",
       "...          ...        ...          ...        ...              ...   \n",
       "14594 2024-12-22 2024-12-29         19.4   9.000000         2.000000   \n",
       "14595 2024-12-22 2024-12-29          9.0   1.000000         1.000000   \n",
       "14596 2024-12-22 2024-12-29          3.0   8.200000         6.000000   \n",
       "14597 2024-12-22 2024-12-29         16.6   7.000000         1.000000   \n",
       "14598 2024-12-22 2024-12-29          8.4   8.239833         6.593308   \n",
       "\n",
       "      data_extracao  mes_checkin  log_price  \n",
       "0          2024-6-6            1   3.142702  \n",
       "1          2024-6-6            1   2.905796  \n",
       "2          2024-6-6            1   2.984077  \n",
       "3          2024-6-6            1   3.007321  \n",
       "4          2024-6-6            1   3.037825  \n",
       "...             ...          ...        ...  \n",
       "14594      2024-6-6           12   3.615740  \n",
       "14595      2024-6-6           12   3.452553  \n",
       "14596      2024-6-6           12   3.657438  \n",
       "14597      2024-6-6           12   3.741467  \n",
       "14598      2024-6-6           12   3.605521  \n",
       "\n",
       "[14599 rows x 11 columns]"
      ]
     },
     "execution_count": 50,
     "metadata": {},
     "output_type": "execute_result"
    }
   ],
   "source": [
    "# dataset após a remoção\n",
    "hospedagens_clean"
   ]
  },
  {
   "cell_type": "markdown",
   "metadata": {},
   "source": [
    "Vamos plotar um histograma dos valores para entender se houve grandes modificações nos valores antes vistos"
   ]
  },
  {
   "cell_type": "code",
   "execution_count": 51,
   "metadata": {},
   "outputs": [
    {
     "name": "stderr",
     "output_type": "stream",
     "text": [
      "C:\\Users\\extre\\AppData\\Local\\Temp\\ipykernel_20684\\2837122288.py:2: FutureWarning: 'M' is deprecated and will be removed in a future version, please use 'ME' instead.\n",
      "  preco_mediano_mensal = hospedagens_clean.groupby(pd.Grouper(key='checkin', freq=\"M\"))['preço'].median()\n"
     ]
    },
    {
     "data": {
      "image/png": "[encoded data removed]",
      "text/plain": [
       "<Figure size 640x480 with 1 Axes>"
      ]
     },
     "metadata": {},
     "output_type": "display_data"
    }
   ],
   "source": [
    "# Plotando o histograma\n",
    "preco_mediano_mensal = hospedagens_clean.groupby(pd.Grouper(key='checkin', freq=\"M\"))['preço'].median()\n",
    "plt.bar(preco_mediano_mensal.index, preco_mediano_mensal.values, width=25)\n",
    "plt.xlabel('Check-in')\n",
    "plt.ylabel('Preço')\n",
    "plt.title('Histograma de Preços em Função dos Check-ins')\n",
    "plt.xticks(rotation=45)\n",
    "plt.grid(True)\n",
    "plt.tight_layout()\n",
    "plt.show()"
   ]
  },
  {
   "cell_type": "code",
   "execution_count": 52,
   "metadata": {},
   "outputs": [
    {
     "name": "stderr",
     "output_type": "stream",
     "text": [
      "C:\\Users\\extre\\AppData\\Local\\Temp\\ipykernel_20684\\1362972130.py:2: FutureWarning: 'M' is deprecated and will be removed in a future version, please use 'ME' instead.\n",
      "  preco_mediano_mensal = hospedagens_clean.groupby(pd.Grouper(key='checkin', freq=\"M\"))['preço'].median()\n"
     ]
    },
    {
     "data": {
      "text/plain": [
       "checkin\n",
       "2024-07-31    1575.0\n",
       "2024-08-31    1487.0\n",
       "2024-09-30    1593.0\n",
       "2024-10-31    1618.0\n",
       "2024-11-30    1638.0\n",
       "2024-12-31    1712.0\n",
       "2025-01-31    1960.0\n",
       "2025-02-28    1700.0\n",
       "2025-03-31    1895.0\n",
       "2025-04-30    1747.0\n",
       "2025-05-31    1687.0\n",
       "2025-06-30    1575.0\n",
       "Freq: ME, Name: preço, dtype: float64"
      ]
     },
     "execution_count": 52,
     "metadata": {},
     "output_type": "execute_result"
    }
   ],
   "source": [
    "# mediana nova dos preços de cada mês\n",
    "preco_mediano_mensal = hospedagens_clean.groupby(pd.Grouper(key='checkin', freq=\"M\"))['preço'].median()\n",
    "preco_mediano_mensal"
   ]
  },
  {
   "cell_type": "markdown",
   "metadata": {},
   "source": [
    "É possível notar algumas mudanças nesses dados em comparação com o dataset antes da remoção, mas a variação nos dados por mês permanece, inclusive ainda há uma \"alta\" variação nos meses de janeiro e março, meses que possuem épocas festivas. "
   ]
  },
  {
   "cell_type": "code",
   "execution_count": 53,
   "metadata": {},
   "outputs": [
    {
     "data": {
      "text/plain": [
       "<Axes: >"
      ]
     },
     "execution_count": 53,
     "metadata": {},
     "output_type": "execute_result"
    },
    {
     "data": {
      "image/png": "[encoded data removed]",
      "text/plain": [
       "<Figure size 640x480 with 1 Axes>"
      ]
     },
     "metadata": {},
     "output_type": "display_data"
    }
   ],
   "source": [
    "hospedagens_clean['preço'].plot(kind='box')"
   ]
  },
  {
   "cell_type": "code",
   "execution_count": 54,
   "metadata": {},
   "outputs": [
    {
     "data": {
      "text/html": [
       "<div>\n",
       "<style scoped>\n",
       "    .dataframe tbody tr th:only-of-type {\n",
       "        vertical-align: middle;\n",
       "    }\n",
       "\n",
       "    .dataframe tbody tr th {\n",
       "        vertical-align: top;\n",
       "    }\n",
       "\n",
       "    .dataframe thead th {\n",
       "        text-align: right;\n",
       "    }\n",
       "</style>\n",
       "<table border=\"1\" class=\"dataframe\">\n",
       "  <thead>\n",
       "    <tr style=\"text-align: right;\">\n",
       "      <th></th>\n",
       "      <th>preço</th>\n",
       "      <th>checkin</th>\n",
       "      <th>checkout</th>\n",
       "      <th>dist_centro</th>\n",
       "      <th>avaliacao</th>\n",
       "      <th>qtnd_avaliacoes</th>\n",
       "      <th>mes_checkin</th>\n",
       "      <th>log_price</th>\n",
       "    </tr>\n",
       "  </thead>\n",
       "  <tbody>\n",
       "    <tr>\n",
       "      <th>count</th>\n",
       "      <td>14599.000000</td>\n",
       "      <td>14599</td>\n",
       "      <td>14599</td>\n",
       "      <td>14599.000000</td>\n",
       "      <td>14599.000000</td>\n",
       "      <td>14599.000000</td>\n",
       "      <td>14599.000000</td>\n",
       "      <td>14599.000000</td>\n",
       "    </tr>\n",
       "    <tr>\n",
       "      <th>mean</th>\n",
       "      <td>1873.288376</td>\n",
       "      <td>2024-11-16 02:45:30.762380800</td>\n",
       "      <td>2024-11-23 02:45:30.762381056</td>\n",
       "      <td>8.236718</td>\n",
       "      <td>8.268823</td>\n",
       "      <td>421.855752</td>\n",
       "      <td>7.390027</td>\n",
       "      <td>3.215519</td>\n",
       "    </tr>\n",
       "    <tr>\n",
       "      <th>min</th>\n",
       "      <td>268.000000</td>\n",
       "      <td>2024-07-01 00:00:00</td>\n",
       "      <td>2024-07-08 00:00:00</td>\n",
       "      <td>0.200000</td>\n",
       "      <td>1.000000</td>\n",
       "      <td>1.000000</td>\n",
       "      <td>1.000000</td>\n",
       "      <td>2.428135</td>\n",
       "    </tr>\n",
       "    <tr>\n",
       "      <th>25%</th>\n",
       "      <td>1190.000000</td>\n",
       "      <td>2024-08-22 00:00:00</td>\n",
       "      <td>2024-08-29 00:00:00</td>\n",
       "      <td>4.400000</td>\n",
       "      <td>7.700000</td>\n",
       "      <td>3.000000</td>\n",
       "      <td>5.000000</td>\n",
       "      <td>3.075547</td>\n",
       "    </tr>\n",
       "    <tr>\n",
       "      <th>50%</th>\n",
       "      <td>1638.000000</td>\n",
       "      <td>2024-11-01 00:00:00</td>\n",
       "      <td>2024-11-08 00:00:00</td>\n",
       "      <td>6.800000</td>\n",
       "      <td>8.700000</td>\n",
       "      <td>13.000000</td>\n",
       "      <td>8.000000</td>\n",
       "      <td>3.214314</td>\n",
       "    </tr>\n",
       "    <tr>\n",
       "      <th>75%</th>\n",
       "      <td>2165.000000</td>\n",
       "      <td>2025-01-22 00:00:00</td>\n",
       "      <td>2025-01-29 00:00:00</td>\n",
       "      <td>9.500000</td>\n",
       "      <td>9.500000</td>\n",
       "      <td>82.000000</td>\n",
       "      <td>10.000000</td>\n",
       "      <td>3.335458</td>\n",
       "    </tr>\n",
       "    <tr>\n",
       "      <th>max</th>\n",
       "      <td>13000.000000</td>\n",
       "      <td>2025-06-22 00:00:00</td>\n",
       "      <td>2025-06-29 00:00:00</td>\n",
       "      <td>89.400000</td>\n",
       "      <td>10.000001</td>\n",
       "      <td>8861.000000</td>\n",
       "      <td>12.000000</td>\n",
       "      <td>4.113943</td>\n",
       "    </tr>\n",
       "    <tr>\n",
       "      <th>std</th>\n",
       "      <td>1082.378529</td>\n",
       "      <td>NaN</td>\n",
       "      <td>NaN</td>\n",
       "      <td>7.009025</td>\n",
       "      <td>1.885859</td>\n",
       "      <td>1119.919483</td>\n",
       "      <td>3.257766</td>\n",
       "      <td>0.218999</td>\n",
       "    </tr>\n",
       "  </tbody>\n",
       "</table>\n",
       "</div>"
      ],
      "text/plain": [
       "              preço                        checkin  \\\n",
       "count  14599.000000                          14599   \n",
       "mean    1873.288376  2024-11-16 02:45:30.762380800   \n",
       "min      268.000000            2024-07-01 00:00:00   \n",
       "25%     1190.000000            2024-08-22 00:00:00   \n",
       "50%     1638.000000            2024-11-01 00:00:00   \n",
       "75%     2165.000000            2025-01-22 00:00:00   \n",
       "max    13000.000000            2025-06-22 00:00:00   \n",
       "std     1082.378529                            NaN   \n",
       "\n",
       "                            checkout   dist_centro     avaliacao  \\\n",
       "count                          14599  14599.000000  14599.000000   \n",
       "mean   2024-11-23 02:45:30.762381056      8.236718      8.268823   \n",
       "min              2024-07-08 00:00:00      0.200000      1.000000   \n",
       "25%              2024-08-29 00:00:00      4.400000      7.700000   \n",
       "50%              2024-11-08 00:00:00      6.800000      8.700000   \n",
       "75%              2025-01-29 00:00:00      9.500000      9.500000   \n",
       "max              2025-06-29 00:00:00     89.400000     10.000001   \n",
       "std                              NaN      7.009025      1.885859   \n",
       "\n",
       "       qtnd_avaliacoes   mes_checkin     log_price  \n",
       "count     14599.000000  14599.000000  14599.000000  \n",
       "mean        421.855752      7.390027      3.215519  \n",
       "min           1.000000      1.000000      2.428135  \n",
       "25%           3.000000      5.000000      3.075547  \n",
       "50%          13.000000      8.000000      3.214314  \n",
       "75%          82.000000     10.000000      3.335458  \n",
       "max        8861.000000     12.000000      4.113943  \n",
       "std        1119.919483      3.257766      0.218999  "
      ]
     },
     "execution_count": 54,
     "metadata": {},
     "output_type": "execute_result"
    }
   ],
   "source": [
    "hospedagens_clean.describe()"
   ]
  },
  {
   "cell_type": "markdown",
   "metadata": {},
   "source": [
    "Apesar de o gráfico ainda, aparentemente, apresentar outliers, muitos foram removidos e houve um ajuste significativo."
   ]
  },
  {
   "cell_type": "markdown",
   "metadata": {},
   "source": [
    "## Discretização"
   ]
  },
  {
   "cell_type": "markdown",
   "metadata": {},
   "source": [
    "Decidimos discretizar as colunas principais da nossa análise: Preço e Mes_checkin.\n",
    "Discretizamos preço para gerar categorias de preço, variando de econômico até muito caro. Esse é um bom jeito para visualizar oportunidades, podendo filtrar os dados pela tag \"econômico\" para visualizar boas oportunidades de preço.\n",
    "E, também, aplicamos categorias de estações do ano através da discretização, para assim ficar mais fácil a visualização futura de insights sobre estações do ano e sua variabilidade no preço."
   ]
  },
  {
   "cell_type": "code",
   "execution_count": 55,
   "metadata": {},
   "outputs": [],
   "source": [
    "# Discretizar a coluna de preços em 5 categorias\n",
    "hospedagens_clean['price_category'] = pd.qcut(hospedagens_clean['preço'], 5, labels=['Econômico', 'Baixo', 'Médio', 'Caro', 'Muito Caro'])\n"
   ]
  },
  {
   "cell_type": "code",
   "execution_count": 56,
   "metadata": {},
   "outputs": [
    {
     "data": {
      "text/html": [
       "<div>\n",
       "<style scoped>\n",
       "    .dataframe tbody tr th:only-of-type {\n",
       "        vertical-align: middle;\n",
       "    }\n",
       "\n",
       "    .dataframe tbody tr th {\n",
       "        vertical-align: top;\n",
       "    }\n",
       "\n",
       "    .dataframe thead th {\n",
       "        text-align: right;\n",
       "    }\n",
       "</style>\n",
       "<table border=\"1\" class=\"dataframe\">\n",
       "  <thead>\n",
       "    <tr style=\"text-align: right;\">\n",
       "      <th></th>\n",
       "      <th>hotel</th>\n",
       "      <th>cidade</th>\n",
       "      <th>preço</th>\n",
       "      <th>checkin</th>\n",
       "      <th>checkout</th>\n",
       "      <th>dist_centro</th>\n",
       "      <th>avaliacao</th>\n",
       "      <th>qtnd_avaliacoes</th>\n",
       "      <th>data_extracao</th>\n",
       "      <th>mes_checkin</th>\n",
       "      <th>log_price</th>\n",
       "      <th>price_category</th>\n",
       "    </tr>\n",
       "  </thead>\n",
       "  <tbody>\n",
       "    <tr>\n",
       "      <th>0</th>\n",
       "      <td>Villa d'Oro Hotel</td>\n",
       "      <td>Recife</td>\n",
       "      <td>1389</td>\n",
       "      <td>2025-01-01</td>\n",
       "      <td>2025-01-08</td>\n",
       "      <td>1.4</td>\n",
       "      <td>8.6</td>\n",
       "      <td>1620.0</td>\n",
       "      <td>2024-6-6</td>\n",
       "      <td>1</td>\n",
       "      <td>3.142702</td>\n",
       "      <td>Baixo</td>\n",
       "    </tr>\n",
       "    <tr>\n",
       "      <th>1</th>\n",
       "      <td>Hotel Central</td>\n",
       "      <td>Recife</td>\n",
       "      <td>805</td>\n",
       "      <td>2025-01-01</td>\n",
       "      <td>2025-01-08</td>\n",
       "      <td>0.8</td>\n",
       "      <td>7.3</td>\n",
       "      <td>393.0</td>\n",
       "      <td>2024-6-6</td>\n",
       "      <td>1</td>\n",
       "      <td>2.905796</td>\n",
       "      <td>Econômico</td>\n",
       "    </tr>\n",
       "    <tr>\n",
       "      <th>2</th>\n",
       "      <td>APARTAMENTO PROXIMO À UFPE</td>\n",
       "      <td>Recife</td>\n",
       "      <td>964</td>\n",
       "      <td>2025-01-01</td>\n",
       "      <td>2025-01-08</td>\n",
       "      <td>8.4</td>\n",
       "      <td>9.1</td>\n",
       "      <td>14.0</td>\n",
       "      <td>2024-6-6</td>\n",
       "      <td>1</td>\n",
       "      <td>2.984077</td>\n",
       "      <td>Econômico</td>\n",
       "    </tr>\n",
       "    <tr>\n",
       "      <th>3</th>\n",
       "      <td>Lindo APT Cinza à 50m do mar - Praia de Boa Vi...</td>\n",
       "      <td>Recife</td>\n",
       "      <td>1017</td>\n",
       "      <td>2025-01-01</td>\n",
       "      <td>2025-01-08</td>\n",
       "      <td>5.8</td>\n",
       "      <td>10.0</td>\n",
       "      <td>1.0</td>\n",
       "      <td>2024-6-6</td>\n",
       "      <td>1</td>\n",
       "      <td>3.007321</td>\n",
       "      <td>Econômico</td>\n",
       "    </tr>\n",
       "    <tr>\n",
       "      <th>4</th>\n",
       "      <td>Lar Recife Olinda - Hostel com suites individuais</td>\n",
       "      <td>Recife</td>\n",
       "      <td>1091</td>\n",
       "      <td>2025-01-01</td>\n",
       "      <td>2025-01-08</td>\n",
       "      <td>3.5</td>\n",
       "      <td>9.5</td>\n",
       "      <td>105.0</td>\n",
       "      <td>2024-6-6</td>\n",
       "      <td>1</td>\n",
       "      <td>3.037825</td>\n",
       "      <td>Econômico</td>\n",
       "    </tr>\n",
       "  </tbody>\n",
       "</table>\n",
       "</div>"
      ],
      "text/plain": [
       "                                               hotel  cidade  preço  \\\n",
       "0                                  Villa d'Oro Hotel  Recife   1389   \n",
       "1                                      Hotel Central  Recife    805   \n",
       "2                         APARTAMENTO PROXIMO À UFPE  Recife    964   \n",
       "3  Lindo APT Cinza à 50m do mar - Praia de Boa Vi...  Recife   1017   \n",
       "4  Lar Recife Olinda - Hostel com suites individuais  Recife   1091   \n",
       "\n",
       "     checkin   checkout  dist_centro  avaliacao  qtnd_avaliacoes  \\\n",
       "0 2025-01-01 2025-01-08          1.4        8.6           1620.0   \n",
       "1 2025-01-01 2025-01-08          0.8        7.3            393.0   \n",
       "2 2025-01-01 2025-01-08          8.4        9.1             14.0   \n",
       "3 2025-01-01 2025-01-08          5.8       10.0              1.0   \n",
       "4 2025-01-01 2025-01-08          3.5        9.5            105.0   \n",
       "\n",
       "  data_extracao  mes_checkin  log_price price_category  \n",
       "0      2024-6-6            1   3.142702          Baixo  \n",
       "1      2024-6-6            1   2.905796      Econômico  \n",
       "2      2024-6-6            1   2.984077      Econômico  \n",
       "3      2024-6-6            1   3.007321      Econômico  \n",
       "4      2024-6-6            1   3.037825      Econômico  "
      ]
     },
     "execution_count": 56,
     "metadata": {},
     "output_type": "execute_result"
    }
   ],
   "source": [
    "hospedagens_clean.head()"
   ]
  },
  {
   "cell_type": "code",
   "execution_count": 57,
   "metadata": {},
   "outputs": [
    {
     "data": {
      "text/html": [
       "<div>\n",
       "<style scoped>\n",
       "    .dataframe tbody tr th:only-of-type {\n",
       "        vertical-align: middle;\n",
       "    }\n",
       "\n",
       "    .dataframe tbody tr th {\n",
       "        vertical-align: top;\n",
       "    }\n",
       "\n",
       "    .dataframe thead th {\n",
       "        text-align: right;\n",
       "    }\n",
       "</style>\n",
       "<table border=\"1\" class=\"dataframe\">\n",
       "  <thead>\n",
       "    <tr style=\"text-align: right;\">\n",
       "      <th></th>\n",
       "      <th>hotel</th>\n",
       "      <th>cidade</th>\n",
       "      <th>preço</th>\n",
       "      <th>checkin</th>\n",
       "      <th>checkout</th>\n",
       "      <th>dist_centro</th>\n",
       "      <th>avaliacao</th>\n",
       "      <th>qtnd_avaliacoes</th>\n",
       "      <th>data_extracao</th>\n",
       "      <th>mes_checkin</th>\n",
       "      <th>log_price</th>\n",
       "      <th>price_category</th>\n",
       "      <th>season</th>\n",
       "    </tr>\n",
       "  </thead>\n",
       "  <tbody>\n",
       "    <tr>\n",
       "      <th>0</th>\n",
       "      <td>Villa d'Oro Hotel</td>\n",
       "      <td>Recife</td>\n",
       "      <td>1389</td>\n",
       "      <td>2025-01-01</td>\n",
       "      <td>2025-01-08</td>\n",
       "      <td>1.4</td>\n",
       "      <td>8.6</td>\n",
       "      <td>1620.0</td>\n",
       "      <td>2024-6-6</td>\n",
       "      <td>1</td>\n",
       "      <td>3.142702</td>\n",
       "      <td>Baixo</td>\n",
       "      <td>Verão</td>\n",
       "    </tr>\n",
       "    <tr>\n",
       "      <th>1</th>\n",
       "      <td>Hotel Central</td>\n",
       "      <td>Recife</td>\n",
       "      <td>805</td>\n",
       "      <td>2025-01-01</td>\n",
       "      <td>2025-01-08</td>\n",
       "      <td>0.8</td>\n",
       "      <td>7.3</td>\n",
       "      <td>393.0</td>\n",
       "      <td>2024-6-6</td>\n",
       "      <td>1</td>\n",
       "      <td>2.905796</td>\n",
       "      <td>Econômico</td>\n",
       "      <td>Verão</td>\n",
       "    </tr>\n",
       "    <tr>\n",
       "      <th>2</th>\n",
       "      <td>APARTAMENTO PROXIMO À UFPE</td>\n",
       "      <td>Recife</td>\n",
       "      <td>964</td>\n",
       "      <td>2025-01-01</td>\n",
       "      <td>2025-01-08</td>\n",
       "      <td>8.4</td>\n",
       "      <td>9.1</td>\n",
       "      <td>14.0</td>\n",
       "      <td>2024-6-6</td>\n",
       "      <td>1</td>\n",
       "      <td>2.984077</td>\n",
       "      <td>Econômico</td>\n",
       "      <td>Verão</td>\n",
       "    </tr>\n",
       "    <tr>\n",
       "      <th>3</th>\n",
       "      <td>Lindo APT Cinza à 50m do mar - Praia de Boa Vi...</td>\n",
       "      <td>Recife</td>\n",
       "      <td>1017</td>\n",
       "      <td>2025-01-01</td>\n",
       "      <td>2025-01-08</td>\n",
       "      <td>5.8</td>\n",
       "      <td>10.0</td>\n",
       "      <td>1.0</td>\n",
       "      <td>2024-6-6</td>\n",
       "      <td>1</td>\n",
       "      <td>3.007321</td>\n",
       "      <td>Econômico</td>\n",
       "      <td>Verão</td>\n",
       "    </tr>\n",
       "    <tr>\n",
       "      <th>4</th>\n",
       "      <td>Lar Recife Olinda - Hostel com suites individuais</td>\n",
       "      <td>Recife</td>\n",
       "      <td>1091</td>\n",
       "      <td>2025-01-01</td>\n",
       "      <td>2025-01-08</td>\n",
       "      <td>3.5</td>\n",
       "      <td>9.5</td>\n",
       "      <td>105.0</td>\n",
       "      <td>2024-6-6</td>\n",
       "      <td>1</td>\n",
       "      <td>3.037825</td>\n",
       "      <td>Econômico</td>\n",
       "      <td>Verão</td>\n",
       "    </tr>\n",
       "    <tr>\n",
       "      <th>5</th>\n",
       "      <td>Bonito é ser Feliz</td>\n",
       "      <td>Recife</td>\n",
       "      <td>684</td>\n",
       "      <td>2025-01-01</td>\n",
       "      <td>2025-01-08</td>\n",
       "      <td>4.8</td>\n",
       "      <td>9.8</td>\n",
       "      <td>46.0</td>\n",
       "      <td>2024-6-6</td>\n",
       "      <td>1</td>\n",
       "      <td>2.835056</td>\n",
       "      <td>Econômico</td>\n",
       "      <td>Verão</td>\n",
       "    </tr>\n",
       "    <tr>\n",
       "      <th>6</th>\n",
       "      <td>Park Hotel</td>\n",
       "      <td>Recife</td>\n",
       "      <td>2684</td>\n",
       "      <td>2025-01-01</td>\n",
       "      <td>2025-01-08</td>\n",
       "      <td>8.6</td>\n",
       "      <td>8.5</td>\n",
       "      <td>5064.0</td>\n",
       "      <td>2024-6-6</td>\n",
       "      <td>1</td>\n",
       "      <td>3.428783</td>\n",
       "      <td>Muito Caro</td>\n",
       "      <td>Verão</td>\n",
       "    </tr>\n",
       "    <tr>\n",
       "      <th>7</th>\n",
       "      <td>Rede Andrade LG Inn</td>\n",
       "      <td>Recife</td>\n",
       "      <td>1827</td>\n",
       "      <td>2025-01-01</td>\n",
       "      <td>2025-01-08</td>\n",
       "      <td>6.8</td>\n",
       "      <td>7.7</td>\n",
       "      <td>8861.0</td>\n",
       "      <td>2024-6-6</td>\n",
       "      <td>1</td>\n",
       "      <td>3.261739</td>\n",
       "      <td>Caro</td>\n",
       "      <td>Verão</td>\n",
       "    </tr>\n",
       "    <tr>\n",
       "      <th>8</th>\n",
       "      <td>Qto Duplo próximo ao Shopping Recife</td>\n",
       "      <td>Recife</td>\n",
       "      <td>625</td>\n",
       "      <td>2025-01-01</td>\n",
       "      <td>2025-01-08</td>\n",
       "      <td>8.1</td>\n",
       "      <td>10.0</td>\n",
       "      <td>3.0</td>\n",
       "      <td>2024-6-6</td>\n",
       "      <td>1</td>\n",
       "      <td>2.795880</td>\n",
       "      <td>Econômico</td>\n",
       "      <td>Verão</td>\n",
       "    </tr>\n",
       "    <tr>\n",
       "      <th>9</th>\n",
       "      <td>Hotel Pousada Casa Grande</td>\n",
       "      <td>Recife</td>\n",
       "      <td>1190</td>\n",
       "      <td>2025-01-01</td>\n",
       "      <td>2025-01-08</td>\n",
       "      <td>11.5</td>\n",
       "      <td>8.0</td>\n",
       "      <td>2.0</td>\n",
       "      <td>2024-6-6</td>\n",
       "      <td>1</td>\n",
       "      <td>3.075547</td>\n",
       "      <td>Baixo</td>\n",
       "      <td>Verão</td>\n",
       "    </tr>\n",
       "  </tbody>\n",
       "</table>\n",
       "</div>"
      ],
      "text/plain": [
       "                                               hotel  cidade  preço  \\\n",
       "0                                  Villa d'Oro Hotel  Recife   1389   \n",
       "1                                      Hotel Central  Recife    805   \n",
       "2                         APARTAMENTO PROXIMO À UFPE  Recife    964   \n",
       "3  Lindo APT Cinza à 50m do mar - Praia de Boa Vi...  Recife   1017   \n",
       "4  Lar Recife Olinda - Hostel com suites individuais  Recife   1091   \n",
       "5                                 Bonito é ser Feliz  Recife    684   \n",
       "6                                         Park Hotel  Recife   2684   \n",
       "7                                Rede Andrade LG Inn  Recife   1827   \n",
       "8               Qto Duplo próximo ao Shopping Recife  Recife    625   \n",
       "9                          Hotel Pousada Casa Grande  Recife   1190   \n",
       "\n",
       "     checkin   checkout  dist_centro  avaliacao  qtnd_avaliacoes  \\\n",
       "0 2025-01-01 2025-01-08          1.4        8.6           1620.0   \n",
       "1 2025-01-01 2025-01-08          0.8        7.3            393.0   \n",
       "2 2025-01-01 2025-01-08          8.4        9.1             14.0   \n",
       "3 2025-01-01 2025-01-08          5.8       10.0              1.0   \n",
       "4 2025-01-01 2025-01-08          3.5        9.5            105.0   \n",
       "5 2025-01-01 2025-01-08          4.8        9.8             46.0   \n",
       "6 2025-01-01 2025-01-08          8.6        8.5           5064.0   \n",
       "7 2025-01-01 2025-01-08          6.8        7.7           8861.0   \n",
       "8 2025-01-01 2025-01-08          8.1       10.0              3.0   \n",
       "9 2025-01-01 2025-01-08         11.5        8.0              2.0   \n",
       "\n",
       "  data_extracao  mes_checkin  log_price price_category season  \n",
       "0      2024-6-6            1   3.142702          Baixo  Verão  \n",
       "1      2024-6-6            1   2.905796      Econômico  Verão  \n",
       "2      2024-6-6            1   2.984077      Econômico  Verão  \n",
       "3      2024-6-6            1   3.007321      Econômico  Verão  \n",
       "4      2024-6-6            1   3.037825      Econômico  Verão  \n",
       "5      2024-6-6            1   2.835056      Econômico  Verão  \n",
       "6      2024-6-6            1   3.428783     Muito Caro  Verão  \n",
       "7      2024-6-6            1   3.261739           Caro  Verão  \n",
       "8      2024-6-6            1   2.795880      Econômico  Verão  \n",
       "9      2024-6-6            1   3.075547          Baixo  Verão  "
      ]
     },
     "execution_count": 57,
     "metadata": {},
     "output_type": "execute_result"
    }
   ],
   "source": [
    "# Definir a função para mapear os meses para as estações do ano\n",
    "def month_to_season(month):\n",
    "    if month in [9, 10, 11]:\n",
    "        return 'Primavera'\n",
    "    elif month in [12, 1, 2]:\n",
    "        return 'Verão'\n",
    "    elif month in [3, 4, 5]:\n",
    "        return 'Outono'\n",
    "    else:\n",
    "        return 'Inverno'\n",
    "\n",
    "# Discretizar os meses e adicionar categorias de estações do ano\n",
    "hospedagens_clean['season'] = hospedagens_clean['mes_checkin'].apply(month_to_season)\n",
    "hospedagens_clean.head(10)"
   ]
  },
  {
   "cell_type": "markdown",
   "metadata": {},
   "source": [
    "plotando as medianas do preço de cada estação"
   ]
  },
  {
   "cell_type": "code",
   "execution_count": 58,
   "metadata": {},
   "outputs": [
    {
     "data": {
      "image/png": "[encoded data removed]",
      "text/plain": [
       "<Figure size 1000x600 with 1 Axes>"
      ]
     },
     "metadata": {},
     "output_type": "display_data"
    }
   ],
   "source": [
    "import seaborn as sns\n",
    "import matplotlib.pyplot as plt\n",
    "\n",
    "# Calcular a mediana dos preços para cada estação do ano\n",
    "median_prices_season = hospedagens_clean.groupby('season')['preço'].median()\n",
    "\n",
    "# Obter os valores das medianas e as estações do ano\n",
    "seasons = median_prices_season.index\n",
    "medians = median_prices_season.values\n",
    "\n",
    "# Plotar o gráfico de barras\n",
    "plt.figure(figsize=(10, 6))\n",
    "plt.bar(seasons, medians, color=['black', 'blue', 'green', 'red'])\n",
    "\n",
    "# Adicionar os valores das medianas acima das barras\n",
    "for i, median in enumerate(medians):\n",
    "    plt.text(i, median, f'{median:.2f}', ha='center', va='bottom')\n",
    "\n",
    "# Adicionar legendas e título\n",
    "plt.xlabel('Estação do Ano')\n",
    "plt.ylabel('Mediana do Preço')\n",
    "plt.title('Mediana do Preço por Estação do Ano')\n",
    "\n",
    "# Exibir o gráfico\n",
    "plt.show()\n"
   ]
  },
  {
   "cell_type": "markdown",
   "metadata": {},
   "source": [
    "O outono e inverno se destacam. O outono provavelmente por causa do carnaval e o verão por dezembro e janeiro (fim de ano)"
   ]
  },
  {
   "cell_type": "code",
   "execution_count": 59,
   "metadata": {},
   "outputs": [
    {
     "data": {
      "text/html": [
       "<div>\n",
       "<style scoped>\n",
       "    .dataframe tbody tr th:only-of-type {\n",
       "        vertical-align: middle;\n",
       "    }\n",
       "\n",
       "    .dataframe tbody tr th {\n",
       "        vertical-align: top;\n",
       "    }\n",
       "\n",
       "    .dataframe thead th {\n",
       "        text-align: right;\n",
       "    }\n",
       "</style>\n",
       "<table border=\"1\" class=\"dataframe\">\n",
       "  <thead>\n",
       "    <tr style=\"text-align: right;\">\n",
       "      <th></th>\n",
       "      <th>hotel</th>\n",
       "      <th>cidade</th>\n",
       "      <th>preço</th>\n",
       "      <th>checkin</th>\n",
       "      <th>checkout</th>\n",
       "      <th>dist_centro</th>\n",
       "      <th>avaliacao</th>\n",
       "      <th>qtnd_avaliacoes</th>\n",
       "      <th>data_extracao</th>\n",
       "      <th>mes_checkin</th>\n",
       "      <th>log_price</th>\n",
       "      <th>price_category</th>\n",
       "      <th>season</th>\n",
       "    </tr>\n",
       "  </thead>\n",
       "  <tbody>\n",
       "    <tr>\n",
       "      <th>13353</th>\n",
       "      <td>Hotel Golden Park Recife Boa Viagem</td>\n",
       "      <td>Recife</td>\n",
       "      <td>1722</td>\n",
       "      <td>2024-12-01</td>\n",
       "      <td>2024-12-08</td>\n",
       "      <td>9.3</td>\n",
       "      <td>7.5</td>\n",
       "      <td>2655.0</td>\n",
       "      <td>2024-6-6</td>\n",
       "      <td>12</td>\n",
       "      <td>3.236033</td>\n",
       "      <td>Médio</td>\n",
       "      <td>Verão</td>\n",
       "    </tr>\n",
       "    <tr>\n",
       "      <th>13354</th>\n",
       "      <td>Transamerica Fit Recife</td>\n",
       "      <td>Recife</td>\n",
       "      <td>1648</td>\n",
       "      <td>2024-12-01</td>\n",
       "      <td>2024-12-08</td>\n",
       "      <td>7.0</td>\n",
       "      <td>8.3</td>\n",
       "      <td>5177.0</td>\n",
       "      <td>2024-6-6</td>\n",
       "      <td>12</td>\n",
       "      <td>3.216957</td>\n",
       "      <td>Médio</td>\n",
       "      <td>Verão</td>\n",
       "    </tr>\n",
       "    <tr>\n",
       "      <th>13355</th>\n",
       "      <td>Aconchegante Apto de 1qt a 60mts do Consulado EUA</td>\n",
       "      <td>Recife</td>\n",
       "      <td>1011</td>\n",
       "      <td>2024-12-01</td>\n",
       "      <td>2024-12-08</td>\n",
       "      <td>1.2</td>\n",
       "      <td>9.7</td>\n",
       "      <td>36.0</td>\n",
       "      <td>2024-6-6</td>\n",
       "      <td>12</td>\n",
       "      <td>3.004751</td>\n",
       "      <td>Econômico</td>\n",
       "      <td>Verão</td>\n",
       "    </tr>\n",
       "    <tr>\n",
       "      <th>13356</th>\n",
       "      <td>Park Hotel</td>\n",
       "      <td>Recife</td>\n",
       "      <td>2095</td>\n",
       "      <td>2024-12-01</td>\n",
       "      <td>2024-12-08</td>\n",
       "      <td>8.6</td>\n",
       "      <td>8.5</td>\n",
       "      <td>5064.0</td>\n",
       "      <td>2024-6-6</td>\n",
       "      <td>12</td>\n",
       "      <td>3.321184</td>\n",
       "      <td>Caro</td>\n",
       "      <td>Verão</td>\n",
       "    </tr>\n",
       "    <tr>\n",
       "      <th>13357</th>\n",
       "      <td>Hotel Central</td>\n",
       "      <td>Recife</td>\n",
       "      <td>805</td>\n",
       "      <td>2024-12-01</td>\n",
       "      <td>2024-12-08</td>\n",
       "      <td>0.8</td>\n",
       "      <td>7.3</td>\n",
       "      <td>393.0</td>\n",
       "      <td>2024-6-6</td>\n",
       "      <td>12</td>\n",
       "      <td>2.905796</td>\n",
       "      <td>Econômico</td>\n",
       "      <td>Verão</td>\n",
       "    </tr>\n",
       "  </tbody>\n",
       "</table>\n",
       "</div>"
      ],
      "text/plain": [
       "                                                   hotel  cidade  preço  \\\n",
       "13353                Hotel Golden Park Recife Boa Viagem  Recife   1722   \n",
       "13354                            Transamerica Fit Recife  Recife   1648   \n",
       "13355  Aconchegante Apto de 1qt a 60mts do Consulado EUA  Recife   1011   \n",
       "13356                                         Park Hotel  Recife   2095   \n",
       "13357                                      Hotel Central  Recife    805   \n",
       "\n",
       "         checkin   checkout  dist_centro  avaliacao  qtnd_avaliacoes  \\\n",
       "13353 2024-12-01 2024-12-08          9.3        7.5           2655.0   \n",
       "13354 2024-12-01 2024-12-08          7.0        8.3           5177.0   \n",
       "13355 2024-12-01 2024-12-08          1.2        9.7             36.0   \n",
       "13356 2024-12-01 2024-12-08          8.6        8.5           5064.0   \n",
       "13357 2024-12-01 2024-12-08          0.8        7.3            393.0   \n",
       "\n",
       "      data_extracao  mes_checkin  log_price price_category season  \n",
       "13353      2024-6-6           12   3.236033          Médio  Verão  \n",
       "13354      2024-6-6           12   3.216957          Médio  Verão  \n",
       "13355      2024-6-6           12   3.004751      Econômico  Verão  \n",
       "13356      2024-6-6           12   3.321184           Caro  Verão  \n",
       "13357      2024-6-6           12   2.905796      Econômico  Verão  "
      ]
     },
     "execution_count": 59,
     "metadata": {},
     "output_type": "execute_result"
    }
   ],
   "source": [
    "# printando as hospedagens no mês de dezembro (verão)\n",
    "hospedagens_clean[hospedagens_clean['mes_checkin'] == 12].head()"
   ]
  },
  {
   "cell_type": "code",
   "execution_count": 60,
   "metadata": {},
   "outputs": [
    {
     "data": {
      "text/html": [
       "<div>\n",
       "<style scoped>\n",
       "    .dataframe tbody tr th:only-of-type {\n",
       "        vertical-align: middle;\n",
       "    }\n",
       "\n",
       "    .dataframe tbody tr th {\n",
       "        vertical-align: top;\n",
       "    }\n",
       "\n",
       "    .dataframe thead th {\n",
       "        text-align: right;\n",
       "    }\n",
       "</style>\n",
       "<table border=\"1\" class=\"dataframe\">\n",
       "  <thead>\n",
       "    <tr style=\"text-align: right;\">\n",
       "      <th></th>\n",
       "      <th>hotel</th>\n",
       "      <th>cidade</th>\n",
       "      <th>preço</th>\n",
       "      <th>checkin</th>\n",
       "      <th>checkout</th>\n",
       "      <th>dist_centro</th>\n",
       "      <th>avaliacao</th>\n",
       "      <th>qtnd_avaliacoes</th>\n",
       "      <th>data_extracao</th>\n",
       "      <th>mes_checkin</th>\n",
       "      <th>log_price</th>\n",
       "      <th>price_category</th>\n",
       "      <th>season</th>\n",
       "    </tr>\n",
       "  </thead>\n",
       "  <tbody>\n",
       "    <tr>\n",
       "      <th>0</th>\n",
       "      <td>Villa d'Oro Hotel</td>\n",
       "      <td>Recife</td>\n",
       "      <td>1389</td>\n",
       "      <td>2025-01-01</td>\n",
       "      <td>2025-01-08</td>\n",
       "      <td>1.4</td>\n",
       "      <td>8.600000</td>\n",
       "      <td>1620.000000</td>\n",
       "      <td>2024-6-6</td>\n",
       "      <td>1</td>\n",
       "      <td>3.142702</td>\n",
       "      <td>Baixo</td>\n",
       "      <td>Verão</td>\n",
       "    </tr>\n",
       "    <tr>\n",
       "      <th>9</th>\n",
       "      <td>Hotel Pousada Casa Grande</td>\n",
       "      <td>Recife</td>\n",
       "      <td>1190</td>\n",
       "      <td>2025-01-01</td>\n",
       "      <td>2025-01-08</td>\n",
       "      <td>11.5</td>\n",
       "      <td>8.000000</td>\n",
       "      <td>2.000000</td>\n",
       "      <td>2024-6-6</td>\n",
       "      <td>1</td>\n",
       "      <td>3.075547</td>\n",
       "      <td>Baixo</td>\n",
       "      <td>Verão</td>\n",
       "    </tr>\n",
       "    <tr>\n",
       "      <th>25</th>\n",
       "      <td>ibis budget Recife Jaboatão</td>\n",
       "      <td>Recife</td>\n",
       "      <td>1265</td>\n",
       "      <td>2025-01-01</td>\n",
       "      <td>2025-01-08</td>\n",
       "      <td>12.7</td>\n",
       "      <td>8.400000</td>\n",
       "      <td>2077.000000</td>\n",
       "      <td>2024-6-6</td>\n",
       "      <td>1</td>\n",
       "      <td>3.102091</td>\n",
       "      <td>Baixo</td>\n",
       "      <td>Verão</td>\n",
       "    </tr>\n",
       "    <tr>\n",
       "      <th>34</th>\n",
       "      <td>Pousada Nordestina</td>\n",
       "      <td>Recife</td>\n",
       "      <td>1260</td>\n",
       "      <td>2025-01-01</td>\n",
       "      <td>2025-01-08</td>\n",
       "      <td>14.1</td>\n",
       "      <td>7.300000</td>\n",
       "      <td>253.000000</td>\n",
       "      <td>2024-6-6</td>\n",
       "      <td>1</td>\n",
       "      <td>3.100371</td>\n",
       "      <td>Baixo</td>\n",
       "      <td>Verão</td>\n",
       "    </tr>\n",
       "    <tr>\n",
       "      <th>46</th>\n",
       "      <td>Espaço inteiro a beira mar</td>\n",
       "      <td>Recife</td>\n",
       "      <td>1428</td>\n",
       "      <td>2025-01-01</td>\n",
       "      <td>2025-01-08</td>\n",
       "      <td>7.0</td>\n",
       "      <td>10.000000</td>\n",
       "      <td>2.000000</td>\n",
       "      <td>2024-6-6</td>\n",
       "      <td>1</td>\n",
       "      <td>3.154728</td>\n",
       "      <td>Baixo</td>\n",
       "      <td>Verão</td>\n",
       "    </tr>\n",
       "    <tr>\n",
       "      <th>...</th>\n",
       "      <td>...</td>\n",
       "      <td>...</td>\n",
       "      <td>...</td>\n",
       "      <td>...</td>\n",
       "      <td>...</td>\n",
       "      <td>...</td>\n",
       "      <td>...</td>\n",
       "      <td>...</td>\n",
       "      <td>...</td>\n",
       "      <td>...</td>\n",
       "      <td>...</td>\n",
       "      <td>...</td>\n",
       "      <td>...</td>\n",
       "    </tr>\n",
       "    <tr>\n",
       "      <th>14529</th>\n",
       "      <td>Pousada Shalom</td>\n",
       "      <td>Recife</td>\n",
       "      <td>1190</td>\n",
       "      <td>2024-12-22</td>\n",
       "      <td>2024-12-29</td>\n",
       "      <td>4.8</td>\n",
       "      <td>7.201257</td>\n",
       "      <td>341.754484</td>\n",
       "      <td>2024-6-6</td>\n",
       "      <td>12</td>\n",
       "      <td>3.075547</td>\n",
       "      <td>Baixo</td>\n",
       "      <td>Verão</td>\n",
       "    </tr>\n",
       "    <tr>\n",
       "      <th>14530</th>\n",
       "      <td>Aurora Recife Hostel</td>\n",
       "      <td>Recife</td>\n",
       "      <td>1176</td>\n",
       "      <td>2024-12-22</td>\n",
       "      <td>2024-12-29</td>\n",
       "      <td>1.1</td>\n",
       "      <td>8.965950</td>\n",
       "      <td>574.734345</td>\n",
       "      <td>2024-6-6</td>\n",
       "      <td>12</td>\n",
       "      <td>3.070407</td>\n",
       "      <td>Baixo</td>\n",
       "      <td>Verão</td>\n",
       "    </tr>\n",
       "    <tr>\n",
       "      <th>14545</th>\n",
       "      <td>Quarto Litoral Sul</td>\n",
       "      <td>Recife</td>\n",
       "      <td>1418</td>\n",
       "      <td>2024-12-22</td>\n",
       "      <td>2024-12-29</td>\n",
       "      <td>4.5</td>\n",
       "      <td>1.000000</td>\n",
       "      <td>1.000000</td>\n",
       "      <td>2024-6-6</td>\n",
       "      <td>12</td>\n",
       "      <td>3.151676</td>\n",
       "      <td>Baixo</td>\n",
       "      <td>Verão</td>\n",
       "    </tr>\n",
       "    <tr>\n",
       "      <th>14571</th>\n",
       "      <td>Bugan Paiva flatpaivahome</td>\n",
       "      <td>Recife</td>\n",
       "      <td>1386</td>\n",
       "      <td>2024-12-22</td>\n",
       "      <td>2024-12-29</td>\n",
       "      <td>19.6</td>\n",
       "      <td>8.000000</td>\n",
       "      <td>5.000000</td>\n",
       "      <td>2024-6-6</td>\n",
       "      <td>12</td>\n",
       "      <td>3.141763</td>\n",
       "      <td>Baixo</td>\n",
       "      <td>Verão</td>\n",
       "    </tr>\n",
       "    <tr>\n",
       "      <th>14579</th>\n",
       "      <td>Pousada Joãozinho Caminhador</td>\n",
       "      <td>Recife</td>\n",
       "      <td>1260</td>\n",
       "      <td>2024-12-22</td>\n",
       "      <td>2024-12-29</td>\n",
       "      <td>11.6</td>\n",
       "      <td>6.000000</td>\n",
       "      <td>290.000000</td>\n",
       "      <td>2024-6-6</td>\n",
       "      <td>12</td>\n",
       "      <td>3.100371</td>\n",
       "      <td>Baixo</td>\n",
       "      <td>Verão</td>\n",
       "    </tr>\n",
       "  </tbody>\n",
       "</table>\n",
       "<p>2877 rows × 13 columns</p>\n",
       "</div>"
      ],
      "text/plain": [
       "                              hotel  cidade  preço    checkin   checkout  \\\n",
       "0                 Villa d'Oro Hotel  Recife   1389 2025-01-01 2025-01-08   \n",
       "9         Hotel Pousada Casa Grande  Recife   1190 2025-01-01 2025-01-08   \n",
       "25      ibis budget Recife Jaboatão  Recife   1265 2025-01-01 2025-01-08   \n",
       "34               Pousada Nordestina  Recife   1260 2025-01-01 2025-01-08   \n",
       "46       Espaço inteiro a beira mar  Recife   1428 2025-01-01 2025-01-08   \n",
       "...                             ...     ...    ...        ...        ...   \n",
       "14529                Pousada Shalom  Recife   1190 2024-12-22 2024-12-29   \n",
       "14530          Aurora Recife Hostel  Recife   1176 2024-12-22 2024-12-29   \n",
       "14545            Quarto Litoral Sul  Recife   1418 2024-12-22 2024-12-29   \n",
       "14571     Bugan Paiva flatpaivahome  Recife   1386 2024-12-22 2024-12-29   \n",
       "14579  Pousada Joãozinho Caminhador  Recife   1260 2024-12-22 2024-12-29   \n",
       "\n",
       "       dist_centro  avaliacao  qtnd_avaliacoes data_extracao  mes_checkin  \\\n",
       "0              1.4   8.600000      1620.000000      2024-6-6            1   \n",
       "9             11.5   8.000000         2.000000      2024-6-6            1   \n",
       "25            12.7   8.400000      2077.000000      2024-6-6            1   \n",
       "34            14.1   7.300000       253.000000      2024-6-6            1   \n",
       "46             7.0  10.000000         2.000000      2024-6-6            1   \n",
       "...            ...        ...              ...           ...          ...   \n",
       "14529          4.8   7.201257       341.754484      2024-6-6           12   \n",
       "14530          1.1   8.965950       574.734345      2024-6-6           12   \n",
       "14545          4.5   1.000000         1.000000      2024-6-6           12   \n",
       "14571         19.6   8.000000         5.000000      2024-6-6           12   \n",
       "14579         11.6   6.000000       290.000000      2024-6-6           12   \n",
       "\n",
       "       log_price price_category season  \n",
       "0       3.142702          Baixo  Verão  \n",
       "9       3.075547          Baixo  Verão  \n",
       "25      3.102091          Baixo  Verão  \n",
       "34      3.100371          Baixo  Verão  \n",
       "46      3.154728          Baixo  Verão  \n",
       "...          ...            ...    ...  \n",
       "14529   3.075547          Baixo  Verão  \n",
       "14530   3.070407          Baixo  Verão  \n",
       "14545   3.151676          Baixo  Verão  \n",
       "14571   3.141763          Baixo  Verão  \n",
       "14579   3.100371          Baixo  Verão  \n",
       "\n",
       "[2877 rows x 13 columns]"
      ]
     },
     "execution_count": 60,
     "metadata": {},
     "output_type": "execute_result"
    }
   ],
   "source": [
    "# printando as hospedagens com preço baixo\n",
    "hospedagens_clean[hospedagens_clean['price_category'] == 'Baixo']"
   ]
  },
  {
   "cell_type": "markdown",
   "metadata": {},
   "source": [
    "\n",
    "## Normalização <a id=\"#normalização\"></a>\n",
    "\n",
    "Normalizando o preço entre 0 e 1"
   ]
  },
  {
   "cell_type": "code",
   "execution_count": 61,
   "metadata": {},
   "outputs": [
    {
     "name": "stdout",
     "output_type": "stream",
     "text": [
      "411.0754188710388\n"
     ]
    }
   ],
   "source": [
    "#preço está dominando o cálculo\n",
    "dist = np.linalg.norm(hospedagens_clean[['preço', 'dist_centro', 'avaliacao', 'qtnd_avaliacoes']].values[1]-hospedagens_clean[['preço', 'dist_centro', 'avaliacao', 'qtnd_avaliacoes']].values[2])\n",
    "print(dist)"
   ]
  },
  {
   "cell_type": "code",
   "execution_count": 62,
   "metadata": {},
   "outputs": [
    {
     "data": {
      "text/html": [
       "<div>\n",
       "<style scoped>\n",
       "    .dataframe tbody tr th:only-of-type {\n",
       "        vertical-align: middle;\n",
       "    }\n",
       "\n",
       "    .dataframe tbody tr th {\n",
       "        vertical-align: top;\n",
       "    }\n",
       "\n",
       "    .dataframe thead th {\n",
       "        text-align: right;\n",
       "    }\n",
       "</style>\n",
       "<table border=\"1\" class=\"dataframe\">\n",
       "  <thead>\n",
       "    <tr style=\"text-align: right;\">\n",
       "      <th></th>\n",
       "      <th>preço</th>\n",
       "      <th>checkin</th>\n",
       "      <th>checkout</th>\n",
       "      <th>dist_centro</th>\n",
       "      <th>avaliacao</th>\n",
       "      <th>qtnd_avaliacoes</th>\n",
       "      <th>mes_checkin</th>\n",
       "      <th>log_price</th>\n",
       "      <th>norm_price</th>\n",
       "    </tr>\n",
       "  </thead>\n",
       "  <tbody>\n",
       "    <tr>\n",
       "      <th>count</th>\n",
       "      <td>14599.000000</td>\n",
       "      <td>14599</td>\n",
       "      <td>14599</td>\n",
       "      <td>14599.000000</td>\n",
       "      <td>14599.000000</td>\n",
       "      <td>14599.000000</td>\n",
       "      <td>14599.000000</td>\n",
       "      <td>14599.000000</td>\n",
       "      <td>14599.000000</td>\n",
       "    </tr>\n",
       "    <tr>\n",
       "      <th>mean</th>\n",
       "      <td>1873.288376</td>\n",
       "      <td>2024-11-16 02:45:30.762380800</td>\n",
       "      <td>2024-11-23 02:45:30.762381056</td>\n",
       "      <td>8.236718</td>\n",
       "      <td>8.268823</td>\n",
       "      <td>421.855752</td>\n",
       "      <td>7.390027</td>\n",
       "      <td>3.215519</td>\n",
       "      <td>0.126083</td>\n",
       "    </tr>\n",
       "    <tr>\n",
       "      <th>min</th>\n",
       "      <td>268.000000</td>\n",
       "      <td>2024-07-01 00:00:00</td>\n",
       "      <td>2024-07-08 00:00:00</td>\n",
       "      <td>0.200000</td>\n",
       "      <td>1.000000</td>\n",
       "      <td>1.000000</td>\n",
       "      <td>1.000000</td>\n",
       "      <td>2.428135</td>\n",
       "      <td>0.000000</td>\n",
       "    </tr>\n",
       "    <tr>\n",
       "      <th>25%</th>\n",
       "      <td>1190.000000</td>\n",
       "      <td>2024-08-22 00:00:00</td>\n",
       "      <td>2024-08-29 00:00:00</td>\n",
       "      <td>4.400000</td>\n",
       "      <td>7.700000</td>\n",
       "      <td>3.000000</td>\n",
       "      <td>5.000000</td>\n",
       "      <td>3.075547</td>\n",
       "      <td>0.072416</td>\n",
       "    </tr>\n",
       "    <tr>\n",
       "      <th>50%</th>\n",
       "      <td>1638.000000</td>\n",
       "      <td>2024-11-01 00:00:00</td>\n",
       "      <td>2024-11-08 00:00:00</td>\n",
       "      <td>6.800000</td>\n",
       "      <td>8.700000</td>\n",
       "      <td>13.000000</td>\n",
       "      <td>8.000000</td>\n",
       "      <td>3.214314</td>\n",
       "      <td>0.107603</td>\n",
       "    </tr>\n",
       "    <tr>\n",
       "      <th>75%</th>\n",
       "      <td>2165.000000</td>\n",
       "      <td>2025-01-22 00:00:00</td>\n",
       "      <td>2025-01-29 00:00:00</td>\n",
       "      <td>9.500000</td>\n",
       "      <td>9.500000</td>\n",
       "      <td>82.000000</td>\n",
       "      <td>10.000000</td>\n",
       "      <td>3.335458</td>\n",
       "      <td>0.148995</td>\n",
       "    </tr>\n",
       "    <tr>\n",
       "      <th>max</th>\n",
       "      <td>13000.000000</td>\n",
       "      <td>2025-06-22 00:00:00</td>\n",
       "      <td>2025-06-29 00:00:00</td>\n",
       "      <td>89.400000</td>\n",
       "      <td>10.000001</td>\n",
       "      <td>8861.000000</td>\n",
       "      <td>12.000000</td>\n",
       "      <td>4.113943</td>\n",
       "      <td>1.000000</td>\n",
       "    </tr>\n",
       "    <tr>\n",
       "      <th>std</th>\n",
       "      <td>1082.378529</td>\n",
       "      <td>NaN</td>\n",
       "      <td>NaN</td>\n",
       "      <td>7.009025</td>\n",
       "      <td>1.885859</td>\n",
       "      <td>1119.919483</td>\n",
       "      <td>3.257766</td>\n",
       "      <td>0.218999</td>\n",
       "      <td>0.085012</td>\n",
       "    </tr>\n",
       "  </tbody>\n",
       "</table>\n",
       "</div>"
      ],
      "text/plain": [
       "              preço                        checkin  \\\n",
       "count  14599.000000                          14599   \n",
       "mean    1873.288376  2024-11-16 02:45:30.762380800   \n",
       "min      268.000000            2024-07-01 00:00:00   \n",
       "25%     1190.000000            2024-08-22 00:00:00   \n",
       "50%     1638.000000            2024-11-01 00:00:00   \n",
       "75%     2165.000000            2025-01-22 00:00:00   \n",
       "max    13000.000000            2025-06-22 00:00:00   \n",
       "std     1082.378529                            NaN   \n",
       "\n",
       "                            checkout   dist_centro     avaliacao  \\\n",
       "count                          14599  14599.000000  14599.000000   \n",
       "mean   2024-11-23 02:45:30.762381056      8.236718      8.268823   \n",
       "min              2024-07-08 00:00:00      0.200000      1.000000   \n",
       "25%              2024-08-29 00:00:00      4.400000      7.700000   \n",
       "50%              2024-11-08 00:00:00      6.800000      8.700000   \n",
       "75%              2025-01-29 00:00:00      9.500000      9.500000   \n",
       "max              2025-06-29 00:00:00     89.400000     10.000001   \n",
       "std                              NaN      7.009025      1.885859   \n",
       "\n",
       "       qtnd_avaliacoes   mes_checkin     log_price    norm_price  \n",
       "count     14599.000000  14599.000000  14599.000000  14599.000000  \n",
       "mean        421.855752      7.390027      3.215519      0.126083  \n",
       "min           1.000000      1.000000      2.428135      0.000000  \n",
       "25%           3.000000      5.000000      3.075547      0.072416  \n",
       "50%          13.000000      8.000000      3.214314      0.107603  \n",
       "75%          82.000000     10.000000      3.335458      0.148995  \n",
       "max        8861.000000     12.000000      4.113943      1.000000  \n",
       "std        1119.919483      3.257766      0.218999      0.085012  "
      ]
     },
     "execution_count": 62,
     "metadata": {},
     "output_type": "execute_result"
    }
   ],
   "source": [
    "# normalizando o preço\n",
    "scaler = MinMaxScaler()\n",
    "\n",
    "hospedagens_clean[\"norm_price\"] = scaler.fit_transform(hospedagens_clean[['preço']])\n",
    "\n",
    "hospedagens_clean.describe()"
   ]
  },
  {
   "cell_type": "markdown",
   "metadata": {},
   "source": [
    "## Teste de hipótese\n",
    "\n",
    "Existe uma variação significativa nos preços que possa indicar uma alta e baixa temporada no local?\n"
   ]
  },
  {
   "cell_type": "markdown",
   "metadata": {},
   "source": [
    "Para isso, utilizamos o teste de hipótese 'Kruskal-Wallis' pois:\n",
    "\n",
    "- Assume variáveis não paramétricas: Nossa distribuição não é simétrica.\n",
    "- Compara 3 ou mais grupos: Por estar separado por meses, precisávamos de um teste que pudesse ser aplicado para todos os 12 grupos\n",
    "- Compara grupos distintos: Os dados de cada mês são diferentes uns dos outros"
   ]
  },
  {
   "cell_type": "markdown",
   "metadata": {},
   "source": [
    "Hipótese Nula (H0): Os preços dos hotéis não variam significativamente entre os meses.\n",
    "\n",
    "Hipótese Alternativa (HA): Os preços dos hotéis variam significativamente entre os meses"
   ]
  },
  {
   "cell_type": "markdown",
   "metadata": {},
   "source": [
    "Primeiro  vamos fazer um teste de hipótese para entender se os dados são realmente assimétricos"
   ]
  },
  {
   "cell_type": "code",
   "execution_count": 63,
   "metadata": {},
   "outputs": [
    {
     "name": "stdout",
     "output_type": "stream",
     "text": [
      "Estatística do teste de Shapiro-Wilk: 0.8134712371890271, p-valor: 1.0891939474070623e-83\n",
      "A amostra de preço não parece vir de uma distribuição normal (rejeita H0)\n"
     ]
    },
    {
     "name": "stderr",
     "output_type": "stream",
     "text": [
      "c:\\Python312\\Lib\\site-packages\\scipy\\stats\\_axis_nan_policy.py:531: UserWarning: scipy.stats.shapiro: For N > 5000, computed p-value may not be accurate. Current N is 14599.\n",
      "  res = hypotest_fun_out(*samples, **kwds)\n"
     ]
    }
   ],
   "source": [
    "stat, p = shapiro(hospedagens_clean[['preço']])\n",
    "print(f'Estatística do teste de Shapiro-Wilk: {stat}, p-valor: {p}')\n",
    "if p > 0.05:\n",
    "    print(f'A amostra de preço parece vir de uma distribuição normal (não rejeita H0)')\n",
    "else:\n",
    "    print(f'A amostra de preço não parece vir de uma distribuição normal (rejeita H0)')"
   ]
  },
  {
   "cell_type": "markdown",
   "metadata": {},
   "source": [
    "Sabendo que temos dados assimétricos (o que explica os gráficos que fogem de uma normal) vamos realizar o teste kruskal-wallis para comparar os preços entre os meses."
   ]
  },
  {
   "cell_type": "code",
   "execution_count": 64,
   "metadata": {},
   "outputs": [
    {
     "name": "stdout",
     "output_type": "stream",
     "text": [
      "Kruskal-Wallis H-Statistic: 285.90615959231144, p-value: 8.120275671582972e-55\n",
      "Rejeitamos a hipótese nula: Existe uma variação significativa nos preços entre os meses.\n"
     ]
    }
   ],
   "source": [
    "\n",
    "# Filtrar dados por mês\n",
    "grouped = hospedagens_clean.groupby('mes_checkin')['preço'].apply(list)\n",
    "\n",
    "# Realizar Kruskal-Wallis\n",
    "h_statistic, p_value = kruskal(*grouped)\n",
    "\n",
    "print(f\"Kruskal-Wallis H-Statistic: {h_statistic}, p-value: {p_value}\")\n",
    "\n",
    "# Verificar resultado\n",
    "if p_value < 0.01:\n",
    "    print(\"Rejeitamos a hipótese nula: Existe uma variação significativa nos preços entre os meses.\")\n",
    "else:\n",
    "    print(\"Falhamos em rejeitar a hipótese nula: Não existe uma variação significativa nos preços entre os meses.\")\n"
   ]
  },
  {
   "cell_type": "code",
   "execution_count": 65,
   "metadata": {},
   "outputs": [
    {
     "data": {
      "image/png": "[encoded data removed]",
      "text/plain": [
       "<Figure size 1000x600 with 12 Axes>"
      ]
     },
     "metadata": {},
     "output_type": "display_data"
    }
   ],
   "source": [
    "# Criar uma figura para os boxplots\n",
    "plt.figure(figsize=(10, 6))\n",
    "\n",
    "# Iterar sobre os meses e criar um boxplot para cada mês\n",
    "for month in range(1, 13):\n",
    "    data_month = hospedagens_clean[hospedagens_clean['mes_checkin'] == month]\n",
    "    plt.subplot(3, 4, month)\n",
    "    plt.boxplot(data_month['preço'], vert=False)\n",
    "    plt.title(f'Mês {month}')\n",
    "    plt.xlabel('Preço')\n",
    "    plt.grid(True)\n",
    "\n",
    "plt.tight_layout()\n",
    "plt.show()"
   ]
  },
  {
   "cell_type": "markdown",
   "metadata": {},
   "source": [
    "Com isso, percebemos, que sim, os dados possuem uma certa variação de preço entre os meses, indicando que possivelmente há a presença de períodos de alta ou baixa temporada."
   ]
  },
  {
   "cell_type": "markdown",
   "metadata": {},
   "source": [
    "Vamos agora comparar dois meses para entender se há variação entre eles ou não"
   ]
  },
  {
   "cell_type": "markdown",
   "metadata": {},
   "source": [
    "Escolhemos os meses de março (possui o carnaval e assim teoricamente a demanadae preço aumentariam) e julho (férias de inverno e menos procura por praias pela cidade estar com um clima predominantemente nublado)"
   ]
  },
  {
   "cell_type": "markdown",
   "metadata": {},
   "source": [
    "Como são dois grupos distintos, vamos usar um teste de hipótese de par. "
   ]
  },
  {
   "cell_type": "markdown",
   "metadata": {},
   "source": [
    "Hipótese nula (H0): Não há diferença significativa nos preços de hospedagem entre março e junho.\n",
    "\n",
    "Hipótese alternativa(H1): Há uma diferença significativa nos preços de hospedagem entre março e junho."
   ]
  },
  {
   "cell_type": "code",
   "execution_count": 66,
   "metadata": {},
   "outputs": [
    {
     "name": "stdout",
     "output_type": "stream",
     "text": [
      "Estatística do teste U de Mann-Whitney: 311092.0\n",
      "Valor-p: 3.1250972292004095e-11\n",
      "Rejeição da hipótese nula (H0): Há uma diferença significativa nos preços de hospedagem entre março e junho.\n"
     ]
    }
   ],
   "source": [
    "from scipy.stats import mannwhitneyu\n",
    "\n",
    "# Suponha que você queira comparar os preços de janeiro (mês 1) com os preços de fevereiro (mês 2)\n",
    "preços_março = hospedagens_clean[hospedagens_clean['mes_checkin'] == 3]['preço']\n",
    "preços_junho = hospedagens_clean[hospedagens_clean['mes_checkin'] == 6]['preço']\n",
    "\n",
    "# Realize o teste de Mann-Whitney\n",
    "statistic, p_value = mannwhitneyu(preços_março, preços_junho)\n",
    "\n",
    "print(\"Estatística do teste U de Mann-Whitney:\", statistic)\n",
    "print(\"Valor-p:\", p_value)\n",
    "# Exiba os resultados\n",
    "if p_value > 0.01:\n",
    "    print(\"Falha em rejeitar a hipótese nula (H0): Não há diferença significativa nos preços de hospedagem entre março e junho.\")\n",
    "else:\n",
    "    print(\"Rejeição da hipótese nula (H0): Há uma diferença significativa nos preços de hospedagem entre março e junho.\")"
   ]
  },
  {
   "cell_type": "markdown",
   "metadata": {},
   "source": [
    "O teste indica que há uma diferença estatisticamente significativa nos preços de hospedagem entre esses dois meses. Portanto, podemos concluir que os preços de hospedagem em março são significativamente diferentes dos preços em junho, possivelmente devido a presença do carnaval no mês de março, gerando mais demanda."
   ]
  },
  {
   "cell_type": "code",
   "execution_count": 67,
   "metadata": {},
   "outputs": [
    {
     "data": {
      "image/png": "[encoded data removed]",
      "text/plain": [
       "<Figure size 1400x600 with 2 Axes>"
      ]
     },
     "metadata": {},
     "output_type": "display_data"
    }
   ],
   "source": [
    "import seaborn as sns\n",
    "# Filtrar os dados para os meses de março (mês 3) e junho (mês 6)\n",
    "dados_março = hospedagens_clean[hospedagens_clean['mes_checkin'] == 3]\n",
    "dados_junho = hospedagens_clean[hospedagens_clean['mes_checkin'] == 6]\n",
    "\n",
    "# Criar a figura e os eixos para os dois boxplots\n",
    "fig, axes = plt.subplots(1, 2, figsize=(14, 6))\n",
    "\n",
    "# Boxplot para março\n",
    "sns.boxplot(y='preço', data=dados_março, ax=axes[0])\n",
    "axes[0].set_title('Preços de Hospedagem - Março')\n",
    "axes[0].set_xlabel('Março')\n",
    "axes[0].set_ylabel('Preço')\n",
    "\n",
    "# Boxplot para junho\n",
    "sns.boxplot(y='preço', data=dados_junho, ax=axes[1])\n",
    "axes[1].set_title('Preços de Hospedagem - Junho')\n",
    "axes[1].set_xlabel('Junho')\n",
    "axes[1].set_ylabel('Preço')\n",
    "\n",
    "# Ajustar layout\n",
    "plt.tight_layout()\n",
    "\n",
    "# Exibir o gráfico\n",
    "plt.show()\n"
   ]
  },
  {
   "cell_type": "markdown",
   "metadata": {},
   "source": [
    "Apesar de primeira olhada o mês de junho parecer maior, os valores do eixo y demonstram maiores valores e uma mediana maior no mês de março, indicando que esse mês é o mais procurado, provavelmente por causa do carnaval."
   ]
  },
  {
   "cell_type": "code",
   "execution_count": 68,
   "metadata": {},
   "outputs": [],
   "source": [
    "hospedagens_clean.to_csv('processed-dataset.csv')"
   ]
  }
 ],
 "metadata": {
  "kernelspec": {
   "display_name": "Python 3",
   "language": "python",
   "name": "python3"
  },
  "language_info": {
   "codemirror_mode": {
    "name": "ipython",
    "version": 3
   },
   "file_extension": ".py",
   "mimetype": "text/x-python",
   "name": "python",
   "nbconvert_exporter": "python",
   "pygments_lexer": "ipython3",
   "version": "3.11.5"
  }
 },
 "nbformat": 4,
 "nbformat_minor": 2
}
