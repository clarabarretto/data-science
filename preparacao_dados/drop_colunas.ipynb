{
 "cells": [
  {
   "cell_type": "code",
   "execution_count": 1,
   "metadata": {},
   "outputs": [],
   "source": [
    "import pandas as pd\n",
    "import numpy as np"
   ]
  },
  {
   "cell_type": "code",
   "execution_count": 2,
   "metadata": {},
   "outputs": [],
   "source": [
    "acidentes = pd.read_csv(\"equipamentos_acidentes.csv\")"
   ]
  },
  {
   "cell_type": "code",
   "execution_count": 3,
   "metadata": {},
   "outputs": [
    {
     "data": {
      "text/plain": [
       "(1062, 51)"
      ]
     },
     "execution_count": 3,
     "metadata": {},
     "output_type": "execute_result"
    }
   ],
   "source": [
    "acidentes.shape"
   ]
  },
  {
   "cell_type": "code",
   "execution_count": 4,
   "metadata": {},
   "outputs": [
    {
     "data": {
      "text/plain": [
       "Index(['_id', 'tipo_equipamento', 'registro_inmetro',\n",
       "       'numero_serie_fabricante', 'identificacao_equipamento',\n",
       "       'local_instalacao', 'sentido_fiscalizacao', 'latitude', 'longitude',\n",
       "       'faixas_fiscalizadas', 'velocidade_fiscalizada', 'vmd', 'periodo_vmd',\n",
       "       'data', 'hora', 'natureza_acidente', 'situacao', 'bairro', 'endereco',\n",
       "       'numero', 'detalhe_endereco_acidente', 'complemento',\n",
       "       'bairro_cruzamento', 'num_semaforo', 'sentido_via', 'tipo', 'descricao',\n",
       "       'auto', 'moto', 'ciclom', 'ciclista', 'pedestre', 'onibus', 'caminhao',\n",
       "       'viatura', 'outros', 'vitimas', 'vitimasfatais', 'acidente_verificado',\n",
       "       'tempo_clima', 'situacao_semaforo', 'sinalizacao', 'condicao_via',\n",
       "       'conservacao_via', 'ponto_controle', 'situacao_placa',\n",
       "       'velocidade_max_via', 'mao_direcao', 'divisao_via1', 'divisao_via2',\n",
       "       'divisao_via3'],\n",
       "      dtype='object')"
      ]
     },
     "execution_count": 4,
     "metadata": {},
     "output_type": "execute_result"
    }
   ],
   "source": [
    "acidentes.columns"
   ]
  },
  {
   "cell_type": "code",
   "execution_count": 7,
   "metadata": {},
   "outputs": [],
   "source": [
    "acidentes = acidentes.drop('tipo_equipamento', axis=1)\n",
    "acidentes = acidentes.drop('registro_inmetro', axis=1)\n",
    "acidentes = acidentes.drop('numero_serie_fabricante', axis=1)\n",
    "acidentes = acidentes.drop('sentido_fiscalizacao', axis=1)\n",
    "acidentes = acidentes.drop('faixas_fiscalizadas', axis=1)\n",
    "acidentes = acidentes.drop('periodo_vmd', axis=1)\n",
    "acidentes = acidentes.drop('situacao', axis=1)\n",
    "acidentes = acidentes.drop('numero', axis=1)\n",
    "acidentes = acidentes.drop('complemento', axis=1)\n",
    "acidentes = acidentes.drop('bairro_cruzamento', axis=1)\n",
    "acidentes = acidentes.drop('num_semaforo', axis=1)\n",
    "acidentes = acidentes.drop('sentido_via', axis=1)\n",
    "acidentes = acidentes.drop('viatura', axis=1)\n",
    "acidentes = acidentes.drop('mao_direcao', axis=1)\n",
    "acidentes = acidentes.drop('divisao_via1', axis=1)\n",
    "acidentes = acidentes.drop('divisao_via2', axis=1)\n",
    "acidentes = acidentes.drop('divisao_via3', axis=1)"
   ]
  },
  {
   "cell_type": "code",
   "execution_count": 8,
   "metadata": {},
   "outputs": [
    {
     "data": {
      "text/plain": [
       "(1062, 34)"
      ]
     },
     "execution_count": 8,
     "metadata": {},
     "output_type": "execute_result"
    }
   ],
   "source": [
    "acidentes.shape"
   ]
  },
  {
   "cell_type": "code",
   "execution_count": 11,
   "metadata": {},
   "outputs": [
    {
     "name": "stdout",
     "output_type": "stream",
     "text": [
      "_id                             0\n",
      "identificacao_equipamento       0\n",
      "local_instalacao                0\n",
      "latitude                        0\n",
      "longitude                       0\n",
      "velocidade_fiscalizada          0\n",
      "vmd                             0\n",
      "data                            0\n",
      "hora                            0\n",
      "natureza_acidente               0\n",
      "bairro                          0\n",
      "endereco                        0\n",
      "detalhe_endereco_acidente     687\n",
      "tipo                            0\n",
      "descricao                      17\n",
      "auto                          139\n",
      "moto                          647\n",
      "ciclom                       1059\n",
      "ciclista                     1006\n",
      "pedestre                     1015\n",
      "onibus                        936\n",
      "caminhao                     1008\n",
      "outros                       1046\n",
      "vitimas                         3\n",
      "vitimasfatais                1055\n",
      "acidente_verificado           212\n",
      "tempo_clima                   181\n",
      "situacao_semaforo             191\n",
      "sinalizacao                   194\n",
      "condicao_via                  182\n",
      "conservacao_via               201\n",
      "ponto_controle                258\n",
      "situacao_placa                264\n",
      "velocidade_max_via            705\n",
      "dtype: int64\n"
     ]
    }
   ],
   "source": [
    "print(acidentes.isnull().sum())"
   ]
  }
 ],
 "metadata": {
  "kernelspec": {
   "display_name": "Python 3",
   "language": "python",
   "name": "python3"
  },
  "language_info": {
   "codemirror_mode": {
    "name": "ipython",
    "version": 3
   },
   "file_extension": ".py",
   "mimetype": "text/x-python",
   "name": "python",
   "nbconvert_exporter": "python",
   "pygments_lexer": "ipython3",
   "version": "3.12.0"
  }
 },
 "nbformat": 4,
 "nbformat_minor": 2
}
