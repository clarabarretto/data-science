{
 "cells": [
  {
   "cell_type": "code",
   "execution_count": 2,
   "metadata": {},
   "outputs": [],
   "source": [
    "import pandas as pd\n",
    "import numpy as np"
   ]
  },
  {
   "cell_type": "code",
   "execution_count": 3,
   "metadata": {},
   "outputs": [],
   "source": [
    "\n",
    "hospedagens = pd.read_csv('resultado.csv', decimal=\".\")"
   ]
  },
  {
   "cell_type": "code",
   "execution_count": 56,
   "metadata": {},
   "outputs": [
    {
     "data": {
      "text/html": [
       "<div>\n",
       "<style scoped>\n",
       "    .dataframe tbody tr th:only-of-type {\n",
       "        vertical-align: middle;\n",
       "    }\n",
       "\n",
       "    .dataframe tbody tr th {\n",
       "        vertical-align: top;\n",
       "    }\n",
       "\n",
       "    .dataframe thead th {\n",
       "        text-align: right;\n",
       "    }\n",
       "</style>\n",
       "<table border=\"1\" class=\"dataframe\">\n",
       "  <thead>\n",
       "    <tr style=\"text-align: right;\">\n",
       "      <th></th>\n",
       "      <th>Hotel</th>\n",
       "      <th>Cidade</th>\n",
       "      <th>Preço</th>\n",
       "      <th>Checkin</th>\n",
       "      <th>Checkout</th>\n",
       "      <th>Dist_centro</th>\n",
       "      <th>Dist_praia</th>\n",
       "      <th>Avaliacao</th>\n",
       "      <th>Data_extracao</th>\n",
       "    </tr>\n",
       "  </thead>\n",
       "  <tbody>\n",
       "    <tr>\n",
       "      <th>0</th>\n",
       "      <td>Veja o mar no silêncio do centro! Hospede-se n...</td>\n",
       "      <td>Recife</td>\n",
       "      <td>428</td>\n",
       "      <td>2025-01-01</td>\n",
       "      <td>2025-01-08</td>\n",
       "      <td>0.2</td>\n",
       "      <td>2.5</td>\n",
       "      <td>8.3</td>\n",
       "      <td>2024-5-16</td>\n",
       "    </tr>\n",
       "    <tr>\n",
       "      <th>1</th>\n",
       "      <td>Hotel Dan Inn Mar Piedade - Grande Recife</td>\n",
       "      <td>Recife</td>\n",
       "      <td>2101</td>\n",
       "      <td>2025-01-01</td>\n",
       "      <td>2025-01-08</td>\n",
       "      <td>13.7</td>\n",
       "      <td>0.0</td>\n",
       "      <td>7.8</td>\n",
       "      <td>2024-5-16</td>\n",
       "    </tr>\n",
       "    <tr>\n",
       "      <th>2</th>\n",
       "      <td>Villa d'Oro Hotel</td>\n",
       "      <td>Recife</td>\n",
       "      <td>2136</td>\n",
       "      <td>2025-01-01</td>\n",
       "      <td>2025-01-08</td>\n",
       "      <td>1.4</td>\n",
       "      <td>2.9</td>\n",
       "      <td>8.6</td>\n",
       "      <td>2024-5-16</td>\n",
       "    </tr>\n",
       "    <tr>\n",
       "      <th>3</th>\n",
       "      <td>Lindo APT Cinza à 50m do mar - Praia de Boa Vi...</td>\n",
       "      <td>Recife</td>\n",
       "      <td>1017</td>\n",
       "      <td>2025-01-01</td>\n",
       "      <td>2025-01-08</td>\n",
       "      <td>5.8</td>\n",
       "      <td>NaN</td>\n",
       "      <td>10.0</td>\n",
       "      <td>2024-5-16</td>\n",
       "    </tr>\n",
       "    <tr>\n",
       "      <th>4</th>\n",
       "      <td>Aconchegante Apto de 1qt a 60mts do Consulado EUA</td>\n",
       "      <td>Recife</td>\n",
       "      <td>1011</td>\n",
       "      <td>2025-01-01</td>\n",
       "      <td>2025-01-08</td>\n",
       "      <td>1.2</td>\n",
       "      <td>NaN</td>\n",
       "      <td>9.7</td>\n",
       "      <td>2024-5-16</td>\n",
       "    </tr>\n",
       "  </tbody>\n",
       "</table>\n",
       "</div>"
      ],
      "text/plain": [
       "                                               Hotel  Cidade  Preço  \\\n",
       "0  Veja o mar no silêncio do centro! Hospede-se n...  Recife    428   \n",
       "1          Hotel Dan Inn Mar Piedade - Grande Recife  Recife   2101   \n",
       "2                                  Villa d'Oro Hotel  Recife   2136   \n",
       "3  Lindo APT Cinza à 50m do mar - Praia de Boa Vi...  Recife   1017   \n",
       "4  Aconchegante Apto de 1qt a 60mts do Consulado EUA  Recife   1011   \n",
       "\n",
       "      Checkin    Checkout  Dist_centro  Dist_praia  Avaliacao Data_extracao  \n",
       "0  2025-01-01  2025-01-08          0.2         2.5        8.3     2024-5-16  \n",
       "1  2025-01-01  2025-01-08         13.7         0.0        7.8     2024-5-16  \n",
       "2  2025-01-01  2025-01-08          1.4         2.9        8.6     2024-5-16  \n",
       "3  2025-01-01  2025-01-08          5.8         NaN       10.0     2024-5-16  \n",
       "4  2025-01-01  2025-01-08          1.2         NaN        9.7     2024-5-16  "
      ]
     },
     "execution_count": 56,
     "metadata": {},
     "output_type": "execute_result"
    }
   ],
   "source": [
    "hospedagens.head(5)"
   ]
  },
  {
   "cell_type": "code",
   "execution_count": 57,
   "metadata": {},
   "outputs": [
    {
     "name": "stdout",
     "output_type": "stream",
     "text": [
      "Hotel              0\n",
      "Cidade             0\n",
      "Preço              0\n",
      "Checkin            0\n",
      "Checkout           0\n",
      "Dist_centro        0\n",
      "Dist_praia       300\n",
      "Avaliacao        237\n",
      "Data_extracao      0\n",
      "dtype: int64\n"
     ]
    }
   ],
   "source": [
    "# printando quantas linhas de cada coluna está faltante\n",
    "print(hospedagens.isnull().sum())"
   ]
  },
  {
   "cell_type": "code",
   "execution_count": 58,
   "metadata": {},
   "outputs": [
    {
     "data": {
      "text/plain": [
       "<Axes: >"
      ]
     },
     "execution_count": 58,
     "metadata": {},
     "output_type": "execute_result"
    },
    {
     "data": {
      "image/png": "[encoded data removed]",
      "text/plain": [
       "<Figure size 640x480 with 1 Axes>"
      ]
     },
     "metadata": {},
     "output_type": "display_data"
    }
   ],
   "source": [
    "# histograma do preço das hospedagens\n",
    "hospedagens[\"preço\"].hist()"
   ]
  },
  {
   "cell_type": "code",
   "execution_count": 59,
   "metadata": {},
   "outputs": [
    {
     "data": {
      "text/plain": [
       "<Axes: >"
      ]
     },
     "execution_count": 59,
     "metadata": {},
     "output_type": "execute_result"
    },
    {
     "data": {
      "image/png": "[encoded data removed]",
      "text/plain": [
       "<Figure size 640x480 with 1 Axes>"
      ]
     },
     "metadata": {},
     "output_type": "display_data"
    }
   ],
   "source": [
    "hospedagens['log_price'] = hospedagens['preço'].apply(np.log10)\n",
    "hospedagens[hospedagens['log_price'] > 0]['log_price'].hist()"
   ]
  },
  {
   "cell_type": "code",
   "execution_count": 8,
   "metadata": {},
   "outputs": [
    {
     "data": {
      "text/html": [
       "<div>\n",
       "<style scoped>\n",
       "    .dataframe tbody tr th:only-of-type {\n",
       "        vertical-align: middle;\n",
       "    }\n",
       "\n",
       "    .dataframe tbody tr th {\n",
       "        vertical-align: top;\n",
       "    }\n",
       "\n",
       "    .dataframe thead th {\n",
       "        text-align: right;\n",
       "    }\n",
       "</style>\n",
       "<table border=\"1\" class=\"dataframe\">\n",
       "  <thead>\n",
       "    <tr style=\"text-align: right;\">\n",
       "      <th></th>\n",
       "      <th>Hotel</th>\n",
       "      <th>Cidade</th>\n",
       "      <th>Preço</th>\n",
       "      <th>Checkin</th>\n",
       "      <th>Checkout</th>\n",
       "      <th>Dist_centro</th>\n",
       "      <th>Dist_praia</th>\n",
       "      <th>Avaliacao</th>\n",
       "      <th>Data_extracao</th>\n",
       "    </tr>\n",
       "  </thead>\n",
       "  <tbody>\n",
       "    <tr>\n",
       "      <th>12</th>\n",
       "      <td>Oxen Hostel 2024</td>\n",
       "      <td>Recife</td>\n",
       "      <td>226</td>\n",
       "      <td>2025-01-01</td>\n",
       "      <td>2025-01-08</td>\n",
       "      <td>0.45</td>\n",
       "      <td>NaN</td>\n",
       "      <td>6.0</td>\n",
       "      <td>2024-5-16</td>\n",
       "    </tr>\n",
       "    <tr>\n",
       "      <th>17</th>\n",
       "      <td>Lê'Frevo Pernambucano Hostel</td>\n",
       "      <td>Recife</td>\n",
       "      <td>298</td>\n",
       "      <td>2025-01-01</td>\n",
       "      <td>2025-01-08</td>\n",
       "      <td>0.60</td>\n",
       "      <td>3.0</td>\n",
       "      <td>7.5</td>\n",
       "      <td>2024-5-16</td>\n",
       "    </tr>\n",
       "    <tr>\n",
       "      <th>55</th>\n",
       "      <td>Hostel Brasil Recife</td>\n",
       "      <td>Recife</td>\n",
       "      <td>347</td>\n",
       "      <td>2025-01-01</td>\n",
       "      <td>2025-01-08</td>\n",
       "      <td>7.50</td>\n",
       "      <td>NaN</td>\n",
       "      <td>9.0</td>\n",
       "      <td>2024-5-16</td>\n",
       "    </tr>\n",
       "    <tr>\n",
       "      <th>57</th>\n",
       "      <td>Pousada Solar do Lazer</td>\n",
       "      <td>Recife</td>\n",
       "      <td>268</td>\n",
       "      <td>2025-01-01</td>\n",
       "      <td>2025-01-08</td>\n",
       "      <td>0.50</td>\n",
       "      <td>NaN</td>\n",
       "      <td>NaN</td>\n",
       "      <td>2024-5-16</td>\n",
       "    </tr>\n",
       "    <tr>\n",
       "      <th>112</th>\n",
       "      <td>Hostel solar do lazer</td>\n",
       "      <td>Recife</td>\n",
       "      <td>274</td>\n",
       "      <td>2025-01-01</td>\n",
       "      <td>2025-01-08</td>\n",
       "      <td>0.50</td>\n",
       "      <td>NaN</td>\n",
       "      <td>NaN</td>\n",
       "      <td>2024-5-16</td>\n",
       "    </tr>\n",
       "    <tr>\n",
       "      <th>115</th>\n",
       "      <td>Pousada Solar do Lazer</td>\n",
       "      <td>Recife</td>\n",
       "      <td>274</td>\n",
       "      <td>2025-01-01</td>\n",
       "      <td>2025-01-08</td>\n",
       "      <td>0.50</td>\n",
       "      <td>NaN</td>\n",
       "      <td>NaN</td>\n",
       "      <td>2024-5-16</td>\n",
       "    </tr>\n",
       "  </tbody>\n",
       "</table>\n",
       "</div>"
      ],
      "text/plain": [
       "                            Hotel  Cidade  Preço     Checkin    Checkout  \\\n",
       "12               Oxen Hostel 2024  Recife    226  2025-01-01  2025-01-08   \n",
       "17   Lê'Frevo Pernambucano Hostel  Recife    298  2025-01-01  2025-01-08   \n",
       "55           Hostel Brasil Recife  Recife    347  2025-01-01  2025-01-08   \n",
       "57         Pousada Solar do Lazer  Recife    268  2025-01-01  2025-01-08   \n",
       "112         Hostel solar do lazer  Recife    274  2025-01-01  2025-01-08   \n",
       "115        Pousada Solar do Lazer  Recife    274  2025-01-01  2025-01-08   \n",
       "\n",
       "     Dist_centro  Dist_praia  Avaliacao Data_extracao  \n",
       "12          0.45         NaN        6.0     2024-5-16  \n",
       "17          0.60         3.0        7.5     2024-5-16  \n",
       "55          7.50         NaN        9.0     2024-5-16  \n",
       "57          0.50         NaN        NaN     2024-5-16  \n",
       "112         0.50         NaN        NaN     2024-5-16  \n",
       "115         0.50         NaN        NaN     2024-5-16  "
      ]
     },
     "execution_count": 8,
     "metadata": {},
     "output_type": "execute_result"
    }
   ],
   "source": [
    "# calculando a média\n",
    "hospedagens[(hospedagens[\"preço\"] < 350) & (hospedagens['checkin'] == '2025-01-01')]"
   ]
  },
  {
   "cell_type": "code",
   "execution_count": 61,
   "metadata": {},
   "outputs": [
    {
     "data": {
      "text/plain": [
       "2079.0"
      ]
     },
     "execution_count": 61,
     "metadata": {},
     "output_type": "execute_result"
    }
   ],
   "source": [
    "# calculando a mediana\n",
    "hospedagens[\"preço\"].median()"
   ]
  },
  {
   "cell_type": "code",
   "execution_count": 62,
   "metadata": {},
   "outputs": [
    {
     "data": {
      "text/plain": [
       "2222.4707956591715"
      ]
     },
     "execution_count": 62,
     "metadata": {},
     "output_type": "execute_result"
    }
   ],
   "source": [
    "hospedagens[\"preço\"].std()"
   ]
  },
  {
   "cell_type": "code",
   "execution_count": 63,
   "metadata": {},
   "outputs": [
    {
     "data": {
      "text/plain": [
       "count     1064.000000\n",
       "mean      2550.731203\n",
       "std       2222.470796\n",
       "min        226.000000\n",
       "25%       1338.250000\n",
       "50%       2079.000000\n",
       "75%       2772.000000\n",
       "max      20173.000000\n",
       "Name: Preço, dtype: float64"
      ]
     },
     "execution_count": 63,
     "metadata": {},
     "output_type": "execute_result"
    }
   ],
   "source": [
    "hospedagens[\"preço\"].describe()"
   ]
  },
  {
   "cell_type": "code",
   "execution_count": 64,
   "metadata": {},
   "outputs": [
    {
     "data": {
      "text/plain": [
       "<Axes: >"
      ]
     },
     "execution_count": 64,
     "metadata": {},
     "output_type": "execute_result"
    },
    {
     "data": {
      "image/png": "[encoded data removed]",
      "text/plain": [
       "<Figure size 640x480 with 1 Axes>"
      ]
     },
     "metadata": {},
     "output_type": "display_data"
    }
   ],
   "source": [
    "hospedagens.boxplot(column=['preço'])"
   ]
  },
  {
   "cell_type": "code",
   "execution_count": 65,
   "metadata": {},
   "outputs": [
    {
     "data": {
      "text/plain": [
       "0.2"
      ]
     },
     "execution_count": 65,
     "metadata": {},
     "output_type": "execute_result"
    }
   ],
   "source": [
    "hospedagens[\"dist_centro\"].min()"
   ]
  },
  {
   "cell_type": "code",
   "execution_count": 66,
   "metadata": {},
   "outputs": [
    {
     "name": "stdout",
     "output_type": "stream",
     "text": [
      "Checkin\n",
      "2025-01-01    2876.182741\n",
      "2025-01-08    2492.284722\n",
      "2025-01-15    2468.989691\n",
      "2025-01-22    2469.152778\n",
      "Name: Preço, dtype: float64\n"
     ]
    }
   ],
   "source": [
    "# média de preços por checkin\n",
    "hospedagens_groupby = hospedagens.groupby(\"checkin\")\n",
    "hospedagens_groupby = hospedagens_groupby[\"preço\"].mean()\n",
    "print(hospedagens_groupby)"
   ]
  },
  {
   "cell_type": "code",
   "execution_count": null,
   "metadata": {},
   "outputs": [],
   "source": []
  }
 ],
 "metadata": {
  "kernelspec": {
   "display_name": "Python 3",
   "language": "python",
   "name": "python3"
  },
  "language_info": {
   "codemirror_mode": {
    "name": "ipython",
    "version": 3
   },
   "file_extension": ".py",
   "mimetype": "text/x-python",
   "name": "python",
   "nbconvert_exporter": "python",
   "pygments_lexer": "ipython3",
   "version": "3.12.0"
  }
 },
 "nbformat": 4,
 "nbformat_minor": 2
}
