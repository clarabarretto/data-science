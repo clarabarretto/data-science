{
 "cells": [
  {
   "cell_type": "code",
   "execution_count": 1,
   "metadata": {},
   "outputs": [],
   "source": [
    "import pandas as pd\n",
    "import numpy as np"
   ]
  },
  {
   "cell_type": "code",
   "execution_count": 32,
   "metadata": {},
   "outputs": [],
   "source": [
    "hospedagens = pd.read_csv('resultado.csv', decimal=\".\")"
   ]
  },
  {
   "cell_type": "code",
   "execution_count": 17,
   "metadata": {},
   "outputs": [
    {
     "data": {
      "text/html": [
       "<div>\n",
       "<style scoped>\n",
       "    .dataframe tbody tr th:only-of-type {\n",
       "        vertical-align: middle;\n",
       "    }\n",
       "\n",
       "    .dataframe tbody tr th {\n",
       "        vertical-align: top;\n",
       "    }\n",
       "\n",
       "    .dataframe thead th {\n",
       "        text-align: right;\n",
       "    }\n",
       "</style>\n",
       "<table border=\"1\" class=\"dataframe\">\n",
       "  <thead>\n",
       "    <tr style=\"text-align: right;\">\n",
       "      <th></th>\n",
       "      <th>Hotel</th>\n",
       "      <th>Cidade</th>\n",
       "      <th>Preço</th>\n",
       "      <th>Checkin</th>\n",
       "      <th>Checkout</th>\n",
       "      <th>Dist_centro</th>\n",
       "      <th>Dist_praia</th>\n",
       "      <th>Avaliacao</th>\n",
       "      <th>Data_extracao</th>\n",
       "    </tr>\n",
       "  </thead>\n",
       "  <tbody>\n",
       "    <tr>\n",
       "      <th>0</th>\n",
       "      <td>Aconchegante Apto de 1qt a 60mts do Consulado EUA</td>\n",
       "      <td>Recife</td>\n",
       "      <td>1011</td>\n",
       "      <td>2025-01-01</td>\n",
       "      <td>2025-01-08</td>\n",
       "      <td>1.2</td>\n",
       "      <td>NaN</td>\n",
       "      <td>9.7</td>\n",
       "      <td>2024-5-16</td>\n",
       "    </tr>\n",
       "    <tr>\n",
       "      <th>1</th>\n",
       "      <td>Veja o mar no silêncio do centro! Hospede-se n...</td>\n",
       "      <td>Recife</td>\n",
       "      <td>428</td>\n",
       "      <td>2025-01-01</td>\n",
       "      <td>2025-01-08</td>\n",
       "      <td>200.0</td>\n",
       "      <td>2.5</td>\n",
       "      <td>8.3</td>\n",
       "      <td>2024-5-16</td>\n",
       "    </tr>\n",
       "    <tr>\n",
       "      <th>2</th>\n",
       "      <td>APARTAMENTO PROXIMO À UFPE</td>\n",
       "      <td>Recife</td>\n",
       "      <td>964</td>\n",
       "      <td>2025-01-01</td>\n",
       "      <td>2025-01-08</td>\n",
       "      <td>8.4</td>\n",
       "      <td>NaN</td>\n",
       "      <td>9.1</td>\n",
       "      <td>2024-5-16</td>\n",
       "    </tr>\n",
       "    <tr>\n",
       "      <th>3</th>\n",
       "      <td>Lindo APT Cinza à 50m do mar - Praia de Boa Vi...</td>\n",
       "      <td>Recife</td>\n",
       "      <td>1017</td>\n",
       "      <td>2025-01-01</td>\n",
       "      <td>2025-01-08</td>\n",
       "      <td>5.8</td>\n",
       "      <td>NaN</td>\n",
       "      <td>10.0</td>\n",
       "      <td>2024-5-16</td>\n",
       "    </tr>\n",
       "    <tr>\n",
       "      <th>4</th>\n",
       "      <td>Lindo APT Azul a 50 metros do mar - Praia de B...</td>\n",
       "      <td>Recife</td>\n",
       "      <td>1004</td>\n",
       "      <td>2025-01-01</td>\n",
       "      <td>2025-01-08</td>\n",
       "      <td>5.8</td>\n",
       "      <td>NaN</td>\n",
       "      <td>10.0</td>\n",
       "      <td>2024-5-16</td>\n",
       "    </tr>\n",
       "  </tbody>\n",
       "</table>\n",
       "</div>"
      ],
      "text/plain": [
       "                                               Hotel  Cidade  Preço  \\\n",
       "0  Aconchegante Apto de 1qt a 60mts do Consulado EUA  Recife   1011   \n",
       "1  Veja o mar no silêncio do centro! Hospede-se n...  Recife    428   \n",
       "2                         APARTAMENTO PROXIMO À UFPE  Recife    964   \n",
       "3  Lindo APT Cinza à 50m do mar - Praia de Boa Vi...  Recife   1017   \n",
       "4  Lindo APT Azul a 50 metros do mar - Praia de B...  Recife   1004   \n",
       "\n",
       "      Checkin    Checkout  Dist_centro  Dist_praia  Avaliacao Data_extracao  \n",
       "0  2025-01-01  2025-01-08          1.2         NaN        9.7     2024-5-16  \n",
       "1  2025-01-01  2025-01-08        200.0         2.5        8.3     2024-5-16  \n",
       "2  2025-01-01  2025-01-08          8.4         NaN        9.1     2024-5-16  \n",
       "3  2025-01-01  2025-01-08          5.8         NaN       10.0     2024-5-16  \n",
       "4  2025-01-01  2025-01-08          5.8         NaN       10.0     2024-5-16  "
      ]
     },
     "execution_count": 17,
     "metadata": {},
     "output_type": "execute_result"
    }
   ],
   "source": [
    "hospedagens.head(5)"
   ]
  },
  {
   "cell_type": "code",
   "execution_count": 19,
   "metadata": {},
   "outputs": [
    {
     "name": "stdout",
     "output_type": "stream",
     "text": [
      "Hotel              0\n",
      "Cidade             0\n",
      "Preço              0\n",
      "Checkin            0\n",
      "Checkout           0\n",
      "Dist_centro        0\n",
      "Dist_praia       317\n",
      "Avaliacao        249\n",
      "Data_extracao      0\n",
      "dtype: int64\n"
     ]
    }
   ],
   "source": [
    "# printando quantas linhas de cada coluna está faltante\n",
    "print(hospedagens.isnull().sum())"
   ]
  },
  {
   "cell_type": "code",
   "execution_count": 20,
   "metadata": {},
   "outputs": [
    {
     "data": {
      "text/plain": [
       "<Axes: >"
      ]
     },
     "execution_count": 20,
     "metadata": {},
     "output_type": "execute_result"
    },
    {
     "data": {
      "image/png": "[encoded data removed]",
      "text/plain": [
       "<Figure size 640x480 with 1 Axes>"
      ]
     },
     "metadata": {},
     "output_type": "display_data"
    }
   ],
   "source": [
    "# histograma do preço das hospedagens\n",
    "hospedagens[\"Preço\"].hist()"
   ]
  },
  {
   "cell_type": "code",
   "execution_count": 21,
   "metadata": {},
   "outputs": [
    {
     "data": {
      "text/plain": [
       "<Axes: >"
      ]
     },
     "execution_count": 21,
     "metadata": {},
     "output_type": "execute_result"
    },
    {
     "data": {
      "image/png": "[encoded data removed]",
      "text/plain": [
       "<Figure size 640x480 with 1 Axes>"
      ]
     },
     "metadata": {},
     "output_type": "display_data"
    }
   ],
   "source": [
    "hospedagens['log_price'] = hospedagens['Preço'].apply(np.log10)\n",
    "hospedagens[hospedagens['log_price'] > 0]['log_price'].hist()"
   ]
  },
  {
   "cell_type": "code",
   "execution_count": 25,
   "metadata": {},
   "outputs": [
    {
     "data": {
      "text/plain": [
       "2523.8704379562046"
      ]
     },
     "execution_count": 25,
     "metadata": {},
     "output_type": "execute_result"
    }
   ],
   "source": [
    "# calculando a média\n",
    "hospedagens[\"Preço\"].mean()"
   ]
  },
  {
   "cell_type": "code",
   "execution_count": 27,
   "metadata": {},
   "outputs": [
    {
     "data": {
      "text/plain": [
       "2035.0"
      ]
     },
     "execution_count": 27,
     "metadata": {},
     "output_type": "execute_result"
    }
   ],
   "source": [
    "# calculando a mediana\n",
    "hospedagens[\"Preço\"].median()"
   ]
  },
  {
   "cell_type": "code",
   "execution_count": 29,
   "metadata": {},
   "outputs": [
    {
     "data": {
      "text/plain": [
       "2201.8587207449805"
      ]
     },
     "execution_count": 29,
     "metadata": {},
     "output_type": "execute_result"
    }
   ],
   "source": [
    "hospedagens[\"Preço\"].std()"
   ]
  },
  {
   "cell_type": "code",
   "execution_count": 30,
   "metadata": {},
   "outputs": [
    {
     "data": {
      "text/plain": [
       "count     1096.000000\n",
       "mean      2523.870438\n",
       "std       2201.858721\n",
       "min        226.000000\n",
       "25%       1333.000000\n",
       "50%       2035.000000\n",
       "75%       2749.750000\n",
       "max      20173.000000\n",
       "Name: Preço, dtype: float64"
      ]
     },
     "execution_count": 30,
     "metadata": {},
     "output_type": "execute_result"
    }
   ],
   "source": [
    "hospedagens[\"Preço\"].describe()"
   ]
  },
  {
   "cell_type": "code",
   "execution_count": 34,
   "metadata": {},
   "outputs": [
    {
     "data": {
      "text/plain": [
       "<Axes: >"
      ]
     },
     "execution_count": 34,
     "metadata": {},
     "output_type": "execute_result"
    },
    {
     "data": {
      "image/png": "[encoded data removed]",
      "text/plain": [
       "<Figure size 640x480 with 1 Axes>"
      ]
     },
     "metadata": {},
     "output_type": "display_data"
    }
   ],
   "source": [
    "hospedagens.boxplot(column=['Preço'])"
   ]
  },
  {
   "cell_type": "code",
   "execution_count": 41,
   "metadata": {},
   "outputs": [
    {
     "data": {
      "text/plain": [
       "0.2"
      ]
     },
     "execution_count": 41,
     "metadata": {},
     "output_type": "execute_result"
    }
   ],
   "source": [
    "hospedagens[\"Dist_centro\"].min()"
   ]
  },
  {
   "cell_type": "code",
   "execution_count": 52,
   "metadata": {},
   "outputs": [],
   "source": [
    "# média de preços por checkin\n",
    "#hospedagens = hospedagens.groupby(\"Checkin\")\n",
    "hospedagens = hospedagens[\"Preço\"].mean()"
   ]
  },
  {
   "cell_type": "code",
   "execution_count": 53,
   "metadata": {},
   "outputs": [
    {
     "name": "stdout",
     "output_type": "stream",
     "text": [
      "Checkin\n",
      "2025-01-01    2876.182741\n",
      "2025-01-08    2492.284722\n",
      "2025-01-15    2468.989691\n",
      "2025-01-22    2469.152778\n",
      "Name: Preço, dtype: float64\n"
     ]
    }
   ],
   "source": [
    "print(hospedagens)"
   ]
  }
 ],
 "metadata": {
  "kernelspec": {
   "display_name": "Python 3",
   "language": "python",
   "name": "python3"
  },
  "language_info": {
   "codemirror_mode": {
    "name": "ipython",
    "version": 3
   },
   "file_extension": ".py",
   "mimetype": "text/x-python",
   "name": "python",
   "nbconvert_exporter": "python",
   "pygments_lexer": "ipython3",
   "version": "3.12.0"
  }
 },
 "nbformat": 4,
 "nbformat_minor": 2
}
